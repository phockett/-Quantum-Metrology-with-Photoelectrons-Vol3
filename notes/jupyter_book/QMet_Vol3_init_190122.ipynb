{
 "cells": [
  {
   "cell_type": "markdown",
   "metadata": {},
   "source": [
    "# Quantum Metrology with Photoelectron Vol. 3 Initial Setup\n",
    "19/01/22\n",
    "\n",
    "As per normal, see also https://jupyterbook.org/start/publish.html\n",
    "\n",
    "Repo: https://github.com/phockett/Quantum-Metrology-with-Photoelectrons-Vol3\n"
   ]
  },
  {
   "cell_type": "markdown",
   "metadata": {},
   "source": [
    "## Local config (Jake)"
   ]
  },
  {
   "cell_type": "code",
   "execution_count": 1,
   "metadata": {},
   "outputs": [
    {
     "name": "stdout",
     "output_type": "stream",
     "text": [
      "jake\n"
     ]
    }
   ],
   "source": [
    "!hostname"
   ]
  },
  {
   "cell_type": "code",
   "execution_count": 2,
   "metadata": {},
   "outputs": [
    {
     "name": "stdout",
     "output_type": "stream",
     "text": [
      "/home/paul/github\n"
     ]
    }
   ],
   "source": [
    "%cd ~/github"
   ]
  },
  {
   "cell_type": "code",
   "execution_count": 4,
   "metadata": {},
   "outputs": [
    {
     "name": "stdout",
     "output_type": "stream",
     "text": [
      "Cloning into 'Quantum-Metrology-with-Photoelectrons-Vol3'...\n",
      "remote: Enumerating objects: 3, done.\u001b[K\n",
      "remote: Counting objects: 100% (3/3), done.\u001b[K\n",
      "remote: Compressing objects: 100% (2/2), done.\u001b[K\n",
      "Receiving objects: 100% (3/3), 12.41 KiB | 907.00 KiB/s, done.\n",
      "remote: Total 3 (delta 0), reused 0 (delta 0), pack-reused 0\u001b[K\n"
     ]
    }
   ],
   "source": [
    "!git clone git@github.com:phockett/Quantum-Metrology-with-Photoelectrons-Vol3.git"
   ]
  },
  {
   "cell_type": "code",
   "execution_count": 5,
   "metadata": {},
   "outputs": [
    {
     "name": "stdout",
     "output_type": "stream",
     "text": [
      "autonotebook\n",
      "environment_260321.yml\n",
      "environment_epsdev_v1.3.0_040821_no-builds.yml\n",
      "environment_epsdev_v1.3.0_040821.yml\n",
      "environment_epsdev_v1.3.0_Stimpy_120821_no-builds_mod.yml\n",
      "environment_v1.3.0-dev_120821.yml\n",
      "ePSdata\n",
      "epsman\n",
      "epsman-notes.txt\n",
      "ePSproc\n",
      "epsproc-notes.txt\n",
      "frogDAQ\n",
      "froglib\n",
      "PEMtk\n",
      "Quantum-Metrology-with-Photoelectrons\n",
      "Quantum-Metrology-with-Photoelectrons-Vol3\n",
      "requirements_epsdev_v1.3.0_040821.txt\n",
      "sshGitfix.sh\n",
      "tmo-dev\n"
     ]
    }
   ],
   "source": [
    "!ls"
   ]
  },
  {
   "cell_type": "markdown",
   "metadata": {},
   "source": [
    "## Create template"
   ]
  },
  {
   "cell_type": "markdown",
   "metadata": {},
   "source": [
    "Basic template generated with, e.g., `jupyter-book create mynewbook/`. For mroe complex case, use cookiecutter..."
   ]
  },
  {
   "cell_type": "markdown",
   "metadata": {},
   "source": [
    "At CLI with cookie cutter (first requires `pip install cookiecutter`).\n",
    "\n",
    "```\n",
    "(jbookTestv2) paul@jake:~/notebooks/jupyterBook_2022$ jupyter-book create mynewbook-ccTest/ --cookiecutter\n",
    "author_name [Captain Jupyter]: Paul Hockett\n",
    "github_username [paulhockett]: phockett\n",
    "book_name [My Book]: Quantum Metrology with Photoelectrons Vol. 3\n",
    "book_slug [quantum_metrology_with_photoelectrons_vol._3]:     \n",
    "book_short_description [This cookiecutter creates a simple boilerplate for a Jupyter Book.]: Quantum metrology with photoelectrons volume 3, open source executable book.\n",
    "version ['0.1.0']: \n",
    "Select open_source_license:\n",
    "1 - MIT license\n",
    "2 - BSD license\n",
    "3 - ISC license\n",
    "4 - Apache Software License 2.0\n",
    "5 - GNU General Public License v3\n",
    "6 - None\n",
    "Choose from 1, 2, 3, 4, 5, 6 [1]: 5\n",
    "Select include_ci:\n",
    "1 - github\n",
    "2 - gitlab\n",
    "3 - no\n",
    "Choose from 1, 2, 3 [1]: 1\n",
    "\n",
    "===============================================================================\n",
    "\n",
    "Your book template can be found at\n",
    "\n",
    "    /mnt/femtobackSSHFS/DriveSyncShare/code-share/jake-notebooks/jupyterBook_2022/mynewbook-ccTest/quantum_metrology_with_photoelectrons_vol._3/\n",
    "\n",
    "===============================================================================\n",
    "\n",
    "(jbookTestv2) paul@jake:~/notebooks/jupyterBook_2022$ ls mynewbook-ccTest/\n",
    "quantum_metrology_with_photoelectrons_vol._3\n",
    "(jbookTestv2) paul@jake:~/notebooks/jupyterBook_2022$ ls mynewbook-ccTest/quantum_metrology_with_photoelectrons_vol._3/\n",
    "CONDUCT.md  CONTRIBUTING.md  LICENSE  quantum_metrology_with_photoelectrons_vol._3  README.md  requirements.txt\n",
    "\n",
    "```"
   ]
  },
  {
   "cell_type": "markdown",
   "metadata": {},
   "source": [
    "This looks good, so copy to Github project with a few mods...\n",
    "\n",
    "```\n",
    "(jbookTestv2) paul@jake:~/notebooks/jupyterBook_2022/mynewbook-ccTest/quantum_metrology_with_photoelectrons_vol._3$ mv quantum_metrology_with_photoelectrons_vol._3/ doc-source\n",
    "(jbookTestv2) paul@jake:~/notebooks/jupyterBook_2022/mynewbook-ccTest$ cp -r quantum_metrology_with_photoelectrons_vol._3/* ~/github/Quantum-Metrology-with-Photoelectrons-Vol3/\n",
    "\n",
    "```"
   ]
  },
  {
   "cell_type": "code",
   "execution_count": 8,
   "metadata": {},
   "outputs": [
    {
     "name": "stdout",
     "output_type": "stream",
     "text": [
      "CONDUCT.md  CONTRIBUTING.md  doc-source  LICENSE  README.md  requirements.txt\n"
     ]
    }
   ],
   "source": [
    "!ls ~/github/Quantum-Metrology-with-Photoelectrons-Vol3/"
   ]
  },
  {
   "cell_type": "markdown",
   "metadata": {},
   "source": [
    "## Build"
   ]
  },
  {
   "cell_type": "code",
   "execution_count": 4,
   "metadata": {},
   "outputs": [
    {
     "name": "stdout",
     "output_type": "stream",
     "text": [
      "Running Jupyter-Book v0.12.1\n",
      "Source Folder: /home/paul/github/Quantum-Metrology-with-Photoelectrons-Vol3/doc-source\n",
      "Config Path: /home/paul/github/Quantum-Metrology-with-Photoelectrons-Vol3/doc-source/_config.yml\n",
      "Output Path: /home/paul/github/Quantum-Metrology-with-Photoelectrons-Vol3/doc-source/_build/html\n",
      "\u001b[01mRunning Sphinx v4.4.0\u001b[39;49;00m\n",
      "\u001b[01mmaking output directory... \u001b[39;49;00mdone\n",
      "[etoc] Changing master_doc to 'intro'\n",
      "checking for /home/paul/github/Quantum-Metrology-with-Photoelectrons-Vol3/doc-source/references.bib in bibtex cache... not found\n",
      "parsing bibtex file /home/paul/github/Quantum-Metrology-with-Photoelectrons-Vol3/doc-source/references.bib... parsed 5 entries\n",
      "\u001b[01mmyst v0.15.2:\u001b[39;49;00m MdParserConfig(renderer='sphinx', commonmark_only=False, enable_extensions=['colon_fence', 'dollarmath', 'linkify', 'substitution', 'tasklist'], dmath_allow_labels=True, dmath_allow_space=True, dmath_allow_digits=True, dmath_double_inline=False, update_mathjax=True, mathjax_classes='tex2jax_process|mathjax_process|math|output_area', disable_syntax=[], url_schemes=['mailto', 'http', 'https'], heading_anchors=None, heading_slug_func=None, html_meta=[], footnote_transition=True, substitutions=[], sub_delimiters=['{', '}'], words_per_minute=200)\n",
      "\u001b[01mbuilding [mo]: \u001b[39;49;00mtargets for 0 po files that are out of date\n",
      "\u001b[01mbuilding [html]: \u001b[39;49;00mtargets for 4 source files that are out of date\n",
      "\u001b[01mupdating environment: \u001b[39;49;00m[new config] 4 added, 0 changed, 0 removed\n",
      "Executing: notebooks in: /home/paul/github/Quantum-Metrology-with-Photoelectrons-Vol3/doc-source               \n",
      "\n",
      "\u001b[01mlooking for now-outdated files... \u001b[39;49;00mnone found\n",
      "\u001b[01mpickling environment... \u001b[39;49;00mdone\n",
      "\u001b[01mchecking consistency... \u001b[39;49;00mdone\n",
      "\u001b[01mpreparing documents... \u001b[39;49;00mdone\n",
      "\u001b[01mwriting output... \u001b[39;49;00m[100%] \u001b[32mnotebooks\u001b[39;49;00m                                             \n",
      "\u001b[01mgenerating indices... \u001b[39;49;00mgenindex done\n",
      "\u001b[01mwriting additional pages... \u001b[39;49;00msearch done\n",
      "\u001b[01mcopying static files... \u001b[39;49;00mdone\n",
      "\u001b[01mcopying extra files... \u001b[39;49;00mdone\n",
      "\u001b[01mdumping search index in English (code: en)... \u001b[39;49;00mdone\n",
      "\u001b[01mdumping object inventory... \u001b[39;49;00mdone\n",
      "\u001b[01mbuild succeeded, 2 warnings.\u001b[39;49;00m\n",
      "\n",
      "The HTML pages are in ../../doc-source/_build/html.\n",
      "[etoc] missing index.html written as redirect to 'intro.html'\n",
      "\n",
      "\u001b[92m===============================================================================\u001b[0m\n",
      "\n",
      "Finished generating HTML for book.\n",
      "Your book's HTML pages are here:\n",
      "    ../../doc-source/_build/html/\n",
      "You can look at your book by opening this file in a browser:\n",
      "    ../../doc-source/_build/html/index.html\n",
      "Or paste this line directly into your browser bar:\n",
      "    file:///home/paul/github/Quantum-Metrology-with-Photoelectrons-Vol3/doc-source/_build/html/index.html            \n",
      "\n",
      "\u001b[92m===============================================================================\u001b[0m\n",
      "\n",
      "\n",
      "\u001b[31mERROR: Execution Failed with traceback saved in /home/paul/github/Quantum-Metrology-with-Photoelectrons-Vol3/doc-source/_build/html/reports/notebooks.log\u001b[39;49;00m\n",
      "\u001b[91m/home/paul/github/Quantum-Metrology-with-Photoelectrons-Vol3/doc-source/content.md: WARNING: document isn't included in any toctree\u001b[39;49;00m\n",
      "\n"
     ]
    }
   ],
   "source": [
    "# Build test\n",
    "# condaEnv = 'jbookTest'\n",
    "condaEnv = 'jbookTestv2'\n",
    "# condaEnv = 'qe-mini-example'\n",
    "bookRoot = '~/github/Quantum-Metrology-with-Photoelectrons-Vol3/doc-source'\n",
    "\n",
    "# HTML\n",
    "!conda run -n {condaEnv} jupyter-book build {bookRoot}\n",
    "\n",
    "# !conda run -n {condaEnv} jupyter-book build ./mynewbook --builder pdflatex"
   ]
  },
  {
   "cell_type": "markdown",
   "metadata": {},
   "source": [
    "### Web push with Github pages\n",
    "\n",
    "- Setup GH pages: https://github.com/phockett/Quantum-Metrology-with-Photoelectrons-Vol3/settings/pages\n",
    "- Use `gh-pages` branch for scripting (see https://jupyterbook.org/start/publish.html#publish-your-book-online-with-github-pages)\n",
    "- Publishes to https://phockett.github.io/Quantum-Metrology-with-Photoelectrons-Vol3/\n",
    "- Run ghp-import as below to automate (also via GH actions).\n",
    "- Note main branch `doc-source/_build` is currently in `.gitignore`, so for local & scratch use only.\n",
    "\n",
    "25/01/22: GH actions version now working (adapted from CookieCutter template), but not sure if build will become too heavy later, and may want to use local builds (and/or TRAVIS?) instead."
   ]
  },
  {
   "cell_type": "code",
   "execution_count": 8,
   "metadata": {},
   "outputs": [
    {
     "name": "stdout",
     "output_type": "stream",
     "text": [
      "To github.com:phockett/Quantum-Metrology-with-Photoelectrons-Vol3.git\n",
      " + b74762f...bacf7b3 gh-pages -> gh-pages (forced update)\n",
      "\n"
     ]
    }
   ],
   "source": [
    "# Test gh-pages branch push... (may need `pip install ghp-import` first)\n",
    "!conda run -n {condaEnv} ghp-import -n -p -f {bookRoot}/_build/html"
   ]
  },
  {
   "cell_type": "markdown",
   "metadata": {},
   "source": [
    "## TODO"
   ]
  },
  {
   "cell_type": "markdown",
   "metadata": {},
   "source": [
    "TODO:\n",
    "\n",
    "- Push to GH. DONE.\n",
    "- Setup actions. Basic set from CookieCutter in place. DONE. Note this is set for gh-pages branch push, go with that for now.\n",
    "- Make notes dir and move this there! DONE.\n",
    "- More testing for writing & formats.\n",
    "- Modify project setup...\n",
    "- Travis (or other?) for testing and CI.\n",
    "- Consolidate readmes - currently duplicated then forked repo README.md and doc-source/intro.md. Should automate/fix, or keep different?"
   ]
  },
  {
   "cell_type": "code",
   "execution_count": null,
   "metadata": {},
   "outputs": [],
   "source": []
  }
 ],
 "metadata": {
  "jupytext": {
   "formats": "ipynb,md:myst"
  },
  "kernelspec": {
   "display_name": "Python [conda env:root] *",
   "language": "python",
   "name": "conda-root-py"
  },
  "language_info": {
   "codemirror_mode": {
    "name": "ipython",
    "version": 3
   },
   "file_extension": ".py",
   "mimetype": "text/x-python",
   "name": "python",
   "nbconvert_exporter": "python",
   "pygments_lexer": "ipython3",
   "version": "3.7.4"
  }
 },
 "nbformat": 4,
 "nbformat_minor": 4
}
