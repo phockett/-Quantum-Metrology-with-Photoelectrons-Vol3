{
 "cells": [
  {
   "cell_type": "markdown",
   "id": "1afca30d-e4f9-4930-ae49-bc84864cd379",
   "metadata": {},
   "source": [
    "(chpt:book-versions)=\n",
    "# A note on book versions, formats and conventions\n",
    "\n",
    "## Versions\n",
    "\n",
    "This book exists in multiple formats, which are not all equal:\n",
    "\n",
    "1. Jupyter notebooks. The original form, interactive computational notebooks includes text, executable code and full outputs. Source notebooks are available via {{ book_repo }}.\n",
    "\n",
    "2. HTML pages. Compiled from the notebooks, include interactive figures and most computational outputs. The HTML version is available at {{ book_HTML }}.\n",
    "\n",
    "3. PDF and hard-copy. Standard static outputs, compiled from the notebooks. In this form some computational outputs are truncated or omitted for brevity and readability. Since some formats may not support hyperlinks, URLs to external references are also usually included in the bibliography - note that these may not always be the *full* URLs linked in the main text, and may only list the main index page of a given site in some cases. Some figures may also be omitted.\n",
    "\n",
    "## Conventions\n",
    "\n",
    "````{margin}\n",
    "```{note}\n",
    "In many cases where there is significant truncation of the presentation in the PDF, a note like this may be included.\n",
    "\n",
    "E.g. *Full tabulations of the parameters available in HTML or notebook formats only.*\n",
    "```\n",
    "````"
   ]
  },
  {
   "cell_type": "markdown",
   "id": "6c512b5e-f0ea-48dd-a166-61122fd499bf",
   "metadata": {},
   "source": [
    "Code (Python) appears in formatted cells, with comments, and outputs below the cell:"
   ]
  },
  {
   "cell_type": "code",
   "execution_count": 1,
   "id": "02f5af5f-a2c0-4e4d-a798-b38fc0f42698",
   "metadata": {},
   "outputs": [
    {
     "name": "stdout",
     "output_type": "stream",
     "text": [
      "This is a code cell, value=9\n"
     ]
    }
   ],
   "source": [
    "# Example comment in code\n",
    "value = 3*3\n",
    "print(f'This is a code cell, value={value}')"
   ]
  },
  {
   "cell_type": "markdown",
   "id": "65b115bc-ab32-46b3-a616-2b581883374e",
   "metadata": {},
   "source": [
    "In HTML and PDF formats some code cells that appear in the source notebooks may be hidden or removed, or have outputs hidden or removed. This is usually for brevity - e.g. to remove additional code-only examples that are only useful when working directly on the code, or repeated code - or to hide additional formatting commands required only for Jupyter Book builds. All code cells are annotated to indicate their contents."
   ]
  },
  {
   "cell_type": "code",
   "execution_count": 4,
   "id": "89754c16-e72d-4416-8c22-bcc9eb1e877e",
   "metadata": {
    "tags": [
     "hide-cell",
     "hide-output"
    ]
   },
   "outputs": [
    {
     "name": "stdout",
     "output_type": "stream",
     "text": [
      "This is a hidden code cell, with hidden output, value=5.141592653589793\n"
     ]
    }
   ],
   "source": [
    "# This is a hidden code cell (will not appear in PDF versions)\n",
    "import numpy as np\n",
    "\n",
    "value = 2+np.pi\n",
    "print(f'This is a hidden code cell, with hidden output, value={value}')"
   ]
  },
  {
   "cell_type": "markdown",
   "id": "84747821-139b-4611-af3a-9e103643f4cc",
   "metadata": {},
   "source": [
    "Code-related terms in the text, e.g. the names of functions, packages etc., usually appear as in-line blocks, e.g. `Numpy`, and may additionally be linked to relevant web resources, e.g. [`Numpy`](https://numpy.org/).\n",
    "\n",
    "For more details on the aims, tools and build-chain, see {numref}`Sect. %s <sec:intro-technical-notes>`.\n",
    "\n",
    "## Formatting\n",
    "\n",
    "In some cases additional formatting is required for defining Jupter Notebook to HTML and PDF outputs (via the Jupyter Book build-chain, see {numref}`Sect. %s <sec:intro-technical-notes>`), in particular [the `glue` command](https://jupyterbook.org/en/stable/content/executable/output-insert.html) is used for formatting figure outputs with captions. In general use these are not required, but will transparently display figures when executed in the Jupyter Lab environment. Note that glued tables from `Pandas` DataFrames are not nicely rendered in the HTML format, but interactive HTML output is usually include too, although this may be hidden in the cell above the glued table.\n",
    "\n",
    "(sec:numerics:disclaimer)=\n",
    "## Numerics\n",
    "\n",
    "At the time of writing the main code-bases used in this work (see {numref}`Sect. %s <chpt:platformIntro>` are still in active development, bugs, inconsistencies and errors cannot, therefore, be ruled out in the numerical examples. However, the case for 1D alignment and reconstruction has been well-tested in the past (e.g. Refs. {cite}`marceau2017MolecularFrameReconstruction,hockett2022TopicalReviewMFpreprint,hockett2023TopicalReviewExtracting`), so is expected to be accurate; cases with 3D alignment are presented in a provisional context, with caveats as above, although the general methodology as demonstrated is robust."
   ]
  },
  {
   "cell_type": "code",
   "execution_count": null,
   "id": "36d07bc8-d4d8-4ab7-9f22-47387aa98150",
   "metadata": {},
   "outputs": [],
   "source": []
  }
 ],
 "metadata": {
  "jupytext": {
   "formats": "ipynb,md:myst"
  },
  "kernelspec": {
   "display_name": "Python 3 (ipykernel)",
   "language": "python",
   "name": "python3"
  },
  "language_info": {
   "codemirror_mode": {
    "name": "ipython",
    "version": 3
   },
   "file_extension": ".py",
   "mimetype": "text/x-python",
   "name": "python",
   "nbconvert_exporter": "python",
   "pygments_lexer": "ipython3",
   "version": "3.10.11"
  }
 },
 "nbformat": 4,
 "nbformat_minor": 5
}
