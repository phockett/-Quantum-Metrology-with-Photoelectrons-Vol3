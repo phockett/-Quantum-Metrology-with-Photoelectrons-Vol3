{
 "cells": [
  {
   "cell_type": "markdown",
   "id": "feb81b35-a41f-4935-8104-1dd431243da7",
   "metadata": {},
   "source": [
    "(chpt:ocs-case-study)=\n",
    "# Case study: Generalised bootstrapping for a linear heteronuclear scattering system, $OCS~(C_{\\infty v})$"
   ]
  },
  {
   "cell_type": "code",
   "execution_count": null,
   "id": "6a439380-890c-450d-ac28-421529de1def",
   "metadata": {},
   "outputs": [],
   "source": []
  }
 ],
 "metadata": {
  "jupytext": {
   "formats": "ipynb,md:myst"
  },
  "kernelspec": {
   "display_name": "Python 3 (ipykernel)",
   "language": "python",
   "name": "python3"
  },
  "language_info": {
   "codemirror_mode": {
    "name": "ipython",
    "version": 3
   },
   "file_extension": ".py",
   "mimetype": "text/x-python",
   "name": "python",
   "nbconvert_exporter": "python",
   "pygments_lexer": "ipython3",
   "version": "3.9.7"
  }
 },
 "nbformat": 4,
 "nbformat_minor": 5
}
