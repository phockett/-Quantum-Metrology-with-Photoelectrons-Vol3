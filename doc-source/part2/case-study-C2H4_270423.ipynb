{
 "cells": [
  {
   "cell_type": "markdown",
   "id": "f0185e68-30ce-4c88-b475-788095cc0be2",
   "metadata": {},
   "source": [
    "(chpt:c2h4-case-study)=\n",
    "# Case study: Generalised bootstrapping for a general asymmetric top scattering system, $C_2H_4~(C_{2h})$"
   ]
  }
 ],
 "metadata": {
  "jupytext": {
   "formats": "ipynb,md:myst"
  },
  "kernelspec": {
   "display_name": "Python 3 (ipykernel)",
   "language": "python",
   "name": "python3"
  },
  "language_info": {
   "codemirror_mode": {
    "name": "ipython",
    "version": 3
   },
   "file_extension": ".py",
   "mimetype": "text/x-python",
   "name": "python",
   "nbconvert_exporter": "python",
   "pygments_lexer": "ipython3",
   "version": "3.9.7"
  }
 },
 "nbformat": 4,
 "nbformat_minor": 5
}
