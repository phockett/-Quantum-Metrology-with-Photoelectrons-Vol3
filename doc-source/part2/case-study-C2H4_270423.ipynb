{
 "cells": [
  {
   "cell_type": "markdown",
   "id": "5ee47f13-d3dd-4e09-b257-bbbb927ae7dc",
   "metadata": {
    "tags": [
     "remove-cell"
    ]
   },
   "source": [
    "C2H4 fitting notes\n",
    "\n",
    "12/07/23 setting up\n",
    "\n",
    "- Data \n",
    "    - MatE https://phockett.github.io/ePSdata/C2H4_1.0-100.0eV/C2H4_1.0-100.0eV_orb8_B3u.html, also in ePSproc (was in `data/photoionization`, now moved to `data/photoionization/C2H4` to allow for downloader to work - otherwise pulls data AND subdirs).\n",
    "    - ADMs from Varun, as per MG's C2H4 work. Now pushed to ePSproc, `data/alignment/C2H4_ADMs_8TW_120fs_VM`.\n",
    "- Setup\n",
    "    - QM3 container, http://jake:9966/lab/tree/QM3/doc-source/part2/case-study-C2H4_130723-setupTests.ipynb\n",
    "    - Script (Fock), http://jake/jupyter/user/paul/doc/tree/fock-docker/QM3-docker/part2/C2H4fitting/setup_fit_demo_C2H4-3D-test_120723.py\n",
    "- Test fits now running on Fock."
   ]
  },
  {
   "cell_type": "markdown",
   "id": "f0185e68-30ce-4c88-b475-788095cc0be2",
   "metadata": {},
   "source": [
    "(chpt:c2h4-case-study)=\n",
    "# Case study: Generalised bootstrapping for a general asymmetric top scattering system, $C_2H_4~(D_{2h})$"
   ]
  },
  {
   "cell_type": "code",
   "execution_count": null,
   "id": "be2b72fe-9c7f-43a5-a7f4-714e7148d111",
   "metadata": {},
   "outputs": [],
   "source": []
  }
 ],
 "metadata": {
  "jupytext": {
   "formats": "ipynb,md:myst"
  },
  "kernelspec": {
   "display_name": "Python 3 (ipykernel)",
   "language": "python",
   "name": "python3"
  },
  "language_info": {
   "codemirror_mode": {
    "name": "ipython",
    "version": 3
   },
   "file_extension": ".py",
   "mimetype": "text/x-python",
   "name": "python",
   "nbconvert_exporter": "python",
   "pygments_lexer": "ipython3",
   "version": "3.9.7"
  }
 },
 "nbformat": 4,
 "nbformat_minor": 5
}
