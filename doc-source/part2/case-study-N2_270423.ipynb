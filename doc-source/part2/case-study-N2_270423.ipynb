{
 "cells": [
  {
   "cell_type": "markdown",
   "id": "2382e5f3-1faa-474f-bbe3-efd782a90e96",
   "metadata": {},
   "source": [
    "(chpt:n2-case-study)=\n",
    "# Case study: Generalised bootstrapping for a homonuclear diatomic scattering system, $N_2~(D_{\\infty h})$"
   ]
  },
  {
   "cell_type": "markdown",
   "id": "decb3317-c2d3-4435-9eac-8a162fb8095f",
   "metadata": {},
   "source": [
    "## General setup\n",
    "\n",
    "In the following code cells (see source notebooks for full details) the general setup routines (as per the outline in {numref}`Chpt. %s <sect:basic-fit-setup>` are executed via a configuration script with presets for the case studies herein.\n",
    "\n",
    "Additionally, the routines will either run fits, or load existing data if available. Since fitting can be computationally demanding, it is, in general, recommended to approach large fitting problems carefully."
   ]
  },
  {
   "cell_type": "code",
   "execution_count": null,
   "id": "37ff1e36-4f5e-45d1-9744-850c387242d5",
   "metadata": {},
   "outputs": [],
   "source": [
    "# Configure settings for case study\n",
    "\n",
    "# Set case study by name\n",
    "fitSystem='N2'\n",
    "fitStem=f\"fit_withNoise_orb5\"\n",
    "\n",
    "# Add noise?\n",
    "addNoise = True\n",
    "mu, sigma = 0, 0.05  # Up to approx 10% noise (+/- 0.05)\n",
    "\n",
    "# Batching - number of fits to run between data dumps\n",
    "batchSize = 40\n",
    "\n",
    "# Total fits to run\n",
    "nMax = 1200"
   ]
  },
  {
   "cell_type": "code",
   "execution_count": null,
   "id": "72cb2d12-941c-41bd-a559-40b40af40f67",
   "metadata": {},
   "outputs": [],
   "source": [
    "# FOCK RUNS - no web access, so skip this part.\n",
    "\n",
    "# # Pull data files as required from Github, note the path here is required\n",
    "\n",
    "# # from epsproc.util.io import getFilesFromGithub\n",
    "\n",
    "# # fDict, fAll = getFilesFromGithub(subpath='data/alignment/OCS_ADMs_28K_VM_070722', ref='dev')   # OK\n",
    "\n",
    "# # 26/05/23 - Monkeypatch version for debug\n",
    "# # Above should be fine after source updates\n",
    "# import requests\n",
    "# from epsproc.util import io\n",
    "# io.requests = requests \n",
    "\n",
    "# dataName = 'OCSfitting'\n",
    "\n",
    "# fDictMatE, fAllMatE = io.getFilesFromGithub(subpath='data/photoionization/OCS_multiorb', dataName=dataName, ref='dev')  #, download=False)   # N2 matrix elements\n",
    "# fDictADM, fAllADM = io.getFilesFromGithub(subpath='data/alignment/OCS_ADMs_28K_VM_070722', dataName=dataName, ref='dev')  #, download=False)   # N2 alignment data\n",
    "# # Note this is missing script - should consolidate all to book repo?\n",
    "# # Note ref='dev' for OCS currently (dev branch\n",
    "\n",
    "# # Alternatively supply URLs directly for file downloader\n",
    "# # Pull N2 data from ePSproc Github repo\n",
    "# # URLs for test ePSproc datasets - n2\n",
    "# # For more datasets use ePSdata, see https://epsproc.readthedocs.io/en/dev/demos/ePSdata_download_demo_300720.html\n",
    "# # urls = {'n2PU':\"https://github.com/phockett/ePSproc/blob/master/data/photoionization/n2_multiorb/n2_1pu_0.1-50.1eV_A2.inp.out\",\n",
    "# #         'n2SU':\"https://github.com/phockett/ePSproc/blob/master/data/photoionization/n2_multiorb/n2_3sg_0.1-50.1eV_A2.inp.out\",\n",
    "# #         'n2ADMs':\"https://github.com/phockett/ePSproc/blob/master/data/alignment/N2_ADM_VM_290816.mat\",\n",
    "# #         'demoScript':\"https://github.com/phockett/PEMtk/blob/master/demos/fitting/setup_fit_demo.py\"}\n",
    "\n",
    "# # fList, fDict = io.getFilesFromURLs(urls, dataName=dataName)"
   ]
  },
  {
   "cell_type": "code",
   "execution_count": null,
   "id": "f50c9a03-1f40-4542-9783-7a575e607df1",
   "metadata": {},
   "outputs": [],
   "source": []
  }
 ],
 "metadata": {
  "jupytext": {
   "formats": "ipynb,md:myst"
  },
  "kernelspec": {
   "display_name": "Python 3 (ipykernel)",
   "language": "python",
   "name": "python3"
  },
  "language_info": {
   "codemirror_mode": {
    "name": "ipython",
    "version": 3
   },
   "file_extension": ".py",
   "mimetype": "text/x-python",
   "name": "python",
   "nbconvert_exporter": "python",
   "pygments_lexer": "ipython3",
   "version": "3.9.7"
  }
 },
 "nbformat": 4,
 "nbformat_minor": 5
}
