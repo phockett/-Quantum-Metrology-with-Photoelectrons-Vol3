{
 "cells": [
  {
   "cell_type": "markdown",
   "id": "2382e5f3-1faa-474f-bbe3-efd782a90e96",
   "metadata": {},
   "source": [
    "(chpt:n2-case-study)=\n",
    "# Case study: Generalised bootstrapping for a homonuclear diatomic scattering system, $N_2~(D_{\\infty h})$"
   ]
  },
  {
   "cell_type": "code",
   "execution_count": null,
   "id": "154919cb-c464-455d-9dc6-ee863f9ba406",
   "metadata": {},
   "outputs": [],
   "source": []
  }
 ],
 "metadata": {
  "jupytext": {
   "formats": "ipynb,md:myst"
  },
  "kernelspec": {
   "display_name": "Python 3 (ipykernel)",
   "language": "python",
   "name": "python3"
  },
  "language_info": {
   "codemirror_mode": {
    "name": "ipython",
    "version": 3
   },
   "file_extension": ".py",
   "mimetype": "text/x-python",
   "name": "python",
   "nbconvert_exporter": "python",
   "pygments_lexer": "ipython3",
   "version": "3.9.7"
  }
 },
 "nbformat": 4,
 "nbformat_minor": 5
}
