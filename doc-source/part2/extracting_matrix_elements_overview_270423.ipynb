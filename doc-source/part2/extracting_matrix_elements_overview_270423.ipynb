{
 "cells": [
  {
   "cell_type": "markdown",
   "id": "8ffba376-1257-43cc-8508-319c477fa503",
   "metadata": {},
   "source": [
    "(chpt:extracting-matrix-elements-overview)=\n",
    "# Extracting matrix elements overview\n",
    "\n",
    "In this part, various case studies are presented. To provide context, and ensure that the examples are transparent and can be run directly from the source notebooks, there are also chapters covering the general setup and configuration for the fitting routines. These are, unavoidably, rather technical and code-heavy, so readers only interested in the results should skip these sections. Additionally, these sections may be rather truncated in hard-copy (or PDF) versions of the text, but are available in full in the HTML or source notebooks for readers that wish to perform their own calculations.\n",
    "\n",
    "The layout for this part is as follows:\n",
    "\n",
    "- Technical chapters\n",
    "   - {numref}`Chapter %s: <sect:basis-sets:fitting-intro>` {ref}`sect:basis-sets:fitting-intro`: introduces methods for setting the basis set used for fitting, defined in terms of symmetrized harmonics.\n",
    "   - {numref}`Chapter %s: <sect:basic-fit-setup>` {ref}`sect:basic-fit-setup`: introduces methods for setting up the data to fit, and running fits in various ways.\n",
    "   \n",
    "- Case studies\n",
    "   - {numref}`Chapter %s: <chpt:n2-case-study>` {ref}`chpt:n2-case-study`: A \"simple\" 1D case, here the $D_{\\infty h}$ molecular symmetry matches the rotational wavepacket and detection symmetry.\n",
    "   - {numref}`Chapter %s: <chpt:ocs-case-study>` {ref}`chpt:ocs-case-study`: A more complicated example. In this case, $C_{\\infty v}$, up-down symmetry is broken in the molecular frame. Fitting for various cases is explored, looking at 1D and 3D alignment.\n",
    "   - {numref}`Chapter %s: <chpt:c2h4-case-study>` {ref}`chpt:c2h4-case-study`: The most general example of an asymmetric top system, in this case $C_2H_4$ (ethylene), $C_{2h}$. Again various cases and limitations are examined, for 1D and 3D alignment."
   ]
  },
  {
   "cell_type": "markdown",
   "id": "137c7433-febc-491a-9612-a7d1a536e0dd",
   "metadata": {},
   "source": [
    "````{margin}\n",
    "```{warning}\n",
    "As {ref}`noted elsewhere <sec:numerics:disclaimer>`, many components of the toolkit are still in active development, and some numerical details may change. This is particularly true for 3D alignment examples, which are here presented as new, and provisional, results.\n",
    "```\n",
    "````"
   ]
  }
 ],
 "metadata": {
  "jupytext": {
   "formats": "ipynb,md:myst"
  },
  "kernelspec": {
   "display_name": "Python 3 (ipykernel)",
   "language": "python",
   "name": "python3"
  },
  "language_info": {
   "codemirror_mode": {
    "name": "ipython",
    "version": 3
   },
   "file_extension": ".py",
   "mimetype": "text/x-python",
   "name": "python",
   "nbconvert_exporter": "python",
   "pygments_lexer": "ipython3",
   "version": "3.9.7"
  }
 },
 "nbformat": 4,
 "nbformat_minor": 5
}
