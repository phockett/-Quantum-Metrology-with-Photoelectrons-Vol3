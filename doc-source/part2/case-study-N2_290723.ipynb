{
 "cells": [
  {
   "cell_type": "markdown",
   "id": "83929aa8-774b-4d35-9cb9-837a77b3006e",
   "metadata": {
    "tags": [
     "remove-cell"
    ]
   },
   "source": [
    "- 27/07/23: v1 from existing demo cases plus new dataset.\n",
    "- 28/07/23: complete analysis in place up to MF PAD plotting, this needs some additional work (subselection issues). Tested only with minimal N2 dataset so far.\n",
    "    - UPDATE: Density mat and MF PADs now working."
   ]
  },
  {
   "cell_type": "markdown",
   "id": "2382e5f3-1faa-474f-bbe3-efd782a90e96",
   "metadata": {},
   "source": [
    "(chpt:n2-case-study)=\n",
    "# Case study: Generalised bootstrapping for a homonuclear diatomic scattering system, $N_2~(D_{\\infty h})$\n",
    "\n",
    "In this chapter, the full code and analysis details of the case study for $N_2$ are given, including obtaining required data, running fits and analysis routines. For more details on the routines, see the {{ PEMtk_docs }}; for the analysis see particularly the [fit fidelity and analysis page](https://pemtk.readthedocs.io/en/latest/fitting/PEMtk_analysis_demo_150621-tidy.html), and [molecular frame analysis data processing page](https://pemtk.readthedocs.io/en/latest/topical_review_case_study/matrix_element_extraction_MFrecon_PEMtk_180722-dist.html) (full analysis for Ref. {cite}`hockett2023TopicalReviewExtracting`, illustrating the $N_2$ case)."
   ]
  },
  {
   "cell_type": "markdown",
   "id": "decb3317-c2d3-4435-9eac-8a162fb8095f",
   "metadata": {},
   "source": [
    "## General setup\n",
    "\n",
    "In the following code cells (see source notebooks for full details) the general setup routines (as per the outline in {numref}`Chpt. %s <sect:basic-fit-setup>` are executed via a configuration script with presets for the case studies herein.\n",
    "\n",
    "Additionally, the routines will either run fits, or load existing data if available. Since fitting can be computationally demanding, it is, in general, recommended to approach large fitting problems carefully."
   ]
  },
  {
   "cell_type": "markdown",
   "id": "e453df84-67b3-48d5-b923-f14318dd9a3d",
   "metadata": {},
   "source": [
    "````{margin}\n",
    "```{admonition} General note on fitting\n",
    "\n",
    "Computational outputs in this chapter are significantly truncated in the PDF, and some simplified plots are used; see source notebooks (via {{ book_repo }}) or {{ book_HTML }} for full details.\n",
    "\n",
    "```\n",
    "````"
   ]
  },
  {
   "cell_type": "code",
   "execution_count": null,
   "id": "37ff1e36-4f5e-45d1-9744-850c387242d5",
   "metadata": {
    "tags": []
   },
   "outputs": [],
   "source": [
    "# Configure settings for case study\n",
    "\n",
    "# Set case study by name\n",
    "fitSystem='N2'\n",
    "fitStem=f\"fit_withNoise_orb5\"\n",
    "\n",
    "# Add noise?\n",
    "addNoise = 'y'\n",
    "mu, sigma = 0, 0.05  # Up to approx 10% noise (+/- 0.05)\n",
    "\n",
    "# Batching - number of fits to run between data dumps\n",
    "batchSize = 10\n",
    "\n",
    "# Total fits to run\n",
    "nMax = 10"
   ]
  },
  {
   "cell_type": "code",
   "execution_count": null,
   "id": "22f5c68e-1291-497e-bce9-1c796120968c",
   "metadata": {
    "tags": [
     "hide-output",
     "hide-cell"
    ]
   },
   "outputs": [],
   "source": [
    "# Run default config - may need to set full path here\n",
    "\n",
    "%run '../scripts/setup_notebook_caseStudies_Mod-300723.py'   # Test version with different figure options.\n",
    "# %run '../scripts/setup_notebook.py'\n",
    "\n",
    "# Set outputs for notebook or PDF (skips Holoviews plots unless glued)\n",
    "# Note this is set to default 'pl' in script above\n",
    "if buildEnv == 'pdf':\n",
    "    paramPlotBackend = 'sns'    # For category plots with paramPlot\n",
    "else:\n",
    "    paramPlotBackend = 'hv'\n",
    "    \n",
    "# plotBackend = 'sns'    # For category plots with paramPlot"
   ]
  },
  {
   "cell_type": "code",
   "execution_count": null,
   "id": "35120d2c-4ad4-404c-ba0e-bc65d25e3e83",
   "metadata": {
    "tags": [
     "hide-output"
    ]
   },
   "outputs": [],
   "source": [
    "# Pull data from web (N2 case)\n",
    "\n",
    "from epsproc.util.io import getFilesFromGithub\n",
    "\n",
    "# Set dataName (will be used as download subdir)\n",
    "dataName = 'n2fitting'\n",
    "# N2 matrix elements\n",
    "fDictMatE, fAllMatE = getFilesFromGithub(subpath='data/photoionization/n2_multiorb', dataName=dataName)  \n",
    "# N2 alignment data\n",
    "fDictADM, fAllMatADM = getFilesFromGithub(subpath='data/alignment', dataName=dataName)"
   ]
  },
  {
   "cell_type": "code",
   "execution_count": null,
   "id": "5dcaa083-623e-41b1-9089-c6a1fd4cad1e",
   "metadata": {
    "tags": [
     "hide-output"
    ]
   },
   "outputs": [],
   "source": [
    "# Fitting setup including data generation and parameter creation\n",
    "\n",
    "# Set datapath, \n",
    "dataPath = Path(Path.cwd(),dataName)\n",
    "\n",
    "# Run general config script with dataPath set above\n",
    "%run \"../scripts/setup_fit_case-studies_270723.py\" -d {dataPath} -c {fitSystem} -n {addNoise} --sigma {sigma}"
   ]
  },
  {
   "cell_type": "markdown",
   "id": "7ee56b96-a4c4-4915-ad05-13b6d85891f7",
   "metadata": {},
   "source": [
    "## Load existing fit data or run fits\n",
    "\n",
    "Note that running fits may be quite time-consuming and computationally intensive, depending on the size of the size of the problem. The default case here will run a small batch for testing if there is no existing data found on the `dataPath`, otherwise the data is loaded for analysis."
   ]
  },
  {
   "cell_type": "code",
   "execution_count": null,
   "id": "0827941f-7b59-490c-85b0-6638d5fdccd0",
   "metadata": {
    "tags": []
   },
   "outputs": [],
   "source": [
    "# Look for existing Pickle files on path?\n",
    "# dataFiles = list(dataPath.expanduser().glob('*.pickle'))\n",
    "dataFiles = [Path(dataPath.expanduser(), 'N2_1199_fit_withNoise_orb5_280723_11-39-26.pickle')]   # Set reference dataset(s)\n",
    "\n",
    "if not dataFiles:\n",
    "    print(\"No data found, executing minimal fitting run...\")\n",
    "    \n",
    "    # Run fit batch - single\n",
    "    # data.multiFit(nRange = [n,n+batchSize-1], num_workers=batchSize)\n",
    "\n",
    "    # Run fit batches with checkpoint files\n",
    "    for n in np.arange(0,nMax,batchSize):\n",
    "        print(f'*** Running batch [{n},{n+batchSize-1}], {dt.now().strftime(\"%d%m%y_%H-%M-%S\")}')\n",
    "\n",
    "        # Run fit batch\n",
    "        data.multiFit(nRange = [n,n+batchSize-1], num_workers=batchSize)\n",
    "\n",
    "        # Dump data so far\n",
    "        data.writeFitData(outStem=f\"{fitSystem}_{n+batchSize-1}_{fitStem}\")\n",
    "        \n",
    "        print(f'Finished batch [{n},{n+batchSize-1}], {dt.now().strftime(\"%d%m%y_%H-%M-%S\")}')\n",
    "        print(f'Written to file {fitSystem}_{n+batchSize-1}_{fitStem}')\n",
    "\n",
    "else:\n",
    "    dataFileIn = dataFiles[-1]   # Add index to select file, although loadFitData will concat multiple files\n",
    "                                    # Note that concat currently only works for fixed batch sizes however.\n",
    "    print(f\"Set dataFiles: {dataFileIn}\")\n",
    "    data.loadFitData(fList=dataFileIn, dataPath=dataPath)   #.expanduser())\n",
    "    \n",
    "    data.BLMfitPlot(keys=['subset','sim'])\n",
    "    "
   ]
  },
  {
   "cell_type": "code",
   "execution_count": null,
   "id": "59715815-86e2-431d-8b95-c24e7c8ad309",
   "metadata": {
    "tags": []
   },
   "outputs": [],
   "source": [
    "# Check ADMs\n",
    "# Basic plotter\n",
    "data.ADMplot(keys = 'subset')"
   ]
  },
  {
   "cell_type": "code",
   "execution_count": null,
   "id": "448f9056-045e-41fc-8419-a5ce061e8eb2",
   "metadata": {
    "tags": [
     "hide-cell"
    ]
   },
   "outputs": [],
   "source": [
    "# Check ADMs\n",
    "# Holoviews\n",
    "data.data['subset']['ADM'].unstack().where(data.data['subset']['ADM'].unstack().K>0) \\\n",
    "    .real.hvplot.line(x='t').overlay(['K','Q','S'])"
   ]
  },
  {
   "cell_type": "code",
   "execution_count": null,
   "id": "5a939761-62db-452b-9d0d-a7e61a27dcf6",
   "metadata": {
    "tags": [
     "hide-output"
    ]
   },
   "outputs": [],
   "source": [
    "# Fits appear as integer indexed items in the main data structure.\n",
    "data.data.keys()"
   ]
  },
  {
   "cell_type": "markdown",
   "id": "d51d9eb3-5b8c-48e6-a259-32f52ec37f8f",
   "metadata": {},
   "source": [
    "## Post-processing and data overview\n",
    "\n",
    "Post-processing involves aggregation of all the fit run results into a single data structure. This can then be analysed statistically and examined for for best-fit results. In the statistical sense, this is essentailly a search for candidate {{ RADMATE }}, based on the assumption that some of the minima found in the $\\chi^2$ hyperspace will be the true results. Even if a clear global minima does not exist, searching for candidate {{ RADMATE }} sets based on clustering of results and multiple local minima is still expected to lead to viable candidates provided that the information content of the dataset is sufficient. However, as discussed elsewhere (see {numref}`Sect. %s <sect:numerics:fitting-strategies>`), in some cases this may not be the case, and other limitations may apply (e.g. certain parameters may be undefined), or additional data required for unique determination of the {{ RADMATE }}.\n",
    "\n",
    "For more details on the analysis routines, see the {{ PEMtk_docs }}, particularly the [fit fidelity and analysis page](https://pemtk.readthedocs.io/en/latest/fitting/PEMtk_analysis_demo_150621-tidy.html), and [molecular frame analysis data processing page](https://pemtk.readthedocs.io/en/latest/topical_review_case_study/matrix_element_extraction_MFrecon_PEMtk_180722-dist.html) (full analysis for Ref. {cite}`hockett2023TopicalReviewExtracting`, illustrating the $N_2$ case)."
   ]
  },
  {
   "cell_type": "code",
   "execution_count": null,
   "id": "c7ff6e6b-d195-49ba-af7a-232cb9f5b756",
   "metadata": {
    "tags": []
   },
   "outputs": [],
   "source": [
    "# General stats & post-processing to data tables\n",
    "data.analyseFits()"
   ]
  },
  {
   "cell_type": "code",
   "execution_count": null,
   "id": "7b6c45ff-44b7-4a9b-96db-fc7fa7b5eaa2",
   "metadata": {
    "tags": [
     "hide-output"
    ]
   },
   "outputs": [],
   "source": [
    "# The BLMsetPlot routine will output aggregate fit results.\n",
    "# Here the spread can be taken as a general indication of the uncertainty of \n",
    "# the fitting, and indicate whether the fit is well-characterised/the information \n",
    "# content of the data is sufficient.\n",
    "data.BLMsetPlot(xDim = 't', thres=1e-6)  # With xDim and thres set, for more control over outputs\n",
    "\n",
    "# Glue plot for later\n",
    "glue(\"N2-fitResultsBLM\",data.data['plots']['BLMsetPlot'])"
   ]
  },
  {
   "cell_type": "markdown",
   "id": "59716192-28da-4c72-96b1-1dcd7f322fb0",
   "metadata": {},
   "source": [
    "```{glue:figure} N2-fitResultsBLM\n",
    "---\n",
    "name: \"fig-N2-fitResultsBLM\"\n",
    "---\n",
    "Fit overview plot - {{  BLMt }}. Here dashed lines with '+' markers indicates the input data, and bands indicate the mean fit results, where the width is the standard deviation in the fit model results. (See the {{ PEMtk_docs }} for details, particularly the [analysis routines page](https://pemtk.readthedocs.io/en/latest/fitting/PEMtk_fitting_multiproc_class_analysis_141121-tidy.html#Fit-set-plotters).)\n",
    "```"
   ]
  },
  {
   "cell_type": "code",
   "execution_count": null,
   "id": "aabbc7f4-2587-4021-bf4f-fe7138622444",
   "metadata": {
    "tags": []
   },
   "outputs": [],
   "source": [
    "# Write aggregate datasets to HDF5 format\n",
    "# This is more robust than Pickled data, but PEMtk currently only support output for aggregate (post-processed) fit data.\n",
    "\n",
    "data.processedToHDF5(dataPath = dataPath, outStem = dataFileIn.name, timeStamp=False)"
   ]
  },
  {
   "cell_type": "code",
   "execution_count": null,
   "id": "5a5f2cce-4905-4240-961f-aaefffa51c49",
   "metadata": {
    "tags": [
     "hide-output"
    ]
   },
   "outputs": [],
   "source": [
    "# Histogram fit results (reduced chi^2 vs. fit index)\n",
    "# This may be quite slow for large datasets, setting limited ranges may help\n",
    "\n",
    "# Use default auto binning\n",
    "# data.fitHist()\n",
    "\n",
    "# Example with range set\n",
    "data.fitHist(thres=1.5e-3, bins=100)\n",
    "\n",
    "# Glue plot for later\n",
    "glue(\"N2-fitHist\",data.data['plots']['fitHistPlot'])"
   ]
  },
  {
   "cell_type": "markdown",
   "id": "499e4ae3-d46c-4a7c-85ed-4805f1955b5a",
   "metadata": {},
   "source": [
    "```{glue:figure} N2-fitHist\n",
    "---\n",
    "name: \"fig-N2-fitHist\"\n",
    "---\n",
    "Fit overview plot - $\\chi^2$ vs. fit index. Here bands indicate groupings (local minima) are consistently found.\n",
    "```"
   ]
  },
  {
   "cell_type": "markdown",
   "id": "3eb4e8e7-3ce4-418b-adce-bedc0e246229",
   "metadata": {},
   "source": [
    "Here bands in the $\\chi^2$ dimension can indicate groupings (local minima) are consistently found. Assuming each grouping is a viable fit candidate parameter set, these can then be explored in further detail."
   ]
  },
  {
   "cell_type": "markdown",
   "id": "8bc365f8-6015-4ff3-ad45-dd017c444e94",
   "metadata": {
    "tags": []
   },
   "source": [
    "## Data exploration\n",
    "\n",
    "The general aim in this procedure is to ascertain whether there was a good spread of parameters explored, and a single (or few sets) of best-fit results. There are a few procedures and helper methods for this..."
   ]
  },
  {
   "cell_type": "markdown",
   "id": "379f8535-a5a2-493f-93ac-624546609f6d",
   "metadata": {},
   "source": [
    "### View results\n",
    "\n",
    "Single results sets can be viewed in the main data structure, indexed by #."
   ]
  },
  {
   "cell_type": "code",
   "execution_count": null,
   "id": "9cf82e55-f9ca-42af-8e92-91c92956e689",
   "metadata": {
    "tags": []
   },
   "outputs": [],
   "source": [
    "# Check keys\n",
    "fitNumber = 2\n",
    "data.data[fitNumber].keys()"
   ]
  },
  {
   "cell_type": "markdown",
   "id": "89b0f3f6-87ba-4160-872b-753ef5832fef",
   "metadata": {},
   "source": [
    "Here `results` is an [lmFit object](https://lmfit.github.io/lmfit-py/intro.html), which includes final fit results and information, and `AFBLM` contains the model (fit) output.\n",
    "\n",
    "An example is shown below. Of particular note here is which parameters have `vary=True` - these are included in the fitting - and if there is a column `expression`, which indicates any parameters defined to have specific relationships (see {numref}`Chpt. %s <sect:basis-sets:fitting-intro>`). Any correlations found during fitting are also shown, which can also indicate parameters which are related (even if this is not predefined or known a priori)."
   ]
  },
  {
   "cell_type": "code",
   "execution_count": null,
   "id": "773e3a05-f737-4b46-b8e2-59bcc0150f6f",
   "metadata": {
    "tags": [
     "hide-output"
    ]
   },
   "outputs": [],
   "source": [
    "# Show some results\n",
    "data.data[fitNumber]['results']"
   ]
  },
  {
   "cell_type": "markdown",
   "id": "27d1c271-b4f8-49a5-9bf2-a74fe4f7968b",
   "metadata": {},
   "source": [
    "## Classify candidate sets\n",
    "\n",
    "To probe the minima found, the `classifyFits` method can be used. This bins results into \"candidate\" groups, which can then be examined in detail."
   ]
  },
  {
   "cell_type": "code",
   "execution_count": null,
   "id": "25fc2241-fc7e-4d2d-a15a-3fc87d9e4d39",
   "metadata": {
    "tags": []
   },
   "outputs": [],
   "source": [
    "# Run with defaults\n",
    "# data.classifyFits()\n",
    "\n",
    "# For more control, pass bins\n",
    "# Here the minima is set at one end, and a %age range used for bins\n",
    "minVal = data.fitsSummary['Stats']['redchi']['min']    \n",
    "binRangePC = 1e-8\n",
    "data.classifyFits(bins = [minVal, minVal + binRangePC*minVal , 20])"
   ]
  },
  {
   "cell_type": "markdown",
   "id": "64f9bc5c-1980-4d13-8841-3892473f038b",
   "metadata": {},
   "source": [
    "## Explore candidate result sets\n",
    "\n",
    "Drill-down on a candidate set of results, and examine values and spreads. For more details see {{ PEMtk_docs }}, especially the [analysis routines page](https://pemtk.readthedocs.io/en/latest/fitting/PEMtk_fitting_multiproc_class_analysis_141121-tidy.html). (See also {numref}`Sect. %s <sect:platform:pythonEcosystem>` for details on the plotting libaries implemented here.)"
   ]
  },
  {
   "cell_type": "markdown",
   "id": "0e65c5da-76d9-4909-aa53-6295933d28d4",
   "metadata": {},
   "source": [
    "### Raw results\n",
    "\n",
    "Plot spreads in magnitude and phase parameters. Statistical plots are available for Seaborn and Holoviews backends, with some slightly different options."
   ]
  },
  {
   "cell_type": "code",
   "execution_count": null,
   "id": "3d626ffe-e35a-4260-a03d-ff9024599f33",
   "metadata": {
    "tags": []
   },
   "outputs": [],
   "source": [
    "# From the candidates, select a group for analysis\n",
    "selGroup = 'A'"
   ]
  },
  {
   "cell_type": "code",
   "execution_count": null,
   "id": "b01952f8-5b73-47e2-ab04-ea336a978e43",
   "metadata": {
    "tags": []
   },
   "outputs": [],
   "source": [
    "# paramPlot can be used to check the spread on each parameter.\n",
    "# Plots use Seaborn or Holoviews/Bokeh\n",
    "# Colour-mapping is controlled by the 'hue' paramter, additionally pass hRound for sig. fig control.\n",
    "# The remap setting allows for short-hand labels as set in data.lmmu\n",
    "\n",
    "paramType = 'm' # Set for (m)agnitude or (p)hase parameters\n",
    "hRound = 14 # Set for cmapping, default may be too small (leads to all grey cmap on points)\n",
    "\n",
    "data.paramPlot(selectors={'Type':paramType, 'redchiGroup':selGroup}, hue = 'redchi', \n",
    "               backend=paramPlotBackend, hvType='violin', \n",
    "               returnFlag = True, hRound=hRound, remap = 'lmMap');"
   ]
  },
  {
   "cell_type": "code",
   "execution_count": null,
   "id": "f943ce14-1732-4717-9fc7-4869c0fab3bb",
   "metadata": {
    "tags": []
   },
   "outputs": [],
   "source": [
    "paramType = 'p' # Set for (m)agnitude or (p)hase parameters\n",
    "data.paramPlot(selectors={'Type':paramType, 'redchiGroup':selGroup}, hue = 'redchi', backend=paramPlotBackend, hvType='violin', \n",
    "               returnFlag = True, hRound=hRound, remap = 'lmMap'); "
   ]
  },
  {
   "cell_type": "markdown",
   "id": "ac2bd083-aa73-482f-b395-17b074b45075",
   "metadata": {},
   "source": [
    "### Phases, phase shifts & corrections\n",
    "\n",
    "Depending on how the fit was configured, phases may be defined in different ways. To set the phases relative to a speific parameter, and wrap to a specified range, use the `phaseCorrection()` method. This defaults to using the first parameter as a reference phase, and wraps to $-\\pi:\\pi$. The phase-corrected values are output to a new Type, 'pc', and a set of normalised magnitudes to 'n'. Additional settings can be passed for more control, as shown below."
   ]
  },
  {
   "cell_type": "code",
   "execution_count": null,
   "id": "7ed467f7-368d-411d-996e-2b6f85a72458",
   "metadata": {
    "tags": [
     "hide-output"
    ]
   },
   "outputs": [],
   "source": [
    "# Run phase correction routine\n",
    "# Set absFlag=True for unsigned phases (mapped to 0:pi)\n",
    "# Set useRef=False to set ref phase as 0, otherwise the reference value is set.\n",
    "phaseCorrParams={'absFlag':True, 'useRef':False}\n",
    "data.phaseCorrection(**phaseCorrParams)  "
   ]
  },
  {
   "cell_type": "markdown",
   "id": "5d258595-594c-4ea0-973d-204c62fdf793",
   "metadata": {},
   "source": [
    "Examine new data types..."
   ]
  },
  {
   "cell_type": "code",
   "execution_count": null,
   "id": "07bcf0ab-d196-490b-a851-c351d71201d6",
   "metadata": {
    "tags": []
   },
   "outputs": [],
   "source": [
    "paramType = 'n'\n",
    "data.paramPlot(selectors={'Type':paramType, 'redchiGroup':selGroup}, hue = 'redchi', \n",
    "               backend=paramPlotBackend, hvType='violin', kind='box',\n",
    "               returnFlag = True, hRound=hRound, remap = 'lmMap');"
   ]
  },
  {
   "cell_type": "code",
   "execution_count": null,
   "id": "e30b5836-db52-4cc4-b694-209c07e401ed",
   "metadata": {
    "tags": []
   },
   "outputs": [],
   "source": [
    "paramType = 'pc'\n",
    "data.paramPlot(selectors={'Type':paramType, 'redchiGroup':selGroup}, hue = 'redchi', \n",
    "               backend=paramPlotBackend, hvType='violin', kind='box',\n",
    "               returnFlag = True, hRound=hRound, remap = 'lmMap');"
   ]
  },
  {
   "cell_type": "markdown",
   "id": "789cceed-8a99-4671-a65d-efb787605a67",
   "metadata": {},
   "source": [
    "## Parameter estimation & fidelity\n",
    "\n",
    "For case studies, the fit results can be directly compared to the known input parameters. This should give a feel for how well the data defines the matrix elements (parameters) in this case. In general, probing the correlations and spread of results, and comparing to other (unfitted) results is required to estimate fidelity, see {{ QM12 }} for further discussion."
   ]
  },
  {
   "cell_type": "markdown",
   "id": "84464c82-baf0-4295-980a-e655ee91e702",
   "metadata": {},
   "source": [
    "### Best values and statistics\n",
    "\n",
    "To get a final parameter set and associated statistics, based on a subset of the fit results, the `paramsReport()` method is available. If reference data is available, as for the case studies herein, the `paramsCompare()` method can also be used to compare with the reference case."
   ]
  },
  {
   "cell_type": "code",
   "execution_count": null,
   "id": "b8a90f9f-d91f-4078-a347-13ec43572a06",
   "metadata": {
    "tags": [
     "hide-output"
    ]
   },
   "outputs": [],
   "source": [
    "# Parameter summary\n",
    "data.paramsReport(inds = {'redchiGroup':selGroup})"
   ]
  },
  {
   "cell_type": "code",
   "execution_count": null,
   "id": "67e24d73-212e-461e-9dd7-fd6bf899b822",
   "metadata": {
    "tags": [
     "hide-output"
    ]
   },
   "outputs": [],
   "source": [
    "# Parameter comparison\n",
    "# Note this uses phaseCorrParams as set previously for consistency\n",
    "data.paramsCompare(phaseCorrParams=phaseCorrParams)"
   ]
  },
  {
   "cell_type": "code",
   "execution_count": null,
   "id": "a1be7114-dbda-406e-94eb-c740926fbf6c",
   "metadata": {
    "tags": []
   },
   "outputs": [],
   "source": [
    "# Display above results With column name remapping to (l,m) labels only\n",
    "\n",
    "# With Pandas functionality\n",
    "data.paramsSummaryComp.rename(columns=data.lmmu['lmMap'])\n",
    "\n",
    "# With utility method\n",
    "# summaryRenamed = pemtk.fit._util.renameParams(data.paramsSummaryComp, data.lmmu['lmMap']) \n",
    "# summaryRenamed"
   ]
  },
  {
   "cell_type": "code",
   "execution_count": null,
   "id": "335235a3-de9f-4821-86c7-818b707547af",
   "metadata": {
    "tags": []
   },
   "outputs": [],
   "source": [
    "# Plot values vs. reference cases\n",
    "# NOTE - experimental code, not yet consolidated and wrapped in PEMtk\n",
    "\n",
    "paramType = 'm'\n",
    "\n",
    "# Set new DataFrame including \"vary\" info (missing in default case)\n",
    "pDict = 'dfWideTest'\n",
    "# Try using existing function with extra index set...\n",
    "data._setWide(indexDims = ['Fit','Type','chisqrGroup','redchiGroup','batch', 'vary'], dataWide='dfWideTest')\n",
    "\n",
    "# WITH lmMAP remap - good if (l,m) are unique labels\n",
    "plotData = data.paramPlot(dataDict = pDict, selectors={'vary':True, 'Type':paramType, 'redchiGroup':selGroup}, hue = 'chisqr', \n",
    "                          backend='hv', hvType='violin', returnFlag = True, plotScatter=True, hRound=hRound, remap='lmMap') \n",
    "\n",
    "# NO REMAP CASE\n",
    "# plotData = data.paramPlot(dataDict = pDict, selectors={'vary':True, 'Type':paramType, 'redchiGroup':selGroup}, hue = 'chisqr', \n",
    "#                           backend='hv', hvType='violin', returnFlag = True, plotScatter=True, hRound=hRound)  #, remap='lmMap') \n",
    "\n",
    "p1 = data.data['plots']['paramPlot']\n",
    "# p2 = dataTestSub.hvplot.scatter(x='Param',y='value', marker='o', size=200, color='green')\n",
    "\n",
    "# Plot ref params... CURRENTLY NOT IN paraPlot(), and that also expects fit data so can't reuse directly here.\n",
    "\n",
    "dataTest = data.data['fits']['dfRef'].copy()\n",
    "# data.paramPlot(dataDict = 'dfRef')\n",
    "\n",
    "# Set axis remap\n",
    "# dataTest.replace({'Param':data.lmmu['lmMap']}, inplace=True)\n",
    "\n",
    "# Subset\n",
    "dataTestSub = data._subsetFromXS(selectors = {'Type':paramType}, data = dataTest)  \n",
    "p2 = dataTestSub.hvplot.scatter(x='Param',y='value', marker='dash', size=500, color='red')\n",
    "\n",
    "# p1+p2   # Overlays fail with \"NotImplementedError: Iteration on Elements is not supported.\" Issue with plot types? FIXED - issues was non-plot return from paramPlot()!\n",
    "p1*p2"
   ]
  },
  {
   "cell_type": "markdown",
   "id": "39e13ac5-bce9-4b0e-a023-cd5202b305e1",
   "metadata": {},
   "source": [
    "## Using the reconstructed matrix elements\n",
    "\n",
    "The results tables are accessible directly, and there are also methods to reformat the best fit results for use in further calculations."
   ]
  },
  {
   "cell_type": "code",
   "execution_count": null,
   "id": "202f1601-671f-4256-a286-acbe04618f79",
   "metadata": {
    "tags": []
   },
   "outputs": [],
   "source": [
    "# self.paramsSummary contains the results above as Pandas Dataframe, usual Pandas methods can be applied.\n",
    "data.paramsSummary['data'].describe()"
   ]
  },
  {
   "cell_type": "code",
   "execution_count": null,
   "id": "873f66ee-c8cd-4d46-967d-73f57a1d7e38",
   "metadata": {
    "tags": []
   },
   "outputs": [],
   "source": [
    "# To set matrix elements from aggregate fit results, use `seetAggMatE` for Pandas\n",
    "data.setAggMatE(simpleForm = True)\n",
    "data.data['agg']['matEpd']"
   ]
  },
  {
   "cell_type": "code",
   "execution_count": null,
   "id": "eff2e8a8-04ae-4491-8126-febad7ea79f8",
   "metadata": {
    "tags": []
   },
   "outputs": [],
   "source": [
    "# To set matrix elements from aggregate fit results, use `aggToXR` for Xarray\n",
    "# data.aggToXR(refKey = 'orb5', returnType = 'ds', conformDims=True)   # use full ref dataset\n",
    "data.aggToXR(refKey = 'subset', returnType = 'ds', conformDims=True)   # Subselected matE"
   ]
  },
  {
   "cell_type": "code",
   "execution_count": null,
   "id": "dbcfec6e-6a8c-494c-a080-f0d4e1e72a00",
   "metadata": {
    "tags": []
   },
   "outputs": [],
   "source": [
    "data.data['agg']['matE']"
   ]
  },
  {
   "cell_type": "markdown",
   "id": "dad1c9a9-9c4d-4329-803a-611f0c19454c",
   "metadata": {},
   "source": [
    "### Density matrices\n",
    "\n",
    "New (experimental) code for density matrix plots and comparison. See {numref}`Sect. %s <sec:density-mat-basic>` for discussion. Code adapted from the {{ PEMtk_docs }} [MF reconstruction page](https://pemtk.readthedocs.io/en/latest/topical_review_case_study/matrix_element_extraction_MFrecon_PEMtk_180722-dist.html#Density-matrix-plottinghttps://pemtk.readthedocs.io/en/latest/topical_review_case_study/matrix_element_extraction_MFrecon_PEMtk_180722-dist.html#Density-matrix-plotting), original analysis for Ref. {cite}`hockett2023TopicalReviewExtracting`, illustrating the $N_2$ case. If the reconstruction is good, the differences (fidelity) should be on the order of the experimental noise level/reconstruction uncertainty, around 10% in the case studies herein; in general the values and patterns of the matrices can also indicate aspects of the retrieval that worked well, or areas where values are poorly defined/recovered from the given dataset."
   ]
  },
  {
   "cell_type": "code",
   "execution_count": null,
   "id": "d5580ced-a860-4cd9-b25c-6a1d1dc77742",
   "metadata": {
    "tags": [
     "hide-cell"
    ]
   },
   "outputs": [],
   "source": [
    "# Define phase function to test unsigned phases only\n",
    "def unsignedPhase(da):\n",
    "    \"\"\"Convert to unsigned phases.\"\"\"\n",
    "    # Set mag, phase\n",
    "    mag = da.pipe(np.abs)\n",
    "    phase = da.pipe(np.angle)  # Returns np array only!\n",
    "    \n",
    "    # Set unsigned\n",
    "    magUS = mag.pipe(np.abs)\n",
    "#     phaseUS = phase.pipe(np.abs)  \n",
    "    phaseUS = np.abs(phase)\n",
    "    \n",
    "    # Set complex\n",
    "    compFixed = magUS * np.exp(1j* phaseUS)\n",
    "#     return mag,phase\n",
    "    return compFixed"
   ]
  },
  {
   "cell_type": "code",
   "execution_count": null,
   "id": "29d34b8f-8f73-445f-853b-d94238c62ae3",
   "metadata": {
    "tags": [
     "hide-cell"
    ]
   },
   "outputs": [],
   "source": [
    "# Compute density matrices for retrieved and reference cases, and compare\n",
    "# v2 - as v1, but differences for unsigned phase case & fix labels\n",
    "# 26/07/22: messy but working. Some labelling tricks to push back into matPlot() routine\n",
    "\n",
    "# Import routines\n",
    "from epsproc.calc import density\n",
    "\n",
    "# Compose density matrix\n",
    "\n",
    "# Set dimensions/state vector/representation\n",
    "# These must be in original data, but will be restacked as necessary to define the effective basis space.\n",
    "denDims = ['LM', 'mu']\n",
    "selDims = {'Type':'L'}\n",
    "pTypes=['r','i']\n",
    "thres = 1e-2    # 0.2 # Threshold out l>3 terms if using full 'orb5' set.\n",
    "normME = False\n",
    "normDen = 'max'\n",
    "usPhase = True # Use unsigned phases?\n",
    "\n",
    "# Calculate - Ref case\n",
    "# matE = data.data['subset']['matE']\n",
    "# Set data from master class\n",
    "# k = 'orb5'  # N2 orb5 (SG) dataset\n",
    "k = 'subset'\n",
    "matE = data.data[k]['matE']\n",
    "if normME:\n",
    "    matE = matE/matE.max()\n",
    "\n",
    "if usPhase:\n",
    "    matE = unsignedPhase(matE)\n",
    "    \n",
    "daOut, *_ = density.densityCalc(matE, denDims = denDims, selDims = selDims, thres = thres)  # OK\n",
    "\n",
    "if normDen=='max':\n",
    "    daOut = daOut/daOut.max()\n",
    "elif normDen=='trace':\n",
    "    daOut = daOut/(daOut.sum('Sym').pipe(np.trace)**2)  # Need sym sum here to get 2D trace\n",
    "    \n",
    "# daPlot = density.matPlot(daOut.sum('Sym'))\n",
    "daPlot = density.matPlot(daOut.sum('Sym'), pTypes=pTypes)\n",
    "\n",
    "# Retrieved\n",
    "matE = data.data['agg']['matE']['compC']\n",
    "selDims = {'Type':'compC'}  # For stacked DS case need to set selDims again here to avoid null data selection below.\n",
    "if normME:\n",
    "    matE = matE/matE.max()\n",
    "    \n",
    "if usPhase:\n",
    "    matE = unsignedPhase(matE)\n",
    "    \n",
    "daOut2, *_ = density.densityCalc(matE, denDims = denDims, selDims = selDims, thres = thres)  # OK\n",
    "\n",
    "if normDen=='max':\n",
    "    daOut2 = daOut2/daOut2.max()\n",
    "elif normDen=='trace':\n",
    "    daOut2 = daOut2/(daOut2.sum('Sym').pipe(np.trace)**2)\n",
    "    \n",
    "daPlot2 = density.matPlot(daOut2.sum('Sym'), pTypes=pTypes)   #.sel(Eke=slice(0.5,1.5,1)))\n",
    "\n",
    "\n",
    "# Compute difference\n",
    "if usPhase:\n",
    "    daDiff = unsignedPhase(daOut.sum('Sym')) - unsignedPhase(daOut2.sum('Sym'))\n",
    "\n",
    "else:\n",
    "    daDiff = daOut.sum('Sym') - daOut2.sum('Sym')\n",
    "\n",
    "daDiff.name = 'Difference'\n",
    "daPlotDiff = density.matPlot(daDiff, pTypes=pTypes)\n",
    "\n",
    "\n",
    "\n",
    "#******** Plot\n",
    "daLayout = (daPlot.redim(pType='Component').layout('Component').relabel('(a) Reference density matrix (unsigned phases)') + daPlot2.opts(show_title=False).layout('pType').opts(show_title=True).relabel('(b) Reconstructed') + \n",
    "                daPlotDiff.opts(show_title=False).layout('pType').opts(show_title=True).relabel('(c) Difference')).cols(1)  \n",
    "daLayout.opts(ep.plot.hvPlotters.opts.HeatMap(width=300, frame_width=300, aspect='square', tools=['hover'], colorbar=True, cmap='coolwarm'))  # .opts(show_title=False)  # .opts(title=\"Custom Title\")  #OK\n",
    "\n",
    "\n",
    "\n",
    "# Notes on titles... see https://holoviews.org/user_guide/Customizing_Plots.html\n",
    "#\n",
    "# .relabel('Test') and .opts(title=\"Custom Title\") OK for whole row titles\n",
    "#\n",
    "# daPlot2.opts(show_title=False).layout('pType').opts(show_title=True).relabel('Recon')  Turns off titles per plot, then titles layout\n",
    "#\n",
    "# .redim() to modify individual plot group label (from dimension name) \n",
    "\n",
    "\n",
    "# Glue figure for later - real part only in this case\n",
    "# Also clean up axis labels from default state labels ('LM' and 'LM_p' in this case).\n",
    "glue(\"N2-densityComp\", daLayout)"
   ]
  },
  {
   "cell_type": "markdown",
   "id": "c84617fa-8e2b-4a6a-9f84-a0bd53496ea1",
   "metadata": {},
   "source": [
    "```{glue:figure} N2-densityComp\n",
    "---\n",
    "name: \"fig-N2-densityComp\"\n",
    "---\n",
    "Density matrix comparison - rows show (a) reference case (with signs of phases removed), (b) reconstructed case, (c) differences. Columns are (left) imaginary component, (right) real component. If the reconstruction is good, the differences (fidelity) should be on the order of the experimental noise level/reconstruction uncertainty, around 10% in the case studies herein.\n",
    "```"
   ]
  },
  {
   "cell_type": "markdown",
   "id": "6d82df0e-cfd3-4e48-83c0-58201abbb2be",
   "metadata": {
    "tags": [
     "hide-output"
    ]
   },
   "source": [
    "### Plot MF PADs\n",
    "\n",
    "Routines as per https://pemtk.readthedocs.io/en/latest/topical_review_case_study/MFPAD_replotting_from_file_190722-dist.html - currently not working. Seems to be some difference in dim stacking/assignment now...? Might be Python/Xarray version change, or PEMtk/ePSproc implementation."
   ]
  },
  {
   "cell_type": "code",
   "execution_count": null,
   "id": "d14e3bed-f39d-486c-86ef-230ca75aebb2",
   "metadata": {
    "tags": [
     "hide-cell"
    ]
   },
   "outputs": [],
   "source": [
    "dataIn = data.data['agg']['matE'].copy()\n",
    "\n",
    "# Restack for MFPAD calculation and plotter\n",
    "# Single Eke dim case\n",
    "\n",
    "# Create empty ePSbase class instance, and set data\n",
    "# Can then use existing  padPlot() routine for all data\n",
    "from epsproc.classes.base import ePSbase\n",
    "dataTest = ePSbase(verbose = 1)\n",
    "\n",
    "aList = [i for i in dataIn.data_vars]  # List of arrays\n",
    "\n",
    "# Loop version & propagate attrs\n",
    "dataType = 'matE'\n",
    "for item in aList:\n",
    "    if item.startswith('sub'):\n",
    "        dataTest.data[item] = {dataType : dataIn[item]}\n",
    "    else:\n",
    "        selType = item\n",
    "        dataTest.data[item] = {dataType : dataIn[item].sel({'Type':selType})}\n",
    "        \n",
    "    # Push singleton Eke value to dim for plotter\n",
    "    dataTest.data[item][dataType] = dataTest.data[item][dataType].expand_dims('Eke')"
   ]
  },
  {
   "cell_type": "code",
   "execution_count": null,
   "id": "1b1cca2b-dfda-498a-af52-23095694df66",
   "metadata": {
    "tags": [
     "hide-output"
    ]
   },
   "outputs": [],
   "source": [
    "# Compute MFPADs for a range of cases\n",
    "\n",
    "# Set Euler angs to include diagonal pol case\n",
    "pRot = [0, 0, np.pi/2, 0]\n",
    "tRot = [0, np.pi/2, np.pi/2, np.pi/4]\n",
    "cRot = [0, 0, 0, 0]\n",
    "labels = ['z','x','y', 'd']\n",
    "eulerAngs = np.array([labels, pRot, tRot, cRot]).T   # List form to use later, rows per set of angles\n",
    "\n",
    "# Should also use MFBLM function below instead of numeric version?\n",
    "# Numeric version is handy for direct surface and difference case.\n",
    "R = ep.setPolGeoms(eulerAngs = eulerAngs)\n",
    "\n",
    "# Comparison and diff\n",
    "pKey = [i for i in dataIn.data_vars if i!='comp']  # List of arrays\n",
    "dataTest.mfpadNumeric(keys=pKey, R = R)   # Compute MFPADs for each set of matrix elements using numerical routine\n",
    "\n",
    "dataTest.data['diff'] = {'TX': dataTest.data['subset']['TX'].sum('Sym')-dataTest.data['compC']['TX'].sum('Sym')}  # Add sum over sym to force matching dims\n",
    "pKey.extend(['diff'])\n",
    "\n",
    "# Plot - all cases\n",
    "# Now run in separate cells below for more stable output\n",
    "# Erange=[1,2,1]  # Set for a range of Ekes\n",
    "# Eplot = {'Eke':data.selOpts['matE']['inds']['Eke']}  # Plot for selected Eke (as used for fitting)\n",
    "# print(f\"\\n*** Plotting for keys = {pKey}, one per row ***\\n\")  # Note plot labels could do with some work!\n",
    "# dataTest.padPlot(keys=pKey, Erange=Erange, backend='pl',returnFlag=True, plotFlag=True) # Generate plotly polar surf plots for each dataset\n",
    "\n",
    "# Change default plotting config, and then plot in separate cells below\n",
    "ep.plot.hvPlotters.setPlotters(width=1000, height=500)"
   ]
  },
  {
   "cell_type": "code",
   "execution_count": null,
   "id": "13e4a62d-af24-4347-8c8b-b6ade0fe1bd5",
   "metadata": {
    "tags": [
     "hide-output"
    ]
   },
   "outputs": [],
   "source": [
    "# Plot results from reconstructed matE\n",
    "pKey = 'compC'\n",
    "print(f\"\\n*** Plotting for keys = {pKey} ***\\n\")  # Note plot labels could do with some work!\n",
    "# dataTest.padPlot(keys=pKey, Erange=Erange, backend='pl',returnFlag=True, plotFlag=True) # Generate plotly polar surf plots for each dataset\n",
    "Eplot = {'Eke':data.selOpts['matE']['inds']['Eke']}  # Plot for selected Eke (as used for fitting)\n",
    "dataTest.padPlot(keys=pKey, selDims=Eplot, backend='pl',returnFlag=True, plotFlag=True) # Generate plotly polar surf plots for each dataset\n",
    "\n",
    "# And GLUE for display later with caption\n",
    "figObj = dataTest.data[pKey]['plots']['TX']['polar'][0]\n",
    "glue(\"N2-compC\", figObj)"
   ]
  },
  {
   "cell_type": "markdown",
   "id": "dc2c2e49-e466-4174-9c39-3b41dfb19001",
   "metadata": {},
   "source": [
    "```{glue:figure} N2-compC\n",
    "---\n",
    "name: \"fig-N2-compC\"\n",
    "---\n",
    "{{ MF }}-{{ PADs }} computed from retrieved matrix elements for $(x,y,z,d)$ polarization geometries, where $d$ is the \"diagonal\" case with the polarization axis as 45 degrees to the $z$-axis.\n",
    "```"
   ]
  },
  {
   "cell_type": "code",
   "execution_count": null,
   "id": "fd8f3d34-6053-4d25-8dde-238142f04244",
   "metadata": {
    "tags": [
     "hide-output"
    ]
   },
   "outputs": [],
   "source": [
    "# Plot results from reference matE\n",
    "pKey = 'subset'\n",
    "print(f\"\\n*** Plotting for keys = {pKey} ***\\n\")  # Note plot labels could do with some work!\n",
    "# dataTest.padPlot(keys=pKey, Erange=Erange, backend='pl',returnFlag=True, plotFlag=True) # Generate plotly polar surf plots for each dataset\n",
    "Eplot = {'Eke':data.selOpts['matE']['inds']['Eke']}  # Plot for selected Eke (as used for fitting)\n",
    "dataTest.padPlot(keys=pKey, selDims=Eplot, backend='pl',returnFlag=True, plotFlag=True) # Generate plotly polar surf plots for each dataset\n",
    "\n",
    "# And GLUE for display later with caption\n",
    "figObj = dataTest.data[pKey]['plots']['TX']['polar'][0]\n",
    "glue(\"N2-ref\", figObj)"
   ]
  },
  {
   "cell_type": "markdown",
   "id": "b6834e2f-301e-4655-92c3-a4fdcaffb9b5",
   "metadata": {},
   "source": [
    "```{glue:figure} N2-ref\n",
    "---\n",
    "name: \"fig-N2-ref\"\n",
    "---\n",
    "{{ MF }}-{{ PADs }} computed from reference _ab initio_ matrix elements for $(x,y,z,d)$ polarization geometries, where $d$ is the \"diagonal\" case with the polarization axis as 45 degrees to the $z$-axis.\n",
    "```"
   ]
  },
  {
   "cell_type": "code",
   "execution_count": null,
   "id": "1b59a480-253d-49e0-9f80-89257432f987",
   "metadata": {
    "tags": [
     "hide-output"
    ]
   },
   "outputs": [],
   "source": [
    "# Plot normalised differences\n",
    "pKey = 'diff'\n",
    "print(f\"\\n*** Plotting for keys = {pKey} ***\\n\")  # Note plot labels could do with some work!\n",
    "# dataTest.padPlot(keys=pKey, Erange=Erange, backend='pl',returnFlag=True, plotFlag=True) # Generate plotly polar surf plots for each dataset\n",
    "Eplot = {'Eke':data.selOpts['matE']['inds']['Eke']}  # Plot for selected Eke (as used for fitting)\n",
    "dataTest.padPlot(keys=pKey, selDims=Eplot, backend='pl',returnFlag=True, plotFlag=True) # Generate plotly polar surf plots for each dataset\n",
    "\n",
    "# And GLUE for display later with caption\n",
    "figObj = dataTest.data[pKey]['plots']['TX']['polar'][0]\n",
    "glue(\"N2-diff\", figObj)"
   ]
  },
  {
   "cell_type": "markdown",
   "id": "8d1d6a45-d45b-4345-a556-adbfba442a60",
   "metadata": {},
   "source": [
    "```{glue:figure} N2-diff\n",
    "---\n",
    "name: \"fig-N2-diff\"\n",
    "---\n",
    "{{ MF }}-{{ PADs }} differences between retrieved and reference cases for $(x,y,z,d)$ polarization geometries, where $d$ is the \"diagonal\" case with the polarization axis as 45 degrees to the $z$-axis. Note diffs are normalised to emphasize the shape, but not mangnitudes, of the differences - see the density matrix comparisons for a more rigourous fidelity analysis.\n",
    "```"
   ]
  },
  {
   "cell_type": "code",
   "execution_count": null,
   "id": "378ebf21-34f8-45ac-abc9-98fb8a218ca6",
   "metadata": {
    "tags": [
     "hide-cell"
    ]
   },
   "outputs": [],
   "source": [
    "# Check max differences (abs values)\n",
    "maxDiff = dataTest.data['diff']['plots']['TX']['pData'].max(dim=['Theta','Phi'])   #.sum(['Theta','Phi']).max()   #.max(dim='Eke')\n",
    "maxDiff.to_pandas()"
   ]
  },
  {
   "cell_type": "code",
   "execution_count": null,
   "id": "ecb4ea44-fdef-40ff-9852-6878909e760c",
   "metadata": {
    "tags": [
     "hide-cell"
    ]
   },
   "outputs": [],
   "source": [
    "# Check case without phase correction too - this should indicate poor agreement in general\n",
    "pKey = 'comp'\n",
    "dataTest.mfpadNumeric(keys=pKey, R = R) \n",
    "dataTest.padPlot(keys=pKey, selDims=Eplot, backend='pl',returnFlag=True, plotFlag=True) # Generate plotly polar surf plots for each dataset"
   ]
  },
  {
   "cell_type": "markdown",
   "id": "c3e62925-7896-4a2f-952f-901f5828778d",
   "metadata": {
    "tags": [
     "remove-cell"
    ]
   },
   "source": [
    "# SCRATCH"
   ]
  },
  {
   "cell_type": "code",
   "execution_count": null,
   "id": "17a097da-b955-4fb0-b17a-bccb8d818fd7",
   "metadata": {
    "tags": [
     "remove-cell"
    ]
   },
   "outputs": [],
   "source": [
    "# Debug paths - having issues with N2 data?\n",
    "list(dataPath.expanduser().glob('*.pickle'))"
   ]
  },
  {
   "cell_type": "code",
   "execution_count": null,
   "id": "94e9a9ac-6351-4376-afe5-b11d7d19f706",
   "metadata": {
    "tags": [
     "remove-cell"
    ]
   },
   "outputs": [],
   "source": [
    "list(dataPath.expanduser().glob('*'))"
   ]
  },
  {
   "cell_type": "code",
   "execution_count": null,
   "id": "792fbf62-4f88-48a1-b0d2-e84cdb786b8e",
   "metadata": {
    "tags": [
     "remove-cell"
    ]
   },
   "outputs": [],
   "source": [
    "data.selOpts\n",
    "{k:v for k,v in data.selOpts['matE']['inds'].items() if k=='Eke'}\n",
    "Epoint = {k:v for k,v in data.selOpts['matE']['inds'].items() if k=='Eke'}\n",
    "# {k:v for k,v in data.selOpts['matE']['inds'].items()}"
   ]
  },
  {
   "cell_type": "code",
   "execution_count": null,
   "id": "077ed5d4-9a60-452c-ba53-be00ab37a714",
   "metadata": {
    "tags": [
     "hide-output",
     "remove-cell"
    ]
   },
   "outputs": [],
   "source": [
    "# dataIn = data.data['agg']['matE'].copy()\n",
    "\n",
    "# # # Restack for MFPAD plotter\n",
    "# # from epsproc.util.listFuncs import dataTypesList\n",
    "\n",
    "# # refDims = dataTypesList()\n",
    "# # refDims = refDims['matE']['def']\n",
    "# # dataStacked = dataIn.stack(refDims(sType='sDict'))\n",
    "# # dataStacked\n",
    "\n",
    "# # # Style 1: if full ref dataset included (with Eke dim)\n",
    "# # # Create empty ePSbase class instance, and set data\n",
    "# # # Can then use existing  padPlot() routine for all data\n",
    "# # from epsproc.classes.base import ePSbase\n",
    "# # dataTest = ePSbase(verbose = 1)\n",
    "\n",
    "# # aList = [i for i in dataIn.data_vars]  # List of arrays\n",
    "\n",
    "# # # Loop version & propagate attrs\n",
    "# # dataType = 'matE'\n",
    "# # for item in aList:\n",
    "# #     if item.startswith('orb'):\n",
    "# #         selType='L'\n",
    "# #     else:\n",
    "# #         selType = item\n",
    "        \n",
    "# #     dataTest.data[item] = {dataType : dataIn[item].sel({'Type':selType})}\n",
    "\n",
    "# # Style 2: single Eke dim case\n",
    "# # Create empty ePSbase class instance, and set data\n",
    "# # Can then use existing  padPlot() routine for all data\n",
    "# from epsproc.classes.base import ePSbase\n",
    "# dataTest = ePSbase(verbose = 1)\n",
    "\n",
    "# aList = [i for i in dataIn.data_vars]  # List of arrays\n",
    "\n",
    "# # Loop version & propagate attrs\n",
    "# dataType = 'matE'\n",
    "# for item in aList:\n",
    "#     if item.startswith('sub'):\n",
    "#         dataTest.data[item] = {dataType : dataIn[item]}\n",
    "#     else:\n",
    "#         selType = item\n",
    "#         dataTest.data[item] = {dataType : dataIn[item].sel({'Type':selType})}\n",
    "        \n",
    "#     # Push singleton Eke value to dim for plotter\n",
    "#     dataTest.data[item][dataType] = dataTest.data[item][dataType].expand_dims('Eke')\n",
    "    "
   ]
  },
  {
   "cell_type": "code",
   "execution_count": null,
   "id": "bdc1c0ee-ae39-4b93-99cd-2f31e1c3e3b8",
   "metadata": {
    "tags": [
     "remove-cell"
    ]
   },
   "outputs": [],
   "source": [
    "aList"
   ]
  },
  {
   "cell_type": "code",
   "execution_count": null,
   "id": "4f16b0fa-17fe-401f-b95c-9f5ba0689832",
   "metadata": {
    "tags": [
     "hide-output",
     "remove-cell"
    ]
   },
   "outputs": [],
   "source": [
    "# Compute MFPADs for a range of cases\n",
    "\n",
    "# Set Euler angs to include diagonal pol case\n",
    "pRot = [0, 0, np.pi/2, 0]\n",
    "tRot = [0, np.pi/2, np.pi/2, np.pi/4]\n",
    "cRot = [0, 0, 0, 0]\n",
    "labels = ['z','x','y', 'd']\n",
    "eulerAngs = np.array([labels, pRot, tRot, cRot]).T   # List form to use later, rows per set of angles\n",
    "\n",
    "\n",
    "# Should also use MFBLM function below instead of numeric version?\n",
    "# Numeric version is handy for direct surface and difference case.\n",
    "R = ep.setPolGeoms(eulerAngs = eulerAngs)\n",
    "# R\n",
    "\n",
    "# Basic version - working, but get separate plots per set.\n",
    "# UPDATE: use this to generate all raw figures, then restack plotly objects below\n",
    "\n",
    "Erange=[1,2,1]  # Set for a single E-point\n",
    "\n",
    "# Comparison and diff\n",
    "pKey = [i for i in dataIn.data_vars if i!='comp']  # List of arrays\n",
    "dataTest.mfpadNumeric(keys=pKey, R = R)   # Compute MFPADs for each set of matrix elements using numerical routine\n",
    "# ep.mfpad\n",
    "\n",
    "dataTest.data['diff'] = {'TX': dataTest.data['subset']['TX'].sum('Sym')-dataTest.data['compC']['TX'].sum('Sym')}  # Add sum over sym to force matching dims\n",
    "pKey.extend(['diff'])\n",
    "\n",
    "# Plot - all cases\n",
    "# Now run in separate cells below for more stable output\n",
    "# print(f\"\\n*** Plotting for keys = {pKey}, one per row ***\\n\")  # Note plot labels could do with some work!\n",
    "# dataTest.padPlot(keys=pKey, Erange=Erange, backend='pl',returnFlag=True, plotFlag=True) # Generate plotly polar surf plots for each dataset"
   ]
  },
  {
   "cell_type": "code",
   "execution_count": null,
   "id": "9b1beb23-3dbd-4632-96a7-277766f2098e",
   "metadata": {
    "tags": [
     "remove-cell"
    ]
   },
   "outputs": [],
   "source": [
    "dataTest"
   ]
  },
  {
   "cell_type": "code",
   "execution_count": null,
   "id": "bffe54d4-b9f7-47a8-9a60-424526b9d637",
   "metadata": {
    "tags": [
     "remove-cell"
    ]
   },
   "outputs": [],
   "source": [
    "# Plot fit restults"
   ]
  },
  {
   "cell_type": "code",
   "execution_count": null,
   "id": "d6ee061c-0ca7-4b3c-9f6c-48bd619ed5da",
   "metadata": {
    "tags": [
     "remove-cell"
    ]
   },
   "outputs": [],
   "source": [
    "# SKIP THIS - output very slow!\n",
    "# TODO: fix plot labelling above.\n",
    "\n",
    "# Version for unified plotting - stack individual plots to grid\n",
    "# See https://plotly.com/python/subplots\n",
    "# And https://plot.ly/python/3d-subplots\n",
    "\n",
    "saveFigs = True\n",
    "from datetime import datetime as dt\n",
    "timeString = dt.now()\n",
    "\n",
    "import plotly.graph_objects as go\n",
    "from plotly.subplots import make_subplots\n",
    "\n",
    "#*** Set gridding\n",
    "# rc = [int(np.ceil(rc[0])), int(np.ceil(rc[1]))]\n",
    "rc=[4,4]  # All data\n",
    "# rc=[2,2]  # Test set\n",
    "showscale = False\n",
    "\n",
    "#*** Set data norms\n",
    "# norm = None #\n",
    "norm = 'global'\n",
    "\n",
    "Rmax = 1.1\n",
    "padding = 0.1\n",
    "aRanges = dict(range=[-(Rmax + padding), Rmax+padding])\n",
    "aspect = 'cube' # 'auto' # 'cube'   # 'auto' with no ranges is pretty good, or set ranges & use cube (otherwise get distorted shapes)\n",
    "\n",
    "#*** Set camera\n",
    "# Camera settings, https://plotly.com/python/3d-camera-controls/\n",
    "# camera = dict(eye=dict(x=2, y=2, z=0.1))\n",
    "\n",
    "# Defaults\n",
    "# Default parameters which are used when `layout.scene.camera` is not provided\n",
    "# camera = dict(\n",
    "#     up=dict(x=0, y=0, z=1),\n",
    "#     center=dict(x=0, y=0, z=0),\n",
    "#     eye=dict(x=1.25, y=1.25, z=1.25)\n",
    "# )\n",
    "\n",
    "# Slightly lower... plus x-rotation\n",
    "camera = dict(\n",
    "    up=dict(x=0, y=0, z=1),\n",
    "    center=dict(x=0, y=0, z=0),\n",
    "    # eye=dict(x=0.8, y=1.25, z=0.8)  # Not bad... bit close?\n",
    "    eye=dict(x=0.8, y=1.5, z=0.8)\n",
    ")\n",
    "\n",
    "\n",
    "#*** Set subplots\n",
    "pType = {'type':'surface'}\n",
    "specs = [[pType] * rc[1] for i in range(rc[0])]  # Set specs as 2D list of dicts.\n",
    "\n",
    "# titles = [f\"{facetDim}: {item.item()}\" for item in dataPlot[facetDim]]\n",
    "titles = []\n",
    "colTitles =  [f'Pol({item.upper()})' for item in dataTest.data['subset']['TX'].Labels.values[0:rc[1]].tolist()]\n",
    "# rowTitles = ['Mean', 'Mean phase-corrected', 'Ref', 'Diff(Ref - PC)']\n",
    "rowTitles = ['Ref', 'Mean phase-corrected', 'Diff(Ref - PC)', 'Mean']\n",
    "\n",
    "# pKey = [pKey[2], pKey[0:1], pKey[3]]  # ['comp', 'compC', 'orb5', 'diff']\n",
    "pKey = ['subset', 'compC', 'diff', 'comp']   # Row ordering\n",
    "\n",
    "fig = make_subplots(rows=rc[0], cols=rc[1], specs=specs, subplot_titles=titles, \n",
    "                    column_titles = colTitles, row_titles = rowTitles,\n",
    "                    vertical_spacing = 0.05) # Note basic row/whitespace control here\n",
    "fig.update_layout(height=1200, width=1200)\n",
    "\n",
    "# Loop & grid from existing objects\n",
    "n=0\n",
    "for rInd in range(1,rc[0]+1):\n",
    "    for cInd in range(1,rc[1]+1):\n",
    "        \n",
    "        # print(f'{rInd},{cInd}')\n",
    "        trace = dataTest.data[pKey[rInd-1]]['plots']['TX']['polar'][0].data[cInd-1]\n",
    "        \n",
    "        fig.add_trace(go.Surface(x=trace['x'], y=trace['y'], z=trace['z'], colorscale='Viridis', showscale=showscale),\n",
    "                    row=rInd, col=cInd)\n",
    "        \n",
    "        # Set string for \"scene\" (axis) object to update - will be labelled scene1, scene2... by Plotly.\n",
    "        n=n+1\n",
    "        sceneN = f'scene{n}'\n",
    "        if norm == 'global':\n",
    "            # Try looping... OK with dict unpacking... huzzah!\n",
    "            # NOTE Scene indexing starts at 1, so do this after n increments\n",
    "            # options = dict(xaxis = aRanges, yaxis = aRanges, zaxis = aRanges, aspectmode='cube')\n",
    "            options = dict(xaxis = aRanges, yaxis = aRanges, zaxis = aRanges, aspectmode=aspect, camera=camera)\n",
    "\n",
    "        else:\n",
    "            # options = dict(aspectmode='cube')\n",
    "            # options = dict(aspectmode='auto')  # Better for scaling up details?\n",
    "            options = dict(aspectmode=aspect, camera=camera)\n",
    "\n",
    "        fig.update_layout(**{sceneN:options})  # No effect of aspect here? auto/cube/data/manual\n",
    "\n",
    "\n",
    "# fig.show()   # fig.show() quite slow for multiple surface plots - export & viewing seems better!\n",
    "if saveFigs:\n",
    "    fName = f'dataDump_1000fitTests_multiFit_noise_051021_MFPADs_{timeString.strftime(\"%d%m%y\")}'\n",
    "    fig.write_html(f'{fName}.html')\n",
    "    fig.write_image(f'{fName}.png')"
   ]
  },
  {
   "cell_type": "code",
   "execution_count": null,
   "id": "d7b2c74e-db3a-413e-b4ac-a7c80adb95bb",
   "metadata": {
    "tags": [
     "remove-cell"
    ]
   },
   "outputs": [],
   "source": [
    "# Optional plot in notebook\n",
    "# fig.show()   # Interactive plot - maybe quite slow\n",
    "\n",
    "# Show image\n",
    "Image(f'{fName}.png')"
   ]
  },
  {
   "cell_type": "markdown",
   "id": "6e6def39-2db2-4e9c-93b3-129321a77787",
   "metadata": {
    "tags": [
     "remove-cell"
    ]
   },
   "source": [
    "# SCRATCH"
   ]
  },
  {
   "cell_type": "code",
   "execution_count": null,
   "id": "873eea77-06c2-4c8b-bd0c-29de044932a6",
   "metadata": {
    "tags": [
     "remove-cell"
    ]
   },
   "outputs": [],
   "source": [
    "data.lmmu  #['lmMap']"
   ]
  },
  {
   "cell_type": "code",
   "execution_count": null,
   "id": "f211e19f-58a9-4a12-9286-c66890da1d27",
   "metadata": {
    "tags": [
     "remove-cell"
    ]
   },
   "outputs": [],
   "source": [
    "data.paramsSummaryComp.columns"
   ]
  },
  {
   "cell_type": "code",
   "execution_count": null,
   "id": "683a09fd-25da-48bd-865f-df00d2afe14c",
   "metadata": {
    "tags": []
   },
   "outputs": [],
   "source": [
    "remap = 'lmMap'\n",
    "data.paramsSummaryComp.replace({'Param':data.lmmu[remap]}, inplace=False)"
   ]
  },
  {
   "cell_type": "code",
   "execution_count": null,
   "id": "94d92815-9840-4c3f-8680-c7a420c88685",
   "metadata": {
    "tags": [
     "remove-cell"
    ]
   },
   "outputs": [],
   "source": [
    "data.paramFidelity()"
   ]
  },
  {
   "cell_type": "code",
   "execution_count": null,
   "id": "d9878a6a-c2af-41c9-a50e-f8a19777ef2e",
   "metadata": {},
   "outputs": [],
   "source": []
  }
 ],
 "metadata": {
  "jupytext": {
   "formats": "ipynb,md:myst"
  },
  "kernelspec": {
   "display_name": "Python 3 (ipykernel)",
   "language": "python",
   "name": "python3"
  },
  "language_info": {
   "codemirror_mode": {
    "name": "ipython",
    "version": 3
   },
   "file_extension": ".py",
   "mimetype": "text/x-python",
   "name": "python",
   "nbconvert_exporter": "python",
   "pygments_lexer": "ipython3",
   "version": "3.10.11"
  }
 },
 "nbformat": 4,
 "nbformat_minor": 5
}
