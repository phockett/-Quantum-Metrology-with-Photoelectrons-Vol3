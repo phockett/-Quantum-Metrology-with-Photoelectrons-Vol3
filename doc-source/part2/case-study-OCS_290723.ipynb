{
 "cells": [
  {
   "cell_type": "markdown",
   "id": "83929aa8-774b-4d35-9cb9-837a77b3006e",
   "metadata": {
    "tags": [
     "remove-cell"
    ]
   },
   "source": [
    "- 27/07/23: v1 from existing demo cases plus new dataset.\n",
    "- 28/07/23: complete analysis in place up to MF PAD plotting, this needs some additional work (subselection issues). Tested only with minimal N2 dataset so far.\n",
    "    - UPDATE: Density mat and MF PADs now working.\n",
    "- 29/07/23: OCS chapter from current N2 draft case, still a bit messy. \n",
    "    - Mods to setup cell. Working with OCS script config and dataset 6189229\n",
    "    - NO MODS, but may want to add same again for 1D case?\n",
    "- 30/07/23: Updated to match updated N2 case with better MFPAD outputs and glue()."
   ]
  },
  {
   "cell_type": "markdown",
   "id": "a507925e-ac64-4b05-afd2-cb7a97d19d99",
   "metadata": {},
   "source": [
    "(chpt:ocs-case-study)=\n",
    "# Case study: Generalised bootstrapping for a linear heteronuclear scattering system, $OCS~(C_{\\infty v})$\n",
    "\n",
    "In this chapter, the full code and analysis details of the case study for $OCS$ are given, including obtaining required data, running fits and analysis routines. For more details on the routines, see the {{ PEMtk_docs }}; for the analysis see particularly the [fit fidelity and analysis page](https://pemtk.readthedocs.io/en/latest/fitting/PEMtk_analysis_demo_150621-tidy.html), and [molecular frame analysis data processing page](https://pemtk.readthedocs.io/en/latest/topical_review_case_study/matrix_element_extraction_MFrecon_PEMtk_180722-dist.html) (full analysis for Ref. {cite}`hockett2023TopicalReviewExtracting`, illustrating the $N_2$ case)."
   ]
  },
  {
   "cell_type": "markdown",
   "id": "decb3317-c2d3-4435-9eac-8a162fb8095f",
   "metadata": {},
   "source": [
    "## General setup\n",
    "\n",
    "In the following code cells (see source notebooks for full details) the general setup routines (as per the outline in {numref}`Chpt. %s <sect:basic-fit-setup>` are executed via a configuration script with presets for the case studies herein.\n",
    "\n",
    "Additionally, the routines will either run fits, or load existing data if available. Since fitting can be computationally demanding, it is, in general, recommended to approach large fitting problems carefully."
   ]
  },
  {
   "cell_type": "markdown",
   "id": "e453df84-67b3-48d5-b923-f14318dd9a3d",
   "metadata": {},
   "source": [
    "````{margin}\n",
    "```{admonition} General note on fitting\n",
    "\n",
    "Computational outputs in this chapter are significantly truncated in the PDF, and some simplified plots are used; see source notebooks (via {{ book_repo }}) or {{ book_HTML }} for full details.\n",
    "\n",
    "```\n",
    "````"
   ]
  },
  {
   "cell_type": "code",
   "execution_count": null,
   "id": "37ff1e36-4f5e-45d1-9744-850c387242d5",
   "metadata": {
    "tags": []
   },
   "outputs": [],
   "source": [
    "# Configure settings for case study\n",
    "\n",
    "# Set case study by name\n",
    "fitSystem='OCS'\n",
    "fitStem=f\"fit_withNoise_orb13\"\n",
    "\n",
    "# Add noise?\n",
    "addNoise = 'y'\n",
    "mu, sigma = 0, 0.05  # Up to approx 10% noise (+/- 0.05)\n",
    "\n",
    "# Batching - number of fits to run between data dumps\n",
    "batchSize = 10\n",
    "\n",
    "# Total fits to run\n",
    "nMax = 10"
   ]
  },
  {
   "cell_type": "code",
   "execution_count": null,
   "id": "effe5656-b53b-4e0f-a479-5977e60aa83b",
   "metadata": {
    "tags": [
     "hide-output",
     "hide-cell"
    ]
   },
   "outputs": [],
   "source": [
    "# Run default config - may need to set full path here\n",
    "\n",
    "%run '../scripts/setup_notebook_caseStudies_Mod-300723.py'   # Test version with different figure options.\n",
    "# %run '../scripts/setup_notebook.py'\n",
    "\n",
    "# Set outputs for notebook or PDF (skips Holoviews plots unless glued)\n",
    "# Note this is set to default 'pl' in script above\n",
    "if buildEnv == 'pdf':\n",
    "    paramPlotBackend = 'sns'    # For category plots with paramPlot\n",
    "else:\n",
    "    paramPlotBackend = 'hv'\n",
    "    \n",
    "# plotBackend = 'sns'    # For category plots with paramPlot"
   ]
  },
  {
   "cell_type": "code",
   "execution_count": null,
   "id": "35120d2c-4ad4-404c-ba0e-bc65d25e3e83",
   "metadata": {
    "tags": []
   },
   "outputs": [],
   "source": [
    "# Pull data from web (OCS case)\n",
    "from epsproc.util.io import getFilesFromGithub\n",
    "\n",
    "# Set dataName (will be used as download subdir)\n",
    "dataName = 'OCSfitting'\n",
    "# OCS matrix elements\n",
    "fDictMatE, fAllMatE = getFilesFromGithub(subpath='data/photoionization/OCS_multiorb', dataName=dataName, ref='dev')\n",
    "# OCS alignment data\n",
    "fDictADM, fAllADM = getFilesFromGithub(subpath='data/alignment/OCS_ADMs_28K_VM_070722', dataName=dataName, ref='dev')"
   ]
  },
  {
   "cell_type": "code",
   "execution_count": null,
   "id": "5dcaa083-623e-41b1-9089-c6a1fd4cad1e",
   "metadata": {
    "tags": [
     "hide-output"
    ]
   },
   "outputs": [],
   "source": [
    "# Fitting setup including data generation and parameter creation\n",
    "\n",
    "# Set datapath, \n",
    "dataPath = Path(Path.cwd(),dataName)\n",
    "\n",
    "# Run general config script with dataPath set above\n",
    "%run \"../scripts/setup_fit_case-studies_270723.py\" -d {dataPath} -a {dataPath} -c {fitSystem} -n {addNoise} --sigma {sigma} -a3D 'y'"
   ]
  },
  {
   "cell_type": "markdown",
   "id": "7ee56b96-a4c4-4915-ad05-13b6d85891f7",
   "metadata": {},
   "source": [
    "## Load existing fit data or run fits\n",
    "\n",
    "Note that running fits may be quite time-consuming and computationally intensive, depending on the size of the size of the problem. The default case here will run a small batch for testing if there is no existing data found on the `dataPath`, otherwise the data is loaded for analysis."
   ]
  },
  {
   "cell_type": "code",
   "execution_count": null,
   "id": "0827941f-7b59-490c-85b0-6638d5fdccd0",
   "metadata": {
    "tags": []
   },
   "outputs": [],
   "source": [
    "# Look for existing Pickle files on path\n",
    "dataFiles = list(dataPath.expanduser().glob('*.pickle'))\n",
    "\n",
    "if not dataFiles:\n",
    "    print(\"No data found, executing minimal fitting run...\")\n",
    "    \n",
    "    # Run fit batch - single\n",
    "    # data.multiFit(nRange = [n,n+batchSize-1], num_workers=batchSize)\n",
    "\n",
    "    # Run fit batches with checkpoint files\n",
    "    for n in np.arange(0,nMax,batchSize):\n",
    "        print(f'*** Running batch [{n},{n+batchSize-1}], {dt.now().strftime(\"%d%m%y_%H-%M-%S\")}')\n",
    "\n",
    "        # Run fit batch\n",
    "        data.multiFit(nRange = [n,n+batchSize-1], num_workers=batchSize)\n",
    "\n",
    "        # Dump data so far\n",
    "        data.writeFitData(outStem=f\"{fitSystem}_{n+batchSize-1}_{fitStem}\")\n",
    "        \n",
    "        print(f'Finished batch [{n},{n+batchSize-1}], {dt.now().strftime(\"%d%m%y_%H-%M-%S\")}')\n",
    "        print(f'Written to file {fitSystem}_{n+batchSize-1}_{fitStem}')\n",
    "\n",
    "else:\n",
    "    dataFileIn = dataFiles[-1]   # Add index to select file, although loadFitData will concat multiple files\n",
    "                                    # Note that concat currently only works for fixed batch sizes however.\n",
    "    print(f\"Set dataFiles: {dataFileIn}\")\n",
    "    data.loadFitData(fList=dataFileIn, dataPath=dataPath)   #.expanduser())\n",
    "    \n",
    "    data.BLMfitPlot(keys=['subset','sim'])\n",
    "    \n",
    "    # # Check ADMs\n",
    "    # data.data['subset']['ADM'].unstack().where(data.data['subset']['ADM'].unstack().K>0) \\\n",
    "    #     .real.hvplot.line(x='t').overlay(['K','Q','S'])\n",
    "    "
   ]
  },
  {
   "cell_type": "code",
   "execution_count": null,
   "id": "1d6621e6-9c72-431e-9e2c-bd6aee2db1b7",
   "metadata": {
    "tags": []
   },
   "outputs": [],
   "source": [
    "# Check ADMs\n",
    "# Basic plotter\n",
    "data.ADMplot(keys = 'subset')"
   ]
  },
  {
   "cell_type": "code",
   "execution_count": null,
   "id": "7d700104-60dd-4336-a7ea-23a6eb0b240e",
   "metadata": {
    "tags": [
     "hide-cell"
    ]
   },
   "outputs": [],
   "source": [
    "# Check ADMs\n",
    "# Holoviews\n",
    "data.data['subset']['ADM'].unstack().where(data.data['subset']['ADM'].unstack().K>0) \\\n",
    "    .real.hvplot.line(x='t').overlay(['K','Q','S'])"
   ]
  },
  {
   "cell_type": "code",
   "execution_count": null,
   "id": "5a939761-62db-452b-9d0d-a7e61a27dcf6",
   "metadata": {
    "tags": [
     "hide-output"
    ]
   },
   "outputs": [],
   "source": [
    "# Fits appear as integer indexed items in the main data structure.\n",
    "data.data.keys()"
   ]
  },
  {
   "cell_type": "markdown",
   "id": "d51d9eb3-5b8c-48e6-a259-32f52ec37f8f",
   "metadata": {},
   "source": [
    "## Post-processing and data overview\n",
    "\n",
    "Post-processing involves aggregation of all the fit run results into a single data structure. This can then be analysed statistically and examined for for best-fit results. In the statistical sense, this is essentailly a search for candidate {{ RADMATE }}, based on the assumption that some of the minima found in the $\\chi^2$ hyperspace will be the true results. Even if a clear global minima does not exist, searching for candidate {{ RADMATE }} sets based on clustering of results and multiple local minima is still expected to lead to viable candidates provided that the information content of the dataset is sufficient. However, as discussed elsewhere (see {numref}`Sect. %s <sect:numerics:fitting-strategies>`), in some cases this may not be the case, and other limitations may apply (e.g. certain parameters may be undefined), or additional data required for unique determination of the {{ RADMATE }}.\n",
    "\n",
    "For more details on the analysis routines, see the {{ PEMtk_docs }}, particularly the [fit fidelity and analysis page](https://pemtk.readthedocs.io/en/latest/fitting/PEMtk_analysis_demo_150621-tidy.html), and [molecular frame analysis data processing page](https://pemtk.readthedocs.io/en/latest/topical_review_case_study/matrix_element_extraction_MFrecon_PEMtk_180722-dist.html) (full analysis for Ref. {cite}`hockett2023TopicalReviewExtracting`, illustrating the $N_2$ case)."
   ]
  },
  {
   "cell_type": "code",
   "execution_count": null,
   "id": "c7ff6e6b-d195-49ba-af7a-232cb9f5b756",
   "metadata": {
    "tags": []
   },
   "outputs": [],
   "source": [
    "# General stats & post-processing to data tables\n",
    "data.analyseFits()"
   ]
  },
  {
   "cell_type": "code",
   "execution_count": null,
   "id": "eef03cc1-6699-45e5-bc14-e44deda3e81b",
   "metadata": {
    "tags": [
     "hide-output"
    ]
   },
   "outputs": [],
   "source": [
    "# The BLMsetPlot routine will output aggregate fit results.\n",
    "# Here the spread can be taken as a general indication of the uncertainty of \n",
    "# the fitting, and indicate whether the fit is well-characterised/the information \n",
    "# content of the data is sufficient.\n",
    "data.BLMsetPlot(xDim = 't', thres=1e-6)  # With xDim and thres set, for more control over outputs\n",
    "\n",
    "# Glue plot for later\n",
    "glue(\"OCS-fitResultsBLM\",data.data['plots']['BLMsetPlot'])"
   ]
  },
  {
   "cell_type": "markdown",
   "id": "39ae55a2-34fe-4764-b109-92c86a89efee",
   "metadata": {},
   "source": [
    "```{glue:figure} OCS-fitResultsBLM\n",
    "---\n",
    "name: \"fig-OCS-fitResultsBLM\"\n",
    "---\n",
    "Fit overview plot - {{  BLMt }}. Here dashed lines with '+' markers indicates the input data, and bands indicate the mean fit results, where the width is the standard deviation in the fit model results. (See the {{ PEMtk_docs }} for details, particularly the [analysis routines page](https://pemtk.readthedocs.io/en/latest/fitting/PEMtk_fitting_multiproc_class_analysis_141121-tidy.html#Fit-set-plotters).)\n",
    "```"
   ]
  },
  {
   "cell_type": "code",
   "execution_count": null,
   "id": "aabbc7f4-2587-4021-bf4f-fe7138622444",
   "metadata": {
    "tags": []
   },
   "outputs": [],
   "source": [
    "# Write aggregate datasets to HDF5 format\n",
    "# This is more robust than Pickled data, but PEMtk currently only support output for aggregate (post-processed) fit data.\n",
    "\n",
    "data.processedToHDF5(dataPath = dataPath, outStem = dataFileIn.name, timeStamp=False)"
   ]
  },
  {
   "cell_type": "code",
   "execution_count": null,
   "id": "5a5f2cce-4905-4240-961f-aaefffa51c49",
   "metadata": {
    "tags": []
   },
   "outputs": [],
   "source": [
    "# Histogram fit results (reduced chi^2 vs. fit index)\n",
    "# This may be quite slow for large datasets, setting limited ranges may help\n",
    "\n",
    "# Use default auto binning\n",
    "# data.fitHist()\n",
    "\n",
    "# Example with range set\n",
    "data.fitHist(thres=1.11e-4, bins=100)\n",
    "\n",
    "# Glue plot for later\n",
    "glue(\"OCS-fitHist\",data.data['plots']['fitHistPlot'])"
   ]
  },
  {
   "cell_type": "markdown",
   "id": "0548fbb6-5fab-499d-bd8d-3231dbdcda23",
   "metadata": {},
   "source": [
    "```{glue:figure} OCS-fitHist\n",
    "---\n",
    "name: \"fig-OCS-fitHist\"\n",
    "---\n",
    "Fit overview plot - $\\chi^2$ vs. fit index. Here bands indicate groupings (local minima) are consistently found.\n",
    "```"
   ]
  },
  {
   "cell_type": "markdown",
   "id": "3d23dca1-b145-40bd-9409-0fa22ad1abef",
   "metadata": {},
   "source": [
    "Here, {numref}`fig-OCS-fitResultsBLM` shows an overview of the results compared with the input data, and {numref}`fig-OCS-fitHist` an overview of $\\chi^2$ vs. fit index. Bands in the $\\chi^2$ dimension can indicate groupings (local minima) are consistently found. Assuming each grouping is a viable fit candidate parameter set, these can then be explored in further detail."
   ]
  },
  {
   "cell_type": "markdown",
   "id": "8bc365f8-6015-4ff3-ad45-dd017c444e94",
   "metadata": {
    "tags": []
   },
   "source": [
    "## Data exploration\n",
    "\n",
    "The general aim in this procedure is to ascertain whether there was a good spread of parameters explored, and a single (or few sets) of best-fit results. There are a few procedures and helper methods for this..."
   ]
  },
  {
   "cell_type": "markdown",
   "id": "379f8535-a5a2-493f-93ac-624546609f6d",
   "metadata": {},
   "source": [
    "### View results\n",
    "\n",
    "Single results sets can be viewed in the main data structure, indexed by integers."
   ]
  },
  {
   "cell_type": "code",
   "execution_count": null,
   "id": "9cf82e55-f9ca-42af-8e92-91c92956e689",
   "metadata": {
    "tags": []
   },
   "outputs": [],
   "source": [
    "# Check keys\n",
    "fitNumber = 2\n",
    "data.data[fitNumber].keys()"
   ]
  },
  {
   "cell_type": "markdown",
   "id": "89b0f3f6-87ba-4160-872b-753ef5832fef",
   "metadata": {},
   "source": [
    "Here `results` is an [lmFit object](https://lmfit.github.io/lmfit-py/intro.html), which includes final fit results and information, and `AFBLM` contains the model (fit) output (i.e. resultant AF-$\\beta_{LM}$ values).\n",
    "\n",
    "An example is shown below. Of particular note here is which parameters have `vary=True` - these are included in the fitting - and if there is a column `expression`, which indicates any parameters defined to have specific relationships (see {numref}`Chpt. %s <sect:basis-sets:fitting-intro>`). Any correlations found during fitting are also shown, which can also indicate parameters which are related (even if this is not predefined or known a priori)."
   ]
  },
  {
   "cell_type": "code",
   "execution_count": null,
   "id": "773e3a05-f737-4b46-b8e2-59bcc0150f6f",
   "metadata": {
    "tags": [
     "hide-output"
    ]
   },
   "outputs": [],
   "source": [
    "# Show some results\n",
    "data.data[fitNumber]['results']"
   ]
  },
  {
   "cell_type": "markdown",
   "id": "27d1c271-b4f8-49a5-9bf2-a74fe4f7968b",
   "metadata": {},
   "source": [
    "## Classify candidate sets\n",
    "\n",
    "To probe the minima found, the `classifyFits` method can be used. This bins results into \"candidate\" groups, which can then be examined in detail."
   ]
  },
  {
   "cell_type": "code",
   "execution_count": null,
   "id": "25fc2241-fc7e-4d2d-a15a-3fc87d9e4d39",
   "metadata": {
    "tags": []
   },
   "outputs": [],
   "source": [
    "# Run with defaults\n",
    "# data.classifyFits()\n",
    "\n",
    "# For more control, pass bins\n",
    "# Here the minima is set at one end, and a %age range used for bins\n",
    "minVal = data.fitsSummary['Stats']['redchi']['min']    \n",
    "binRangePC = 1e-5\n",
    "data.classifyFits(bins = [minVal, minVal + binRangePC*minVal , 20])"
   ]
  },
  {
   "cell_type": "markdown",
   "id": "64f9bc5c-1980-4d13-8841-3892473f038b",
   "metadata": {},
   "source": [
    "## Explore candidate result sets\n",
    "\n",
    "Drill-down on a candidate set of results, and examine values and spreads. For more details see {{ PEMtk_docs }}, especially the [analysis routines page](https://pemtk.readthedocs.io/en/latest/fitting/PEMtk_fitting_multiproc_class_analysis_141121-tidy.html). (See also {numref}`Sect. %s <sect:platform:pythonEcosystem>` for details on the plotting libaries implemented here.)"
   ]
  },
  {
   "cell_type": "markdown",
   "id": "0e65c5da-76d9-4909-aa53-6295933d28d4",
   "metadata": {},
   "source": [
    "### Raw results\n",
    "\n",
    "Plot spreads in magnitude and phase parameters. Statistical plots are available for Seaborn and Holoviews backends, with some slightly different options."
   ]
  },
  {
   "cell_type": "code",
   "execution_count": null,
   "id": "3d626ffe-e35a-4260-a03d-ff9024599f33",
   "metadata": {
    "tags": []
   },
   "outputs": [],
   "source": [
    "# From the candidates, select a group for analysis\n",
    "selGroup = 'A'"
   ]
  },
  {
   "cell_type": "code",
   "execution_count": null,
   "id": "b01952f8-5b73-47e2-ab04-ea336a978e43",
   "metadata": {
    "tags": []
   },
   "outputs": [],
   "source": [
    "# paramPlot can be used to check the spread on each parameter.\n",
    "# Plots use Seaborn or Holoviews/Bokeh\n",
    "# Colour-mapping is controlled by the 'hue' paramter, additionally pass hRound for sig. fig control.\n",
    "# The remap setting allows for short-hand labels as set in data.lmmu\n",
    "\n",
    "paramType = 'm' # Set for (m)agnitude or (p)hase parameters\n",
    "hRound = 14 # Set for cmapping, default may be too small (leads to all grey cmap on points)\n",
    "\n",
    "data.paramPlot(selectors={'Type':paramType, 'redchiGroup':selGroup}, hue = 'redchi', \n",
    "               backend=paramPlotBackend, hvType='violin', \n",
    "               returnFlag = True, hRound=hRound, remap = 'lmMap');"
   ]
  },
  {
   "cell_type": "code",
   "execution_count": null,
   "id": "f943ce14-1732-4717-9fc7-4869c0fab3bb",
   "metadata": {
    "tags": []
   },
   "outputs": [],
   "source": [
    "paramType = 'p' # Set for (m)agnitude or (p)hase parameters\n",
    "data.paramPlot(selectors={'Type':paramType, 'redchiGroup':selGroup}, hue = 'redchi', backend=paramPlotBackend, hvType='violin', \n",
    "               returnFlag = True, hRound=hRound, remap = 'lmMap'); "
   ]
  },
  {
   "cell_type": "markdown",
   "id": "ac2bd083-aa73-482f-b395-17b074b45075",
   "metadata": {},
   "source": [
    "### Phases, phase shifts & corrections\n",
    "\n",
    "Depending on how the fit was configured, phases may be defined in different ways. To set the phases relative to a speific parameter, and wrap to a specified range, use the `phaseCorrection()` method. This defaults to using the first parameter as a reference phase, and wraps to $-\\pi:\\pi$. The phase-corrected values are output to a new Type, 'pc', and a set of normalised magnitudes to 'n'. Additional settings can be passed for more control, as shown below."
   ]
  },
  {
   "cell_type": "code",
   "execution_count": null,
   "id": "7ed467f7-368d-411d-996e-2b6f85a72458",
   "metadata": {
    "tags": [
     "hide-output"
    ]
   },
   "outputs": [],
   "source": [
    "# Run phase correction routine\n",
    "# Set absFlag=True for unsigned phases (mapped to 0:pi)\n",
    "# Set useRef=False to set ref phase as 0, otherwise the reference value is set.\n",
    "phaseCorrParams={'absFlag':True, 'useRef':False}\n",
    "data.phaseCorrection(**phaseCorrParams)  "
   ]
  },
  {
   "cell_type": "markdown",
   "id": "5d258595-594c-4ea0-973d-204c62fdf793",
   "metadata": {},
   "source": [
    "Examine new data types..."
   ]
  },
  {
   "cell_type": "code",
   "execution_count": null,
   "id": "07bcf0ab-d196-490b-a851-c351d71201d6",
   "metadata": {
    "tags": []
   },
   "outputs": [],
   "source": [
    "paramType = 'n'\n",
    "data.paramPlot(selectors={'Type':paramType, 'redchiGroup':selGroup}, hue = 'redchi', \n",
    "               backend=paramPlotBackend, hvType='violin', kind='box',\n",
    "               returnFlag = True, hRound=hRound, remap = 'lmMap');"
   ]
  },
  {
   "cell_type": "code",
   "execution_count": null,
   "id": "e30b5836-db52-4cc4-b694-209c07e401ed",
   "metadata": {
    "tags": []
   },
   "outputs": [],
   "source": [
    "paramType = 'pc'\n",
    "data.paramPlot(selectors={'Type':paramType, 'redchiGroup':selGroup}, hue = 'redchi', \n",
    "               backend=paramPlotBackend, hvType='violin', kind='box',\n",
    "               returnFlag = True, hRound=hRound, remap = 'lmMap');"
   ]
  },
  {
   "cell_type": "markdown",
   "id": "789cceed-8a99-4671-a65d-efb787605a67",
   "metadata": {},
   "source": [
    "## Parameter estimation & fidelity\n",
    "\n",
    "For case studies, the fit results can be directly compared to the known input parameters. This should give a feel for how well the data defines the matrix elements (parameters) in this case. In general, probing the correlations and spread of results, and comparing to other (unfitted) results is required to estimate fidelity, see {{ QM12 }} for further discussion."
   ]
  },
  {
   "cell_type": "markdown",
   "id": "84464c82-baf0-4295-980a-e655ee91e702",
   "metadata": {},
   "source": [
    "### Best values and statistics\n",
    "\n",
    "To get a final parameter set and associated statistics, based on a subset of the fit results, the `paramsReport()` method is available. If reference data is available, as for the case studies herein, the `paramsCompare()` method can also be used to compare with the reference case."
   ]
  },
  {
   "cell_type": "code",
   "execution_count": null,
   "id": "b8a90f9f-d91f-4078-a347-13ec43572a06",
   "metadata": {
    "tags": [
     "hide-output"
    ]
   },
   "outputs": [],
   "source": [
    "# Parameter summary\n",
    "data.paramsReport(inds = {'redchiGroup':selGroup})"
   ]
  },
  {
   "cell_type": "code",
   "execution_count": null,
   "id": "67e24d73-212e-461e-9dd7-fd6bf899b822",
   "metadata": {
    "tags": [
     "hide-output"
    ]
   },
   "outputs": [],
   "source": [
    "# Parameter comparison\n",
    "# Note this uses phaseCorrParams as set previously for consistency\n",
    "data.paramsCompare(phaseCorrParams=phaseCorrParams)"
   ]
  },
  {
   "cell_type": "code",
   "execution_count": null,
   "id": "a1be7114-dbda-406e-94eb-c740926fbf6c",
   "metadata": {
    "tags": []
   },
   "outputs": [],
   "source": [
    "# Display above results With column name remapping to (l,m) labels only\n",
    "\n",
    "# With Pandas functionality\n",
    "data.paramsSummaryComp.rename(columns=data.lmmu['lmMap'])\n",
    "\n",
    "# With utility method\n",
    "# summaryRenamed = pemtk.fit._util.renameParams(data.paramsSummaryComp, data.lmmu['lmMap']) \n",
    "# summaryRenamed"
   ]
  },
  {
   "cell_type": "code",
   "execution_count": null,
   "id": "715f0dc4-fcd1-4300-a41b-c78735a10a2f",
   "metadata": {
    "tags": [
     "hide-output",
     "hide-cell"
    ]
   },
   "outputs": [],
   "source": [
    "# Plot values vs. reference cases\n",
    "# NOTE - experimental code, not yet consolidated and wrapped in PEMtk\n",
    "\n",
    "paramType = 'm'\n",
    "\n",
    "# Set new DataFrame including \"vary\" info (missing in default case)\n",
    "pDict = 'dfWideTest'\n",
    "# Try using existing function with extra index set...\n",
    "data._setWide(indexDims = ['Fit','Type','chisqrGroup','redchiGroup','batch', 'vary'], dataWide='dfWideTest')\n",
    "\n",
    "# WITH lmMAP remap - good if (l,m) are unique labels\n",
    "plotData = data.paramPlot(dataDict = pDict, selectors={'vary':True, 'Type':paramType, 'redchiGroup':selGroup}, hue = 'chisqr', \n",
    "                          backend='hv', hvType='violin', returnFlag = True, plotScatter=True, hRound=hRound, remap='lmMap') \n",
    "\n",
    "# NO REMAP CASE\n",
    "# plotData = data.paramPlot(dataDict = pDict, selectors={'vary':True, 'Type':paramType, 'redchiGroup':selGroup}, hue = 'chisqr', \n",
    "#                           backend='hv', hvType='violin', returnFlag = True, plotScatter=True, hRound=hRound)  #, remap='lmMap') \n",
    "\n",
    "p1 = data.data['plots']['paramPlot']\n",
    "\n",
    "# Plot ref params... CURRENTLY NOT IN paraPlot(), and that also expects fit data so can't reuse directly here.\n",
    "\n",
    "dataTest = data.data['fits']['dfRef'].copy()\n",
    "# data.paramPlot(dataDict = 'dfRef')\n",
    "\n",
    "# Set axis remap\n",
    "# dataTest.replace({'Param':data.lmmu['lmMap']}, inplace=True)\n",
    "\n",
    "# Subset\n",
    "dataTestSub = data._subsetFromXS(selectors = {'Type':paramType}, data = dataTest)  \n",
    "p2 = dataTestSub.hvplot.scatter(x='Param',y='value', marker='dash', size=500, color='red')\n",
    "\n",
    "p1*p2"
   ]
  },
  {
   "cell_type": "markdown",
   "id": "39e13ac5-bce9-4b0e-a023-cd5202b305e1",
   "metadata": {},
   "source": [
    "## Using the reconstructed matrix elements\n",
    "\n",
    "The results tables are accessible directly, and there are also methods to reformat the best fit results for use in further calculations."
   ]
  },
  {
   "cell_type": "code",
   "execution_count": null,
   "id": "202f1601-671f-4256-a286-acbe04618f79",
   "metadata": {
    "tags": []
   },
   "outputs": [],
   "source": [
    "# self.paramsSummary contains the results above as Pandas Dataframe, usual Pandas methods can be applied.\n",
    "data.paramsSummary['data'].describe()"
   ]
  },
  {
   "cell_type": "code",
   "execution_count": null,
   "id": "873f66ee-c8cd-4d46-967d-73f57a1d7e38",
   "metadata": {
    "tags": []
   },
   "outputs": [],
   "source": [
    "# To set matrix elements from aggregate fit results, use `seetAggMatE` for Pandas\n",
    "data.setAggMatE(simpleForm = True)\n",
    "data.data['agg']['matEpd']"
   ]
  },
  {
   "cell_type": "code",
   "execution_count": null,
   "id": "eff2e8a8-04ae-4491-8126-febad7ea79f8",
   "metadata": {
    "tags": []
   },
   "outputs": [],
   "source": [
    "# To set matrix elements from aggregate fit results, use `aggToXR` for Xarray\n",
    "# data.aggToXR(refKey = 'orb5', returnType = 'ds', conformDims=True)   # use full ref dataset\n",
    "data.aggToXR(refKey = 'subset', returnType = 'ds', conformDims=True)   # Subselected matE"
   ]
  },
  {
   "cell_type": "code",
   "execution_count": null,
   "id": "dbcfec6e-6a8c-494c-a080-f0d4e1e72a00",
   "metadata": {
    "tags": [
     "hide-cell"
    ]
   },
   "outputs": [],
   "source": [
    "data.data['agg']['matE']"
   ]
  },
  {
   "cell_type": "markdown",
   "id": "b88c4d1a-b711-4d8b-ada0-30617f6badf3",
   "metadata": {},
   "source": [
    "### Density matrices\n",
    "\n",
    "New (experimental) code for density matrix plots and comparison. See {numref}`Sect. %s <sec:density-mat-basic>` for discussion. Code adapted from the {{ PEMtk_docs }} [MF reconstruction page](https://pemtk.readthedocs.io/en/latest/topical_review_case_study/matrix_element_extraction_MFrecon_PEMtk_180722-dist.html#Density-matrix-plotting), original analysis for Ref. {cite}`hockett2023TopicalReviewExtracting`, illustrating the $N_2$ case. If the reconstruction is good, the differences (fidelity) should be on the order of the experimental noise level/reconstruction uncertainty, around 10% in the case studies herein; in general the values and patterns of the matrices can also indicate aspects of the retrieval that worked well, or areas where values are poorly defined/recovered from the given dataset."
   ]
  },
  {
   "cell_type": "code",
   "execution_count": null,
   "id": "b7433c29-5d99-4463-b7a9-6878afa124a3",
   "metadata": {
    "tags": [
     "hide-cell"
    ]
   },
   "outputs": [],
   "source": [
    "# Define phase function to test unsigned phases only\n",
    "def unsignedPhase(da):\n",
    "    \"\"\"Convert to unsigned phases.\"\"\"\n",
    "    # Set mag, phase\n",
    "    mag = da.pipe(np.abs)\n",
    "    phase = da.pipe(np.angle)  # Returns np array only!\n",
    "    \n",
    "    # Set unsigned\n",
    "    magUS = mag.pipe(np.abs)\n",
    "#     phaseUS = phase.pipe(np.abs)  \n",
    "    phaseUS = np.abs(phase)\n",
    "    \n",
    "    # Set complex\n",
    "    compFixed = magUS * np.exp(1j* phaseUS)\n",
    "#     return mag,phase\n",
    "    return compFixed"
   ]
  },
  {
   "cell_type": "code",
   "execution_count": null,
   "id": "fbd18989-30f6-496b-9b59-86af9565a57f",
   "metadata": {
    "tags": [
     "hide-cell"
    ]
   },
   "outputs": [],
   "source": [
    "# Compute density matrices for retrieved and reference cases, and compare\n",
    "# v2 - as v1, but differences for unsigned phase case & fix labels\n",
    "# 26/07/22: messy but working. Some labelling tricks to push back into matPlot() routine\n",
    "\n",
    "# Import routines\n",
    "from epsproc.calc import density\n",
    "\n",
    "# Compose density matrix\n",
    "\n",
    "# Set dimensions/state vector/representation\n",
    "# These must be in original data, but will be restacked as necessary to define the effective basis space.\n",
    "denDims = ['LM', 'mu']\n",
    "selDims = {'Type':'L'}\n",
    "pTypes=['r','i']\n",
    "thres = 1e-2    # 0.2 # Threshold out l>3 terms if using full 'orb5' set.\n",
    "normME = False\n",
    "normDen = 'max'\n",
    "usPhase = True # Use unsigned phases?\n",
    "\n",
    "# Calculate - Ref case\n",
    "# matE = data.data['subset']['matE']\n",
    "# Set data from master class\n",
    "# k = 'orb5'  # N2 orb5 (SG) dataset\n",
    "k = 'subset'\n",
    "matE = data.data[k]['matE']\n",
    "if normME:\n",
    "    matE = matE/matE.max()\n",
    "\n",
    "if usPhase:\n",
    "    matE = unsignedPhase(matE)\n",
    "    \n",
    "daOut, *_ = density.densityCalc(matE, denDims = denDims, selDims = selDims, thres = thres)  # OK\n",
    "\n",
    "if normDen=='max':\n",
    "    daOut = daOut/daOut.max()\n",
    "elif normDen=='trace':\n",
    "    daOut = daOut/(daOut.sum('Sym').pipe(np.trace)**2)  # Need sym sum here to get 2D trace\n",
    "    \n",
    "# daPlot = density.matPlot(daOut.sum('Sym'))\n",
    "daPlot = density.matPlot(daOut.sum('Sym'), pTypes=pTypes)\n",
    "\n",
    "# Retrieved\n",
    "matE = data.data['agg']['matE']['compC']\n",
    "selDims = {'Type':'compC'}  # For stacked DS case need to set selDims again here to avoid null data selection below.\n",
    "if normME:\n",
    "    matE = matE/matE.max()\n",
    "    \n",
    "if usPhase:\n",
    "    matE = unsignedPhase(matE)\n",
    "    \n",
    "daOut2, *_ = density.densityCalc(matE, denDims = denDims, selDims = selDims, thres = thres)  # OK\n",
    "\n",
    "if normDen=='max':\n",
    "    daOut2 = daOut2/daOut2.max()\n",
    "elif normDen=='trace':\n",
    "    daOut2 = daOut2/(daOut2.sum('Sym').pipe(np.trace)**2)\n",
    "    \n",
    "daPlot2 = density.matPlot(daOut2.sum('Sym'), pTypes=pTypes)   #.sel(Eke=slice(0.5,1.5,1)))\n",
    "\n",
    "\n",
    "# Compute difference\n",
    "if usPhase:\n",
    "    daDiff = unsignedPhase(daOut.sum('Sym')) - unsignedPhase(daOut2.sum('Sym'))\n",
    "\n",
    "else:\n",
    "    daDiff = daOut.sum('Sym') - daOut2.sum('Sym')\n",
    "\n",
    "daDiff.name = 'Difference'\n",
    "daPlotDiff = density.matPlot(daDiff, pTypes=pTypes)\n",
    "\n",
    "\n",
    "\n",
    "#******** Plot\n",
    "daLayout = (daPlot.redim(pType='Component').layout('Component').relabel('(a) Reference density matrix (unsigned phases)') + daPlot2.opts(show_title=False).layout('pType').opts(show_title=True).relabel('(b) Reconstructed') + \n",
    "                daPlotDiff.opts(show_title=False).layout('pType').opts(show_title=True).relabel('(c) Difference')).cols(1)  \n",
    "daLayout.opts(ep.plot.hvPlotters.opts.HeatMap(width=300, frame_width=300, aspect='square', tools=['hover'], colorbar=True, cmap='coolwarm'))  # .opts(show_title=False)  # .opts(title=\"Custom Title\")  #OK\n",
    "\n",
    "\n",
    "\n",
    "# Notes on titles... see https://holoviews.org/user_guide/Customizing_Plots.html\n",
    "#\n",
    "# .relabel('Test') and .opts(title=\"Custom Title\") OK for whole row titles\n",
    "#\n",
    "# daPlot2.opts(show_title=False).layout('pType').opts(show_title=True).relabel('Recon')  Turns off titles per plot, then titles layout\n",
    "#\n",
    "# .redim() to modify individual plot group label (from dimension name) \n",
    "\n",
    "\n",
    "# Glue figure for later - real part only in this case\n",
    "# Also clean up axis labels from default state labels ('LM' and 'LM_p' in this case).\n",
    "glue(\"OCS-densityComp\", daLayout)"
   ]
  },
  {
   "cell_type": "markdown",
   "id": "445a3636-7ad8-4847-a54c-410039c8f6d9",
   "metadata": {},
   "source": [
    "```{glue:figure} OCS-densityComp\n",
    "---\n",
    "name: \"fig-OCS-densityComp\"\n",
    "---\n",
    "Density matrix comparison - rows show (a) reference case (with signs of phases removed), (b) reconstructed case, (c) differences. Columns are (left) imaginary component, (right) real component. If the reconstruction is good, the differences (fidelity) should be on the order of the experimental noise level/reconstruction uncertainty, around 10% in the case studies herein.\n",
    "```"
   ]
  },
  {
   "cell_type": "markdown",
   "id": "22aed58e-d534-432a-83f7-d34b6547a8e3",
   "metadata": {
    "tags": [
     "hide-output"
    ]
   },
   "source": [
    "### Plot MF PADs\n",
    "\n",
    "Routines below adapted from the {{ PEMtk_docs }} [MF reconstruction data processing page](https://pemtk.readthedocs.io/en/latest/topical_review_case_study/MFPAD_replotting_from_file_190722-dist.html) (original analysis page for Ref. {cite}`hockett2023TopicalReviewExtracting`, illustrating the $N_2$ case). The routines include calls to `self.mfpadNumeric()` for numerical expansion of the MF-PADs, and `self.padPlot()` for plotting. Results are illustrated for the retrieved and reference cases in {numref}`fig-OCS-compC` and {numref}`fig-OCS-ref` respectively, and the differential results (reference minus fitted results) in {numref}`fig-OCS-diff`."
   ]
  },
  {
   "cell_type": "code",
   "execution_count": null,
   "id": "6a8c04ac-7e6f-4a88-8914-fcc395bba3f6",
   "metadata": {
    "tags": [
     "hide-cell"
    ]
   },
   "outputs": [],
   "source": [
    "dataIn = data.data['agg']['matE'].copy()\n",
    "\n",
    "# Restack for MFPAD calculation and plotter\n",
    "# Single Eke dim case\n",
    "\n",
    "# Create empty ePSbase class instance, and set data\n",
    "# Can then use existing  padPlot() routine for all data\n",
    "from epsproc.classes.base import ePSbase\n",
    "dataTest = ePSbase(verbose = 1)\n",
    "\n",
    "aList = [i for i in dataIn.data_vars]  # List of arrays\n",
    "\n",
    "# Loop version & propagate attrs\n",
    "dataType = 'matE'\n",
    "for item in aList:\n",
    "    if item.startswith('sub'):\n",
    "        dataTest.data[item] = {dataType : dataIn[item]}\n",
    "    else:\n",
    "        selType = item\n",
    "        dataTest.data[item] = {dataType : dataIn[item].sel({'Type':selType})}\n",
    "        \n",
    "    # Push singleton Eke value to dim for plotter\n",
    "    dataTest.data[item][dataType] = dataTest.data[item][dataType].expand_dims('Eke')"
   ]
  },
  {
   "cell_type": "code",
   "execution_count": null,
   "id": "0dc2d6e6-c65d-4485-8771-4bed79fbcb46",
   "metadata": {
    "tags": [
     "hide-output",
     "hide-cell"
    ]
   },
   "outputs": [],
   "source": [
    "# Compute MFPADs for a range of cases\n",
    "\n",
    "# Set Euler angs to include diagonal pol case\n",
    "pRot = [0, 0, np.pi/2, 0]\n",
    "tRot = [0, np.pi/2, np.pi/2, np.pi/4]\n",
    "cRot = [0, 0, 0, 0]\n",
    "labels = ['z','x','y', 'd']\n",
    "eulerAngs = np.array([labels, pRot, tRot, cRot]).T   # List form to use later, rows per set of angles\n",
    "\n",
    "# Should also use MFBLM function below instead of numeric version?\n",
    "# Numeric version is handy for direct surface and difference case.\n",
    "R = ep.setPolGeoms(eulerAngs = eulerAngs)\n",
    "\n",
    "# Comparison and diff\n",
    "pKey = [i for i in dataIn.data_vars if i!='comp']  # List of arrays\n",
    "dataTest.mfpadNumeric(keys=pKey, R = R)   # Compute MFPADs for each set of matrix elements using numerical routine\n",
    "\n",
    "dataTest.data['diff'] = {'TX': dataTest.data['subset']['TX'].sum('Sym')-dataTest.data['compC']['TX'].sum('Sym')}  # Add sum over sym to force matching dims\n",
    "pKey.extend(['diff'])\n",
    "\n",
    "# Plot - all cases\n",
    "# Now run in separate cells below for more stable output\n",
    "# Erange=[1,2,1]  # Set for a range of Ekes\n",
    "# Eplot = {'Eke':data.selOpts['matE']['inds']['Eke']}  # Plot for selected Eke (as used for fitting)\n",
    "# print(f\"\\n*** Plotting for keys = {pKey}, one per row ***\\n\")  # Note plot labels could do with some work!\n",
    "# dataTest.padPlot(keys=pKey, Erange=Erange, backend='pl',returnFlag=True, plotFlag=True) # Generate plotly polar surf plots for each dataset\n",
    "\n",
    "# Change default plotting config, and then plot in separate cells below\n",
    "ep.plot.hvPlotters.setPlotters(width=1000, height=500)"
   ]
  },
  {
   "cell_type": "code",
   "execution_count": null,
   "id": "0eed9818-202a-4b8b-acab-a4bdff40e8fb",
   "metadata": {
    "tags": [
     "hide-output",
     "hide-cell"
    ]
   },
   "outputs": [],
   "source": [
    "# Plot results from reconstructed matE\n",
    "pKey = 'compC'\n",
    "print(f\"\\n*** Plotting for keys = {pKey} ***\\n\")  # Note plot labels could do with some work!\n",
    "# dataTest.padPlot(keys=pKey, Erange=Erange, backend='pl',returnFlag=True, plotFlag=True) # Generate plotly polar surf plots for each dataset\n",
    "Eplot = {'Eke':data.selOpts['matE']['inds']['Eke']}  # Plot for selected Eke (as used for fitting)\n",
    "dataTest.padPlot(keys=pKey, selDims=Eplot, backend='pl',returnFlag=True, plotFlag=True) # Generate plotly polar surf plots for each dataset\n",
    "\n",
    "# And GLUE for display later with caption\n",
    "figObj = dataTest.data[pKey]['plots']['TX']['polar'][0]\n",
    "glue(\"OCS-compC\", figObj)"
   ]
  },
  {
   "cell_type": "markdown",
   "id": "e3d69689-0836-4c26-83e2-1c0901f85d65",
   "metadata": {},
   "source": [
    "```{glue:figure} OCS-compC\n",
    "---\n",
    "name: \"fig-OCS-compC\"\n",
    "---\n",
    "{{ MF }}-{{ PADs }} computed from retrieved matrix elements for $(x,y,z,d)$ polarization geometries, where $d$ is the \"diagonal\" case with the polarization axis as 45 degrees to the $z$-axis.\n",
    "```"
   ]
  },
  {
   "cell_type": "code",
   "execution_count": null,
   "id": "b5ded2cc-c728-4335-8469-182b415be1ff",
   "metadata": {
    "tags": [
     "hide-output",
     "hide-cell"
    ]
   },
   "outputs": [],
   "source": [
    "# Plot results from reference matE\n",
    "pKey = 'subset'\n",
    "print(f\"\\n*** Plotting for keys = {pKey} ***\\n\")  # Note plot labels could do with some work!\n",
    "# dataTest.padPlot(keys=pKey, Erange=Erange, backend='pl',returnFlag=True, plotFlag=True) # Generate plotly polar surf plots for each dataset\n",
    "Eplot = {'Eke':data.selOpts['matE']['inds']['Eke']}  # Plot for selected Eke (as used for fitting)\n",
    "dataTest.padPlot(keys=pKey, selDims=Eplot, backend='pl',returnFlag=True, plotFlag=True) # Generate plotly polar surf plots for each dataset\n",
    "\n",
    "# And GLUE for display later with caption\n",
    "figObj = dataTest.data[pKey]['plots']['TX']['polar'][0]\n",
    "glue(\"OCS-ref\", figObj)"
   ]
  },
  {
   "cell_type": "markdown",
   "id": "169244f5-db8c-4739-81b8-a34e1083843f",
   "metadata": {},
   "source": [
    "```{glue:figure} OCS-ref\n",
    "---\n",
    "name: \"fig-OCS-ref\"\n",
    "---\n",
    "{{ MF }}-{{ PADs }} computed from reference _ab initio_ matrix elements for $(x,y,z,d)$ polarization geometries, where $d$ is the \"diagonal\" case with the polarization axis as 45 degrees to the $z$-axis.\n",
    "```"
   ]
  },
  {
   "cell_type": "code",
   "execution_count": null,
   "id": "fa7ea7f2-c718-4e23-888a-c7450151820e",
   "metadata": {
    "tags": [
     "hide-output",
     "hide-cell"
    ]
   },
   "outputs": [],
   "source": [
    "# Plot normalised differences\n",
    "pKey = 'diff'\n",
    "print(f\"\\n*** Plotting for keys = {pKey} ***\\n\")  # Note plot labels could do with some work!\n",
    "# dataTest.padPlot(keys=pKey, Erange=Erange, backend='pl',returnFlag=True, plotFlag=True) # Generate plotly polar surf plots for each dataset\n",
    "Eplot = {'Eke':data.selOpts['matE']['inds']['Eke']}  # Plot for selected Eke (as used for fitting)\n",
    "dataTest.padPlot(keys=pKey, selDims=Eplot, backend='pl',returnFlag=True, plotFlag=True) # Generate plotly polar surf plots for each dataset\n",
    "\n",
    "# And GLUE for display later with caption\n",
    "figObj = dataTest.data[pKey]['plots']['TX']['polar'][0]\n",
    "glue(\"OCS-diff\", figObj)"
   ]
  },
  {
   "cell_type": "markdown",
   "id": "c8e4d092-eeb6-4f9e-b689-01a66dde9df7",
   "metadata": {},
   "source": [
    "```{glue:figure} OCS-diff\n",
    "---\n",
    "name: \"fig-OCS-diff\"\n",
    "---\n",
    "{{ MF }}-{{ PADs }} differences between retrieved and reference cases for $(x,y,z,d)$ polarization geometries, where $d$ is the \"diagonal\" case with the polarization axis as 45 degrees to the $z$-axis. Note diffs are normalised to emphasize the shape, but not mangnitudes, of the differences - see the density matrix comparisons for a more rigourous fidelity analysis.\n",
    "```"
   ]
  },
  {
   "cell_type": "code",
   "execution_count": null,
   "id": "66232cf5-b594-4bee-b5e4-8d4b7bef0477",
   "metadata": {
    "tags": [
     "hide-cell"
    ]
   },
   "outputs": [],
   "source": [
    "# Check max differences (abs values)\n",
    "maxDiff = dataTest.data['diff']['plots']['TX']['pData'].max(dim=['Theta','Phi'])   #.sum(['Theta','Phi']).max()   #.max(dim='Eke')\n",
    "maxDiff.to_pandas()"
   ]
  },
  {
   "cell_type": "code",
   "execution_count": null,
   "id": "20c2e812-a1ba-491c-8c73-0f788fc0225f",
   "metadata": {
    "tags": [
     "hide-cell"
    ]
   },
   "outputs": [],
   "source": [
    "# Check case without phase correction too - this should indicate poor agreement in general\n",
    "pKey = 'comp'\n",
    "dataTest.mfpadNumeric(keys=pKey, R = R) \n",
    "dataTest.padPlot(keys=pKey, selDims=Eplot, backend='pl',returnFlag=True, plotFlag=True) # Generate plotly polar surf plots for each dataset"
   ]
  }
 ],
 "metadata": {
  "jupytext": {
   "formats": "ipynb,md:myst"
  },
  "kernelspec": {
   "display_name": "Python 3 (ipykernel)",
   "language": "python",
   "name": "python3"
  },
  "language_info": {
   "codemirror_mode": {
    "name": "ipython",
    "version": 3
   },
   "file_extension": ".py",
   "mimetype": "text/x-python",
   "name": "python",
   "nbconvert_exporter": "python",
   "pygments_lexer": "ipython3",
   "version": "3.10.11"
  }
 },
 "nbformat": 4,
 "nbformat_minor": 5
}
