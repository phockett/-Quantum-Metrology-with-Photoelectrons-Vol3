{
 "cells": [
  {
   "cell_type": "markdown",
   "id": "a41c66db-391c-4e18-aadb-5495677a5252",
   "metadata": {
    "tags": [
     "remove-cell"
    ]
   },
   "source": [
    "24/07/23\n",
    "\n",
    "- Added as placeholder for case-study summary and conclusions, pending final numerics and analysis."
   ]
  },
  {
   "cell_type": "markdown",
   "id": "705f487b-c7b2-4dbb-88eb-e8a51f5c6eff",
   "metadata": {},
   "source": [
    "(chpt:case-study-summaries)=\n",
    "# Case studies: summaries, conclusions and outlook"
   ]
  }
 ],
 "metadata": {
  "jupytext": {
   "formats": "ipynb,md:myst"
  },
  "kernelspec": {
   "display_name": "Python 3 (ipykernel)",
   "language": "python",
   "name": "python3"
  },
  "language_info": {
   "codemirror_mode": {
    "name": "ipython",
    "version": 3
   },
   "file_extension": ".py",
   "mimetype": "text/x-python",
   "name": "python",
   "nbconvert_exporter": "python",
   "pygments_lexer": "ipython3",
   "version": "3.9.7"
  }
 },
 "nbformat": 4,
 "nbformat_minor": 5
}
