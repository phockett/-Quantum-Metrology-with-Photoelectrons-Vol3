{
 "cells": [
  {
   "cell_type": "markdown",
   "id": "ba535de1-f87b-4598-8959-1d470ad51d50",
   "metadata": {
    "tags": []
   },
   "source": [
    "# Glossary"
   ]
  },
  {
   "cell_type": "markdown",
   "id": "3f5a5473-51c3-416a-b7d9-abc33fb0b162",
   "metadata": {},
   "source": [
    "```{glossary}\n",
    "MF\n",
    "  Molecular frame (MF) - coordinate system referenced to the molecule, usually with the z-axis corresponding to the highest symmetry axis.\n",
    "\n",
    "\n",
    "LF\n",
    "  Laboratory or lab frame (LF) - coordinate system referenced to the laboratory frame, usually with the z-axis corresponding to the laser field polarization. For circularly or elliptically polarized light the propagation direction is conventionally used for the z-axis. In some cases a different z-axis may be chosen, e.g. as defined by a detector.\n",
    "\n",
    "\n",
    "AF\n",
    "  Aligned frame (AF) - coordinate system referenced to molecular alignment axis or axes. For 1D alignment, the z-axis usually corresponds to the alignment field polarization, and hence may be identical to the standard {{ LF }} definition. For high degrees of (3D) alignment the AF may approach the {{ MF }} in the ideal case, although will usually be limited by the symmetry of the system.\n",
    "\n",
    "\n",
    "PADs\n",
    "  Photoelectron angular distributions (PADs), often with a prefix denoting the reference frame, e.g. LFPADs, MFPADs (sometimes also hypenated, e.g. LF-PADs). Usage is often synonymous with the associated {{ betas }} (or \"betas\").\n",
    "\n",
    "\n",
    "anisotropy paramters\n",
    "  Expansion parameters {{ BLM }} for an expansion in spherical harmonics (or similar basis sets of angular momentum functions in polar coordinates), e.g. Eq. {eq}`eq:AF-PAD-general`. Often referred to simply as \"beta parameters\", and may be dependent on various properties, e.g. $\\beta_{L,M}(\\epsilon,t...)$. Herein upper-case $L,M$ usually refer to observables or the general case, whilst lower-case $(l,m)$ usually refer specifically to the photoelectron wavefunction partial waves, and $(l,\\lambda)$ usually denote these terms referenced specifically to the molecular frame.\n",
    "\n",
    "ADMs\n",
    "  Expansion parameters {{ ADMsymbol }} for describing a molecular ensemble alignment described as a set of axis distribution moments, usually expanded as Wigner rotation matrix element, spherical harmonics or Legendre polynomial functions.\n",
    "\n",
    "Axis distribution moments\n",
    "  See {{ ADMs }}.\n",
    "  \n",
    "\n",
    "```"
   ]
  }
 ],
 "metadata": {
  "jupytext": {
   "formats": "ipynb,md:myst"
  },
  "kernelspec": {
   "display_name": "Python 3 (ipykernel)",
   "language": "python",
   "name": "python3"
  },
  "language_info": {
   "codemirror_mode": {
    "name": "ipython",
    "version": 3
   },
   "file_extension": ".py",
   "mimetype": "text/x-python",
   "name": "python",
   "nbconvert_exporter": "python",
   "pygments_lexer": "ipython3",
   "version": "3.9.7"
  }
 },
 "nbformat": 4,
 "nbformat_minor": 5
}
