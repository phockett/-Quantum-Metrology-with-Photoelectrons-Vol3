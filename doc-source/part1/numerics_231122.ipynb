{
 "cells": [
  {
   "cell_type": "markdown",
   "id": "d9e4741b-aad2-49ba-aec0-e370c8538f7d",
   "metadata": {
    "tags": [
     "remove-cell"
    ]
   },
   "source": [
    "Numerical details to go here? Further details of the numerical implementations - base packages, conventions and refs - to go here or in appendix?\n",
    "\n",
    "OR NEST in software overview?\n",
    "\n",
    "- 27/04/23 adding text based on MF recon manuscript, and fitting intro stuff now in place in Part 2. NOTE also chpt. 2 now has general software intro, so keep this more specific.\n",
    "- 23/11/22 basic stub. See Observables section for some mentions already, also Appendix 9.5 in MF recon manuscript.\n",
    "\n",
    "To include here:\n",
    "\n",
    "- More on simulation? E.g. example for N2, currently in fitting chpt, but don't show/discuss ADMs or observables in much detail.\n",
    "- Fitting methodologies. FLOW CHARTS - on Bemo?\n",
    "- More on ab initio methods? Not really the main focus however.\n",
    "\n",
    "RENAME CHPT?  Maybe \"Numerical methodologies for extracting matrix elements\"?"
   ]
  },
  {
   "cell_type": "markdown",
   "id": "1a4dd71b-b82e-4d97-8d5d-b129733701a5",
   "metadata": {},
   "source": [
    "(chpt:numerical-details)=\n",
    "# Numerical methodologies for extracting matrix elements\n",
    "\n",
    "Following the tensor notation outline in {numref}`Sect. %s <sec:tensor-formulation>`, the complete quantum metrology of a photoionization event (aka. a \"complete\" photoionization experiment) can be characterized as recovery of the matrix elements $I^{\\zeta}(\\epsilon)$ (per Eqs. {eq}`eqn:channel-fns`, {eq}`eqn:I-zeta`) from the experimental measurements or, equivalently, the density matrix $\\mathbf{\\rho}^{\\zeta\\zeta'}$ (Eqs. {eq}`eqn:full-density-mat` - {eq}`eqn:beta-density-mat`). (For further discussion and background, see Refs. {cite}`Reid2003,kleinpoppen2013perfect` and {{ QM1 }}.) This may be possible provided the channel functions are known, and the information content of the measurements is sufficient. \n",
    "\n",
    "For schemes making use of molecular alignment, or other control methods, the contribution of these parameters to the channel functions must, therefore, be accounted for. In general, these contributions may be computed and/or obtained from experiment. For the rotational wavepacket case, this can be considered as the requirement for the determination of the molecular axis distributions ({{ ADMs }}): this can be treated as a reduced-dimensionality MF signal retrieval problem, with sets of computed {{ ADMs }} forming the basis set for the fitting, and this forms the first step in both the generalised bootstrapping method explored herein. (Note here that the matrix elements are assumed to be time-independent, although that may not be the case for the most complicated examples including vibronic dynamics, see {{ QM2 }} for further discussion on this point.) \n",
    "\n",
    "% (Sect. \\ref{sec:bootstrapping}) and matrix inversion techniques (Sect. \\ref{sec:matrix-inv-intro}).\n",
    "\n",
    "% For the rotational wavepacket case, this is discussed in Sect. \\ref{sec:RWPs}. \n",
    "\n",
    "Of particular import for matrix element retrieval is the phase-sensitive nature of the observables ({numref}`Sect. %s <sect:theory:observables>`), which is required in order to obtain partial wave phase information. {{ PADs }} can also be considered as angular interferograms, and reconstruction can be considered conceptually similar to other phase-retrieval problems, e.g. optical field recovery with techniques such as FROG {cite}`trebino2000FrequencyResolvedOpticalGating`, and general quantum tomography {cite}`MauroDAriano2003`. "
   ]
  },
  {
   "cell_type": "markdown",
   "id": "b8c1c664-874a-4eab-a14d-877f20145758",
   "metadata": {
    "tags": [
     "remove-cell"
    ]
   },
   "source": [
    "{figure} flow_charts_MFrecon/bootstrap_flowchart_290822.gv.png\n",
    "FAILS FOR PDF, although OK in HTML - needs to be in ../images to be copied to build dir for latex...?"
   ]
  },
  {
   "cell_type": "markdown",
   "id": "c3113dc3-bd13-4b20-854a-c791bc6e7706",
   "metadata": {},
   "source": [
    "```{figure} ../images/bootstrap_flowchart_290822.gv.png\n",
    "---\n",
    "name: fig-bootstrap-fitting-diag\n",
    "---\n",
    "Outline of the 2-stage generalised bootstrap matrix element retrieval protocol.\n",
    "```"
   ]
  },
  {
   "cell_type": "markdown",
   "id": "45505f19-1fdd-43a4-b317-cc6c29d88404",
   "metadata": {
    "tags": []
   },
   "source": [
    "## Fitting methodologies\n",
    "\n",
    "In general, the extraction of parameters from a data set can be viewed as a general minimization (fitting) problem. This type of treatment is versatile, and can be multi-stage depending on the complexity of the problem. For the generalised bootstrapping method, the treatment of photoionization data is split into two types of fit, as shown in {numref}`fig-bootstrap-fitting-diag`. Firstly, a linear fitting stage to retrieve the molecular axis distribution, characterised by a set of {{ ADMs }} (see {numref}`Sect. %s <sec:theory:AF-alignment-term>` for details); secondly, a non-linear fitting stage to retrieve the complex-valued matrix elements.\n",
    "\n",
    "In terms of the data, the 1st stage can be written as:\n",
    "\n",
    "$$\n",
    "\\bar{\\beta}_{L,M}^{u}(\\epsilon,t)=\\sum_{K,Q,S}A_{Q,S}^{K}(t)\\bar{C}_{KQS}^{LM}(\\epsilon)\n",
    "$$ (eqn:beta-convolution-C)\n",
    "\n",
    "And the 2nd stage as per Eqs. {eq}`eqn:channel-fns` and {eq}`eq:BLM-tensor-AF` for the AF case:\n",
    "\n",
    "$$\n",
    "\\bar{\\beta}_{L,M}^{u}(\\epsilon,t)=\\sum_{\\zeta,\\zeta'}\\bar{\\varUpsilon_{}}_{L,M}^{u,\\zeta\\zeta'}(t)\\mathbb{I}^{\\zeta\\zeta'}(\\epsilon)\n",
    "$$\n",
    "\n",
    "In these forms, the terms are: \n",
    "\n",
    "1. $A_{Q,S}^{K}(t)$, the set of {{ ADMs }} defining the molecular alignment, and associated parameters $\\bar{C}_{KQS}^{LM}(\\epsilon)$.\n",
    "2. $\\bar{\\varUpsilon_{}}_{L,M}^{u,\\zeta\\zeta'}(t)$, the channel functions in the {{ AF }} (Eq. {eq}`eq:BLM-tensor-AF`, and matrix elements $\\mathbb{I}^{\\zeta\\zeta'}(\\epsilon)$.\n",
    "\n",
    "Hence stage (2) relies on the inputs of stage (1), i.e. the {{ ADMs }}; and the parameters in stage (1) can be determined via fitting the data (linear regression) making use of computed sets of $A_{Q,S}^{K}(t)$ as a function of experimental parameters (laser fluence and rotational temperature). In this case, a range of {{ ADMs }} \"basis sets\" are computed, and the best match to the experimental data chosen - more details are discussed in Sect. XX. In a similar manner, the 2nd stage makes use of a known basis set - the channel functions - but a non-linear fit is required to determine the set of matrix elements, see Sect. XX.\n",
    "\n",
    "Finally, it is also of note that, although the case herein focusses on rotational wavepackets as a control parameter, the same general approach can be applied to other cases, e.g. fitting {{ MF }} {{ PADs }} directly (for which only the 2nd stage is required), fitting {{ PADs }} obtained via rotational state-resolved transitions, with shaped laser pulses and so on, as detailed in {{ QM12 }}. Although only rotational wavepacket cases are illustrated in this work (see {numref}`Chpt. %s <chpt:extracting-matrix-elements-overview>`), by suitable choice of dataset and channel functions many other experimental schemes may be modelled and analysed; the {{ PEMtk_repo }} is designed with  this flexibility in mind."
   ]
  },
  {
   "cell_type": "markdown",
   "id": "2dfbf1ea-079f-47cf-9c1b-d566fac74113",
   "metadata": {},
   "source": [
    "### Computation and linear fitting for alignment characterisation\n",
    "\n",
    "% Moderately adapted from MF recon manuscript - may want to rework further and add some numerical examples here (or elsewhere).\n",
    "\n",
    "Efforts to align and orient molecules in recent decades have\n",
    "% discussed in the previous sections necessarily \n",
    "led to detailed studies of the rotational dynamics of molecules after interaction with a non-resonant femtosecond laser pulse. A significant outcome of these studies has been the development of a reliable model capable of accurate simulations of rotational wavepacket dynamics that quantitatively agree with experimental results [REFS]. By measurement of a signal from a time evolving rotational wavepacket, this ability to accurately simulate the wavepacket dynamics can be used to reconstruct the measured signal in the molecular frame. Since in this case the time resolved measurement constitutes a set of measurements of the same quantity from a variety of molecular axes distributions, it is reasonable to conclude that if the axes distributions are known, and provided a large enough space of orientations is explored by the molecule over the experimental time window, the molecular frame signal should be extractable. \n",
    "\n",
    "This is relatively straight forward for a signal that is a single number (scalar) in the MF for a given polarization of the light, such as the photoionization yield. Such a signal may, in general, be expressed as an expansion,\n",
    "\n",
    "$$\n",
    "S(\\theta,\\chi)=\\sum_{jk}C_{jk}D^{j}_{0k}(\\theta,\\chi),\n",
    "$$ (eq:mfrealsig)\n",
    "\n",
    "where $\\theta$ and $\\chi$ are the MF spherical polar and azimuthal angles of the linearly polarized electric field vector generating the signal; $C_{jk}$ are unknown expansion coefficients; and $D^{j}_{0k}$ are the Wigner D-Matrix elements, a basis on the space of orientations. A time resolved measurement of $S$ from a rotational wavepacket is the quantum expectation value of this expression,\n",
    "\n",
    "$$\n",
    "\\langle S \\rangle(t) = \\sum_{jk}C_{jk}\\langle D^{j}_{0k} \\rangle (t).\n",
    "$$ (eq:St-Cjk)\n",
    "\n",
    "Since the rotational wavepacket can be accurately simulated, the $\\langle D^{j}_{0k} \\rangle (t)$ are considered known. The time resolved signal $\\langle S \\rangle(t)$ being measured, the unknown coefficients $C_{jk}$ can be determined by linear regression, and the molecular frame signal in Eqn.~\\ref{eq:mfrealsig} constructed. In this form the method was initially applied to strong field ionization and dubbed Orientation Reconstruction through Rotational Coherence Spectroscopy (ORRCS) {cite}`makhija2016ORRCS,wang2017ORRCS`.\n",
    "It has since been applied to strong field ionization of various molecules {cite}`sandor2018ORRCS,sandor2019ORRCS,wangjam2021ORRCS`,\n",
    "strong field dissociation {cite}`lam2020ORRCS` and few-photon ionization {cite}`lam2022ORRCS`. \n",
    "% 09/03/23: Added below for referee, where refs he2018RealTimeObservationMolecular, he2020MeasuringRotationalTemperature,wang2022RotationalEchoSpectroscopy were per referee recommendations.\n",
    "(A large range of other experimental methods have also addressed alignment and orientation dependence and retrieval, other recent examples include Coulomb-explosion imaging {cite}`Underwood2015`, high-harmonic spectroscopy {cite}`he2018RealTimeObservationMolecular, he2020MeasuringRotationalTemperature`, optical imaging {cite}`Loriot2008` and rotational echo spectroscopy {cite}`wang2022RotationalEchoSpectroscopy`, see Refs. {cite}`Ramakrishna2013,koch2019QuantumControlMolecular` for further discussion.)\n",
    "\n",
    "% The case of PADs is a more challenging one, since they are not generally described by Eq.~\\ref{eq:mfrealsig}. Instead, both LFPADs and MFPADs are determined by the radial dipole matrix elements as described above (\\textbf{refer to section 3 here!}). The authors of this manuscript, with a number of collaborators, demonstrated that these matrix elements can also be retrieved for one-photon ionisation of N$_2$ by time resolved measurements of LFPADs from a rotational wavepacket. This method is focus of sections X and Y (\\textbf{refer to apprpriate section(s)!}) below, with additional details and results provided on the case of radial matrix element extraction for N$_2$.   In follow up work, it was shown that for molecules with $D_{nh}$ point group symmetry the retrieval of the MFPAD is possible directly, bypassing the radial matrix elements. \n",
    "\n",
    "The case of PADs is a more challenging one, since they are not generally described by Eqn.~\\ref{eq:mfrealsig}. Instead, both {{ AF }} and {{ MF }} {{ PADs }} are determined by the radial dipole matrix elements. However, the correspondence of the problem with an equation of the form of Eqn. \\ref{eq:St-Cjk} - essentially a convolution - can be made. This is discussed in detail in Ref. {cite}`Underwood2000`. In the current case Eqs. {eq}`eqn:channel-fns` and {eq}`eq:BLM-tensor-AF` can be rewritten in a similar form to Eq. {eq}`eq:St-Cjk` by explicitly separating out the axis distribution moments $A_{Q,S}^{K}(t)$ and collapsing all other terms. The case of photoionization from a time-dependent ensemble can then be reparameterized as indicated in Eq. {eq}`eqn:beta-convolution-C`.\n",
    "\n",
    "% (cf. also Eqn. \\ref{eq:BLM-tensor-AF}):\n",
    "\n",
    "% \\begin{equation}\n",
    "% \\beta_{L,M}^{u}(t)=\\sum_{K,Q,S}(\\sum_{\\zeta,\\zeta'}\\bar{\\varUpsilon}_{L,M}^{u,\\zeta\\zeta'}\\mathbb{I}^{\\zeta\\zeta'})A_{Q,S}^{K}(t)\n",
    "\n",
    "% \\label{eqn:beta-convolution}\n",
    "% \\end{equation}\n",
    "\n",
    "% Where $\\bar{\\varUpsilon}$ is as per Eqn. \\ref{eqn:channel-fns} except for the omission of the ADMs. \n",
    "% and the case of photoionization from a time-dependent ensemble can be reparametrized as:\n",
    "\n",
    "% \\begin{equation}\n",
    "% \\bar{\\beta}_{L,M}^{u}(\\epsilon,t)=\\sum_{K,Q,S}\\bar{C}_{KQS}^{LM}(\\epsilon)A_{Q,S}^{K}(t)\n",
    "% \\label{eqn:beta-convolution-C}\n",
    "% \\end{equation}\n",
    "\n",
    "% [NOTE: this now preempts the matrix inversion formalism, so may want to change this, or that, to avoid repetition] UPDATE - now fixed notation and refer to that eqn instead of duplicating.\n",
    "\n",
    "Here the set of axis distribution moments can thus be viewed as modulating all observables $\\beta_{L,M}^{u}(t)$. The unknowns, $\\bar{C}_{KQS}^{LM}$ and axis distribution moments $A_{Q,S}^{K}(t)$, can be retrieved in a similar manner to that discussed for the simpler scalar observable case above, i.e. via linear regression with simulated rotational wavepackets. \n",
    "\n",
    "In practice this equates to (accurately) simulating rotational wavepackets, hence obtaining the corresponding $A_{Q,S}^{K}(t)$ parameters (expectation values), as a function of laser fluence and rotational temperature. Given experimental data, a 2D uncertainty (or error) surface in these two fundamental quantities can then be obtained from a linear regression for each set of $A_{Q,S}^{K}(t)$. The closest set of parameters to the experimental case is then determined by selection of the best results (smallest uncertainty) from such a parameter-space mapping, which constitutes determination of both the rotational wavepacket (hence $A_{Q,S}^{K}(t)$) and $\\bar{C}_{KQS}^{LM}(\\epsilon)$. Optimally, the corresponding physical properties can be cross-checked with other experimental estimates for additional confirmation of the fidelity of the protocol, although this may not always be possible. Note that, in this case, the photoionization dynamics are phenomenologically described by the real parameters $\\bar{C}_{KQS}^{LM}$, but details of the matrix elements are not obtained directly.\n",
    "% ; however, these parameters can be further used for the matrix inversion method (Sect. \\ref{sec:matrix-inv-intro}), and are formally defined therein (Eqn. \\ref{eq:C-AF}).\n",
    "\n",
    "% 22/08/22 - removed this for now, but could incorporated into Sect 4.1.1\n",
    "% The authors of this manuscript, with a number of collaborators, demonstrated that these matrix elements can also be retrieved for one-photon ionisation of N$_2$ by time resolved measurements of LFPADs from a rotational wavepacket. This method is focus of sections X and Y (\\textbf{refer to apprpriate section(s)!}) below, with additional details and results provided on the case of radial matrix element extraction for N$_2$.   In follow up work, it was shown that for molecules with $D_{nh}$ point group symmetry the retrieval of the MFPAD is possible directly, bypassing the radial matrix elements. \n"
   ]
  },
  {
   "cell_type": "code",
   "execution_count": null,
   "id": "893bb03e-e33c-496a-809f-11ee368c3984",
   "metadata": {},
   "outputs": [],
   "source": [
    "# Numerical examples of ADMs and rotational wavepackets here? Some also now in fitting basis set chpt."
   ]
  },
  {
   "cell_type": "markdown",
   "id": "993c2b7a-77b2-424a-b07a-1ff86f517821",
   "metadata": {},
   "source": [
    "### Non-linear fitting for matrix elements\n",
    "\n",
    "The nature of the photoionization problem suggests that a fitting approach can work, in general, which can be expressed (for example) in the standard way as a (non-linear) least-squares minimization problem:\n",
    "\n",
    "$$\n",
    "\\chi^{2}(\\mathbb{I}^{\\zeta\\zeta'})=\\sum_{u}\\left[\\beta^{u}_{L,M}(\\epsilon,t;\\mathbb{I}^{\\zeta\\zeta'})-\\beta^{u}_{L,M}(\\epsilon,t)\\right]^{2}\n",
    "$$ (eq:chi2-I)\n",
    "\n",
    "where $\\beta^{u}_{L,M}(\\epsilon,t;\\mathbb{I}^{\\zeta\\zeta'})$ denotes  the values from a model function, computed for a given set of (complex) matrix elements $\\mathbb{I}^{\\zeta\\zeta'}$, and $\\beta^{u}_{L,M}(\\epsilon,t)$ the experimentally-measured parameters, for a given configuration $u$. Implicit in the notation is that the matrix elements are independent of $u$ (or otherwise averaged over $u$). Once the matrix elements are obtained in this manner then {{ MF }} observables, for any arbitrary $u$, can be calculated. Generally fitting routines do not handle complex-valued functions, so the fitting parameter space is usually defined by parameters in magnitude-phase form (Eq. {eq}`eqn:I-zeta-mag-phase`; see also discussion in {numref}`Sect. %s <sec:channel-funcs>`)\n",
    "\n",
    "% An example of such a protocol - specifically one based on time-domain measurements and making use of a rotational wavepacket - is shown in Fig. \\ref{781808}, %, as previously discussed, \n",
    "% and the practical realisation of such a methodology is the topic of Sect. \\ref{sec:bootstrapping} (see also Refs. \\cite{hockett2018QMP2,marceau2017MolecularFrameReconstruction} for further discussion). As discussed in Sect. \\ref{sec:MF-recon-expt}, other choices of experimental measurements may also be made, for instance direct MF measurements or frequency-domain measurements, some representative examples from the literature are given in Sect. \\ref{sec:CompleteLit}. \n",
    "% [23/08/22 HERE - move to expt section? Also intro complete expts better elsewhere?]\n",
    "\n",
    "Although in principle a very general approach, outstanding questions with such protocols remain, in particular fit uniqueness and reproducibility, the optimal measurement space $u$ - or associated information content $M_u$ - for any given case or measurement schema, and how well they will scale to larger problems (more matrix elements/partial waves). Exploration of these questions for various exemplar systems is the topic of the latter part of this book (see {numref}`Chpt. %s <chpt:extracting-matrix-elements-overview>`).\n",
    "\n",
    "% (Again, see Refs. \\cite{hockett2018QMP2,marceau2017MolecularFrameReconstruction} for further discussion.)"
   ]
  },
  {
   "cell_type": "code",
   "execution_count": null,
   "id": "8e94d263-c792-4917-95d9-99558540299f",
   "metadata": {},
   "outputs": [],
   "source": [
    "# Numerical example here? May skip this, since it's in latter chpts."
   ]
  },
  {
   "cell_type": "markdown",
   "id": "d9829c17-6e2b-4fdb-9a0d-8eb1b780983c",
   "metadata": {},
   "source": [
    "## Fitting strategies\n",
    "\n",
    "Notes on stats, repeated fitting etc. here? Now illustrated in Part 2, but no formalism given. See also QM1/2...?\n",
    "\n",
    "Basis set choices are also introduced later."
   ]
  }
 ],
 "metadata": {
  "jupytext": {
   "formats": "ipynb,md:myst"
  },
  "kernelspec": {
   "display_name": "Python 3 (ipykernel)",
   "language": "python",
   "name": "python3"
  },
  "language_info": {
   "codemirror_mode": {
    "name": "ipython",
    "version": 3
   },
   "file_extension": ".py",
   "mimetype": "text/x-python",
   "name": "python",
   "nbconvert_exporter": "python",
   "pygments_lexer": "ipython3",
   "version": "3.9.7"
  }
 },
 "nbformat": 4,
 "nbformat_minor": 5
}
