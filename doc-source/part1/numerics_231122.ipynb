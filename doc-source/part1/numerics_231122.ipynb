{
 "cells": [
  {
   "cell_type": "markdown",
   "id": "d9e4741b-aad2-49ba-aec0-e370c8538f7d",
   "metadata": {
    "tags": [
     "remove-cell"
    ]
   },
   "source": [
    "Numerical details to go here?\n",
    "\n",
    "OR NEST in software overview?\n",
    "\n",
    "- 23/11/22 basic stub. See Observables section for some mentions already, also Appendix 9.5 in MF recon manuscript."
   ]
  },
  {
   "cell_type": "markdown",
   "id": "1a4dd71b-b82e-4d97-8d5d-b129733701a5",
   "metadata": {},
   "source": [
    "(sec:numerical-details)=\n",
    "# Numerical implementation\n",
    "\n",
    "Further details of the numerical implementations - base packages, conventions and refs - to go here or in appendix?"
   ]
  },
  {
   "cell_type": "code",
   "execution_count": null,
   "id": "8e94d263-c792-4917-95d9-99558540299f",
   "metadata": {},
   "outputs": [],
   "source": []
  }
 ],
 "metadata": {
  "jupytext": {
   "formats": "ipynb,md:myst"
  },
  "kernelspec": {
   "display_name": "Python 3 (ipykernel)",
   "language": "python",
   "name": "python3"
  },
  "language_info": {
   "codemirror_mode": {
    "name": "ipython",
    "version": 3
   },
   "file_extension": ".py",
   "mimetype": "text/x-python",
   "name": "python",
   "nbconvert_exporter": "python",
   "pygments_lexer": "ipython3",
   "version": "3.9.7"
  }
 },
 "nbformat": 4,
 "nbformat_minor": 5
}
