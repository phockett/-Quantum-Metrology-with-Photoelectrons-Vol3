{
 "cells": [
  {
   "cell_type": "markdown",
   "id": "c660c853-e5a9-4c09-a459-71d6983c3296",
   "metadata": {
    "tags": [
     "remove-cell"
    ]
   },
   "source": [
    "Theory section on observables\n",
    "\n",
    "- 22/11/22 Basics in place, including numerical examples for Ylm and Xlm cases. gluePlotly() now in place for HTML or PDF builds (although latter may need forced reexecution). May still need some work in general. \n",
    "- 24/11/22 Fixed Pandas Latex/PDF render, see https://github.com/phockett/Quantum-Metrology-with-Photoelectrons-Vol3/issues/6\n",
    "  Note not working for displayed sym harm tables from symObj.displayXlm(), although are OK in HTML - likely issue with lack of return object in this case. May not want to include these in any case, but adding return obj option to PEMtk code probably best bet to fix, see phockett/PEMtk@bb51d8b/pemtk/sym/symHarm.py#L577.\n",
    "- 09/02/23 All glue() outputs in this page currently broken? Related to changes to `setup_notebook.py` glue wrappers and/or build env (running in new Docker container dated 07/02/23). Weird.\n",
    "- 23/03/23 Seems OK again (probably after rebuilds of container etc., plus other debugging). Also added some layout options to PAD plots, and set new image size defaults in `setup_notebook.py`.\n",
    "   - Also a bit of tidy-up and playing around with first section. Still quite messy.\n",
    "- 10/07/23. New version for final pass and updates.\n",
    "   - Aim for general tidy-up, and finish missing parts.\n",
    "   - Issues with self.padPlot() should be fixed in latest builds (as of 12/07/23)\n",
    "   - Added real/complex and Legendre parts, plus some normalisation stuff.\n",
    "   - MISSING: Lg eqns. General SHtools wrapper? Thought I'd done this...? CHECK SOURCE! Hmmm, see https://github.com/phockett/ePSproc/blob/1c0b8fd409648f07c85f4f20628b5ea7627e0c4e/epsproc/util/conversion.py#L304 - on the todo list.\n",
    "   - Code may still need a tidy-up, but running (with figures) OK in QM3-jupyterlab-3d-120723 container.\n",
    "\n",
    "TODO\n",
    "\n",
    "- Add note on real harmonics? May be useful for later.\n",
    "- Code cell tidy-up.\n",
    "- Plotly or Panel rendering options? Currently a bit squished in HTML output (borders/subplot layout issue?).\n",
    "- implement genLM() or similar functions for setup below?"
   ]
  },
  {
   "cell_type": "markdown",
   "id": "fc40ff82-fb4f-46a0-b465-e9c25abfe65d",
   "metadata": {},
   "source": [
    "(sect:theory:observables)=\n",
    "# Observables: photoelectron flux in the LF and MF\n",
    "\n",
    "The observables of interest herein - the photoelectron flux as a function of energy, ejection angle, and time (see {numref}`fig-bootstrap-concept-outline`) - can be written quite generally as expansions in radial and angular basis functions. Various types and definitions are given in this section, including worked numerical examples.\n",
    "\n",
    "(sec:theory:sph-harm-intro)=\n",
    "## Spherical harmonics\n",
    "\n",
    "The photoelectron flux as a function of energy, ejection angle, and time, can be written generally as an expansion in spherical harmonics:\n",
    "\n",
    "$$\n",
    "\\begin{align}\n",
    "\\bar{I}(\\epsilon,t,\\theta,\\phi)=\\sum_{L=0}^{2n}\\sum_{M=-L}^{L}\\bar{\\beta}_{L,M}(\\epsilon,t)Y_{L,M}(\\theta,\\phi)\n",
    "\\end{align}\n",
    "$$ (eq:AF-PAD-general)\n",
    "\n",
    "Here the flux in the laboratory frame ({{ LF }}) or aligned frame ({{ AF }}) is denoted $\\bar{I}(\\epsilon,t,\\theta,\\phi)$, with the bar signifying ensemble averaging, and the molecular frame flux by $I(\\epsilon,t,\\theta,\\phi)$. Similarly, the expansion parameters $\\bar{\\beta}_{L,M}(\\epsilon,t)$ include a bar for the LF/AF case. These observables are generally termed photoelectron angular distributions ({{ PADs }}), often with a prefix denoting the reference frame, e.g. LFPADs, MFPADs, and the associated expansion parameters $\\bar{\\beta}_{L,M}(\\epsilon,t)$ are generically termed {{ betas }}. The polar coordinate system $(\\theta,\\phi)$ is referenced to\n",
    "an experimentally-defined axis in the {{ LF }}/{{ AF }} case (usually defined by the laser polarization), and the molecular symmetry axis in the {{ MF }}, as illustrated in {numref}`fig-bootstrap-concept-outline`. Some arbitrary examples are given in {numref}`fig-pads-example`, which illustrates both a range of distributions of increasing complexity, and some basic code to set $\\beta_{L,M}$ parameters and visualise them; the values used as tabulated in  {numref}`blm-tab`.\n",
    "\n",
    "Numerically, there are some choices and conventions which apply to the spherical harmonics. As noted in {numref}`Sect. %s <sect:platform:pythonEcosystem>`: \"spherical harmonics are defined with the usual physics conventions: orthonormalised, and including the Condon-Shortley phase. Numerically they are implemented directly or via SciPy's `sph_harm` function (see [the SciPy docs for details](https://docs.scipy.org/doc/scipy/reference/generated/scipy.special.sph_harm.html) {cite}`SciPyDocumentation`.\" For further details, including conversion routines, see the {{ shtools }} documentation, and numerical examples below."
   ]
  },
  {
   "cell_type": "code",
   "execution_count": null,
   "id": "e974e105-bc44-4903-8f8b-4ff25eb1d845",
   "metadata": {
    "tags": [
     "hide-cell"
    ]
   },
   "outputs": [],
   "source": [
    "# Run default config - may need to set full path here\n",
    "%run '../scripts/setup_notebook.py'\n",
    "\n",
    "# Override plotters backend?\n",
    "# plotBackend = 'pl'"
   ]
  },
  {
   "cell_type": "code",
   "execution_count": null,
   "id": "f45cf207-66ae-4a23-8bba-776b6e2eebe8",
   "metadata": {
    "tags": [
     "hide-output"
    ]
   },
   "outputs": [],
   "source": [
    "# Plot some distributions from specified BLMs\n",
    "\n",
    "# Set specific LM coeffs by list with setBLMs, items are [l,m,value(s)]\n",
    "# Multiple values are automatically assigned to an index 't'\n",
    "from epsproc.sphCalc import setBLMs\n",
    "\n",
    "BLM = setBLMs([[0,0,1,1,1,1,1,1],\n",
    "               [1,0,0,0.5,0.8,1,0.5,0],[1,-1,0,0.5,0.8,1,0.5,0],[1,1,0,0.5,-0.5,1,0.5,0],\n",
    "               [2,0,1,0.5,0,0,0.5,1],\n",
    "               [4,2,0,0,0,0.5,0.8,1],[4,-2,0,0,0,0,-0.8,1]])\n",
    "\n",
    "# Output a quick tabulation of the values with Pandas\n",
    "BLM.to_pandas()"
   ]
  },
  {
   "cell_type": "code",
   "execution_count": null,
   "id": "ad81359d-62a3-4f86-a968-9c2f958c3ef1",
   "metadata": {
    "tags": [
     "hide-output"
    ]
   },
   "outputs": [],
   "source": [
    "# Note also that the Xarray contains metadata (attributes) on type and normalisation\n",
    "# This uses the SHtools format specification.\n",
    "\n",
    "# Display full Xarray, including metadata \n",
    "BLM"
   ]
  },
  {
   "cell_type": "code",
   "execution_count": null,
   "id": "70d20896-5aea-458e-8a9b-1075a57e9695",
   "metadata": {
    "tags": []
   },
   "outputs": [],
   "source": [
    "# Show harmonics info only\n",
    "BLM.attrs['harmonics']"
   ]
  },
  {
   "cell_type": "code",
   "execution_count": null,
   "id": "70de0086-0cee-45c2-9fd7-34ca44776d32",
   "metadata": {
    "tags": [
     "hide-output"
    ]
   },
   "outputs": [],
   "source": [
    "# Plot some PADs from BLMs\n",
    "# Set the backend to 'pl' for an interactive surface plot with Plotly\n",
    "\n",
    "# Explict row,column layout setting for figure\n",
    "rc = [2,3]  \n",
    "\n",
    "# Compute expansions from BLM parameters and return figure objext\n",
    "dataPlot, figObj = ep.sphFromBLMPlot(BLM, facetDim='t', backend = plotBackend, rc=rc, plotFlag=True);"
   ]
  },
  {
   "cell_type": "code",
   "execution_count": null,
   "id": "f1dc304f-724a-450b-89ef-426065742510",
   "metadata": {
    "tags": [
     "hide-output",
     "hide-cell"
    ]
   },
   "outputs": [],
   "source": [
    "# Pass figure for Jupyter Book Glue \n",
    "# This will display only in notebook, or format with caption for HTML & PDF output.\n",
    "glue(\"padExamplePlot\", figObj[0])"
   ]
  },
  {
   "cell_type": "markdown",
   "id": "ca9cb53a-64c9-4511-9405-e21d9807d43f",
   "metadata": {},
   "source": [
    "```{glue:figure} padExamplePlot\n",
    "---\n",
    "name: \"fig-pads-example\"\n",
    "---\n",
    "Examples of angular distributions (expansions in spherical harmonics $Y_{L,M}$), for a range of cases indexed by $t$. Note that up-down asymmetry is associated with odd-$l$ contributions (e.g. $t=1,2$), breaking of cylindrical symmetry with $m\\neq0$ terms (all $t>0$), and asymmetries in the (x,y) plane (skew/directionality) with different $\\pm m$ terms (magnitude or phase, e.g. $t=2,3,4$). Higher-order $L,M$ terms have more nodes, and lead to more complex angular structures, as shown in the lower row ($t=3,4,5$).\n",
    "```"
   ]
  },
  {
   "cell_type": "code",
   "execution_count": null,
   "id": "c8e765d0-b0c2-4c59-927d-0c6602bf4732",
   "metadata": {
    "tags": [
     "hide-cell"
    ]
   },
   "outputs": [],
   "source": [
    "# Example using data class (see setup in init script)\n",
    "data = pemtkFit()\n",
    "\n",
    "BLM = setBLMs([[0,0,1,1,1,1],[1,0,0,0.5,0.8,1],[2,0,1,0.5,0,0],\n",
    "               [4,2,0,0,0,0.5],[4,-2,0,0,0,0.5]])\n",
    "\n",
    "data.setData('BLMtest', BLM)\n",
    "# data.padPlot(keys = 'BLMtest', dataType='AFBLM', Etype='t', facetDims=['t'], backend=plotBackend, plotFlag=False, returnFlag=True)  # Working\n",
    "data.padPlot(keys = 'BLMtest', dataType='AFBLM', Etype='t', backend=plotBackend)  # OK July 2023 builds.\n",
    "\n",
    "# And GLUE for display later with caption\n",
    "# figObj = data.data['BLMtest']['plots']['AFBLM']['polar'][0]\n",
    "# glue(\"padExamplePlot2\", figObj)"
   ]
  },
  {
   "cell_type": "code",
   "execution_count": null,
   "id": "9e5c2a80-4c81-47a1-876c-5780a67b0c3e",
   "metadata": {
    "tags": [
     "hide-cell"
    ]
   },
   "outputs": [],
   "source": [
    "# Some methods for tabulating the values for display\n",
    "\n",
    "# *** ePSproc tabulateLM function, but currently 1D only\n",
    "# from epsproc.sphFuncs.sphConv import tabulateLM\n",
    "# dataPD = tabulateLM(BLM.unstack())\n",
    "\n",
    "# *** General case - for any Xarray, use \"multiDimXrToPD\" function\n",
    "# from epsproc.util import multiDimXrToPD\n",
    "# dataPD, _ = multiDimXrToPD(BLM, colDims='t')\n",
    "\n",
    "# *** Use Xarray \"to_pandas()\" class method, for 1D or 2D arrays only\n",
    "dataPD = BLM.to_pandas()\n",
    "\n",
    "# Glue for later use\n",
    "glue(\"blm-tab\", BLM.to_pandas())"
   ]
  },
  {
   "cell_type": "markdown",
   "id": "0333085c-1343-436c-97d9-6f46c18adbd0",
   "metadata": {},
   "source": [
    "```{glue:figure} blm-tab\n",
    ":name: \"blm-tab\"\n",
    "\n",
    "Values used for the plots in {numref}`fig-pads-example`.\n",
    "```"
   ]
  },
  {
   "cell_type": "markdown",
   "id": "16f19dbe-44e7-40cf-bada-2cfaab3cc8b0",
   "metadata": {},
   "source": [
    "In general, the spherical harmonic rank and order $(L,M)$ of Eq. {eq}`eq:AF-PAD-general` are constrained by experimental factors in the {{ LF }} or {{ AF }}, and $n$ is effectively limited by the molecular alignment (which is correlated with the photon-order for gas phase experiments, or conservation of angular momentum in the {{ LF }} more generally {cite}`Yang1948`), but in the {{ MF }} is defined by the maximum continuum angular momentum $n=l_{max}$ imparted by the scattering event {cite}`Dill1976` (note lower-case $l$ here refers specifically to the continuum photoelectron wavefunction, see Eq. {eq}`eq:elwf`).\n",
    "\n",
    "For basic cases these limits may be low: for instance, a simple 1-photon photoionization event ($n=1$) from an isotropic ensemble (zero net ensemble angular momentum) defines $L_{max}=2$; for cylindrically symmetric cases (i.e. $D_{\\infty h}$ symmetry) $M=0$ only. For {{ MF }} cases, $l_{max}=4$ is often given as a reasonable rule-of-thumb for the continuum - hence $L_{max}=8$ - although in practice higher-$l$ may be populated. Some realistic example cases are discussed later ({{ PARTII }}), see also ref. {cite}`hockett2018QMP1` for more discussion and complex examples.\n",
    "\n",
    "In general, these observables may also be dependent on various other parameters; in Eq. {eq}`eq:AF-PAD-general` two such parameters, $(\\epsilon,t)$, are included, as the usual variables of interest. Usually $\\epsilon$ denotes the photoelectron energy, and $t$ is used in the case of time-dependent (usually pump-probe) measurements. As discussed in {numref}`Sect. %s <sec:dynamics-intro>`, the origin of such dependencies may be complicated but, in general, the associated photoionization matrix elements are energy-dependent, and time-dependence may also appear for a number of intrinsic or extrinsic (experimental) reasons, e.g. electronic or nuclear dynamics, rotational (alignment) dynamics, electric field dynamics etc. In many cases only one particular aspect may be of interest, so $t$ can be used as a generic label to index changes as per {numref}`fig-pads-example`."
   ]
  },
  {
   "cell_type": "markdown",
   "id": "dcbc8ee5-bd5c-40c9-9739-e24d64bd1535",
   "metadata": {
    "tags": []
   },
   "source": [
    "(sec:theory:sym-harm-into)=\n",
    "## Symmetrized harmonics\n",
    "\n",
    "Symmetrized (or generalised) harmonics, which essentially provide correctly symmetrized expansions of spherical harmonics ($Y_{LM}$) functions for a given irreducible representation, $\\Gamma$, of the molecular point-group can be defined by linear combinations of spherical harmonics {cite}`Altmann1963a,Altmann1965,Chandra1987`:\n",
    "\n",
    "$$\n",
    "X_{hl}^{\\Gamma\\mu*}(\\theta,\\phi)=\\sum_{\\lambda}b_{hl\\lambda}^{\\Gamma\\mu}Y_{l,\\lambda}(\\theta,\\phi)\n",
    "$$ (eq:symHarm-defn)\n",
    "\n",
    "where: \n",
    "    \n",
    "- $\\Gamma$ is an irreducible representation;\n",
    "- $(l, \\lambda)$ define the usual spherical harmonic indices (rank, order), but note the use of $(l, \\lambda)$ by convention, since these harmonics are usually referenced to the {{ MF }};\n",
    "- $b_{hl\\lambda}^{\\Gamma\\mu}$ are symmetrization coefficients;\n",
    "- index $\\mu$ allows for indexing of degenerate components (note here the unfortunate convention that the label $\\mu$ is also used for photon projection terms in general, as per {numref}`Sect. %s <sec:full-tensor-expansion>` - in ambiguous cases the symmetrization term will instead be labelled herein as $\\mu_X$, although in many cases may actually be redundant and safely dropped from the symmetrization coefficients);\n",
    "- $h$ indexes cases where multiple components are required with all other quantum numbers identical. \n",
    "\n",
    "\n",
    "Analogously to Eq. {eq}`eq:AF-PAD-general`, a general expansion of an observable in the symmetrized harmonic basis set can then be defined as:\n",
    "\n",
    "$$\n",
    "\\bar{I}^{\\Gamma}(\\epsilon,t,\\theta,\\phi) = \\sum_{\\Gamma\\mu hl}\\bar{\\beta}_{hl}^{\\Gamma\\mu}(\\epsilon,t)X_{hl}^{\\Gamma\\mu*}(\\theta,\\phi)\n",
    "$$ (eq:AF-PAD-general-symHarm)\n",
    "\n",
    "Alternatively, by substitution into Eq. {eq}`eq:AF-PAD-general`, and assigning $l=L$ and $\\lambda=M$, a general symmetrized expansion may also be defined as:\n",
    "\n",
    "$$\n",
    "\\begin{align}\n",
    "\\bar{I}(\\epsilon,t,\\theta,\\phi)=\\sum_{\\Gamma\\mu h}\\sum_{L=0}^{2n}\\sum_{M=-L}^{L}b_{hLM}^{\\Gamma\\mu}\\bar{\\beta}_{L,M}(\\epsilon,t)Y_{L,M}(\\theta,\\phi)\n",
    "\\end{align}\n",
    "$$ (eq:AF-PAD-general-symHarm-subs)\n",
    "\n",
    "However, in many cases the symmetrization coefficients are subsumed into the {{ BLM }} terms (or underlying matrix elements); in this case a simplified symmetrized expansion can be defined as:\n",
    "\n",
    "$$\n",
    "\\begin{align}\n",
    "\\bar{I}^{\\Gamma}(\\epsilon,t,\\theta,\\phi)=\\sum_{L=0}^{2n}\\sum_{M=-L}^{L}\\bar{\\beta}^{\\Gamma}_{L,M}(\\epsilon,t)Y_{L,M}(\\theta,\\phi)\n",
    "\\end{align}\n",
    "$$ (eq:AF-PAD-general-sym-betas)\n",
    "\n",
    "Where the expansion is defined for a given symmetry and irreducible representation with the shorthand $\\Gamma$; in many systems a single label may be sufficient here, since allowed $(L,M)$ terms will be defined uniquely by irreducible representation, although multiple quantum numbers may be required for unique definition in the most general cases as per Eq. {eq}`eq:symHarm-defn` (e.g. for cases with degenerate components). Further details and usage in relation to channel functions are also discussed in {numref}`Sect. %s <sec:tensor-formulation>` (see, in particular, Eq. {eq}`eqn:channel-fns` for a similar general case), and in relation to fitting for specific cases in {ref}`Part II <chpt:extracting-matrix-elements-overview>`.\n",
    "\n",
    "The exact form of these coefficients will depend on the point-group of the system, see, e.g. Refs. {cite}`Chandra1987,Reid1994`. Numerical routines for the generation of symmetrized harmonics are implemented in {{ PEMtk_repo }}: point-groups, character table generation and symmetrization (computing $b_{hl\\lambda}^{\\Gamma\\mu}$ parameters) is handled by {{ libmsym }}; additional handling also makes use of {{ shtools }}. \n",
    "\n",
    "A brief numerical example is given below, and more details can be found in the {{ PEMtk_docs }}. In this case, full tabulations of the parameters list all $b_{hLM}^{\\Gamma\\mu}$ for each irreducible representation, and the corresponding PADs are illustrated in {numref}`fig-symHarmPADs-example`.\n",
    "\n",
    "% A brief numerical example is given below, for {glue:text}`symHarmPG` symmetry ($l_{max}=${glue:text}`symHarmLmax`), and more details can be found in the {{ PEMtk_docs }}. In this case, full tabulations of the parameters lists all $b_{hLM}^{\\Gamma\\mu}$ for each irreducible representation, and the corresponding PADs are illustrated in {numref}`fig-symHarmPADs-example`.\n",
    "\n",
    "% TODO: link to symmetrized matrix elements given later?"
   ]
  },
  {
   "cell_type": "markdown",
   "id": "922a4783-4a2c-4a34-94ac-021bf1a5c4d4",
   "metadata": {
    "tags": []
   },
   "source": [
    "````{margin}\n",
    "```{note}\n",
    "Full tabulations of the parameters available in HTML or notebook formats only.\n",
    "```\n",
    "````"
   ]
  },
  {
   "cell_type": "code",
   "execution_count": null,
   "id": "e099cafb-f6d1-455a-8f04-6eaae39c51d2",
   "metadata": {
    "tags": [
     "hide-output"
    ]
   },
   "outputs": [],
   "source": [
    "# Import class\n",
    "from pemtk.sym.symHarm import symHarm\n",
    "\n",
    "# Compute hamronics for Td, lmax=4\n",
    "sym = 'Td'\n",
    "lmax=6\n",
    "\n",
    "symObj = symHarm(sym,lmax)\n",
    "\n",
    "# Character tables can be displayed - this will render directly in a notebook.\n",
    "symObj.printCharacterTable()"
   ]
  },
  {
   "cell_type": "code",
   "execution_count": null,
   "id": "d641dc94-4d2a-44ba-a771-3281a8b1d726",
   "metadata": {
    "tags": [
     "hide-output",
     "hide-cell"
    ]
   },
   "outputs": [],
   "source": [
    "# Glue items for later\n",
    "glue(\"symHarmPG\", sym, display=False)\n",
    "glue(\"symHarmLmax\", lmax, display=False)\n",
    "glue(\"charTab\",symObj.printCharacterTable(returnPD=True), display=False)  # As above, but with PD object return and glue."
   ]
  },
  {
   "cell_type": "markdown",
   "id": "e889b83d-9602-48f5-9846-e3e9fa5bc425",
   "metadata": {
    "tags": [
     "remove-cell"
    ]
   },
   "source": [
    "% Test version - not centred, also issues with subs parsing?\n",
    "% TODO: test in-line style too, might be better?\n",
    "% NOTE 28/11/22: this is currently throwing compilation errors, \"! Paragraph ended before \\Hy@tempa was complete.\" Not sure why, something in parsing order or substitution? Renders OK in output.\n",
    "% OK without subs (or links?).\n",
    "% NOW FIXED - latex preamble hack in _config.yml\n",
    "\n",
    "```{glue:figure} charTab\n",
    "---\n",
    "name: \"tab-charTable-example\"\n",
    "align: center\n",
    "---\n",
    "Example character table for {glue:text}`symHarmPG` symmetry generated with the {{ PEMtk_repo }} wrapper for {{ libmsym }}.\n",
    "```"
   ]
  },
  {
   "cell_type": "markdown",
   "id": "25bd925f-8880-4c69-89e9-0196d25e3e95",
   "metadata": {},
   "source": [
    "```{glue:figure} charTab\n",
    "---\n",
    "name: tab-charTable-example\n",
    "align: center\n",
    "---\n",
    "Example character table for {glue:text}`symHarmPG` symmetry generated with the {{ PEMtk_repo }} wrapper for {{ libmsym }}.\n",
    "```"
   ]
  },
  {
   "cell_type": "code",
   "execution_count": null,
   "id": "4b7f9659-d9a6-4620-9ab0-f7a6666c53f7",
   "metadata": {
    "tags": [
     "hide-output"
    ]
   },
   "outputs": [],
   "source": [
    "# The full set of expansion parameters can be tabulated\n",
    "\n",
    "# pd.set_option('display.max_rows', 100)\n",
    "\n",
    "symObj.displayXlm()  # Display values (note this defaults to REAL harmonics)\n",
    "# symObj.displayXlm(YlmType='comp')   # Display values for COMPLEX harmonic expansion."
   ]
  },
  {
   "cell_type": "code",
   "execution_count": null,
   "id": "02d8994a-e226-4620-b050-0033fc430bb5",
   "metadata": {
    "tags": [
     "hide-output"
    ]
   },
   "outputs": [],
   "source": [
    "# To plot using ePSproc/PEMtk class, these values can be converted to ePSproc BLM data type...\n",
    "\n",
    "# Run conversion - the default is to set the coeffs to the 'BLM' data type\n",
    "symObj.toePSproc()\n",
    "\n",
    "# Set to new key in data class\n",
    "data.data['symHarm'] = {}\n",
    "\n",
    "for dataType in ['BLM']:  #['matE','BLM']:\n",
    "    # Select expansion in complex harmonics\n",
    "    data.data['symHarm'][dataType] = symObj.coeffs[dataType]['b (comp)']  \n",
    "    data.data['symHarm'][dataType].attrs = symObj.coeffs[dataType].attrs\n",
    "    \n",
    "# Plot full harmonics expansions, plots by symmetry\n",
    "# Note 'squeeze=True' to force drop of singleton dims may be required.\n",
    "# data.padPlot(keys='symHarm',dataType='BLM', facetDims = ['Cont'], squeeze = True, backend=plotBackend)\n",
    "\n",
    "# As above, with some additional layout options\n",
    "rc = [2,3]  # Explict layout setting\n",
    "data.padPlot(keys='symHarm',dataType='BLM', facetDims = ['Cont'], squeeze = True, backend=plotBackend, \n",
    "             rc = rc, plotFlag=False, returnFlag=True)\n",
    "figObj = data.data['symHarm']['plots']['BLM']['polar'][0]\n",
    "\n",
    "# And GLUE for display later with caption\n",
    "gluePlotly(\"symHarmPADs\", figObj)"
   ]
  },
  {
   "cell_type": "markdown",
   "id": "79f91daa-45e0-448d-9a57-ec5a377a6d2d",
   "metadata": {},
   "source": [
    "```{glue:figure} symHarmPADs\n",
    "---\n",
    "name: \"fig-symHarmPADs-example\"\n",
    "---\n",
    "Examples of angular distributions from expansions in symmetrized harmonics $X_{hl}^{\\Gamma\\mu*}(\\theta,\\phi)$, for all irreducible representations in {glue:text}`symHarmPG` symmetry ($l_{max}=${glue:text}`symHarmLmax`). (Note $A_2$ only has components for $l\\geq 6$.)\n",
    "```"
   ]
  },
  {
   "cell_type": "markdown",
   "id": "1f9f6697-0906-4f16-9820-c393fe1e54b0",
   "metadata": {},
   "source": [
    "### Real & complex forms\n",
    "\n",
    "By convention, the complex form of the spherical harmonics are usually used for photoionization problems. However, real harmonics are also in common use (and have already appeared in the numerical routines above). The relationships can be defined as (per [the Wikipaedia definitions](https://en.wikipedia.org/wiki/Spherical_harmonics#Real_form) {cite}`wikiSphericalHarmonics`):\n",
    "\n",
    "$$\n",
    "\\begin{aligned}\n",
    "Y_{\\ell m}&={\\begin{cases}{\\dfrac {i}{\\sqrt {2}}}\\left(Y_{\\ell }^{m}-(-1)^{m}\\,Y_{\\ell }^{-m}\\right)&{\\text{if}}\\ m\\lt0\n",
    "\\\\Y_{\\ell }^{0}&{\\text{if}}\\ m=0\n",
    "\\\\{\\dfrac {1}{\\sqrt {2}}}\\left(Y_{\\ell }^{-m}+(-1)^{m}\\,Y_{\\ell }^{m}\\right)&{\\text{if}}\\ m\\gt0.\\end{cases}}\n",
    "\\\\&={\\begin{cases}{\\dfrac {i}{\\sqrt {2}}}\\left(Y_{\\ell }^{-|m|}-(-1)^{m}\\,Y_{\\ell }^{|m|}\\right)&{\\text{if}}\\ m\\lt0\n",
    "\\\\Y_{\\ell }^{0}&{\\text{if}}\\ m=0\n",
    "\\\\{\\dfrac {1}{\\sqrt {2}}}\\left(Y_{\\ell }^{-|m|}+(-1)^{m}\\,Y_{\\ell }^{|m|}\\right)&{\\text{if}}\\ m\\gt0.\\end{cases}}\n",
    "\\\\&={\\begin{cases}{\\sqrt {2}}\\,(-1)^{m}\\,\\Im [{Y_{\\ell }^{|m|}}]&{\\text{if}}\\ m\\lt0\n",
    "\\\\Y_{\\ell }^{0}&{\\text{if}}\\ m=0\n",
    "\\\\{\\sqrt {2}}\\,(-1)^{m}\\,\\Re [{Y_{\\ell }^{m}}]&{\\text{if}}\\ m\\gt0.\\end{cases}}\n",
    "\\end{aligned}\n",
    "$$ (eq:re-complex-YLM)\n",
    "\n",
    "Where the notation here uses $Y_{\\ell m}$ for real harmonics, and $Y_{\\ell }^{m}$ for complex.\n",
    "\n",
    "\n",
    "Conversion between types is handled in the {{ ePSproc_full }} either directly or via the {{ shtools }} library, and objects usually have the type specified in their metadata (if missing, they are assumed to be complex). The symmetry routines outlined above automatically compute both types, and these are available in the output data structure (see the {{ PEMtk_docs }} for further details and examples, and the [\"Working with real spherical harmonics\"](https://epsproc.readthedocs.io/en/dev/special_topics/ePSproc_docs_working_with_real_harmonics_220922.html) note from the {{ ePSproc_docs }}, and the [relevant pySHtools documentation pages](https://shtools.github.io/SHTOOLS/real-spherical-harmonics.html))."
   ]
  },
  {
   "cell_type": "code",
   "execution_count": null,
   "id": "2d3615d6-31ea-4fae-ba3c-bae1bd2659b0",
   "metadata": {
    "tags": [
     "hide-output"
    ]
   },
   "outputs": [],
   "source": [
    "# Display complex values\n",
    "symObj.displayXlm(YlmType='comp')   # Display values for COMPLEX harmonic expansion."
   ]
  },
  {
   "cell_type": "code",
   "execution_count": null,
   "id": "92af789c-b015-4358-b35d-534a9368db11",
   "metadata": {
    "tags": []
   },
   "outputs": [],
   "source": [
    "# Access complex values from SH tools objects\n",
    "# SHtools object are stored in nested dicts by character and type\n",
    "print(symObj.coeffs['SH']['A1'].keys())\n",
    "print(symObj.coeffs['SH']['A1']['comp'])"
   ]
  },
  {
   "cell_type": "code",
   "execution_count": null,
   "id": "c34ee927-0a58-4835-8a0a-5dd9d8f4f0f1",
   "metadata": {
    "tags": [
     "hide-output"
    ]
   },
   "outputs": [],
   "source": [
    "# Similarly Xarray forms include both types\n",
    "symObj.coeffs['XR']"
   ]
  },
  {
   "cell_type": "code",
   "execution_count": null,
   "id": "23ade1a5-9fd3-41b5-8ad8-2eca460ad69c",
   "metadata": {
    "tags": [
     "hide-cell",
     "hide-output"
    ]
   },
   "outputs": [],
   "source": [
    "# Example conversion routine\n",
    "from epsproc.sphCalc import setBLMs\n",
    "from epsproc.sphFuncs.sphConv import *\n",
    "\n",
    "# Set a basic distribution of REAL harmonics\n",
    "BLMre = setBLMs([[0,0,1],[1,1,1],[2,2,1]], kind='real').squeeze(drop=True)\n",
    "\n",
    "# Convert to complex form\n",
    "BLMim = sphRealConvert(BLMre)\n",
    "\n",
    "# Plot for visual comparison\n",
    "backend='pl'\n",
    "Itp, fig = ep.sphFromBLMPlot(BLMre, plotFlag = True, backend = backend) \n",
    "ItpCSH, fig = ep.sphFromBLMPlot(BLMim, plotFlag = True, backend = backend)\n",
    "\n",
    "# Difference plot\n",
    "# ep.sphSumPlotX(ItpCSH - Itp, facetDim=None, backend=backend);\n",
    "# Numerical diff\n",
    "print(f\"Max difference complex-real: {((ItpCSH - Itp)**2).max()}\")\n",
    "\n",
    "\n",
    "\n",
    "#*** Complex and real harmonics can also be generated directly\n",
    "# Generate complex harmonics\n",
    "IC = ep.sphCalc(Lmax = 2, res = 50)\n",
    "# Generate real harmonics\n",
    "IR = ep.sphCalc(Lmax = 2, res = 50, fnType='real')\n",
    "\n",
    "\n",
    "#*** Direct Xarray tensor multiplication - this will correctly handle dimensions if names match.\n",
    "Iim = BLMim.rename({'BLM':'LM'}).squeeze(drop=True) * IC\n",
    "ep.sphSumPlotX(Iim, facetDim=None, backend=backend);  # Note this may need facetDim set explicitly here for non-1D cases"
   ]
  },
  {
   "cell_type": "code",
   "execution_count": null,
   "id": "4156d964-ba19-41f6-8075-31341d868941",
   "metadata": {
    "tags": [
     "remove-cell"
    ]
   },
   "outputs": [],
   "source": [
    "ItpCSH"
   ]
  },
  {
   "cell_type": "markdown",
   "id": "4c3b1c41-e68d-4e33-b91c-de7f632200c2",
   "metadata": {},
   "source": [
    "## Legendre polynomials\n",
    "\n",
    "Finally, it is of note that Legendre polynomial expansions are also in common use in the description of photoionization obsevables. These are suitable for cylindrically symmetric cases only, and form a subset of the general spherical harmonic case. Using the same notation as Eq. {eq}`eq:AF-PAD-general`, the 1D expansion can be given as:\n",
    "\n",
    "$$\n",
    "\\bar{I}(\\epsilon,t,\\theta)=\\sum_{L=0}^{2n}\\bar{\\beta}_{L}(\\epsilon,t)P_{L}(\\cos(\\theta))\n",
    "$$ (eq:AF-PAD-Lg)\n",
    "\n",
    "Where $P_{L}(\\cos(\\theta))$ are Legendre polynomials in $\\cos(\\theta)$ (equivalently, associated Legendre polynomials $P_{L}^{M=0}(\\cos(\\theta))$). Note that, since the normalisation is different, care must be taken when comparing associated anisotropy parameters between Legendre polynomial and spherical harmonic expansions. Specifically:\n",
    "\n",
    "$$\n",
    "\\beta^{Sph}_{L,0} = \\sqrt{(2L+1)/4\\pi}\\beta^{Lg}_{L}\n",
    "$$ (eq:Lg-Sph-conv)\n",
    "\n",
    "Where $Sph$ and $Lg$ labels have been added to make explicit that the expansion parameters in the spherical harmonic and Legndre polynomial basis sets respectively.\n",
    "\n",
    "Herein only spherical harmonic expansions are used, but the {{ ePSproc_full }} does include a conversion routine to convert expansion parameters as required. Again more information can be found in the {{ ePSproc_docs }}, particularly the [\"Working with spherical harmonics\"](https://epsproc.readthedocs.io/en/dev/special_topics/ePSproc_docs_working_with_spherical_harmonics_200922.html) notebook."
   ]
  },
  {
   "cell_type": "code",
   "execution_count": null,
   "id": "bb20a78b-454a-40eb-9d69-77ca3bfa1cf1",
   "metadata": {
    "tags": [
     "hide-output"
    ]
   },
   "outputs": [],
   "source": [
    "# Set example BLMs and convert to Lg basis\n",
    "# Note 'renorm=True' setting to renorm by B0 (will affect abs value of B0, but not form of distribution)\n",
    "# Note also 'harmonics' and 'normType' specifications in output data.\n",
    "\n",
    "BLMsph = setBLMs([[0,0,1],[1,0,0.5],[2,0,0.8]]).squeeze(drop=True)\n",
    "BLMlg = ep.util.conversion.conv_BL_BLM(BLMsph, to = 'lg', renorm = True)\n",
    "BLMlg"
   ]
  },
  {
   "cell_type": "code",
   "execution_count": null,
   "id": "42a55a94-b97e-4d84-aca5-6cc7906fae87",
   "metadata": {
    "tags": [
     "hide-cell",
     "hide-output"
    ]
   },
   "outputs": [],
   "source": [
    "# Plot distributions to test...\n",
    "Isph, fig1 = ep.sphFromBLMPlot(BLMsph, plotFlag = True, backend = backend) #, facetDim='t')\n",
    "Ilg, fig2 = ep.sphFromBLMPlot(BLMlg, plotFlag = True, backend = backend)  #, facetDim='t')\n",
    "\n",
    "# Difference plot\n",
    "# ep.sphSumPlotX(Isph - Ilg, backend=backend);\n",
    "# Numerical diff - NOTE this will not be zero if renorm=True\n",
    "print(f\"Max difference complex-lg: {((Isph - Ilg)**2).max()}\")\n",
    "\n",
    "# Generate Lg functions directly\n",
    "# Ilg = ep.sphCalc(Lmax = 2, res = 50, fnType='lg')"
   ]
  },
  {
   "cell_type": "markdown",
   "id": "b866c054-26ef-404b-8a60-81dcb851c1d7",
   "metadata": {
    "tags": []
   },
   "source": [
    "## Time-resolved datasets\n",
    "\n",
    "In general, the datasets from a time-resolved measurement can be expressed as some form of {{ betas }}, as outlined above. In a similar manner to the {{ ADMs }} detailed in {numref}`Sect. %s <sect:theory:alignment>`, the {{ BLMt }} can be plotted directly, or expanded as distributions. A brief demonstration is given below, making use of the $N_2$ dataset explored in the case study in {numref}`Chpt. %s <chpt:n2-case-study>`, for further details of the computational and plotting tools see {{ PARTII }}, and the {{ ePSproc_docs }} and {{  PEMtk_docs }}."
   ]
  },
  {
   "cell_type": "code",
   "execution_count": null,
   "id": "00047b8a-9dfd-445d-8ffe-35046a41747f",
   "metadata": {
    "tags": [
     "hide-output"
    ]
   },
   "outputs": [],
   "source": [
    "# Configure settings for case study\n",
    "# %run '../scripts/setup_notebook.py'\n",
    "\n",
    "# Fitting setup including data generation and parameter creation\n",
    "# NOTE this assumes relevant data is available in ../part2/n2fitting.\n",
    "# See Part 2 for more details and data sources\n",
    "fitSystem = 'N2'\n",
    "dataName = 'n2fitting'\n",
    "\n",
    "# Set datapath, \n",
    "dataPath = Path(Path.cwd().parent,'part2',dataName)\n",
    "\n",
    "# Run general config script with dataPath set above\n",
    "%run \"../scripts/setup_fit_case-studies_270723.py\" -d {dataPath} -c {fitSystem}"
   ]
  },
  {
   "cell_type": "code",
   "execution_count": null,
   "id": "ef63836b-ea7a-458c-92b6-53fe3cc0cd59",
   "metadata": {},
   "outputs": [],
   "source": [
    "# Compute AFBLMs for all matrix elements (energies) for selected orbital\n",
    "# (Note the main fitting script only computes for a single E-point.)\n",
    "# Use ADMs from fitting subset\n",
    "orbKey = 'orb5'\n",
    "data.AFBLM(keys = orbKey, AKQS = data.data['subset']['ADM'],\n",
    "           selDims = {'Type':'L'}, thres=1e-2)"
   ]
  },
  {
   "cell_type": "code",
   "execution_count": null,
   "id": "edf47271-4425-478e-a506-d1b7dfcc3691",
   "metadata": {},
   "outputs": [],
   "source": [
    "# Default plot with Holoviews/Bokeh\n",
    "# Will plot BLM(E,t) data with selectors & sliders for other dimensions\n",
    "data.BLMplot(keys=orbKey, backend='hv')"
   ]
  },
  {
   "cell_type": "code",
   "execution_count": null,
   "id": "c8200c82-f72d-41df-bb59-f1177eb84192",
   "metadata": {},
   "outputs": [],
   "source": [
    "# For a full BLM(E,t) surface, the output Holoviews dataset can be used.\n",
    "# See the Holoviews (https://holoviews.org) and HVplot (https://hvplot.holoviz.org) docs for more details\n",
    "\n",
    "# Set opts to match sizes - should be able to link plots or set gridspace to handle this?\n",
    "ep.plot.hvPlotters.setPlotDefaults(fSize = [750,300], imgSize = 600)\n",
    "\n",
    "# Plot heatmap for l=2 vs. Eke and add ADM plot to layout with hvplot\n",
    "(data.plots['BLMplot']['hvDS'].select(l=[2]).to(hv.HeatMap, kdims=['t','Eke']).opts(cmap='coolwarm')  + \n",
    "    data.data['subset']['ADM'].unstack().sel({'K':[2,4]}).squeeze().real.hvplot.line(x='t').overlay('K')).cols(1)"
   ]
  },
  {
   "cell_type": "code",
   "execution_count": null,
   "id": "cd81e624-68df-4f90-a9ed-fd7bfe84cf3e",
   "metadata": {},
   "outputs": [],
   "source": [
    "# Similarly, AFPADs can be plotted.\n",
    "# Plot I(theta,t) for a single E\n",
    "# %matplotlib inline\n",
    "dataKey = 'subset'  # Use subset data set for fitting\n",
    "data.padPlot(keys = dataKey, dataType='AFBLM', selDims={'Labels':'A'}, \n",
    "             Etype = 't', pStyle='grid', reducePhi='sum', \n",
    "             returnFlag = True)"
   ]
  },
  {
   "cell_type": "code",
   "execution_count": null,
   "id": "0cd6ab24-be44-4d3e-ad58-b28d18d5d5f8",
   "metadata": {
    "tags": [
     "remove-cell"
    ]
   },
   "outputs": [],
   "source": [
    "# CASES FOR Eke subplots - need debugging\n",
    "# dataKey = 'subset'  # Use subset data set for fitting\n",
    "# data.padPlot(keys = orbKey, dataType='AFBLM', selDims={'Labels':'A','Eke':[1.1, 5.1, 10.1]}, facetDims=['Eke'],\n",
    "#              Etype = 't', pStyle='grid', reducePhi='sum', returnFlag = True)\n",
    "\n",
    "# data.padPlot(keys = orbKey, dataType='AFBLM', selDims={'Labels':'A'}, facetDims=['Eke'],\n",
    "#              Etype = 't', pStyle='grid', reducePhi='sum', returnFlag = True)"
   ]
  },
  {
   "cell_type": "code",
   "execution_count": null,
   "id": "bc0c80a2-728b-4d4d-8d7e-7d476d43b3b4",
   "metadata": {
    "tags": []
   },
   "outputs": [],
   "source": [
    "# Plot I(theta,phi) at selected t\n",
    "data.padPlot(keys = dataKey, dataType='AFBLM', selDims={'Labels':'A'}, \n",
    "             Erange=[4,5,5], Etype = 't', returnFlag = True, backend='pl')"
   ]
  },
  {
   "cell_type": "code",
   "execution_count": null,
   "id": "b539b8aa-c31f-41f4-99de-236835f16edd",
   "metadata": {
    "tags": [
     "remove-cell"
    ]
   },
   "outputs": [],
   "source": [
    "!date"
   ]
  },
  {
   "cell_type": "markdown",
   "id": "f51c5901-6fcf-4690-89ee-1dcc49958a0d",
   "metadata": {
    "tags": [
     "remove-cell"
    ]
   },
   "source": [
    "Quick maths test - see formatting test doc for more details.\n",
    "\n",
    "$\\boldsymbol{\\mathbf{E}}$\n",
    "\n",
    "$\\mathbf{E}$\n",
    "\n",
    "$\\boldsymbol{E}$ or $\\mathbf{E}$ or $\\bm{E}$ should be equivalent.\n",
    "\n",
    "$$\\hat{\\Gamma}(\\boldsymbol{\\mathbf{E}}) = \\hat{\\mathbf{\\mu}}.\\boldsymbol{\\mathbf{E}}$$\n",
    "\n",
    "$$\\Psi_\\mathbf{k}(\\bm{r})\\equiv\\left<\\bm{r}|\\mathbf{k}\\right> = \\sum_{lm}Y_{lm}(\\mathbf{\\hat{k}})\\psi_{lm}(\\bm{r},k)\n",
    "\\label{eq:elwf}$$"
   ]
  },
  {
   "cell_type": "code",
   "execution_count": null,
   "id": "0bff74fd-ee79-40af-b9ca-16955b836b3f",
   "metadata": {
    "tags": [
     "remove-cell"
    ]
   },
   "outputs": [],
   "source": [
    "# Quick PD table render test\n",
    "setCols = 'l'\n",
    "inputData = symObj.coeffs['DF']['real'].copy().unstack(level=setCols).fillna('')"
   ]
  }
 ],
 "metadata": {
  "jupytext": {
   "formats": "ipynb,md:myst"
  },
  "kernelspec": {
   "display_name": "Python 3 (ipykernel)",
   "language": "python",
   "name": "python3"
  },
  "language_info": {
   "codemirror_mode": {
    "name": "ipython",
    "version": 3
   },
   "file_extension": ".py",
   "mimetype": "text/x-python",
   "name": "python",
   "nbconvert_exporter": "python",
   "pygments_lexer": "ipython3",
   "version": "3.10.11"
  }
 },
 "nbformat": 4,
 "nbformat_minor": 5
}
