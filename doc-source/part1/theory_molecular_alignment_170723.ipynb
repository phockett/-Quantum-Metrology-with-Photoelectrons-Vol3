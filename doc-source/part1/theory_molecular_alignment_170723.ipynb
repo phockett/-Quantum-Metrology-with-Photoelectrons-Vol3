{
 "cells": [
  {
   "cell_type": "markdown",
   "id": "c5fd6564-a504-49f1-a576-954cb7a38ea7",
   "metadata": {
    "tags": [
     "remove-cell"
    ]
   },
   "source": [
    "17/07/23\n",
    "\n",
    "- Added stub for this.\n",
    "\n",
    "TO DO:\n",
    "\n",
    "- Theory from MF recon paper and OCS notes (https://phockett.github.io/ePSdata/OCS-preliminary/OCS_orbs8-11_AFBLMs_VM-ADMs_140122-JAKE_tidy-replot-200722_v5.html)\n",
    "- Numerical examples and visualisation.\n",
    "  - 19/07/23 added text & OCS vis. Note plotting broken in pre 17/07/23 builds.\n",
    "              May want to switch to N2 for demo?\n",
    "              Also note P(theta) distributions may need A000/2pi?  Not sure - should integrate to one I think.\n",
    "              UPDATE: test build didn't work properly, need to use subselected ADMs for script-loaded case?\n",
    "              May want to switch to N2 case for simplicity.\n",
    "  - TRY OLDER MATPLOTLIB VERSION - working in Stimpy build.\n",
    "  - UPDATE: \n",
    "      - actually, it's the molplot setup part that's failing in newer builds, can ignore for now.\n",
    "      - BUT only on a rerun of the notebook, seems related to when %matplotlib inline is called, and what is in the buffer...?\n",
    "      - Working in current build after `pip install matplotlib==3.5`, although still getting inconsistent behaviour with Mol Plot (which seems to be the source of the issues). Go with this for now.\n",
    "      - 22/07/23, working v3.5.3 BUT ONLY with `%matplotlib inline` included at beginning of ADM plotting cell, otherwise get callback errors again. Weird. UPDATE: looks like Arrow3D issue, see note to fix https://github.com/phockett/Quantum-Metrology-with-Photoelectrons-Vol3/issues/11\n",
    "      - 22/07/23, added some extra plot tests and GLUE tests (to finish).\n",
    "      - 29/07/23, switched to N2 case, more interesting for plots. STILL NEEDS A TIDY."
   ]
  },
  {
   "cell_type": "markdown",
   "id": "00b6e312-d464-4565-ad18-c12bd216a8f6",
   "metadata": {},
   "source": [
    "(sect:theory:alignment)=\n",
    "# Molecular alignment\n",
    "\n",
    "## A very brief introduction to molecular alignment\n",
    "\n",
    "The term {term}`molecular alignment` can be used, in general, to define any case where the {{ MF }} is specified relative to the {{ LF }} in some way - for instance if the molecular symmetry axis is constrained to the {{ LF }} $z$-axis. Herein, it is generally used more specifically, to refer to the case of a (time-dependent) aligned molecular ensemble in gas-phase experiments (e.g. as illustrated in {numref}`fig-bootstrap-concept-outline`). Any such axis distribution, in which there is a defined arrangement of axes created in the {{ LF }}, can be discussed, and characterised, in terms of the axis distribution moments ({{ ADMs }}), which have already been introduced passing in {numref}`Sect. %s <sec:tensor-formulation>`. More specifically, {{ ADMs }} are coefficients in a multipole expansion, usually in terms of {{ WIGNERD }}, of the molecular axis probability distribution. In this section some additional definitions are given, along with numerical examples. \n",
    "\n",
    "The creation of an aligned ensemble in the gas phase can be achieved via a single, or sequence of, N-photon transitions, or strong-field mediated techniques. Of the latter, adiabatic and non-adiabatic alignment methods are particularly powerful, and make use of a strong, slowly-varying or impulsive laser field respectively. (Here the \"slow\" and \"impulsive\" time-scales are defined in relation to molecular rotations, roughly on the ps time-scale, with ns and fs laser fields corresponding to the typical slow and fast control fields.) In the former case, the molecular axis, or axes, will gradually align along the electric-field vector(s) while the field is present. In the latter, impulsive case, a broad rotational wavepacket ({{ RWP }}) can be created, initiating complex rotational dynamics including field-free revivals of ensemble alignment. For further general discussion, there is a rich literature on molecular alignment available, see, for instance, Refs. {cite}`Stapelfeldt2003,hasegawa2015NonadiabaticMolecularAlignment, koch2019QuantumControlMolecular,nielsen2022Helium` for reviews and further introductory materials, and further discussion in the current context can be found in {{ QM12 }} and Refs. {cite}`Reid2000, Underwood2000, Ramakrishna2012, Ramakrishna2013, hockett2015GeneralPhenomenologyIonization, hockett2023TopicalReviewExtracting` and references therein.\n",
    "\n",
    "For {{ RADMATE }} retrieval problems based on {{ RWP }} methods, the absolute degree of alignment may - or may not - be critical in a given case. The sampling of a range of *different* alignments, however, is vital, since this directly feeds into the information content of the measurements (see {numref}`Sect. %s <sec:theory:AF-alignment-term>` and {numref}`Sect. %s <sec:info-content>`). In the case-studies of {{ PARTII }}, the {{ ADMs }} are assumed to be known, but in general these must be determined from experimental data, this is discussed in {numref}`Sect. %s <sect:numerics:alignment-retrieval>`."
   ]
  },
  {
   "cell_type": "markdown",
   "id": "c068f3bd-5626-4666-ba6e-da37259cfb25",
   "metadata": {},
   "source": [
    "## Alignment distribution moments (ADMs)\n",
    "\n",
    "The parametrization of an aligned distribution can be given generally by an expansion in {{ WIGNERD }}:\n",
    "\n",
    "$$ \n",
    "P(\\Omega,t) = \\sum_{K,Q,S} A^K_{Q,S}(t)D^K_{Q,S}(\\Omega)\n",
    "$$ (eqn:P-omega-t)\n",
    "\n",
    "Where $P(\\Omega,t)$ is the full axis distribution probability, expanded for a set of {{ EULER }} $\\Omega$, and the expansion parameters $A^K_{Q,S}(t)$ are the {{ ADMs }}.\n",
    "\n",
    "This reduces to the 2D case if $S=0$, which can equivalently be described as an expansion in spherical harmonics (note that the normalisation of the {{ ADMs }} may be different in this case):\n",
    "\n",
    "$$ \n",
    "P(\\theta,\\phi,t) = \\sum_{K,Q} A^K_{Q,0}(t)D^K_{Q,0}(\\Omega) = \\sum_{K,Q} A^K_{Q}(t)Y_{K,Q}(\\Omega)\n",
    "$$ (eqn:P-omega-t-2D)\n",
    "\n",
    "In the examples given in {numref}`Sect. %s <sec:tensor-formulation>`, some arbitrary choices of $A^K_{Q,S}(t)$ were demonstrated to investigate their effects on the tensor basis sets; in the case-studies presented in {{ PARTII }} realistic {{ ADMs }} are used for specific fitting problems. In practice this equates to (accurately) simulating rotational wavepackets, hence obtaining the corresponding $A_{Q,S}^{K}(t)$ parameters (expectation values), as a function of laser fluence and rotational temperature. (Given experimental data, a 2D uncertainty (or error) surface in these two fundamental quantities can then be obtained from a linear regression for each set of $A_{Q,S}^{K}(t)$, see Ref. {cite}`hockett2023TopicalReviewExtracting` for further introductory discussion on this point.) Note that, as discussed in {numref}`Sect. %s <sect:platform:general>`, computation of molecular alignment is not yet implemented in the {{ PEMtk_repo }}, so values must be obtained from other codes. {{ ADMs }} used herein were all computed with codes developed by V. Makhija {cite}`Makhija2014`, and are available from the {{ ePSproc_repo }} repo on Github.\n",
    "\n",
    "% {{ book_repo }}."
   ]
  },
  {
   "cell_type": "markdown",
   "id": "19c89bb4-1427-4b67-9eb3-9373dd48c300",
   "metadata": {},
   "source": [
    "## Numerical setup\n",
    "\n",
    "For illustrative purposes, the {{ ADMs }} used for the $N_2$ fitting example are here loaded and used to compute $P(\\Omega,t)$. (Note these {{ ADMs }} are for a 2-pulse alignment scheme, as outlined in Ref. {cite}`marceau2017MolecularFrameReconstruction`.)"
   ]
  },
  {
   "cell_type": "code",
   "execution_count": null,
   "id": "19799b25-593b-4a94-b30e-697584a35c65",
   "metadata": {
    "tags": [
     "hide-output",
     "hide-cell"
    ]
   },
   "outputs": [],
   "source": [
    "# %matplotlib inline\n",
    "\n",
    "# Pass custom img config for notebook\n",
    "# import os\n",
    "# os.environ['IMGWIDTH']='750'\n",
    "# Run default config - may need to set full path here\n",
    "# %run '../scripts/setup_notebook.py'\n",
    "%run '../scripts/setup_notebook_caseStudies_Mod-300723.py'   # Test version with different figure options.\n",
    "\n",
    "# Run OCS setup script - may need to set full path here\n",
    "# ADMfile = 'ADMs_8TW_120fs_5K.mat'\n",
    "# dataPath = Path('../part2/OCSfitting')\n",
    "# dataPath = Path('/home/jovyan/QM3/doc-source/part2/OCSfitting')\n",
    "\n",
    "# Run general config script with dataPath set above\n",
    "# %run {dataPath/\"setup_fit_demo_OCS.py\"} -d {dataPath} -a {dataPath} -c \"OCS\"\n",
    "\n",
    "# 29/07/23 - updated scripts\n",
    "# For sample ADMs, set 'N2', 'OCS' or 'C2H4' - see case study chapters for details.\n",
    "fitSystem='N2'\n",
    "dataName = 'n2fitting'\n",
    "dataPath = Path(Path.cwd().parent,'part2',dataName)\n",
    "\n",
    "# Run general config script with dataPath set above\n",
    "%run \"../scripts/setup_fit_case-studies_270723.py\" -d {dataPath} -c {fitSystem}"
   ]
  },
  {
   "cell_type": "code",
   "execution_count": null,
   "id": "7aae11a2-e9b6-4c78-b94b-705af93a3b78",
   "metadata": {
    "tags": [
     "hide-cell",
     "hide-output"
    ]
   },
   "outputs": [],
   "source": [
    "# The general config script sets an ADM Xarray, and a downsampled version in 'subset'\n",
    "print(data.data['subset']['ADM'].dims)\n",
    "\n",
    "# Tidy up t-coords for demo case, set to reduced d.p.\n",
    "data.data['subset']['ADM']['t'] = data.data['subset']['ADM'].t.pipe(np.round, decimals=3)\n",
    "\n",
    "print('*** Set reduced t-coords for demo case')\n",
    "print(data.data['subset']['ADM'].t)"
   ]
  },
  {
   "cell_type": "code",
   "execution_count": null,
   "id": "ebc135fa-a579-409c-b869-9fcada6a4102",
   "metadata": {
    "tags": [
     "hide-output"
    ]
   },
   "outputs": [],
   "source": [
    "# Quick plot for subselected ADMs (setup in the script), \n",
    "# using basic plotter\n",
    "data.ADMplot(keys = data.subKey)"
   ]
  },
  {
   "cell_type": "code",
   "execution_count": null,
   "id": "be6c8cf0-2a8a-4f30-919b-905353a5194d",
   "metadata": {
    "tags": []
   },
   "outputs": [],
   "source": [
    "# Quick plot for subselected ADMs (setup in the script), using hvplot\n",
    "# data.data['subset']['ADM'].unstack().squeeze().real.hvplot.line(x='t').overlay('K')\n",
    "\n",
    "# As above, but plot K>0 terms only, and keep 'Q','S' indexes (here all =0)\n",
    "figObj = data.data['subset']['ADM'].unstack().where(data.data['subset']['ADM'].unstack().K>0) \\\n",
    "        .real.hvplot.line(x='t').overlay(['K','Q','S']).opts(width=700)\n",
    "\n",
    "# Glue plot for later\n",
    "glue(\"fitSystem\", fitSystem, display=False)\n",
    "glue(\"ADMdemoPlot\", figObj)"
   ]
  },
  {
   "cell_type": "markdown",
   "id": "fc6dab31-ed08-4766-be5a-c3a4db92de4e",
   "metadata": {},
   "source": [
    "```{glue:figure} ADMdemoPlot\n",
    "---\n",
    "name: \"fig-ADMdemoPlot\"\n",
    "---\n",
    "Example {{ ADMs }} for {glue:text}`fitSystem`.\n",
    "```"
   ]
  },
  {
   "cell_type": "markdown",
   "id": "1b78d927-347e-4f26-834a-a2c8db9ccfd9",
   "metadata": {},
   "source": [
    "## Compute $P(\\theta,\\Phi,t)$ distributions\n",
    "\n",
    "For 1D and 2D cases, the full axis distributions can be expanded in spherical harmonics and plotted using {{ PEMtk_repo }} class methods. This is briefly illustrated below. Note that expansions in {{ WIGNERD }} are not currently supported by these routines."
   ]
  },
  {
   "cell_type": "code",
   "execution_count": null,
   "id": "010fb0ed-b819-4953-bfc3-91198216c8a0",
   "metadata": {
    "tags": []
   },
   "outputs": [],
   "source": [
    "# NOTE - need this in some builds if Matplotlib has call-back errors.\n",
    "%matplotlib inline  \n",
    "# Plot P(theta,t) with summation over phi dimension\n",
    "# Note the plotting function automatically expands the ADMs in spherical harmonics\n",
    "dataKey = 'subset'\n",
    "data.padPlot(keys = dataKey, dataType='ADM', Etype = 't', pStyle='grid', reducePhi='sum', returnFlag = True)"
   ]
  },
  {
   "cell_type": "code",
   "execution_count": null,
   "id": "2b5934eb-108b-45b4-a633-6e98c8ea49ed",
   "metadata": {
    "tags": [
     "hide-cell"
    ]
   },
   "outputs": [],
   "source": [
    "# Demo hv plot version from plot data - for normalised and interactive plot\n",
    "norm = data.data[dataKey]['plots']['ADM']['pData'].max()\n",
    "(data.data[dataKey]['plots']['ADM']['pData']/norm).hvplot(y='Theta', x='t', cmap='vlag')"
   ]
  },
  {
   "cell_type": "code",
   "execution_count": null,
   "id": "7b104e4b-f9bd-4495-9cd2-489fc46877b2",
   "metadata": {
    "tags": [
     "hide-output"
    ]
   },
   "outputs": [],
   "source": [
    "# Plot full axis distributions at selected time-steps\n",
    "# tPlot = [39.402, 40.791, 42.18]  # Manual setting for baseline case, and at max and min K=2 times. OCS\n",
    "tPlot = [4.018, 4.254, 4.49] # N2\n",
    "\n",
    "# Alternatively, plot at selected times by index slice\n",
    "# Note that selDims below requires labels (not index inds)\n",
    "# tPlot = data.data[dataKey]['ADM'].t[::5]  # OCS\n",
    "# tPlot = data.data[dataKey]['ADM'].t[0:7:3] # N2\n",
    "\n",
    "# Plot\n",
    "ep.plot.hvPlotters.setPlotters(width=1200, height=600)   # Force plot dims for HTML render (avoids subplot clipping issues)\n",
    "data.padPlot(keys = dataKey, dataType='ADM', Etype = 't', pType='a', \n",
    "             returnFlag = True, selDims={'t':tPlot}, backend='pl')\n",
    "\n",
    "# And GLUE for display later with caption\n",
    "figObj = data.data[dataKey]['plots']['ADM']['polar'][0]\n",
    "glue(\"axisDistDemo\", figObj)"
   ]
  },
  {
   "cell_type": "markdown",
   "id": "b09f0b7d-bc04-497d-a0eb-06d1530029a9",
   "metadata": {},
   "source": [
    "```{glue:figure} axisDistDemo\n",
    "---\n",
    "name: \"fig-axisDistDemo\"\n",
    "---\n",
    "Molecular axis distributions $P(\\theta,\\phi)$ at selected times. In this demo case the alignment is \"1D\", and cylindrically symmetric.\n",
    "```"
   ]
  },
  {
   "cell_type": "markdown",
   "id": "9e7db551-34f7-4b55-9320-911af7e3361b",
   "metadata": {
    "tags": [
     "remove-cell"
    ]
   },
   "source": [
    "## Alignment metrics"
   ]
  },
  {
   "cell_type": "markdown",
   "id": "2bb78039-7f6e-49ec-8038-e4a1d75c28be",
   "metadata": {
    "tags": [
     "remove-cell"
    ]
   },
   "source": [
    "## SCRATCH"
   ]
  },
  {
   "cell_type": "code",
   "execution_count": null,
   "id": "2a8a5c82-a216-499b-b4f2-5ff7a62a6cc5",
   "metadata": {
    "tags": [
     "remove-cell"
    ]
   },
   "outputs": [],
   "source": [
    "# NOTE - need this in some builds if Matplotlib has call-back errors.\n",
    "%matplotlib inline  \n",
    "# Plot P(theta,t) with summation over phi dimension\n",
    "# Note the plotting function automatically expands the ADMs in spherical harmonics\n",
    "dataKey = 'subset'\n",
    "data.padPlot(keys = dataKey, dataType='ADM', Etype = 't', pStyle='grid', reducePhi='sum', returnFlag = True)\n",
    "\n",
    "# And GLUE for display later with caption\n",
    "# Object return not working here? Try plt.gca() instead.\n",
    "# glue(\"PthetaGrid\", plt.gca())"
   ]
  },
  {
   "cell_type": "code",
   "execution_count": null,
   "id": "3a116810-7a85-420d-a410-ee81b51cbbee",
   "metadata": {
    "tags": [
     "remove-cell"
    ]
   },
   "outputs": [],
   "source": [
    "# glue(\"PthetaGrid\", pObj)"
   ]
  },
  {
   "cell_type": "code",
   "execution_count": null,
   "id": "6c45f9ba-1723-47a5-8bc6-4e0c06041335",
   "metadata": {
    "tags": [
     "remove-cell"
    ]
   },
   "outputs": [],
   "source": [
    "# GLUE TESTING ONLY\n",
    "\n",
    "# # Glue figure for display\n",
    "# figObj = data.data[dataKey]['plots']['ADM']['grid']\n",
    "\n",
    "# # And GLUE for display later with caption\n",
    "# gluePlotly(\"PthetaGrid\", figObj)\n",
    "\n",
    "# dir(figObj)\n",
    "# # figObj.draw(renderer=None)\n",
    "# from matplotlib import pyplot as plt\n",
    "# plt.show()\n",
    "\n",
    "# Test hv plot version\n",
    "# subset.plot(x='Theta', y=Etype, col=list({*facetDimsCheck}-{Etype})[0], robust=True)\n",
    "# data.data[dataKey]['plots']['ADM']['pData'].plot(x='Theta', y='t', robust=True)\n",
    "norm = data.data[dataKey]['plots']['ADM']['pData'].max()\n",
    "# (data.data[dataKey]['plots']['ADM']['pData']/norm).hvplot(x='Theta', y='t', cmap='vlag')\n",
    "(data.data[dataKey]['plots']['ADM']['pData']/norm).hvplot(y='Theta', x='t', cmap='vlag')\n",
    "# pObj = plt.gca()"
   ]
  },
  {
   "cell_type": "code",
   "execution_count": null,
   "id": "74cf4b75-c7d9-40c5-9f4f-d74b8492e9bd",
   "metadata": {
    "tags": [
     "remove-cell"
    ]
   },
   "outputs": [],
   "source": []
  }
 ],
 "metadata": {
  "jupytext": {
   "formats": "ipynb,md:myst"
  },
  "kernelspec": {
   "display_name": "Python 3 (ipykernel)",
   "language": "python",
   "name": "python3"
  },
  "language_info": {
   "codemirror_mode": {
    "name": "ipython",
    "version": 3
   },
   "file_extension": ".py",
   "mimetype": "text/x-python",
   "name": "python",
   "nbconvert_exporter": "python",
   "pygments_lexer": "ipython3",
   "version": "3.9.7"
  }
 },
 "nbformat": 4,
 "nbformat_minor": 5
}
