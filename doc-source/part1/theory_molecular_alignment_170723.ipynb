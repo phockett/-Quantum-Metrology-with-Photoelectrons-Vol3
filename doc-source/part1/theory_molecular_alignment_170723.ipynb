{
 "cells": [
  {
   "cell_type": "markdown",
   "id": "c5fd6564-a504-49f1-a576-954cb7a38ea7",
   "metadata": {
    "tags": [
     "remove-cell"
    ]
   },
   "source": [
    "17/07/23\n",
    "\n",
    "- Added stub for this.\n",
    "\n",
    "TO DO:\n",
    "\n",
    "- Theory from MF recon paper and OCS notes (https://phockett.github.io/ePSdata/OCS-preliminary/OCS_orbs8-11_AFBLMs_VM-ADMs_140122-JAKE_tidy-replot-200722_v5.html)\n",
    "- Numerical examples and visualisation."
   ]
  },
  {
   "cell_type": "markdown",
   "id": "9ab46995-82ea-4df8-8dfd-bc520dfd54e5",
   "metadata": {},
   "source": [
    "(sect:theory:alignment)=\n",
    "# Molecular alignment"
   ]
  }
 ],
 "metadata": {
  "jupytext": {
   "formats": "ipynb,md:myst"
  },
  "kernelspec": {
   "display_name": "Python 3 (ipykernel)",
   "language": "python",
   "name": "python3"
  },
  "language_info": {
   "codemirror_mode": {
    "name": "ipython",
    "version": 3
   },
   "file_extension": ".py",
   "mimetype": "text/x-python",
   "name": "python",
   "nbconvert_exporter": "python",
   "pygments_lexer": "ipython3",
   "version": "3.9.7"
  }
 },
 "nbformat": 4,
 "nbformat_minor": 5
}
