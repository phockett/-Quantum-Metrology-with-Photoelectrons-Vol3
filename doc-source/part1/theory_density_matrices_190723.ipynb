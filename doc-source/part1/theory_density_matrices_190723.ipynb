{
 "cells": [
  {
   "cell_type": "markdown",
   "id": "85d7773c-3989-4159-9b27-a041cb78c672",
   "metadata": {
    "tags": [
     "remove-cell"
    ]
   },
   "source": [
    "Subsection for density matrix stuff\n",
    "31/01/23\n",
    "\n",
    "- Moved here from tensor formalism page to try and fix rendering issues. Also added setup stuff to replicate basis sets in that notebook. UPDATE: currently is working in HTML, but sometimes a bit flaky and appears/disappears on reload - issues with pulling display scripts?\n",
    "\n",
    "- Also promoted to top-level section (not nested under tensor stuff) for generality.\n",
    "\n",
    "- For additional rendering tests, see http://jake:9966/lab/tree/QM3/doc-source/tests/holoviews_render_tests_310123.ipynb\n",
    "\n",
    "- Working from Density matrix ePSproc notes, http://jake:9966/lab/tree/code-share/github-share/ePSproc/docs/doc-source/methods/density_mat_notes_demo_300821.ipynb and MF recon article notes (Tex, and http://jake/jupyter/user/paul/doc/tree/code-share/stimpy-docker-local/MFPADs_recon_manuscript_dev_April_2022/MFrecon_manuscript_fig_generation_170422-Stimpy_MAIN-oldPkgs.ipynb, basis of demo code herein)\n",
    "\n",
    "30/01/23 extended with notes from MF recon article.\n",
    "\n",
    "10/02/23 added general intro & tidying up. Fixed some notation (may still need some work, and/or adding to photoionization intro part), and fidelity part. TODO: check numerics with noise make sense there.\n",
    "\n",
    "19/07/23 reviewing with minor mods.\n",
    "\n",
    "- Issue with sym setup script? Throwing some errors.\n",
    "  - Now tidied in script (not required here), but should debug.\n",
    "- Text OK and tidied up a bit, still some debug stuff to remove.\n",
    "\n",
    "TODO:\n",
    "\n",
    "- More on irreducible tensors vs. density mat? See Blum Chpt. 4 and Zare, also previous notes. SHould be able to add some theory and numerics here, maybe a subsection for this? Feels like there might be some interesting relations here...\n",
    "   - L,M representation and diagonality? See p135 - although maybe obvious?\n",
    "   - Rotation properties and complete basis, symmetries.\n",
    "   - Sect 4.6.5 for spatial properties\n",
    "   - Sect 4.8 for notation and conventions\n",
    "   - Subspace projections as summations, reduced density matrices, p64\n",
    "- Floor noise example to zero? Should be more physical than having -ve values allowed?\n",
    "- See QuTip for more stuff, e.g. entropy and distance metrics, https://qutip.org/docs/latest/apidoc/functions.html#module-qutip.metrics. Should be able to use directly on numerical matrices?"
   ]
  },
  {
   "cell_type": "markdown",
   "id": "62c20e3b-4b0e-4d38-920d-4aa09336bc95",
   "metadata": {
    "tags": []
   },
   "source": [
    "(sec:density-mat-basic)=\n",
    "# Density matrix representation"
   ]
  },
  {
   "cell_type": "markdown",
   "id": "23e2df01-34bd-4a74-95a1-447a7967d2f7",
   "metadata": {},
   "source": [
    "(sec:density-mat-intro)=\n",
    "## General introduction\n",
    "\n",
    "For a general introduction, and discussion of density matrix techniques and applications in AMO physics, see Blum's textbook _Density Matrix Theory and Applications_ {cite}`BlumDensityMat`, which is referred to extensively herein. The general density operator, for a mixture of independent states $|\\psi_{n}\\rangle$, can be defined as per Eqn. 2.8 in Blum {cite}`BlumDensityMat`:\n",
    "\n",
    "$$\n",
    "\\hat{\\rho}=\\sum_{n}W_{n}|\\psi_{n}\\rangle\\langle\\psi_{n}|\n",
    "$$\n",
    "\n",
    "Where $W_{n}$ defines the (statistical) weighting of each state $\\psi_{n}$ in the mixture.\n",
    "\n",
    "% Removed \\boldsymbol{\\rho} due to HTML rendering issues.\n",
    "\n",
    "For a given basis set, $|\\phi_{m}\\rangle$, the states can be expanded and the matrix elements of $\\rho$ defined as per Eqns. 2.9 - 2.11 in Blum {cite}`BlumDensityMat`:\n",
    "\n",
    "$$\n",
    "| \\psi_{n} \\rangle = \\sum_{m'} a_{m'}^{(n)}| \\phi_{m'}\\rangle\n",
    "$$\n",
    "\n",
    "$$\n",
    "\\hat{\\rho}=\\sum_{n}\\sum_{mm'}W_{n}a_{m'}^{(n)}a_{m}^{(n)*}|\\phi_{m'}\\rangle\\langle\\phi_{m}|\n",
    "$$  (eqn:density-mat-outer-prod)\n",
    "\n",
    "And the matrix elements - _the density matrix_ - given explicitly as:\n",
    "\n",
    "$$\n",
    "\\rho_{i,j}=\\langle\\phi_{i}|\\hat{\\rho}|\\phi_{j}\\rangle=\\sum_{n}W_{n}a_{i}^{(n)}a_{j}^{(n)*}\n",
    "$$ (eqn:density-mat-generic)\n",
    "\n",
    "For all pairs of basis states $(i,j)$. This defines the density matrix in the $\\{|\\phi_n\\rangle\\}$ _representation_ (basis space). Of particular note here is that the mixed states are assumed to be incoherent (independent), whilst the basis expansion is coherent. \n",
    "\n",
    "\n",
    "% [^blumFootnote]: For general discussion of density matrix techniques and applications in AMO physics, see Blum's textbook _Density Matrix Theory and Applications_ {cite}`BlumDensityMat`, which is referred to extensively herein."
   ]
  },
  {
   "cell_type": "markdown",
   "id": "e2eb3064-bfa2-4268-aeac-19535a49c4fb",
   "metadata": {
    "tags": []
   },
   "source": [
    "% TODO: numerical examples here\n",
    "% TODO: decide on notation, \\Psi_c == \\mathbf{k}?\n",
    "% 30/01/23 extended with notes from MF recon article.\n",
    "% 10/02/23 added general intro & tidying up\n",
    "\n",
    "(sec:density-mat-intro)=\n",
    "## Continuum density matrices\n",
    "\n",
    "% May want to move to Sect. 3.2 and add some more details?\n",
    "In general, the discussion herein will focus on the photoelectron properties and generally assume a single final ion, and associated free-electron state of interest, hence the final state (Eq. {eq}`eq:continuum-state-vec`) can be simplified to $|\\Psi_f\\rangle\\equiv|\\mathbf{k}\\rangle$. This is equivalent to a \"pure state\" in density matrix terminology, which can then expanded (coherently) in an appropriate representation (basis). Following this, the density operator associated with the continuum state can be written as $\\hat{\\rho}=|\\Psi_f\\rangle\\langle\\Psi_f|\\equiv|\\mathbf{k}\\rangle\\langle\\mathbf{k}|$. Making use of the tensor notation introduced in {numref}`Sect. %s <sec:tensor-formulation>`, the final continuum state can then be expanded as a density matrix in the $\\zeta\\zeta'$ representation (with the observable dimensions $\\{L,M\\}$ explicitly included in the density matrix), which will also be dependent on the choice of {{ GAMMACHANNEL }} (hence \"experiment\" $u$); the density matrix can then be given as:\n",
    "\n",
    "$$\n",
    "{\\rho}_{L,M}^{u,\\zeta\\zeta'}=\\varUpsilon_{L,M}^{u,\\zeta\\zeta'}\\mathbb{I}^{\\zeta,\\zeta'}\n",
    "$$ (eqn:full-density-mat)\n",
    "\n",
    "Here the density matrix can be interpreted as the final, {{ LF }}/{{ AF }} or {{ MF }} density matrix (depending on the {{ GAMMACHANNEL }} used), incorporating both the intrinsic and extrinsic effects (i.e. all channel couplings and radial matrix elements for the given measurement), with dimensions dependent on the unique sets of quantum numbers required - in the simplest case, this will just be a set of partial waves $\\zeta = \\{l,m\\}$. \n",
    "\n",
    "In the channel function basis, a radial, or reduced, form of the density matrix can also be constructed, and is given by the coherent product of the radial matrix elements (as defined in Eq. {eq}`eqn:I-zeta`):\n",
    "\n",
    "% Safe version - no bold\n",
    "$$\n",
    "\\rho^{\\zeta\\zeta'} = \\mathbb{I}^{\\zeta,\\zeta'}\n",
    "$$ (eqn:radial-density-mat)\n",
    "\n",
    "This form encodes purely intrinsic (molecular scattering) photoionization dynamics (thus characterises the scattering event), whilst the full form ${\\rho}_{L,M}^{u,\\zeta\\zeta'}$ of Eq. {eq}`eqn:full-density-mat` includes any additional effects incorporated via the channel functions. For reconstruction problems, it is usually the reduced form of Eq. {eq}`eqn:radial-density-mat` that is of interest, since the remainder of the problem is already described analytically by the {{ GAMMACHANNEL }} $\\varUpsilon_{L,M}^{u,\\zeta\\zeta'}$. In other words, the retrieval of the radial matrix elements $\\mathbb{I}^{\\zeta,\\zeta'}$ and the radial density matrix $\\rho^{\\zeta\\zeta'}$ are equivalent, and both can be viewed as completely describing the photoionization dynamics.\n",
    "\n",
    "The $L,M$ notation for the full density matrix ${\\rho}_{L,M}^{u,\\zeta\\zeta'}$ (Eq. {eq}`eqn:full-density-mat`) indicates here that these dimensions should not be summed over, hence the tensor coupling into the $\\beta_{L,M}^{u}$ parameters can also be written directly in terms of the density matrix (cf. Eq. {eq}`eqn:channel-fns`):\n",
    "\n",
    "$$\n",
    "\\beta_{L,M}^{u}=\\sum_{\\zeta,\\zeta'}{\\rho}_{L,M}^{u,\\zeta\\zeta'}\n",
    "$$ (eqn:beta-density-mat)\n",
    "\n",
    "In fact, this form arises naturally since the $\\beta_{L,M}^{u}$ terms are the state multipoles (geometric tensors) defining the system, which can be thought of as a coupled basis equivalent of the density matrix representations (see, e.g., Ref. {cite}`BlumDensityMat`, Chpt. 4.).\n",
    "\n",
    "In a more traditional notation (following Eq. {eq}`eq:continuum-state-vec`, see also Ref. {cite}`gregory2022LaboratoryFrameDensitya`), the density operator can be expressed as:\n",
    "\n",
    "$$\n",
    "\\rho(t) =\\sum_{LM}\\sum_{KQS}A^{K}_{QS}(t)\\sum_{\\zeta\\zeta^{\\prime}}\\varUpsilon_{L,M}^{u,\\zeta\\zeta'}|\\zeta,\\Psi_+\\rangle\\langle\\zeta,\\Psi_+|\\mu_q\\rho_i\\mu_{q\\prime}^{*}|\\zeta^{\\prime},\\Psi_+\\rangle\\langle\\zeta^{\\prime},\\Psi_+|\n",
    "$$ (eqn:full-density-mat-traditional)\n",
    "\n",
    "This is, effectively, equivalent to an expansion in the various tensor operators defined in the channel function notation above (Eq. {eq}`eqn:full-density-mat`), but in a standard state-vector notation. Note, also, that this form explicitly defines the initial state of the system as a density matrix $\\rho_i = |\\Psi_i\\rangle\\langle\\Psi_i|$, and explicitly allows for time-dependence via the {{ ADMsymbol }} term. (For further discussion of the use of density matrices in other specific cases, see {{ QM1 }}, particularly Chpts. 2 & 3, and refs. therein.)\n",
    "\n",
    "The main benefit of a (continuum) density matrix representation in the current work is as a rapid way to visualize the phase relations between the photoionization matrix elements (the off-diagonal density matrix elements), and the ability to quickly check the overall pattern of the elements, hence confirm that no phase-relations are missing and orthogonality relations are fulfilled - some numerical examples are given below. Since the method for computing the density matrices is also numerically equivalent to a tensor outer-product, density matrices and visualizations can also be rapidly composed for other properties of interest, e.g. the various {{ GAMMACHANNEL }} defined herein, providing another complementary methodology and tool for investigation. (Further examples can be found in the {{ ePSproc_docs }}, as well as in the literature, see, e.g., Ref. {cite}`BlumDensityMat` for general discussion, Ref. {cite}`Reid1991` for application in pump-probe schemes.) \n",
    "\n",
    "Furthermore, as noted above, the density matrix elements provide a complete description of the photoionization event, and hence make clear the equivalence of the \"complete\" photoionization experiments (and associated continuum reconstruction methods) discussed herein, with general quantum tomography schemes {cite}`MauroDAriano2003`. The density matrix can also be used as the starting point for further analysis based on standard density matrix techniques - this is discussed, for instance, in Ref. {cite}`BlumDensityMat`, and can also be viewed as a bridge between traditional methods in spectroscopy and AMO physics, and more recent concepts in the quantum information sciences (see, e.g., Refs. {cite}`Tichy2011a,Yuen-Zhou2014` for recent discussions in this context). A brief numerical diversion in this direction is given in {numref}`Sect. %s <sect:theory:denmat:qutip>`, which illustrates the use of the {{ qutipFull }} with the density matrix results derived herein."
   ]
  },
  {
   "cell_type": "markdown",
   "id": "a02dbc90-2897-40ed-8140-c5b861510af6",
   "metadata": {
    "tags": []
   },
   "source": [
    "## Numerical setup\n",
    "\n",
    "This follows the setup in {numref}`Sect. %s <sec:tensor-formulation>` {ref}`sec:tensor-formulation`, using a symmetry-based set of basis functions for demonstration purposes. (Repeated code is hidden in PDF version.)"
   ]
  },
  {
   "cell_type": "code",
   "execution_count": null,
   "id": "c8180508-a873-4797-bfe4-c7c468f4bd2f",
   "metadata": {
    "tags": [
     "hide-cell"
    ]
   },
   "outputs": [],
   "source": [
    "# Run default config - may need to set full path here\n",
    "%run '../scripts/setup_notebook.py'\n",
    "\n",
    "# Override plotters backend?\n",
    "# plotBackend = 'pl'"
   ]
  },
  {
   "cell_type": "code",
   "execution_count": null,
   "id": "f2d26f27-25ef-48f2-be8c-84505a0f686a",
   "metadata": {
    "tags": [
     "hide-cell"
    ]
   },
   "outputs": [],
   "source": [
    "# Setup symmetry-defined matrix elements using PEMtk\n",
    "\n",
    "%run '../scripts/setup_symmetry_basis_tensors.py'"
   ]
  },
  {
   "cell_type": "code",
   "execution_count": null,
   "id": "07c4d913-8acf-41ce-9037-d285c9b2be25",
   "metadata": {
    "tags": [
     "remove-cell"
    ]
   },
   "outputs": [],
   "source": [
    "# 19/07/23 - this needs debugging, but skipped for now!\n",
    "# Not sure what has changed - might be issue with dim names?\n",
    "# ep.geomFunc.afblmXprod(data.data[data.subKey]['matE'], basisReturn = 'Full', selDims={}, sqThres=False)"
   ]
  },
  {
   "cell_type": "code",
   "execution_count": null,
   "id": "56053826-a600-4535-bec5-452c572727c9",
   "metadata": {
    "tags": [
     "remove-cell"
    ]
   },
   "outputs": [],
   "source": [
    "# Now run in script above\n",
    "\n",
    "# # Setup symmetry-defined matrix elements using PEMtk\n",
    "\n",
    "# # Import class\n",
    "# from pemtk.sym.symHarm import symHarm\n",
    "\n",
    "# # Compute hamronics for Td, lmax=4\n",
    "# sym = 'D2h'\n",
    "# lmax=4\n",
    "\n",
    "# lmaxPlot = 2  # Set lmaxPlot for subselection on plots later.\n",
    "\n",
    "# # TODO: consider different labelling here, can set at init e.g. dims = ['C', 'h', 'muX', 'l', 'm'] - 25/11/22 code currently fails for mu mapping, remap below instead\n",
    "# symObj = symHarm(sym,lmax)\n",
    "# # symObj = symHarm(sym,lmax,dims = ['Cont', 'h', 'muX', 'l', 'm'])\n",
    "\n",
    "# # To plot using ePSproc/PEMtk class, these values can be converted to ePSproc BLM data type...\n",
    "\n",
    "# # Run conversion - the default is to set the coeffs to the 'BLM' data type\n",
    "# dimMap = {'C':'Cont','mu':'muX'}\n",
    "# symObj.toePSproc(dimMap=dimMap)\n",
    "\n",
    "# # Run conversion with a different dimMap & dataType\n",
    "# dataType = 'matE'\n",
    "# # symObj.toePSproc(dimMap = {'C':'Cont','h':'it', 'mu':'muX'}, dataType=dataType)\n",
    "# symObj.toePSproc(dimMap = dimMap, dataType=dataType)\n",
    "# # symObj.toePSproc(dimMap = {'C':'Cont','h':'it'}, dataType=dataType)   # Drop mu > muX mapping for now\n",
    "# # symObj.coeffs[dataType]\n",
    "\n",
    "# # Example using data class (setup in init script)\n",
    "# data = pemtkFit()\n",
    "\n",
    "# # Set to new key in data class\n",
    "# dataKey = sym\n",
    "# data.data[dataKey] = {}\n",
    "\n",
    "# for dataType in ['matE','BLM']:\n",
    "#     data.data[dataKey][dataType] = symObj.coeffs[dataType]['b (comp)'].sum(['h','muX'])  # Select expansion in complex harmonics, and sum redundant dims\n",
    "#     data.data[dataKey][dataType].attrs = symObj.coeffs[dataType].attrs"
   ]
  },
  {
   "cell_type": "code",
   "execution_count": null,
   "id": "cd1f1b62-8a7b-462c-b110-1711d48809e5",
   "metadata": {
    "tags": [
     "remove-cell"
    ]
   },
   "outputs": [],
   "source": [
    "# # Compute basis functions for given matrix elements\n",
    "\n",
    "# # Set data\n",
    "# data.subKey = dataKey\n",
    "\n",
    "# # Using PEMtk - this only returns the product basis set as used for fitting\n",
    "# BetaNormX, basisProduct = data.afblmMatEfit(selDims={}, sqThres=False)\n",
    "\n",
    "# # Using ePSproc directly - this includes full basis return if specified\n",
    "# BetaNormX2, basisFull = ep.geomFunc.afblmXprod(data.data[data.subKey]['matE'], basisReturn = 'Full', selDims={}, sqThres=False)  #, BLMRenorm = BLMRenorm, **kwargs)\n",
    "\n",
    "# # The basis dictionary contains various numerical parameters, these are investigated below.\n",
    "# # See also the ePSproc docs at https://epsproc.readthedocs.io/en/latest/methods/geometric_method_dev_260220_090420_tidy.html\n",
    "# print(f\"Product basis elements: {basisProduct.keys()}\")\n",
    "# print(f\"Full basis elements: {basisFull.keys()}\")\n",
    "\n",
    "# # Use full basis for following sections\n",
    "# basis = basisFull"
   ]
  },
  {
   "cell_type": "markdown",
   "id": "7a82b795-4093-430e-975e-3f421e602a7f",
   "metadata": {},
   "source": [
    "## Compute a density matrix\n",
    "\n",
    "A basic density matrix computation routine is implemented in the {{ ePSproc_full }}. This makes use of input tensor arrays, and computes the density matrix as an outer-product of the defined dimension(s). The numerics essentially compute the outer product from the specified dimensions, which can be written generally as per Eqs. {eq}`eqn:density-mat-outer-prod`, {eq}`eqn:density-mat-generic`, where $a_{i}^{(n)}a_{j}^{(n)*}$ are the values along the specified dimensions/state vector/representation. These dimensions must be in input arrays, but will be restacked as necessary to define the effective basis space, and all coherent pairs will be computed. \n",
    "\n",
    "For instance, considering the ionization matrix elements demonstrated herein, setting indexes (quantum numbers) as `[l,m]` will select the $|\\zeta\\rangle = |l,m\\rangle$ basis, hence define the density operator as $\\hat{\\rho} = |\\zeta\\rangle \\langle\\zeta'| = |l,m\\rangle\\langle l',m'|$ and the corresponding density matrix elements $\\rho^{\\zeta,\\zeta'}=\\langle\\zeta|\\hat{\\rho}|\\zeta'\\rangle=a_{l,m}a_{l',m'}^{*}$. Similarly, setting `['l','m','mu']` will set the $|\\zeta\\rangle = |l,m,\\mu\\rangle$ as the basis vector and so forth, where $|\\zeta\\rangle$ is used as a generic state vector denoting all required quantum numbers. Additionally, other quantum numbers/dimensions can be kept, summed or selected from the input tensors prior to computation, thus density matrices can be readily computed as a function of other parameters, or averaged, according to the properties of interest, experimental parameters and observables.\n",
    "\n",
    "Note, however, that this selection is purely based on the numerics, which compute the outer product along the defined dimensions $|\\zeta\\rangle\\langle\\zeta'|$ to form the density matrix, hence does not guarantee a well-formed density matrix in the strictest sense (depending on the basis set), although will always present a basis state correlation matrix of sorts. A brief example, for the {glue:text}`symHarmPGmatE` defined matrix element is given below; for more examples see the {{ ePSproc_docs }}."
   ]
  },
  {
   "cell_type": "code",
   "execution_count": null,
   "id": "584375c7-7a26-480c-bc70-e84d4b3af6d6",
   "metadata": {
    "tags": [
     "hide-output"
    ]
   },
   "outputs": [],
   "source": [
    "# See the docs for more, \n",
    "# https://epsproc.readthedocs.io/en/dev/methods/density_mat_notes_demo_300821.html\n",
    "\n",
    "# Import routines for density calculation and plotting\n",
    "from epsproc.calc import density\n",
    "\n",
    "#*** Compose density matrix\n",
    "\n",
    "# Set dimensions/state vector/representation\n",
    "# These must be in original data, but will be restacked as \n",
    "# necessary to define the effective basis space.\n",
    "\n",
    "# Set dimensions for density matrix. Note stacked dims are OK, in this case LM = {l,m}\n",
    "denDims = 'LM'  \n",
    "selDims = None  # Select on any other dimensions?\n",
    "sumDims = None  # Sum over any other dimensions? \n",
    "                # (Set sumDims=True to sum over all dims except denDims.)\n",
    "pTypes=['r','i'] # Plotting types 'r'=real, 'i'=imaginary\n",
    "thres = 1e-4    # Threshold for outputs (otherwise set to zero and/or dropped from result)\n",
    "normME = False  # Normalise matrix elements before computing?\n",
    "normDen = 'max' # Method to normalise density matrix\n",
    "\n",
    "# Calculate - Ref case\n",
    "k = sym\n",
    "matE = data.data[k]['matE'].copy()  # Set data from main class instance by key\n",
    "\n",
    "# Normalise input matrix elements?\n",
    "if normME:\n",
    "    matE = matE/matE.max()\n",
    "\n",
    "#*** Compute density matrix for given parameters\n",
    "# See demo at:\n",
    "#   https://epsproc.readthedocs.io/en/latest/methods/density_mat_notes_demo_300821.html\n",
    "# API docs:\n",
    "#   https://epsproc.readthedocs.io/en/latest/modules/epsproc.calc.density.html#epsproc.calc.density.densityCalc\n",
    "daOut, *_ = density.densityCalc(matE, denDims = denDims, selDims = selDims, thres = thres)\n",
    "\n",
    "# Renormlise output?\n",
    "if normDen=='max':\n",
    "    daOut = daOut/daOut.max()\n",
    "elif normDen=='trace':\n",
    "    # Need sym sum here to get 2D trace\n",
    "    daOut = daOut/(daOut.sum('Sym').pipe(np.trace)**2)  \n",
    "\n",
    "# Plot density matrix with Holoviews\n",
    "# Note sum over 'Sym' dimension to flatten plot to (l,m) dims only.\n",
    "daPlot = density.matPlot(daOut.sum('Sym'), pTypes=pTypes)"
   ]
  },
  {
   "cell_type": "code",
   "execution_count": null,
   "id": "14181c07-936d-447e-8d42-340e509d4ec4",
   "metadata": {
    "tags": [
     "hide-output",
     "hide-cell"
    ]
   },
   "outputs": [],
   "source": [
    "# Glue figure for later - real part only in this case\n",
    "# Also clean up axis labels from default state labels ('LM' and 'LM_p' in this case).\n",
    "glue(\"denMatD2hRealOnly\", daPlot.select(pType='Real').opts(xlabel='L,M', ylabel=\"L',M'\"))"
   ]
  },
  {
   "cell_type": "markdown",
   "id": "00b1596c-450f-4d44-a553-35c91ad95731",
   "metadata": {},
   "source": [
    "```{glue:figure} denMatD2hRealOnly\n",
    "---\n",
    "name: \"fig-denMatD2hRealOnly\"\n",
    "---\n",
    "Example density matrix, computed from matrix elements defined purely by {glue:text}`symHarmPGmatE` symmetry. Note in this case only the real part is non-zero. Axes labels give terms $\\{L,M\\}$ and $\\{L',M'\\}$.\n",
    "```"
   ]
  },
  {
   "cell_type": "markdown",
   "id": "0be109b4-2aaa-45c2-9ac8-1428f60fb56f",
   "metadata": {},
   "source": [
    "## Visualising matrix element reconstruction fidelity with density matrices\n",
    "\n",
    "To demonstrate the use of the density matrix representation as a means to test similarity or fidelity between two sets of matrix elements, a trial set of matrix elements can be derived from the original set used above, plus random noise, and the differences in the density matrices directly computed. An example is shown in {numref}`fig-denMatD2hCompExample`; in this example up to 10\\% random noise has been added to the original (input) matrix elements, and the resultant density matrix computed. The difference matrix ({numref}`fig-denMatD2hCompExample`(c)) then provides the fidelity between the original and noisy case. In testing retrieval methodologies, this type of analysis thus provides a quick means to test reconstruction results vs. known inputs. Although this case is only illustrated for real density matrices, a similar analysis can be used for the imaginary (or phase) components, thus coherences can also be quickly visualised in this manner.\n",
    "\n",
    "% TODO: ref later sections here, and/or MF recon manuscript, Sect 4.1.5 & Fig 11."
   ]
  },
  {
   "cell_type": "code",
   "execution_count": null,
   "id": "bf731060-8255-4697-959c-2acc780b13f4",
   "metadata": {
    "tags": [
     "hide-output"
    ]
   },
   "outputs": [],
   "source": [
    "#*** Set trial matrix element for comparison with the original case computed above\n",
    "matE = data.data[k]['matE'].copy()\n",
    "\n",
    "if normME:\n",
    "    matE = matE/matE.max()\n",
    "    \n",
    "# Add random noise, +/- 10%\n",
    "# Note this is applied to normalised matE\n",
    "# For the normalised case this results in a standard deviation in the difference \n",
    "# density matrix elements of ~sqrt(2*(0.1^2) + 2*0.1) = 0.2\n",
    "# (Derived from basic error propagation, ignoring the actual values - \n",
    "#  see https://en.wikipedia.org/wiki/Propagation_of_uncertainty#Example_formulae.)\n",
    "noise = 0.1\n",
    "SD = np.sqrt(4*(noise**2))\n",
    "# Set range to random values +/-1 * noise\n",
    "matE_noise = matE + matE*((np.random.rand(*list(matE.shape)) - 0.5) * 2*noise)  \n",
    "\n",
    "# Compute density matrix\n",
    "daOut_noise, *_ = density.densityCalc(matE_noise, denDims = denDims, selDims = selDims, thres = thres)\n",
    "\n",
    "# Renormlise output?\n",
    "if normDen=='max':\n",
    "    daOut_noise = daOut_noise/daOut_noise.max()\n",
    "elif normDen=='trace':\n",
    "    daOut_noise = daOut_noise/(daOut_noise.sum('Sym').pipe(np.trace)**2)\n",
    "    \n",
    "daPlot_noise = density.matPlot(daOut_noise.sum('Sym'), pTypes=pTypes)\n",
    "\n",
    "# Compute differences\n",
    "daDiff = daOut.sum('Sym') - daOut_noise.sum('Sym')\n",
    "daDiff.name = 'Difference'\n",
    "daPlotDiff = density.matPlot(daDiff, pTypes=pTypes)\n",
    "\n",
    "print(f'Noise = {noise}, SD (approx) = {SD}')\n",
    "maxDiff = daDiff.max().values\n",
    "print(f'Max difference = {maxDiff}')\n",
    "\n",
    "#*** Layout plot from Holoviews objects for real parts, with custom titles.\n",
    "daLayout = (daPlot.select(pType='Real').opts(title=\"(a) Original\", xlabel='L,M', ylabel=\"L',M'\") \n",
    "            + daPlot_noise.select(pType='Real').opts(title=\"(b) With noise\", \n",
    "                xlabel='L,M', ylabel=\"L',M'\") \n",
    "            + daPlotDiff.select(pType='Real').opts(title=\"(c) Difference (fidelity)\", \n",
    "                xlabel='L,M', ylabel=\"L',M'\"))"
   ]
  },
  {
   "cell_type": "code",
   "execution_count": null,
   "id": "8862e3a2-b837-47ec-a6dd-7f2110267c5d",
   "metadata": {
    "tags": [
     "hide-output",
     "hide-cell"
    ]
   },
   "outputs": [],
   "source": [
    "# Glue plot\n",
    "\n",
    "# Additional formatting options for PDF vs. HTML outputs.\n",
    "nCols = 1\n",
    "if buildEnv == 'pdf':\n",
    "    nCols = 2\n",
    "\n",
    "# Glue layout\n",
    "glue(\"denMatD2hCompExample\",daLayout.cols(nCols).opts(hv.opts.HeatMap(cmap='coolwarm')))\n",
    "\n",
    "# Glue values\n",
    "glue(\"denDiffMax\",round(float(maxDiff.real),3))\n",
    "glue(\"denSD\",SD)"
   ]
  },
  {
   "cell_type": "markdown",
   "id": "0b69c4a2-771c-48d3-9414-8ec61a9cd2b0",
   "metadata": {},
   "source": [
    "```{glue:figure} denMatD2hCompExample\n",
    "---\n",
    "name: \"fig-denMatD2hCompExample\"\n",
    "---\n",
    "Example density matrices, computed from matrix elements defined purely by {glue:text}`symHarmPGmatE` symmetry. Here the panels show (a) the original density matrix, (b) density matrix computed with +/- 10% random noise added to the original matrix elements, (c) the difference matrix, which indicates the fidelity of the noisy case relative to the original case. For normalised density matrices the 10% noise case translates to a standard deviation $\\sigma\\approx${glue:text}`denSD` on the differences; the maximum error in the test case as illustrated ={glue:text}`denDiffMax`.\n",
    "```"
   ]
  },
  {
   "cell_type": "markdown",
   "id": "9964bbc9-7fe5-47b4-9e78-68c8965a356d",
   "metadata": {},
   "source": [
    "(sect:theory:denmat:qutip)=\n",
    "## Working with density matrices with QuTiP library functions\n",
    "\n",
    "From the numerical density matrix, a range of other standard properties can be computed - of particular interest are likely to be various standard quantities such as the trace, Von Neuman entropy and so forth. Naturally these can be computed numerically directly from the relevant formal definitions; however, many of the fundamentals are already implemented in other libraries, and numerical representations can be passed directly to such libraries. In particular, {{ qutipFull }} implements a range of standard functions, metrics, transforms and utility functions for working with state vectors and density matrices. A brief numerical example is given below, see {{ qutipDocs }} for more possibilities."
   ]
  },
  {
   "cell_type": "markdown",
   "id": "61afd9f1-504b-477d-b3ac-efeac930ab53",
   "metadata": {},
   "source": [
    "### Convert numerical arrays to QuTiP objects"
   ]
  },
  {
   "cell_type": "code",
   "execution_count": null,
   "id": "615ebdc2-57c4-4c30-969e-0b7e7639a906",
   "metadata": {
    "tags": [
     "hide-cell"
    ]
   },
   "outputs": [],
   "source": [
    "# Import QuTip\n",
    "from qutip import *\n",
    "\n",
    "# Wrap density matrices to QuTip objects\n",
    "# Note sum('Sym') to ensure 2D matrix, and .data to pass Numpy data array only\n",
    "pa = Qobj(daOut.sum('Sym').data)    # Reference continuum density matrix\n",
    "pb = Qobj(daOut_noise.sum('Sym').data)  # Noisy case\n",
    "\n",
    "# QuTip objects have data as Numpy arrays, and render as typeset matrices in a notebook\n",
    "# DEBUG NOTE 22/04/23 - QuTip matrix latex output currently causing PDF build errors, so set hide output for testing.\n",
    "# See https://github.com/phockett/Quantum-Metrology-with-Photoelectrons-Vol3/issues/8\n",
    "pa"
   ]
  },
  {
   "cell_type": "markdown",
   "id": "c69c7064-a505-46e8-a5bb-c7921a26554c",
   "metadata": {},
   "source": [
    "### Fidelity metric\n",
    "\n",
    "Fidelity between two density matrices $\\rho_{a},\\rho_{b}$ can be defined as per Refs. {cite}`benatti2010QuantumInformationComputation, nielsen2010QuantumComputationQuantum`: \n",
    "\n",
    "$F(\\rho_{a},\\rho_{b})=\\operatorname{Tr} {\\sqrt {{\\sqrt {\\rho_{a}}}\\rho_{b} {\\sqrt {\\rho_{a}}}}}$\n",
    "\n",
    "This is implemented by the `fidelity` function in {{ qutipFull }}. Of note in this test case is that the resultant is close to limiting-case value of $F(\\rho_{a},\\rho_{b})=1$ for the test case herein, despite the added noise and some per-element disparities as shown in   {numref}`fig-denMatD2hCompExample`(c). This reflects the conceptual difference between an element-wise evaluation of the differences, vs. a formal scalar metric.\n",
    "\n",
    "% $F(\\rho,\\sigma )=\\left(\\operatorname{tr} {\\sqrt {{\\sqrt {\\rho }}\\sigma {\\sqrt {\\rho }}}}\\right)^{2}$\n",
    "% Wiki defn. from https://en.wikipedia.org/wiki/Fidelity_of_quantum_states\n",
    "% Cite nielsen2010QuantumComputationQuantum"
   ]
  },
  {
   "cell_type": "code",
   "execution_count": null,
   "id": "784679f9-48a7-46c7-bc46-7f784caf7aae",
   "metadata": {},
   "outputs": [],
   "source": [
    "# Test fidelity, =1 if trace-normalised\n",
    "print(f\"Fidelity (a,a) = {fidelity(pa,pa)}\")\n",
    "print(f\"Trace = {pa.tr()}\")\n",
    "print(f\"Trace-normed fidelity = {fidelity(pa,pa)/pa.tr()}\")"
   ]
  },
  {
   "cell_type": "code",
   "execution_count": null,
   "id": "3db7004a-dfc8-498b-a1d1-5aa65b9157f3",
   "metadata": {},
   "outputs": [],
   "source": [
    "# Test fidelity vs noisy case\n",
    "print(f\"Fidelity (a,b) = {fidelity(pa,pb)}\")\n",
    "print(f\"Trace a = {pa.tr()}, Trace b = {pb.tr()}\")\n",
    "print(f\"Trace-normed fidelity = {fidelity(pa/pa.tr(),pb/pb.tr())}\")"
   ]
  },
  {
   "cell_type": "code",
   "execution_count": null,
   "id": "a98bc4d0-dd3e-47e7-8236-098182de478f",
   "metadata": {},
   "outputs": [],
   "source": [
    "# This can also be computed rapidly with lower-level QuTip functionality...\n",
    "\n",
    "# Compute inner term, note .sqrtm() for square root.\n",
    "inner = pa.sqrtm() * pa * pa.sqrtm()\n",
    "\n",
    "# Compute fidelity\n",
    "inner.sqrtm().tr()"
   ]
  },
  {
   "cell_type": "markdown",
   "id": "78df60b1-8f4d-46f9-a18a-5b50b60670ac",
   "metadata": {
    "tags": [
     "remove-cell"
    ]
   },
   "source": [
    "### Von Neuman entropy\n",
    "% Not sure if this is interesting as yet... see S3.1 in benatti2010QuantumInformationComputation"
   ]
  },
  {
   "cell_type": "code",
   "execution_count": null,
   "id": "95561f4d-9e9a-40e7-888d-e275feb6c123",
   "metadata": {
    "tags": [
     "remove-cell"
    ]
   },
   "outputs": [],
   "source": [
    "entropy_vn(pa/pa.tr())"
   ]
  },
  {
   "cell_type": "code",
   "execution_count": null,
   "id": "633df103-c413-421f-aa0e-65af03647b28",
   "metadata": {
    "tags": [
     "remove-cell"
    ]
   },
   "outputs": [],
   "source": [
    "entropy_vn(pb/pb.tr())"
   ]
  },
  {
   "cell_type": "code",
   "execution_count": null,
   "id": "7c9faef5-e764-4a6e-85c3-8de96dedd6bc",
   "metadata": {
    "tags": [
     "remove-cell"
    ]
   },
   "outputs": [],
   "source": [
    "entropy_vn(pa/pa.tr()) - entropy_vn(pb/pb.tr())"
   ]
  },
  {
   "cell_type": "markdown",
   "id": "bb953258-4463-499a-8733-62b27435bae1",
   "metadata": {
    "tags": [
     "remove-cell"
    ]
   },
   "source": [
    "### Relative entropy\n",
    "\n",
    "% Not sure if this is interesting as yet... see S3.2 in benatti2010QuantumInformationComputation\n",
    "% inf for (A,B) case here?"
   ]
  },
  {
   "cell_type": "code",
   "execution_count": null,
   "id": "810f07a4-dac6-4476-9e31-fb06d8656c05",
   "metadata": {
    "tags": [
     "remove-cell"
    ]
   },
   "outputs": [],
   "source": [
    "entropy_relative(pa/pa.tr(),pa/pa.tr())  # Indentical case = 0"
   ]
  },
  {
   "cell_type": "code",
   "execution_count": null,
   "id": "0d3fdf8a-260b-4c0e-9b12-fdc18b4dbd2a",
   "metadata": {
    "tags": [
     "remove-cell"
    ]
   },
   "outputs": [],
   "source": [
    "entropy_relative(pa/pa.tr(),pb/pb.tr())"
   ]
  },
  {
   "cell_type": "markdown",
   "id": "c51bad1d-a97e-4594-8c58-9856cb81ed0d",
   "metadata": {
    "tags": [
     "remove-cell"
    ]
   },
   "source": [
    "## SCRATCH"
   ]
  },
  {
   "cell_type": "code",
   "execution_count": null,
   "id": "8d25e197-95e1-48fc-bcb1-bb538cf8679a",
   "metadata": {
    "tags": [
     "remove-cell"
    ]
   },
   "outputs": [],
   "source": [
    "break"
   ]
  },
  {
   "cell_type": "code",
   "execution_count": null,
   "id": "e53cc36c-f8de-4cac-9bf6-6f929f355148",
   "metadata": {
    "tags": [
     "remove-cell"
    ]
   },
   "outputs": [],
   "source": [
    "type(daPlot)"
   ]
  },
  {
   "cell_type": "code",
   "execution_count": null,
   "id": "98c1080a-e17d-4782-9ed1-07e22c753e50",
   "metadata": {
    "tags": [
     "remove-cell"
    ]
   },
   "outputs": [],
   "source": [
    "isinstance(daPlot, hv.core.spaces.HoloMap)"
   ]
  },
  {
   "cell_type": "code",
   "execution_count": null,
   "id": "dcea6390-2fe0-48cf-9f8d-5d3bac336f61",
   "metadata": {
    "tags": [
     "remove-cell"
    ]
   },
   "outputs": [],
   "source": [
    "isinstance(daPlot, hv.core.spaces)"
   ]
  },
  {
   "cell_type": "code",
   "execution_count": null,
   "id": "25448cef-3619-400e-a090-7ebc9726c531",
   "metadata": {
    "tags": [
     "remove-cell"
    ]
   },
   "outputs": [],
   "source": [
    "type(daPlot.select(pType='Real'))"
   ]
  },
  {
   "cell_type": "code",
   "execution_count": null,
   "id": "6cdf2745-d965-4119-b5ef-b424d95a7c4c",
   "metadata": {
    "tags": [
     "remove-cell"
    ]
   },
   "outputs": [],
   "source": [
    "'holoviews' in str(type(daPlot.select(pType='Real')))"
   ]
  },
  {
   "cell_type": "code",
   "execution_count": null,
   "id": "b4d39daf-3bad-4fe4-b6c4-abb0aa957f20",
   "metadata": {
    "tags": [
     "remove-cell"
    ]
   },
   "outputs": [],
   "source": [
    "type(glue)"
   ]
  },
  {
   "cell_type": "code",
   "execution_count": null,
   "id": "4f45db03-d7e4-4b49-996b-bfe781c38dc6",
   "metadata": {
    "tags": [
     "remove-cell"
    ]
   },
   "outputs": [],
   "source": [
    "def superglue(func):\n",
    "    '''Decorator for glue() with interactive plot types forced to static for PDF builds.'''\n",
    "    \n",
    "    def glueWrapper(name,fig,**kwargs):\n",
    "        \n",
    "        # Set names for file out\n",
    "        # Note imgFormat and imgPath should be set globally, or passed as kwargs.\n",
    "        imgFile = f'{name}.{imgFormat}'\n",
    "        imgFile = os.path.join(imgPath,imgFile)\n",
    "        \n",
    "        # Set glue() output according to fig type and build env.\n",
    "        # Note buildEnv should be set globally, or passed as a kwarg.\n",
    "        if buildEnv != 'pdf':\n",
    "            return func(name, fig, display=False)  # For non-PDF builds, use regular glue()\n",
    "        \n",
    "        else:\n",
    "            # Holoviews object\n",
    "            # Note for Bokeh backend may need additional pkgs, selenium, firefox and geckodriver\n",
    "            # See https://holoviews.org/user_guide/Plots_and_Renderers.html#saving-and-rendering\n",
    "            if 'holoviews' in str(type(fig)):\n",
    "                # Force render and glue\n",
    "                hv.save(fig, imgFile, fmt=imgFormat)\n",
    "                \n",
    "            elif 'plotly' in str(type(fig)):\n",
    "                fig.write_image(imgFile,format=imgFormat)  # See https://plotly.com/python/static-image-export/\n",
    "                \n",
    "            \n",
    "            # Glue static render\n",
    "            return func(name, Image(imgFile), display=False)\n",
    "        \n",
    "        \n",
    "    return glueWrapper"
   ]
  },
  {
   "cell_type": "code",
   "execution_count": null,
   "id": "4dd523fc-1f05-4070-8a9d-abdfa9280a40",
   "metadata": {
    "tags": [
     "remove-cell"
    ]
   },
   "outputs": [],
   "source": [
    "glue = superglue(glue)"
   ]
  },
  {
   "cell_type": "code",
   "execution_count": null,
   "id": "4ac9555c-0975-4e1a-b5e7-638be4eefffc",
   "metadata": {
    "tags": [
     "remove-cell"
    ]
   },
   "outputs": [],
   "source": [
    "glue(\"glueTestDec\", daPlot)"
   ]
  },
  {
   "cell_type": "markdown",
   "id": "0858fa76-a060-40c1-87be-f8c47d3ba3e7",
   "metadata": {
    "tags": [
     "remove-cell"
    ]
   },
   "source": [
    "```{glue:figure} glueTestDec\n",
    "---\n",
    "name: \"fig-glueTestDec\"\n",
    "---\n",
    "Raw output to glue decorated with superglue().\n",
    "```"
   ]
  },
  {
   "cell_type": "code",
   "execution_count": null,
   "id": "bcc5626e-d8ce-40db-9b5d-e0c342fb6337",
   "metadata": {
    "tags": [
     "remove-cell"
    ]
   },
   "outputs": [],
   "source": [
    "# Quick decorator example from https://www.geeksforgeeks.org/function-wrappers-in-python/\n",
    "\n",
    "import time\n",
    "\n",
    "\n",
    "def timeis(func):\n",
    "\t'''Decorator that reports the execution time.'''\n",
    "\n",
    "\tdef wrap(*args, **kwargs):\n",
    "\t\tstart = time.time()\n",
    "\t\tresult = func(*args, **kwargs)\n",
    "\t\tend = time.time()\n",
    "\t\t\n",
    "\t\tprint(func.__name__, end-start)\n",
    "\t\treturn result\n",
    "\treturn wrap\n",
    "\n",
    "@timeis\n",
    "def countdown(n):\n",
    "\t'''Counts down'''\n",
    "\twhile n > 0:\n",
    "\t\tn -= 1\n",
    "\n",
    "countdown(5)\n",
    "countdown(1000)"
   ]
  },
  {
   "cell_type": "code",
   "execution_count": null,
   "id": "a5412e44-886a-4d83-8c56-8fdf2b9be472",
   "metadata": {
    "tags": [
     "remove-cell"
    ]
   },
   "outputs": [],
   "source": [
    "hv.core.options.Store.loaded_backends()"
   ]
  },
  {
   "cell_type": "code",
   "execution_count": null,
   "id": "b94def19-5875-4754-811a-ac6234bc4db3",
   "metadata": {
    "tags": [
     "remove-cell"
    ]
   },
   "outputs": [],
   "source": [
    "daLayout = (daPlot.layout('pType')).cols(1)"
   ]
  },
  {
   "cell_type": "code",
   "execution_count": null,
   "id": "6fbc5944-1326-42d1-be11-1f125c7ef2fb",
   "metadata": {
    "tags": [
     "remove-cell"
    ]
   },
   "outputs": [],
   "source": [
    "type(daLayout)"
   ]
  },
  {
   "cell_type": "code",
   "execution_count": null,
   "id": "3693727b-7d55-433b-8bbe-db468e701264",
   "metadata": {
    "tags": [
     "remove-cell"
    ]
   },
   "outputs": [],
   "source": [
    "print(daLayout)"
   ]
  }
 ],
 "metadata": {
  "jupytext": {
   "formats": "ipynb,md:myst"
  },
  "kernelspec": {
   "display_name": "Python 3 (ipykernel)",
   "language": "python",
   "name": "python3"
  },
  "language_info": {
   "codemirror_mode": {
    "name": "ipython",
    "version": 3
   },
   "file_extension": ".py",
   "mimetype": "text/x-python",
   "name": "python",
   "nbconvert_exporter": "python",
   "pygments_lexer": "ipython3",
   "version": "3.9.7"
  }
 },
 "nbformat": 4,
 "nbformat_minor": 5
}
