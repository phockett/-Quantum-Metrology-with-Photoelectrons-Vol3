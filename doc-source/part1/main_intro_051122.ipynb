{
 "cells": [
  {
   "cell_type": "markdown",
   "id": "109d7174-a8a8-4292-837c-31f60f9fae4f",
   "metadata": {},
   "source": [
    "# Introduction\n",
    "\n",
    "The overall aim of Vol. 3 is to expand, explore, and illustrate, quantum metrology with photoelectrons: specifically, the application of new python-based tools to tackle problems in matrix element retrieval. All the material is available as Jupyter Notebooks, which can be run locally to further explore the topic, or adapt the methodology to new problems\n",
    "\n",
    "A brief introduction to the core physics is presented herein, although the unfamiliar reader is referred to Volume 1 of the series for a more detailed presentation, and gateway to the literature {cite}`hockett2018QMP1`.\n",
    "\n",
    "\n"
   ]
  },
  {
   "cell_type": "code",
   "execution_count": null,
   "id": "6a9044b9-d463-4dce-b2ed-779a5e624c81",
   "metadata": {},
   "outputs": [],
   "source": []
  }
 ],
 "metadata": {
  "jupytext": {
   "formats": "ipynb,md:myst"
  },
  "kernelspec": {
   "display_name": "Python 3 (ipykernel)",
   "language": "python",
   "name": "python3"
  },
  "language_info": {
   "codemirror_mode": {
    "name": "ipython",
    "version": 3
   },
   "file_extension": ".py",
   "mimetype": "text/x-python",
   "name": "python",
   "nbconvert_exporter": "python",
   "pygments_lexer": "ipython3",
   "version": "3.9.7"
  }
 },
 "nbformat": 4,
 "nbformat_minor": 5
}
