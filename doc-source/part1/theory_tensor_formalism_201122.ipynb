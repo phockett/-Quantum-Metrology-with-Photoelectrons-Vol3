{
 "cells": [
  {
   "cell_type": "markdown",
   "id": "8d0c655b-997c-4d8f-82f2-106f72d83b3c",
   "metadata": {
    "tags": [
     "remove-cell"
    ]
   },
   "source": [
    "Subsections for tensor formulation.\n",
    "\n",
    "- 22/11/22: basics in place and all refs present.\n",
    "\n",
    "TODO\n",
    "\n",
    "- Numerical examples.\n",
    "- Tidy up notation in some places.\n",
    "- Full extended tensor formulation as per Appendix in MF recon paper? Probably should add in here."
   ]
  },
  {
   "cell_type": "markdown",
   "id": "db3d7fa1-f5df-4830-aecc-1d68e264ba8c",
   "metadata": {
    "tags": []
   },
   "source": [
    "(sec:tensor-formulation)=\n",
    "# Tensor formulation of photoionization\n",
    "\n",
    "% A number of authors have treated MFPADs and related problems [REFS]; \n",
    "% see Appendix [\\[sec:theory-lit\\]](#sec:theory-lit){reference-type=\"ref\" reference=\"sec:theory-lit\"} for some examples. \n",
    "A number of authors have treated MFPADs and related problems [REFS]; herein, a geometric tensor based formalism is developed, which is close in spirit to the treatments given by Underwood and co-workers {cite}`Reid2000,Stolow2008,Underwood2000`, but further separates various sets of physical parameters into dedicated tensors; this allows for a unified theoretical and numerical treatment, where the latter computes properties as tensor variables which can be further manipulated and investigated. Furthermore, the tensors can readily be converted to a density matrix representation {cite}`BlumDensityMat,zareAngMom`, which is more natural for some quantities, and also emphasizes the link to quantum state tomography and other quantum information techniques. Much of the theoretical background, as well as application to aspects of the current problem, can be found in the textbooks of Blum {cite}`BlumDensityMat`\n",
    "and Zare {cite}`zareAngMom`.\n",
    "\n",
    "Within this treatment, the observables can be defined in a series of simplified forms, emphasizing the quantities of interest for a given problem. Some details are defined in the following subsections,\n",
    "% and further detailed in Appendix [\\[appendix:formalism\\]](#appendix:formalism){reference-type=\"ref\" reference=\"appendix:formalism\"}."
   ]
  },
  {
   "cell_type": "markdown",
   "id": "76cfe789-6c47-4b96-9f93-221117ffae02",
   "metadata": {},
   "source": [
    "(sec:channel-funcs)=\n",
    "## Channel functions\n",
    "\n",
    "A simple form of the equations, amenable to fitting, is to write the observables in terms of \"channel functions\\\", which define the ionization continuum for a given case and set of parameters $u$ (e.g. defined for the MF, or defined for a specific experimental configuration),\n",
    "\n",
    "$$\\beta_{L,M}^{u}=\\sum_{\\zeta,\\zeta'}\\varUpsilon_{L,M}^{u,\\zeta\\zeta'}\\mathbb{I}^{\\zeta\\zeta'}$$ (eqn:channel-fns)\n",
    "\n",
    "Where $\\zeta,\\zeta'$ collect all the required quantum numbers, and\n",
    "define all (coherent) pairs of components. The term\n",
    "$\\mathbb{I}^{\\zeta\\zeta'}$ denotes the coherent square of the ionization\n",
    "matrix elements:\n",
    "\n",
    "$$\\mathbb{I}^{\\zeta,\\zeta}=I^{\\zeta}(\\epsilon)I^{\\zeta'*}(\\epsilon)\n",
    "$$ (eqn:I-zeta)\n",
    "\n",
    "This is effectively a convolution equation (cf. refs. {cite}`Reid2000,gregory2021MolecularFramePhotoelectron`) with channel functions, for a given \"experiment\" $u$, summed over all terms $\\zeta,\\zeta'$. Aside from the change in notation (which is here chosen to match the formalism of Refs. {cite}`Gianturco1994, Lucchese1986,Natalense1999`), \n",
    "% see also Sect.[\\[sec:mat-ele-conventions\\]](#sec:mat-ele-conventions){reference-type=\"ref\" reference=\"sec:mat-ele-conventions\"}), \n",
    "these matrix elements are essentially identical to the simplified (radial) forms\n",
    "$\\mathbf{r}_{k,l,m}$ defined in Eqn. {eq}`eq:r-kllam`, in the case where $\\zeta=k,l,m$. These complex matrix elements can also be equivalently defined in a magnitude, phase\n",
    "form:\n",
    "\n",
    "$$I^{\\zeta}(\\epsilon)\\equiv\\mathbf{r}_{\\zeta}\\equiv r_{\\zeta}e^{i\\phi_{\\zeta}}$$(eqn:I-zeta-mag-phase)\n",
    "\n",
    "This tensorial form is numerically implemented in the {{ ePSproc_repo }} codebase, and is in contradistinction to standard numerical routines in which the requisite terms are usually computed from vectorial and/or nested summations, which can be somewhat opaque to\n",
    "detailed interpretation, and typically implement the full computation of the observables in one monolithic computational routine. The {{ PEMtk_repo }} codebase implements matrix element retrieval based on the tensor formalism, with pre-computation of all the geometric tensor components (channel functions) prior to a fitting protocol for matrix element analysis, essentially a fit to Eqn. {eq}`eqn:channel-fns`, with terms $I^{\\zeta}(\\epsilon)$ as the unknowns (in magnitude, phase form per {eq}`eqn:I-zeta-mag-phase`). The main computational cost of a tensor-based approach is that more RAM is required to store the full set of tensor variables; however, the method is computationally efficient since it is inherently parallel (as compared to a traditional, serial loop-based solution), hence may lead to significantly faster evaluation of observables. Furthermore, the method allows for the computational routines to match the formalism quite closely, and investigation of the properties of the channel functions for a given problem in general terms, as well as for specific experimental cases.\n",
    "\n",
    "TODO: numerical examples here or below.\n",
    "TODO: benchmarks, or link to them (see test fitting notebooks...?).\n"
   ]
  },
  {
   "cell_type": "markdown",
   "id": "46187cef-afd2-403f-8b00-5be4625dd3fa",
   "metadata": {},
   "source": [
    "(sec:full-tensor-expansion)= \n",
    "## Full tensor expansion\n",
    "\n",
    "In more detail, the channel functions can be given as a set of tensors, defining each aspect of the problem.\n",
    "\n",
    "For the MF:\n",
    "\n",
    "$$\\begin{aligned}\n",
    "\\beta_{L,-M}^{\\mu_{i},\\mu_{f}}(\\epsilon) & = & (-1)^{M}\\sum_{P,R',R}(2P+1)^{\\frac{1}{2}}{E_{P-R}(\\hat{e};\\mu_{0})}\\\\\n",
    " & \\times &\\sum_{l,m,\\mu}\\sum_{l',m',\\mu'}(-1)^{(\\mu'-\\mu_{0})}{\\Lambda_{R',R}(R_{\\hat{n}};\\mu,P,R,R')B_{L,-M}(l,l',m,m')}\\\\\n",
    " & \\times & I_{l,m,\\mu}^{p_{i}\\mu_{i},p_{f}\\mu_{f}}(\\epsilon)I_{l',m',\\mu'}^{p_{i}\\mu_{i},p_{f}\\mu_{f}*}(\\epsilon)\\end{aligned}$$ (eq:BLM-tensor-MF)\n",
    "\n",
    "And the LF/AF as:\n",
    "\n",
    "$$\\begin{aligned}\n",
    "\\bar{\\beta}_{L,-M}^{\\mu_{i},\\mu_{f}}(E,t) & = & (-1)^{M}\\sum_{P,R',R}{[P]^{\\frac{1}{2}}}{E_{P-R}(\\hat{e};\\mu_{0})}\\\\\n",
    " & \\times &\\sum_{l,m,\\mu}\\sum_{l',m',\\mu'}(-1)^{(\\mu'-\\mu_{0})}{\\Lambda_{R'}(\\mu,P,R')B_{L,S-R'}(l,l',m,m')}\\\\\n",
    " & \\times &I_{l,m,\\mu}^{p_{i}\\mu_{i},p_{f}\\mu_{f}}(\\epsilon)I_{l',m',\\mu'}^{p_{i}\\mu_{i},p_{f}\\mu_{f}*}(\\epsilon)\\sum_{K,Q,S}\\Delta_{L,M}(K,Q,S)A_{Q,S}^{K}(t)\\end{aligned}$$ (eq:BLM-tensor-AF)\n",
    "\n",
    "In both cases a set of geometric tensor terms are required, \n",
    "% which are fully defined in Appendix [\\[appendix:formalism\\]](#appendix:formalism){reference-type=\"ref\" reference=\"appendix:formalism\"}; \n",
    "these terms provide details of:\n",
    "\n",
    "-   ${E_{P-R}(\\hat{e};\\mu_{0})}$: polarization geometry & coupling with\n",
    "    the electric field.\n",
    "\n",
    "-   $B_{L,S-R'}(l,l',m,m')$: geometric coupling of the partial waves\n",
    "    into the $\\beta_{L,M}$ terms (spherical tensors).\n",
    "\n",
    "-   $\\Lambda_{R'}(\\mu,P,R')$: frame couplings and rotations.\n",
    "\n",
    "-   $\\Delta_{L,M}(K,Q,S)$: alignment frame coupling.\n",
    "\n",
    "-   $A_{Q,S}^{K}(t)$: ensemble alignment described as a set of axis\n",
    "    distribution moments (ADMs).\n",
    "\n",
    "And $I_{l,m,\\mu}^{p_{i}\\mu_{i},p_{f}\\mu_{f}}(\\epsilon)$ are the (radial)\n",
    "dipole ionization matrix elements, as a function of energy $\\epsilon$.\n",
    "These matrix elements are essentially identical to the simplified forms\n",
    "$r_{k,l,m}$ defined in Eqn. {eq}`eq:r-kllam`, except with additional indices to label\n",
    "symmetry and polarization components defined by a set of partial-waves\n",
    "$\\{l,m\\}$, for polarization component $\\mu$ (denoting the photon angular\n",
    "momentum components) and channels (symmetries) labelled by initial and\n",
    "final state indexes ${p_{i}\\mu_{i},p_{f}\\mu_{f}}$. The notation here\n",
    "follows that used by {{ ePS_full }}, and these matrix elements again represent the quantities to be obtained numerically from data analysis, or from an [ePolyScat (or similar) calculation](https://epsproc.readthedocs.io/en/latest/ePS_ePSproc_tutorial/ePS_tutorial_080520.html#Theoretical-background).\n",
    "\n",
    "[Numerical example here, or already included above somewhere]\n",
    "\n",
    "Note that, in this case as given, time-dependence arises purely from the\n",
    "$A_{Q,S}^{K}(t)$ terms in the AF case, and the electric field term\n",
    "currently describes only the photon angular momentum coupling, although\n",
    "can in principle also describe time-dependent/shaped fields. Similarly,\n",
    "a time-dependent initial state (e.g. a vibrational wavepacket) could\n",
    "also describe a time-dependent MF case.\n",
    "\n",
    "It should be emphasized, however, that the underlying physical\n",
    "quantities are essentially identical in all the theoretical approaches,\n",
    "with a set of coupled angular-momenta defining the geometrical part of\n",
    "the photoionization problem, despite these differences in the details of\n",
    "the theory and notation."
   ]
  },
  {
   "cell_type": "markdown",
   "id": "2f69cdb7-5365-4d8c-bd62-f283bf817093",
   "metadata": {
    "tags": []
   },
   "source": [
    "(sec:density-mat-basic)=\n",
    "## Density matrix representation\n",
    "\n",
    "The density operator associated with the continuum state in\n",
    "Eq. {eq}`eq:continuum-state-vec` is easily written as $\\hat{\\rho}=|\\Psi_c\\rangle\\langle\\Psi_c|$. In the channel function basis, this leads to a density matrix given by the radial matrix\n",
    "elements:\n",
    "\n",
    "% $$\\mathbf{\\rho}^{\\zeta\\zeta'} = \\mathbb{I}^{\\zeta,\\zeta'}\n",
    "% $$ (eqn:radial-density-mat)\n",
    "\n",
    "$$\\boldsymbol{\\rho}^{\\zeta\\zeta'} = \\mathbb{I}^{\\zeta,\\zeta'}\n",
    "$$ (eqn:radial-density-mat)\n",
    "\n",
    "Since the matrix elements characterise the scattering event, the density matrix provides an equivalent characterisation of the scattering event. \n",
    "% An example case is discussed in Sect. [\\[sec:den-mat-N2\\]](#sec:den-mat-N2){reference-type=\"ref\" reference=\"sec:den-mat-N2\"} (see Fig. [11](#998904){reference-type=\"ref\" reference=\"998904\"}); for more details, and further discussion, see Sect. [\\[sec:density-mat-full\\]](#sec:density-mat-full){reference-type=\"ref\" reference=\"sec:density-mat-full\"}.\n",
    "\n",
    "Further discussion can also be found in the literature, see, e.g., Ref. {cite}`BlumDensityMat` for general discussion, Ref. {cite}`Reid1991` for application in pump-probe schemes.\n",
    "\n",
    "TODO: numerical examples here"
   ]
  }
 ],
 "metadata": {
  "jupytext": {
   "formats": "ipynb,md:myst"
  },
  "kernelspec": {
   "display_name": "Python 3 (ipykernel)",
   "language": "python",
   "name": "python3"
  },
  "language_info": {
   "codemirror_mode": {
    "name": "ipython",
    "version": 3
   },
   "file_extension": ".py",
   "mimetype": "text/x-python",
   "name": "python",
   "nbconvert_exporter": "python",
   "pygments_lexer": "ipython3",
   "version": "3.9.7"
  }
 },
 "nbformat": 4,
 "nbformat_minor": 5
}
