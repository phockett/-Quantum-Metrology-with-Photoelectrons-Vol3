{
 "cells": [
  {
   "cell_type": "markdown",
   "id": "8d0c655b-997c-4d8f-82f2-106f72d83b3c",
   "metadata": {
    "tags": [
     "remove-cell"
    ]
   },
   "source": [
    "Subsections for tensor formulation.\n",
    "\n",
    "- 16/07/23:\n",
    "    - New version for tidy-up/July 2023\n",
    "    - Added some more general/review refs\n",
    "    - Added Frame Definitions section, could do with some work (or drop it again).\n",
    "    - General tidy-up\n",
    "        - Removed most old notes and hidden cells.\n",
    "        - Code tidy up.\n",
    "    - DEBUGGING 18/07/23: \n",
    "        - **found some inconsistencies with updated phaseCons for 3D-AFPAD testing (container `jupyterlab_epsproc_3d:140723`).** (But OK in prior build, container `jupyterlab_epsproc_dev:180523`.)\n",
    "        - Testing on Stimpy directly, should now be fixed for demo cases here ('S' phaseCons), but not for ePS case as yet. Note issue was loss of M!=0 terms in DeltaTerm, fixed by -R axis labels in EPR tensor.\n",
    "        - TODO: test debug for 3D demo cases, then rebuild for 3D case. Previous fix for ePS case, `phaseCons['afblmCons']['negM'] = not(phaseCons['genMatEcons']['negm'])` seems to be incorrect (or may be to do with matrix element sign definitions...).\n",
    "        - Updated Docker builds 19/07/23 fixes phase issues for S case, and tensor formalism chpt now consistent, e.g. http://jake:9988/lab/tree/QM3/doc-source/part1/theory_tensor_formalism_160723-DEBUG_updates190723_buildTest.ipynb\n",
    "        - TODO: more careful checks of plots etc. on next book build.\n",
    "        - 19/07/23: build with current code (in Docker `jupyterlab_qm3_local:190723`) looks good.\n",
    "                    Additional formatting and fixes now in place.\n",
    "        \n",
    "- 27/04/23: numerics now broken in build...?? WTF???\n",
    "   - UPDATE: fixed at cell 7 by adding `thres=None` to `BetaNormX2, basisFull = ep.geomFunc.afblmXprod(data.data[data.subKey]['matE'], basisReturn = 'Full', thres=None, selDims={}, sqThres=False)` Must have been change in afblmXprod defaults?\n",
    "- 22/11/22: basics in place and all refs present.\n",
    "\n",
    "TODO\n",
    "\n",
    "- Numerical examples, see https://epsproc.readthedocs.io/en/dev/methods/geometric_method_dev_260220_090420_tidy.html#E_{P,R}-tensor (and MF recon manuscript working notes?). Should be able to redo for general case working from symHarms as matrix elements (i.e. no external codes needed).\n",
    "   - benchmarks, or link to them (see test fitting notebooks...?).\n",
    "- Tidy up notation in some places.\n",
    "- Full extended tensor formulation as per Appendix in MF recon paper? Probably should add in here.\n",
    "   - Best working notes? Try https://pemtk.readthedocs.io/en/latest/fitting/PEMtk_fitting_basis-set_demo_050621-full.html, also try updates for MF recon manuscript in http://jake:9966/lab/tree/code-share/jupyter-shared/PEMtk_dev_2022/basisSets/PEMtk_fitting_basis-set_demo_050621-full-revisit-Jake_040822.ipynb. Q: did this make it to Figshare repo? Looks like missing? See also Trello notes...\n",
    "   - AH, original workspace for MF recon case: http://jake/jupyter/user/paul/lab/workspaces/MFreconBasisSets, and main notebook (may not be final version?) http://jake/jupyter/user/paul/doc/tree/code-share/stimpy-docker-local/MFPADs_recon_manuscript_dev_April_2022/MFrecon_manuscript_fig_generation_170422-Stimpy_MAIN-oldPkgs.ipynb"
   ]
  },
  {
   "cell_type": "markdown",
   "id": "db3d7fa1-f5df-4830-aecc-1d68e264ba8c",
   "metadata": {
    "tags": []
   },
   "source": [
    "(sec:tensor-formulation)=\n",
    "# Tensor formulation of photoionization\n",
    "\n",
    "A number of authors have treated {{ PADs }} and related problems in the context of photoionization theory and matrix element reconstruction (see {{ QM2 }} Chpt. 8 for examples and discussion, a range of review articles can also be found in the literature, e.g. Refs. {cite}`Becker1998, Reid2003, Kleinpoppen2005, kleinpoppen2013perfect`); herein, a geometric tensor based formalism is developed, which is close in spirit to the treatments given by Underwood and co-workers {cite}`Reid2000,Stolow2008,Underwood2000`, but further separates various sets of physical parameters into dedicated tensors; this allows for a unified theoretical and numerical treatment, where the latter computes properties as tensor variables which can be further manipulated and investigated to give detailed insights into various aspects of photoionization for the system at hand, and implications/effects for matrix element retrieval in a given case. Furthermore, the tensors can readily be converted to a density matrix representation {cite}`BlumDensityMat,zareAngMom`, which is more natural for some quantities, and also emphasizes the link to quantum state tomography and other quantum information techniques. Much of the theoretical background, as well as application to aspects of the current problem, can be found in the textbooks of Blum {cite}`BlumDensityMat` and Zare {cite}`zareAngMom`. \n",
    "\n",
    "Within this treatment, the observables can be defined in a series of simplified forms, emphasizing the quantities of interest for a given problem. The most general, and simplest, form is given in {numref}`Sect. %s <sec:channel-funcs>`, in terms of {{ GAMMACHANNEL }}, and the remainder of this section ({numref}`Sect. %s <sec:full-tensor-expansion>` - {numref}`sec:theory:tensor-products`) gives a detailed breakdown of the various components of the {{ GAMMACHANNEL }}, and numerical examples."
   ]
  },
  {
   "cell_type": "markdown",
   "id": "76cfe789-6c47-4b96-9f93-221117ffae02",
   "metadata": {},
   "source": [
    "(sec:channel-funcs)=\n",
    "## Channel functions\n",
    "\n",
    "A simple form of the equations[^eqFootnote], amenable to fitting and numerical implementation, is to write the observables in terms of {{ GAMMACHANNEL }}, which define the ionization continuum for a given case and set of parameters $u$ (e.g. defined for the {{ MF }}, or defined for a specific experimental configuration),\n",
    "\n",
    "$$\\beta_{L,M}^{u}=\\sum_{\\zeta,\\zeta'}\\varUpsilon_{L,M}^{u,\\zeta\\zeta'}\\mathbb{I}^{\\zeta\\zeta'}$$ (eqn:channel-fns)\n",
    "\n",
    "Where $\\zeta,\\zeta'$ collect all the required quantum numbers, and\n",
    "define all (coherent) pairs of components. The term\n",
    "$\\mathbb{I}^{\\zeta\\zeta'}$ denotes the coherent square of the ionization\n",
    "matrix elements:\n",
    "\n",
    "$$\\mathbb{I}^{\\zeta,\\zeta}=I^{\\zeta}(\\epsilon)I^{\\zeta'*}(\\epsilon)\n",
    "$$ (eqn:I-zeta)\n",
    "\n",
    "Eq. {eq}`eqn:channel-fns` is effectively a convolution equation (cf. Refs. {cite}`Reid2000,gregory2021MolecularFramePhotoelectron`) with channel functions $\\varUpsilon_{L,M}^{u,\\zeta\\zeta'}$, for a given \"experiment\" $u$, summed over all terms $\\zeta,\\zeta'$. Aside from the change in notation (which is here chosen to match the formalism of Refs. {cite}`Gianturco1994, Lucchese1986,Natalense1999`), \n",
    "these matrix elements are essentially identical to the simplified {{ RADMATE }}\n",
    "$\\mathbf{r}_{k,l,m}$ defined in Eq. {eq}`eq:r-kllam`, in the case where $\\zeta=\\{k,l,m\\}$. Similarly, the {{ GAMMACHANNEL }} are essentially nothing but a slightly different form of the {{ GEOMPARAMS }} of Eqs. {eq}`eq:r-kllam`, {eq}`eq:I-reduced-LF-2_45-vol1`, incorporating all required geometric parameters.\n",
    "Note, also, that the {{ RADMATE }} used herein are usually assumed to be symmetrized (unless explicitly stated), i.e. expanded in {{ SYMHARM }} per Eq. {eq}`eq:symHarm-defn`, but with any additional symmetry parameters $b_{hl\\lambda}^{\\Gamma\\mu}$ incorporated into the value of the {{ RADMATE }}.\n",
    "\n",
    "\n",
    "These complex matrix elements can also be equivalently defined in a magnitude, phase\n",
    "form:\n",
    "\n",
    "$$I^{\\zeta}(\\epsilon)\\equiv\\mathbf{r}_{\\zeta}\\equiv r_{\\zeta}e^{i\\phi_{\\zeta}}$$(eqn:I-zeta-mag-phase)\n",
    "\n",
    "This tensorial form is numerically implemented in the {{ ePSproc_repo }} codebase, and is in contradistinction to standard numerical routines in which the requisite terms are usually computed from vectorial and/or nested summations. The {{ PEMtk_repo }} codebase implements {{ RADMATE }} retrieval based on the tensor formalism, with pre-computation of all the geometric tensor components ({{ GAMMACHANNEL }}) prior to a fitting protocol for matrix element analysis, essentially a fit to Eqn. {eq}`eqn:channel-fns`, with terms $I^{\\zeta}(\\epsilon)$ as the unknowns (in magnitude, phase form per {eq}`eqn:I-zeta-mag-phase`). The main computational cost of a tensor-based approach is that more RAM is required to store the full set of tensor variables; however, the method is computationally efficient since it is inherently parallel (as compared to a traditional, serial loop-based solution), hence may lead to significantly faster evaluation of observables. Furthermore, the method allows for the computational routines to match the formalism quite closely, and for the investigation of the properties of the {{ GAMMACHANNEL }} for a given problem in general terms, as well as for specific experimental cases including examination of specific couplings/effects. (Again, this is in contrast to standard nested-loop routines, which can be somewhat opaque to detailed interpretation, and typically implement the full computation of the observables in one monolithic computational routine; they do, however, have significantly lower RAM requirements since the full multi-dimensional basis tensors are not required to be stored.) {numref}`Sect. %s <sec:full-tensor-expansion>` provides details of the tensor components of the {{ GAMMACHANNEL }}, and the remainder of this section breaks these down further, including numerical examples, and discussion of their significance for fitting problems in specific cases.\n",
    "\n",
    "[^eqFootnote]: Cf. the general form of Eq. {eq}`eq:I-reduced-LF-2_45-vol1`. See also {{ QM2 }} Chpt. 12 for early discussion and motivation for this formalism.\n",
    "\n",
    "% TODO: numerical examples here or below.\n",
    "% TODO: benchmarks, or link to them (see test fitting notebooks...?)."
   ]
  },
  {
   "cell_type": "markdown",
   "id": "46187cef-afd2-403f-8b00-5be4625dd3fa",
   "metadata": {
    "tags": []
   },
   "source": [
    "(sec:full-tensor-expansion)= \n",
    "## Full tensor expansion\n",
    "\n",
    "In more detail, the {{ GAMMACHANNEL }} $\\varUpsilon_{L,M}^{u,\\zeta\\zeta'}$ can be given as a set of tensors, defining each aspect of the problem. The following equations illustrate this for the {{ MF }} and {{ LF }}/{{ AF }} cases, fully expanding the general form of Eq. {eq}`eqn:channel-fns` in terms of the relevant tensors. Further details and numerical examples are given in the following sub-sections.\n",
    "\n",
    "For the {{ MF }}:\n",
    "\n",
    "$$\\begin{aligned}\n",
    "\\beta_{L,-M}^{\\mu_{i},\\mu_{f}}(\\epsilon) & = & (-1)^{M}\\sum_{P,R',R}{[P]^{\\frac{1}{2}}}{E_{P-R}(\\hat{e};\\mu_{0})}\\\\\n",
    " & \\times &\\sum_{l,m,\\mu}\\sum_{l',m',\\mu'}(-1)^{(\\mu'-\\mu_{0})}{\\Lambda_{R',R}(R_{\\hat{n}};\\mu,P,R,R')B_{L,-M}(l,l',m,m')}\\\\\n",
    " & \\times & I_{l,m,\\mu}^{p_{i}\\mu_{i},p_{f}\\mu_{f}}(\\epsilon)I_{l',m',\\mu'}^{p_{i}\\mu_{i},p_{f}\\mu_{f}*}(\\epsilon)\\end{aligned}$$ (eq:BLM-tensor-MF)\n",
    "\n",
    "And the {{ LF }}/{{ AF }} as:\n",
    "\n",
    "$$\\begin{aligned}\n",
    "\\bar{\\beta}_{L,-M}^{\\mu_{i},\\mu_{f}}(\\epsilon,t) & = & (-1)^{M}\\sum_{P,R',R}{[P]^{\\frac{1}{2}}}{E_{P-R}(\\hat{e};\\mu_{0})}\\\\\n",
    " & \\times &\\sum_{l,m,\\mu}\\sum_{l',m',\\mu'}(-1)^{(\\mu'-\\mu_{0})}{\\bar{\\Lambda}_{R'}(\\mu,P,R')B_{L,S-R'}(l,l',m,m')}\\\\\n",
    " & \\times &I_{l,m,\\mu}^{p_{i}\\mu_{i},p_{f}\\mu_{f}}(\\epsilon)I_{l',m',\\mu'}^{p_{i}\\mu_{i},p_{f}\\mu_{f}*}(\\epsilon)\\sum_{K,Q,S}\\Delta_{L,M}(K,Q,S)A_{Q,S}^{K}(t)\\end{aligned}$$ (eq:BLM-tensor-AF)\n",
    "\n",
    "In both cases a set of geometric tensor terms are required, \n",
    "% which are fully defined in Appendix [\\[appendix:formalism\\]](#appendix:formalism){reference-type=\"ref\" reference=\"appendix:formalism\"}; \n",
    "these terms provide details of:\n",
    "\n",
    "-   ${E_{P-R}(\\hat{e};\\mu_{0})}$: polarization geometry & coupling with\n",
    "    the electric field.\n",
    "\n",
    "-   $B_{L,M}(l,l',m,m')$: geometric coupling of the partial waves into the $\\beta_{L,M}$ terms (spherical tensors). Note for the {{ AF }} case the terms may be reindexed by $M=S-R'$, which allows for the projection dependence on the {{ ADMs }} (see below).\n",
    "\n",
    "-   $\\Lambda_{R',R}(R_{\\hat{n}};\\mu,P,R,R')$, $\\bar{\\Lambda}_{R'}(\\mu,P,R')$: frame couplings and rotations (note slightly different terms for {{ MF }} and {{ AF }}).\n",
    "\n",
    "-   $\\Delta_{L,M}(K,Q,S)$: alignment frame coupling ({{ LF }}/{{ AF }} only).\n",
    "\n",
    "-   $A_{Q,S}^{K}(t)$: ensemble alignment described as a set of {term}`axis distribution moments` ({{ ADMs }}, {{ LF }}/{{ AF }} only).  Note for a one-photon ionization case - the traditional {{ LF }} experiment - there will only be a single term, $K=Q=S=0$, with no time-dependence, which describes an isotropic molecular ensemble. In general only the {{ AF }} is discussed explicitly herein, but it is of note that this is identical to the traditional {{ LF }} definition for this limiting case of an isotropic ensemble.\n",
    "\n",
    "- Square-brackets are short-hand for degeneracy terms, e.g. $[P]^{\\frac{1}{2}} = (2P+1)^{\\frac{1}{2}}$.\n",
    "\n",
    "And $I_{l,m,\\mu}^{p_{i}\\mu_{i},p_{f}\\mu_{f}}(\\epsilon)$ are the {{ RADMATE }}, as a function of energy $\\epsilon$.\n",
    "As noteed above, these {{ RADMATE }} are essentially identical to the simplified forms\n",
    "$r_{k,l,m}$ defined in Eqn. {eq}`eq:r-kllam`, except now with additional indices to label\n",
    "symmetry and polarization components defined by a set of {{ PARTIALWAVES }}\n",
    "$\\{l,m\\}$, for polarization component $\\mu$ (denoting the photon angular\n",
    "momentum components) and channels (symmetries) labelled by initial and\n",
    "final state indexes $(p_{i}\\mu_{i},p_{f}\\mu_{f})$. The notation here\n",
    "follows that used by {{ ePS_full }}, and these matrix elements again represent the quantities to be obtained numerically from data analysis, or from an [ePolyScat (or similar) calculation](https://epsproc.readthedocs.io/en/latest/ePS_ePSproc_tutorial/ePS_tutorial_080520.html#Theoretical-background).\n",
    "\n",
    "% [Numerical example here, or already included above somewhere]\n",
    "\n",
    "\n",
    "Following the tensor components detailed above, the full form of the {{ GAMMACHANNEL }} of Eq. {eq}`eqn:channel-fns` for the {{ AF }} and {{ MF }} can be written as:\n",
    "\n",
    "$$\n",
    "\\begin{aligned}\n",
    "\\varUpsilon_{L,M}^{u,\\zeta\\zeta'} & = & (-1)^{M}{[P]^{\\frac{1}{2}}}E_{P-R}(\\hat{e};\\mu_{0})(-1)^{(\\mu'-\\mu_{0})}\\Lambda_{R',R}(R_{\\hat{n}};\\mu,P,R,R')\\\\\n",
    " & \\times & B_{L,-M}(l,l',m,m')\\end{aligned}\n",
    "$$ (eq:channelFunc-MF-defn)\n",
    "\n",
    "\n",
    "$$\n",
    "\\begin{aligned}\n",
    "\\bar{\\varUpsilon_{}}_{L,M}^{u,\\zeta\\zeta'} & = & (-1)^{M}[P]^{\\frac{1}{2}}E_{P-R}(\\hat{e};\\mu_{0})(-1)^{(\\mu'-\\mu_{0})}\\bar{\\Lambda}_{R'}(\\mu,P,R')\\\\\n",
    " & \\times & B_{L,S-R'}(l,l',m,m')\\Delta_{L,M}(K,Q,S)A_{Q,S}^{K}(t)\\end{aligned}\n",
    "$$ (eq:channelFunc-AF-defn)\n",
    "\n",
    "% NOTE `\\bar{\\varUpsilon_{}}` instead of `\\bar{\\varUpsilon}` to avoid XeLatex rendering bug.\n",
    "\n",
    "Note that, in this case as given, time-dependence arises purely from the\n",
    "$A_{Q,S}^{K}(t)$ terms in the AF case, and the electric field term\n",
    "currently describes only the photon angular momentum coupling, although\n",
    "can in principle also describe time-dependent/shaped fields. Similarly,\n",
    "a time-dependent initial state (e.g. a vibrational wavepacket) could\n",
    "also describe a time-dependent MF case.\n",
    "\n",
    "It should be emphasized, however, that the underlying physical\n",
    "quantities are essentially identical in all the theoretical approaches,\n",
    "with a set of coupled angular-momenta defining the {{ GEOMPARAMS }} part of\n",
    "the photoionization problem, despite these differences in the details of\n",
    "the theory and notation.\n",
    "\n",
    "The various tensors defined above are implemented as functions in the {{ ePSproc_full }}, and further wrapped for fitting cases in the {{ PEMtk_repo }}. In the remainder of this section, numerical examples using these codes are illustrated and explored. Full computational details can be found in the {{ ePSproc_docs }}, including [extended discussion of each tensor](https://epsproc.readthedocs.io/en/latest/methods/geometric_method_dev_260220_090420_tidy.html) and complete function references in the [geomCalc submodule documentation](https://epsproc.readthedocs.io/en/latest/modules/epsproc.geomFunc.geomCalc.html)."
   ]
  },
  {
   "cell_type": "markdown",
   "id": "4c8afb59-b80e-4e46-bc72-af76dd04a82c",
   "metadata": {},
   "source": [
    "(sec:frame-definitions)=\n",
    "## Frame definitions\n",
    "\n",
    "A conceptual overview of the {{ LF }}/{{ AF }} and relation to the {{ MF }}, in the context of the bootstrap reconstruction protocol, can be found in {numref}`fig-bootstrap-concept-outline`. A more detailed definition is given in {numref}`fig-frame-defns`, as pertains to the use of angular momentum notation and projections. The figure shows the general use of angular momenta and associated projection terms in molecular spectroscopy as an aid to visualising the discussion in the following sections. Note, however, that some alternative notations are used in this volume, in particular specific projection terms may be used for certain physical quantities.\n",
    "\n",
    "In simple cases, the frame definition for the {{ AF }} is identical to that of the {{ LF }}, since it is usually defined by the laser polarization, with the distinction that an aligned molecular ensemble is additionally present. For the limiting case of an isotropic distribution, the {{ AF }} and (traditional) {{ LF }} are identical. However, in cases with non-linear laser polarization, and/or multiple pulses with different polarization vectors, the situation may be more complicated, and additional {{ FRAMEROT }}(s) may be required (see {numref}`fig-frame-defns` inset). In such cases the reference frame may be chosen as the final ionizing laser pulse polarization, or as a symmetry axis in the {{ AF }}. For high degrees of (3D) alignment the AF may approach the {{ MF }} in the ideal case, although will usually be limited by the symmetry of the system."
   ]
  },
  {
   "cell_type": "markdown",
   "id": "8f9d28fd-5b56-477f-bd54-0a04ec9ea7d1",
   "metadata": {},
   "source": [
    "% Note figure needs to be converted to SVG, PNG or JPEG for HTML builders, see https://www.sphinx-doc.org/en/master/usage/builders/index.html#builders"
   ]
  },
  {
   "cell_type": "markdown",
   "id": "62314dba-90a1-426e-b5f4-162ef10be3d2",
   "metadata": {},
   "source": [
    "```{figure} ../images/axes_QNs_inc_rotations_QM1.png\n",
    "---\n",
    "name: fig-frame-defns\n",
    "---\n",
    "\n",
    "\n",
    "Reference frame and angular momentum definitions for the Laboratory frame ({{ LF }}) and Molecular frame ({{ MF }}), using a general notation from molecular spectroscopy. In this case the {{ LF }} shows an angular momentum vectors $J$ and $l$; $J$ is usually used to define rotational (or sometimes total) angular momentum of the system, and $l$ the electronic component. Projection terms onto the {{ LF }} $z$-axis, $M_J$ and $m_l$ are also indicated. In the {{ MF }} equivalent angular momentum terms are shown, with projections $K$ and $\\lambda$ onto the molecular symmetry axis. The insert shows a {{ FRAMEROT }} $(x,y,z)\\leftarrow(x',y',z')$, defined by a set of {{ EULER }} $R_{\\hat{n}}=\\{\\chi,\\Theta,\\Phi\\}$, and illustrating the rotation of the $z$-axis (defined by the electric field vector $E$), and a spherical harmonic function in the $(x',y',z')$ frame. See also {numref}`fig-bootstrap-concept-outline`. Figure reproduced from {{ QM1 }}, Fig. 2.3, and shows  - note that some alternative notations are used in this volume.\n",
    "\n",
    "\n",
    "```"
   ]
  },
  {
   "cell_type": "markdown",
   "id": "e1e4db75-95df-4f49-a343-65746a74614b",
   "metadata": {},
   "source": [
    "## Numerical aside: symmetry-defined channel functions"
   ]
  },
  {
   "cell_type": "markdown",
   "id": "35d21dde-3610-40eb-8ffe-71f12359b6d5",
   "metadata": {},
   "source": [
    "In the following sub-sections, each component is defined in detail, including numerical examples. For illustration purposes, the numerical example uses a minimal set of assumptions, and is defined initially purely by symmetry, although further terms may be required for computation of some of the geometric terms and are discussed where required. A fuller discussion of symmetry considerations in photoionization can be found in {numref}`Sect. %s <sec:theory:symmetry-intro>`, and discussion of {{ SYMHARM }} in {numref}`Sect. %s <sec:theory:sym-harm-into>`.\n",
    "\n",
    "For this example, the $D_{2h}$ point group is used, representing a fairly general case of a planar asymmetric top system, e.g. ethylene ($C_2H_4$). Note that, in this case, the symmetrization coefficients ($b_{hl\\lambda}^{\\Gamma\\mu}$, see {eq}`eq:symHarm-defn`) have the property that $\\mu=0$ only, and the $h$ index is redundant, since it maps uniquely to $l$ - see {numref}`tab-D2hXlm` - so these indexes can be dropped. Note, also, the unfortunate convention that the label $\\mu$ is used for multiple indexes; to avoid ambiguity this term is remapped to $\\mu_X$ in the numerics below. However, in this case, since $\\mu$ can be dropped from the symmetrization coefficients, there is actually no ambiguity in later usage.\n",
    "\n",
    "\n",
    "\n",
    "% TODO: consider different labelling here, can set at symHarm init, dims = ['C', 'h', 'mu', 'l', 'm']"
   ]
  },
  {
   "cell_type": "markdown",
   "id": "f6675857-addb-447c-88cc-597bade6e883",
   "metadata": {},
   "source": [
    "````{margin}\n",
    "```{note}\n",
    "Full tabulations of the parameters available in HTML or notebook formats only.\n",
    "```\n",
    "````"
   ]
  },
  {
   "cell_type": "code",
   "execution_count": null,
   "id": "e974e105-bc44-4903-8f8b-4ff25eb1d845",
   "metadata": {
    "tags": [
     "hide-cell"
    ]
   },
   "outputs": [],
   "source": [
    "# Run default config - may need to set full path here\n",
    "%run '../scripts/setup_notebook.py'\n",
    "\n",
    "# Override plotters backend?\n",
    "# plotBackend = 'pl'\n",
    "\n",
    "# Set Matplotlib inline for lmPlot() with Seaborn display\n",
    "%matplotlib inline"
   ]
  },
  {
   "cell_type": "code",
   "execution_count": null,
   "id": "2a22d299-b964-4d28-bbb4-49c8b8e2a09b",
   "metadata": {
    "tags": [
     "hide-output"
    ]
   },
   "outputs": [],
   "source": [
    "#*** Setup symmetry-defined matrix elements using PEMtk\n",
    "\n",
    "# Import class\n",
    "from pemtk.sym.symHarm import symHarm\n",
    "\n",
    "#*** Compute hamronics for Td, lmax=4\n",
    "sym = 'D2h'\n",
    "lmax=4\n",
    "\n",
    "lmaxPlot = 2  # Set lmaxPlot for subselection on plots later.\n",
    "\n",
    "# Create symHarm object with given settings, \n",
    "# this will also compute the symmetrized harmonics\n",
    "symObj = symHarm(sym,lmax)"
   ]
  },
  {
   "cell_type": "code",
   "execution_count": null,
   "id": "b9b5f6bf-e09c-4973-a2fa-412ee4f27f87",
   "metadata": {
    "tags": [
     "hide-cell"
    ]
   },
   "outputs": [],
   "source": [
    "# Glue items for later\n",
    "glue(\"symHarmPGmatE\", sym, display=False)\n",
    "glue(\"symHarmLmaxmatE\", lmax, display=False)\n",
    "glue(\"symHarmBasislmaxPlot\", lmaxPlot, display=False)"
   ]
  },
  {
   "cell_type": "code",
   "execution_count": null,
   "id": "4acd0fd9-8b00-4d49-94f0-1cd08bd74a9f",
   "metadata": {
    "tags": [
     "hide-output"
    ]
   },
   "outputs": [],
   "source": [
    "# Display results (real harmonics)\n",
    "symObj.displayXlm(setCols='h')  #, dropLevels='mu')\n",
    "\n",
    "# Glue version for JupyterBook output\n",
    "# As above, but with PD object return and glue.\n",
    "glue(\"D2hXlm\",symObj.displayXlm(setCols='h',returnPD=True), display=False)"
   ]
  },
  {
   "cell_type": "markdown",
   "id": "8935cafe-7abb-4e8f-b0ee-c779751e8259",
   "metadata": {
    "tags": [
     "remove-cell"
    ]
   },
   "source": [
    "% NOTE 28/11/22: this is currently throwing compilation errors, \"! Paragraph ended before \\Hy@tempa was complete.\" Not sure why, something in parsing order or substitution? Renders OK in output.\n",
    "% See below for additional testing.\n",
    "% OK WITHOUT SUBSTITUTIONS! (Or links?)\n",
    "% Fails with [Photoelectron Metrology Toolkit](https://github.com/phockett/PEMtk) {cite}`hockett2021PEMtkGithub`\n",
    "% OK with [Photoelectron Metrology Toolkit](https://github.com/phockett/PEMtk)\n",
    "% Fails with {cite}`hockett2021PEMtkGithub` - might be this issue: https://github.com/executablebooks/jupyter-book/issues/1621, see also https://github.com/executablebooks/jupyter-book/issues/1710\n",
    "% FIX: https://sphinxcontrib-bibtex.readthedocs.io/en/latest/usage.html#latex-backend-fails-with-citations-in-figure-captions\n",
    "\n",
    "```{glue:figure} D2hXlm\n",
    "---\n",
    "name: \"tab-D2hXlm\"\n",
    "---\n",
    "Symmetrized harmonics coefficients ($b_{hl\\lambda}^{\\Gamma\\mu}$, see {eq}`eq:symHarm-defn`) for {glue:text}`symHarmPGmatE` symmetry ($l_{max}=${glue:text}`symHarmLmaxmatE`) generated with the {{ PEMtk_repo }} wrapper for {{ libmsym }}. Note that, in this case, the coeffcients have the property that $\\mu=0$ only, and the $h$ index is redundant (maps uniquely to $l$).\n",
    "\n",
    "```"
   ]
  },
  {
   "cell_type": "markdown",
   "id": "5a2bc50c-291e-41e9-8359-4f3a1d7e1e44",
   "metadata": {},
   "source": [
    "```{glue:figure} D2hXlm\n",
    "---\n",
    "name: \"tab-D2hXlm\"\n",
    "---\n",
    "Symmetrized harmonics coefficients ($b_{hl\\lambda}^{\\Gamma\\mu}$, see {eq}`eq:symHarm-defn`) for {glue:text}`symHarmPGmatE` symmetry ($l_{max}=${glue:text}`symHarmLmaxmatE`) generated with the {{ PEMtk_repo }} wrapper for {{ libmsym }}. Note that, in this case, the coeffcients have the property that $\\mu=0$ only, and the $h$ index is redundant (maps uniquely to $l$).\n",
    "\n",
    "```"
   ]
  },
  {
   "cell_type": "markdown",
   "id": "233af8a1-dd8c-498a-a111-e25a498b6295",
   "metadata": {},
   "source": [
    "To compute basis tensors from these symmetry coefficients, they can be converted to the standard {{ RADMATE }} format used in the {{ PEMtk_repo }} (see {numref}`Sect. %s <sec:basis-sets:mapping-params>` for further discussion of the numerical implementation), and used with the standard routines. These are demonstrated below, for two flavours - the base {{ ePSproc_repo }} routine for computation of {{ AF }}-{{ PADs }}, and the {{ PEMtk_repo }} fitting routine which wraps this functionality. Note that all tensors are stored as {{ xarray }} objects, which allow for easy numerical manipulation, subselection etc."
   ]
  },
  {
   "cell_type": "code",
   "execution_count": null,
   "id": "3756471c-20a1-44a1-8836-3bd86a31d5ec",
   "metadata": {},
   "outputs": [],
   "source": [
    "#*** Compute basis functions for given matrix elements using PEMtk fit class\n",
    "# This illustration uses the symmetrized matrix elements set above\n",
    "\n",
    "#*** To use ePSproc/PEMtk classes, \n",
    "# these values can be converted to ePSproc BLM data type...\n",
    "# Run conversion - the default is to set the coeffs to the 'BLM' data type, \n",
    "# additional dim mappings can also be set.\n",
    "# Outputs are set to symObj.coeffs[dataType]\n",
    "dimMap = {'C':'Cont','mu':'muX'}\n",
    "symObj.toePSproc(dimMap=dimMap)\n",
    "\n",
    "# Run conversion with a different dimMap & dataType\n",
    "# Outputs are set to symObj.coeffs[dataType]\n",
    "dataType = 'matE'\n",
    "symObj.toePSproc(dimMap = dimMap, dataType=dataType)\n",
    "\n",
    "\n",
    "#*** Setup class object\n",
    "data = pemtkFit()\n",
    "\n",
    "# Set to new key in data class\n",
    "dataKey = sym\n",
    "data.data[dataKey] = {}\n",
    "\n",
    "# Set data.data[dataKey][dataType] from cases set above\n",
    "# This pushes the symmetrized coeffs computed above to the PEMtk fit class \n",
    "# object for general use with PEMtk methods.\n",
    "# Here set 'matE' for use as matrix elements, and 'BLM' for pad plotting routines.\n",
    "for dataType in ['matE','BLM']:\n",
    "    # Select expansion in complex harmonics, and sum redundant dims\n",
    "    data.data[dataKey][dataType] = symObj.coeffs[dataType]['b (comp)'].sum(['h','muX']) \n",
    "    # Propagate attrs\n",
    "    data.data[dataKey][dataType].attrs = symObj.coeffs[dataType].attrs\n",
    "\n",
    "# Set data by key\n",
    "# data.subKey is the default location used by the PEMtk routines\n",
    "data.subKey = dataKey\n",
    "\n",
    "\n",
    "#*** Compute basis function - two flavours\n",
    "# Using PEMtk `afblmMatEfit` method \n",
    "# - this only returns the product basis set as used for fitting\n",
    "# See the docs for more details, https://pemtk.readthedocs.io\n",
    "phaseConvention='S'  # For consistency in the method, explicitly set the\n",
    "                     # phase convention used here ('S' = standard, 'E' = ePS).\n",
    "BetaNormX, basisProduct = data.afblmMatEfit(selDims={}, \n",
    "                                            sqThres=False, \n",
    "                                            phaseConvention=phaseConvention)\n",
    "\n",
    "# Using ePSproc directly - this includes full basis return if specified\n",
    "# See the docs for more details, https://epsproc.readthedocs.io\n",
    "BetaNormX2, basisFull = ep.geomFunc.afblmXprod(data.data[data.subKey]['matE'], \n",
    "                                               basisReturn = 'Full', \n",
    "                                               thres=None, selDims={}, \n",
    "                                               sqThres=False,\n",
    "                                               phaseConvention=phaseConvention)\n",
    "\n",
    "# The basis dictionary contains various numerical parameters, these are investigated below.\n",
    "# See also the ePSproc docs at \n",
    "# https://epsproc.readthedocs.io/en/latest/methods/geometric_method_dev_260220_090420_tidy.html\n",
    "print(f\"Product basis elements: {basisProduct.keys()}\")\n",
    "print(f\"Full basis elements: {basisFull.keys()}\")\n",
    "\n",
    "# Use full basis for following sections\n",
    "basis = basisFull"
   ]
  },
  {
   "cell_type": "markdown",
   "id": "4b8928e1-e902-4e9e-8c41-b1a995df1acf",
   "metadata": {
    "tags": []
   },
   "source": [
    "(sec:theory:BLM-term)=\n",
    "## Matrix element geometric coupling term $B_{L,M}$\n",
    "\n",
    "The coupling of the {{ PARTIALWAVES }} as coherent pairs, $|l,m\\rangle$ and $|l',m'\\rangle$, into the observable set of $\\{L,M\\}$ is defined by a tensor contraction with two 3j terms:\n",
    "\n",
    "$$\n",
    "B_{L,M}=(-1)^{m}\\left(\\frac{(2l+1)(2l'+1)(2L+1)}{4\\pi}\\right)^{1/2}\\left(\\begin{array}{ccc}\n",
    "l & l' & L\\\\\n",
    "0 & 0 & 0\n",
    "\\end{array}\\right)\\left(\\begin{array}{ccc}\n",
    "l & l' & L\\\\\n",
    "-m & m' & M\n",
    "\\end{array}\\right)\n",
    "$$ (eq:basis-BLM-defn)\n",
    "\n",
    "Note that this term is equivalent, effectively, to a triple integral over spherical harmonics (e.g. Eq. 3.119 in Zare {cite}`zareAngMom`):\n",
    "\n",
    "$$\n",
    "\\begin{aligned}\n",
    "\\intop_{0}^{2\\pi}\\intop_{0}^{\\pi}Y_{J_{3}M_{3}}(\\theta,\\phi)Y_{J_{2}M_{2}}(\\theta,\\phi)Y_{J_{1}M_{1}}(\\theta,\\phi)\\sin\\theta d\\theta d\\phi & = & \\left(\\frac{(2J_{1}+1)(2J_{2}+1)(2J_{3}+1)}{4\\pi}\\right)^{1/2}\\\\\n",
    " & \\times & \\left(\\begin{array}{ccc}\n",
    "J_{1} & J_{2} & J_{3}\\\\\n",
    "0 & 0 & 0\n",
    "\\end{array}\\right)\\left(\\begin{array}{ccc}\n",
    "J_{1} & J_{2} & J_{3}\\\\\n",
    "M_{1} & M_{2} & M_{3}\n",
    "\\end{array}\\right)\n",
    "\\end{aligned}\n",
    "$$\n",
    "\n",
    "\n",
    "And a similar term appears in the contraction over a pair of harmonics into a resultant harmonic (e.g. Eqs. C.21, C.22 in Blum {cite}`BlumDensityMat`) - this is how the term arises in the derivation of the observables.\n",
    "\n",
    "\n",
    "$$\n",
    "\\begin{aligned}\n",
    "Y_{J_{1}M_{1}}(\\theta,\\phi)Y_{J_{2}M_{2}}(\\theta,\\phi) & = & \\sum_{J_{3}M_{3}}\\left(\\frac{(2J_{1}+1)(2J_{2}+1)(2J_{3}+1)}{4\\pi}\\right)^{1/2}\\\\\n",
    " & \\times & \\left(\\begin{array}{ccc}\n",
    "J_{1} & J_{2} & J_{3}\\\\\n",
    "0 & 0 & 0\n",
    "\\end{array}\\right)\\left(\\begin{array}{ccc}\n",
    "J_{1} & J_{2} & J_{3}\\\\\n",
    "M_{1} & M_{2} & M_{3}\n",
    "\\end{array}\\right)Y_{J_{3}M_{3}}^{*}(\\theta,\\phi)\n",
    "\\end{aligned}\n",
    "$$\n",
    "\n",
    "Note also some definitions use conjugate spherical harmonics, which can be converted as, e.g., Eq. C.21 in Blum {cite}`BlumDensityMat`:\n",
    "\n",
    "\\begin{equation}\n",
    "\\beta_{L,M}^{\\mu_{i},\\mu_{f}}Y_{LM}^{*}(\\theta_{\\hat{k}},\\phi_{\\hat{k}})=\\beta_{L,-M}^{\\mu_{i},\\mu_{f}}(-1)^{M}Y_{L,-M}(\\theta_{\\hat{k}},\\phi_{\\hat{k}})\\label{eq:sph-conj-conv}\n",
    "\\end{equation}\n",
    "\n",
    "% TODO: note on numerical implementation for conjugates here?\n",
    "\n",
    "In the current {{ PEMtk_repo }} codebase, the relevant basis item can be inspected as below, in order to illustrate the sensitivity of different $(L,M)$ terms to the matrix element products. In many typical cases, however, this term is restricted to only $M=0$ components overall by other geometric factors (see below). \n",
    "\n",
    "% Note for the {{ AF }} case the terms may be reindexed by $M=S-R'$ - this allows for all {{ MF }} projections to contribute, rather than just a single specified polarization geometry. \n",
    "\n",
    "The code cells below illustrate this for the current example case, and {numref}`fig-BLM-basis-D2h` offers a general summary. In general, this is a convenient way to visualize the selection rules into the observable: for instance, only terms $l=l'$ and $m=-m'$ contribute to the overall photoionization cross-section term ($L=0, M=0$), and the maximum observable $L_{max}=2l_{max}$. However, since these terms are fairly simply followed algebraically in this case, via the rules inherent in the $3j$ product (Eq. {eq}`eq:basis-BLM-defn`), this is not particularly insightful (although useful pedagogically). These visualizations will become more useful when dealing with real sets of matrix elements, and specific polarization geometries, which will further modulate or restrict the $B_{L,M}$ terms. \n",
    "\n",
    "Numerically, various standard functions may be used to quickly gain deeper insight, for example min/max, averages etc. Such considerations may provide a quick sanity-check for a given case, and may prove useful when planning experiments to investigate particular aspects or channels of a given system. Other properties of the basis functions may also be interrogated numerically; for instance, correlation maps provide an alternative way to check which terms are strongly correlated or coupled, or will dominate a given aspect of the observable.\n",
    "\n",
    "\n",
    "% Might want {glue:text}`symHarmPGmatE` - but need to fix maths usage here first!\n",
    "\n",
    "% This term incorporates the coupling of the partial wave pairs, $|l,m\\rangle$ and $|l',m'\\rangle$, into the term $B_{L,M}$, where $\\{L,M\\}$ are observable total angular momenta, and $M = S-R_{p}$ ([full definition here](https://epsproc.readthedocs.io/en/dev/methods/geometric_method_dev_260220_090420_tidy.html#B_{L,M}-term)), hence indicates which terms are allowed for a given set of partial waves - in the current test case, $l=1,3$.\n",
    "\n",
    "% TODO: check and illustrate formalism here, rename term!"
   ]
  },
  {
   "cell_type": "code",
   "execution_count": null,
   "id": "857b4b8c-92c4-439e-bbad-bb816088936f",
   "metadata": {
    "tags": [
     "hide-output"
    ]
   },
   "outputs": [],
   "source": [
    "#*** Tabulate basis\n",
    "\n",
    "basisKey = 'BLMtableResort'  # Key for BLM basis set\n",
    "\n",
    "# Reformat basis for display (optional)\n",
    "stackDims = {'LM':['L','M']}\n",
    "basisPlot = basis[basisKey].rename({'S-Rp':'M'}).stack(stackDims)\n",
    "\n",
    "# Convert to Pandas, use ep.multiDimXrToPD as a general multi-dimensional restacker\n",
    "pd, _ = ep.multiDimXrToPD(basisPlot, colDims=stackDims)\n",
    "\n",
    "# Summarise properties and tabulate via Pandas Describe\n",
    "pd.describe().T"
   ]
  },
  {
   "cell_type": "code",
   "execution_count": null,
   "id": "c0976056-940b-4969-949a-5da2e1e04ef6",
   "metadata": {
    "tags": [
     "hide-output"
    ]
   },
   "outputs": [],
   "source": [
    "#*** Plot BLM terms for basis set - basic case\n",
    "basisKey = 'BLMtableResort'\n",
    "\n",
    "# Basic plot\n",
    "ep.lmPlot(basisPlot, xDim=stackDims);  # Basic plot with all terms"
   ]
  },
  {
   "cell_type": "code",
   "execution_count": null,
   "id": "944e7023-de61-4036-8695-562cdf38f1b2",
   "metadata": {
    "tags": [
     "hide-output"
    ]
   },
   "outputs": [],
   "source": [
    "#*** Plot BLM terms for basis set - plot with some additional figure formatting options\n",
    "\n",
    "# Formatting options\n",
    "titleString=f'$B_{{L,M}}$ terms for {sym}, lmax={lmaxPlot}'\n",
    "titleDetails=True\n",
    "labelRound = 1\n",
    "catLegend=False\n",
    "labelCols = [1,1]\n",
    "\n",
    "# cmap = None for default.\n",
    "# cmap = 'vlag'\n",
    "\n",
    "# lmPlot with various options\n",
    "*_, gFig = ep.lmPlot(basisPlot.where((basisPlot.l<=lmaxPlot) \n",
    "                        & (basisPlot.lp<=lmaxPlot)), \n",
    "                       xDim=stackDims, pType = 'r', \n",
    "                       cmap=cmap, labelRound = labelRound, \n",
    "                       catLegend=catLegend, \n",
    "                       titleString=titleString, titleDetails=titleDetails, \n",
    "                       labelCols = labelCols);\n",
    "\n",
    "# Glue figure\n",
    "glue(\"lmPlot_BLM_basis_D2h\", gFig.fig, display=False)"
   ]
  },
  {
   "cell_type": "markdown",
   "id": "8d41940a-35c8-48b8-8029-a32f74026b36",
   "metadata": {},
   "source": [
    "```{glue:figure} lmPlot_BLM_basis_D2h\n",
    "---\n",
    "name: \"fig-BLM-basis-D2h\"\n",
    "---\n",
    "Example $B_{L,M}$ basis functions for {glue:text}`symHarmPGmatE` symmetry. Note figure is truncated to $l_{max}=l'_{max}=${glue:text}`symHarmBasislmaxPlot` for clarity.\n",
    "```"
   ]
  },
  {
   "cell_type": "markdown",
   "id": "e011e5d6-4929-4b46-853a-c94cf7bf1842",
   "metadata": {},
   "source": [
    "(sec:theory:EPR-term)=\n",
    "## Electric field geometric coupling term ${E_{P,R}(\\hat{e};\\mu_{0})}$\n",
    "\n",
    "The coupling of two 1-photon terms (which arises in the square of the ionization matrix element as per Eq. {eq}`eq:I-reduced-LF-2_45-vol1`) can be written as a tensor contraction:\n",
    "\n",
    "$$\n",
    "E_{P,R}(\\hat{e})=[e\\otimes e^{*}]_{R}^{P}=[P]^{\\frac{1}{2}}\\sum_{p}(-1)^{R}\\left(\\begin{array}{ccc}\n",
    "1 & 1 & P\\\\\n",
    "p & R-p & -R\n",
    "\\end{array}\\right)e_{p}e_{R-p}^{*}\n",
    "$$ (eq:EPR-defn-1)\n",
    "\n",
    "Where: \n",
    "\n",
    "- $e_{p}$ and $e_{R-p}$ define the field strengths for the polarizations $p$ and $R-p$, which are coupled into the spherical tensor $E_{PR}$; \n",
    "- square-brackets indicate degeneracy terms, e.g. $[P]^{\\frac{1}{2}} = (2P+1)^{\\frac{1}{2}}$;\n",
    "- in the literature {{ LF }}/{{ AF }} field projection terms are usually denoted $p$ (as above) or $\\mu_0$ (used as a more general angular-momentum projection notation). For the {{ MF }} case photon projection terms are usually denoted by $q$ or $\\mu$.\n",
    "- The polarization vector or propagation direction is usually chosen to define the {{ LF }}/{{ AF }} z-axis for linear or non-linearly polarized light respectively (see {numref}`fig-bootstrap-concept-outline` for the linear example), or defined relative to the molecular symmetry axis in the {{ MF }}. (See {numref}`Sect. %s <sec:frame-definitions>` for further details.)\n",
    "- For a given case the polarization geometry may define a single projection term, or there may be multiple terms allowed. For instance, linearly polarized light is defined by $\\mu_0=0$ only, resulting in non-zero values for just the $P=0,2$ terms in Eq. {eq}`eq:EPR-defn-1`, i.e. product terms $E_{0,0}, E_{2,0}$ are allowed. Non-linearly polarized light may contain all allowed components ($\\mu_0=-1,0,1$). For the {{ MF }} case, allowed components may be defined directly in the {{ MF }} or determined via a frame transformation from the {{ LF }} - see {numref}`Sect. %s <sec:theory:lambda-term>`.\n",
    "- Note this notation implicitly describes only the time-independent photon angular momentum coupling, but time-dependent/shaped laser fields can be readily incorporated by allowing for time-dependent fields $e_{p}(t)$ (see, for instance, Ref. \\cite{hockett2015CompletePhotoionizationExperiments}). (Support for this is planned in {{ ePSproc_repo }}, as of v1.3.2 this is in the development and testing phase.)\n",
    "\n",
    "\n",
    "To derive this result, one can start from a general spherical tensor direct product, e.g., Eq. 5.36 in Zare {cite}`zareAngMom`; for two first-rank tensors (e.g. electric field vectors) this contraction is given explicitly by Eq. 5.40 in Zare {cite}`zareAngMom`:\n",
    "\n",
    "\\begin{equation}\n",
    "[A^{(1)}\\otimes B^{(1)}]_{q}^{k}=\\sum_{m}\\langle1m,1q-m|kq\\rangle A(1,m)B(1,q-m)\n",
    "\\end{equation}\n",
    "\n",
    "Convert to $3j$ form:\n",
    "\n",
    "\\begin{equation}\n",
    "[A^{(1)}\\otimes B^{(1)}]_{q}^{k}=\\sum_{m}(-1)^{q}[k]^{1/2}\\left(\\begin{array}{ccc}\n",
    "1 & 1 & k\\\\\n",
    "m & q-m & -q\n",
    "\\end{array}\\right)A(1,m)B(1,q-m)\n",
    "\\end{equation}\n",
    "\n",
    "And substitute in appropriate terms.\n",
    "\n",
    "As before, we can visualise these values with the {{ PEMtk_repo }}."
   ]
  },
  {
   "cell_type": "code",
   "execution_count": null,
   "id": "975a7cf5-2d51-4c03-a8cd-6c3a3767c316",
   "metadata": {
    "tags": [
     "hide-output"
    ]
   },
   "outputs": [],
   "source": [
    "#*** For illustration, recompute EPR term for default case.\n",
    "EPRX = ep.geomCalc.EPR(form = 'xarray')\n",
    "\n",
    "# Set parameters to restack the Xarray into (L,M) pairs\n",
    "plotDimsRed = ['p', 'R-p']\n",
    "xDim = {'PR':['P','R']}\n",
    "\n",
    "# Plot with ep.lmPlot(), real values\n",
    "*_, gFig = ep.lmPlot(EPRX, plotDims=plotDimsRed, xDim=xDim, \n",
    "                     pType = 'r', \n",
    "                     titleString=f'$E_{{P,R}}$ terms (all cases).',\n",
    "                     labelCols = labelCols)\n",
    "\n",
    "# Alternative version summed over l,l',m\n",
    "# *_, gFig = ep.lmPlot(EPRX.unstack().sum(['l','lp','R-p']), xDim=xDim, pType = 'r')\n",
    "\n",
    "# Glue figure\n",
    "glue(\"lmPlot_EPR_basis\", gFig.fig)"
   ]
  },
  {
   "cell_type": "markdown",
   "id": "c3e0dc93-23b5-48a0-b108-2fe4352842c2",
   "metadata": {},
   "source": [
    "```{glue:figure} lmPlot_EPR_basis\n",
    "---\n",
    "name: \"fig-EPR-basis\"\n",
    "---\n",
    "Example $E_{P,R}$ basis functions. Note that for linearly polarised light $p=R-p=0$ only, hence only the terms $E_{0,0}$ and $E_{2,0}$ are non-zero in this case. For non-linearly polarised cases many other terms are allowed.\n",
    "```"
   ]
  },
  {
   "cell_type": "markdown",
   "id": "be113a26-5daa-4c88-a217-d6184c7c384e",
   "metadata": {},
   "source": [
    "(sec:theory:lambda-term)=\n",
    "## Molecular frame projection term $\\Lambda$\n",
    "\n",
    "For the molecular frame case, the coupling between the {{ LF }} and {{ MF }} can be defined by a projection term, $\\Lambda_{R',R}(R_{\\hat{n}})$:\n",
    "\n",
    "$$\n",
    "\\Lambda_{R',R}(R_{\\hat{n}})=(-1)^{(R')}\\left(\\begin{array}{ccc}\n",
    "1 & 1 & P\\\\\n",
    "\\mu & -\\mu' & R'\n",
    "\\end{array}\\right)D_{-R',-R}^{P}(R_{\\hat{n}})\n",
    "$$ (eq:basis-lambda-MF-defn)\n",
    "\n",
    "This is similar to the $E_{P,R}$ term, and essentially rotates it into the {{ MF }}, defining the projections of the polarization vector (photon angular momentum) $\\mu$ into the {{ MF }} for a given molecular orientation ({{ FRAMEROT }}) defined by a set of rotations. The {{ FRAMEROT }} is parameterized by a set of {{ EULER }}, $R_{\\hat{n}}=\\{\\chi,\\Theta,\\Phi\\}$, with projections given by {{ WIGNERD }} $D_{-R',-R}^{P}(R_{\\hat{n}})$.\n",
    "\n",
    "% And the the $\\Lambda_{R',R}$ term is a simplified form of the previously derived MF term:\n",
    "\n",
    "For the {{ LF }}/{{ AF }} case, the same term appears but in a simplified form:\n",
    "\n",
    "$$\n",
    "\\bar{\\Lambda}_{R'}=(-1)^{(R')}\\left(\\begin{array}{ccc}\n",
    "1 & 1 & P\\\\\n",
    "\\mu & -\\mu' & R'\n",
    "\\end{array}\\right)\\equiv\\Lambda_{R',R'}(R_{\\hat{n}}=0)\n",
    "$$ (eq:basis-lambda-LF-defn)\n",
    "\n",
    "This form pertains since - in the {{ LF }}/{{ AF }} case - there is no specific frame transformation defined (i.e. there is no single molecular orientation defined in relation to the light polarization, rather a distribution as defined by the {{ ADMs }}), but the total angular momentum coupling of the photon terms is still required in the equations.\n",
    "\n",
    "Numerically, the function is calculated for a specified set of orientations, which default to the standard set of $(x,y,z)$ {{ MF }} polarization cases in the {{ PEMtk_repo }} routines. For the {{ LF }}/{{ AF }} case, this term is still used, but restricted to $R_{\\hat{n}} = (0,0,0) = z$, i.e. no frame rotation relative to the {{ LF }} $E_{P,R}$ definition. In some cases additional frame transformations may be required here to define, e.g., the use of the propagation axis as the reference $z$-axis for circularly or elliptically polarized light. (See {numref}`Sect. %s <sec:frame-definitions>` for further discussion.)\n",
    "\n",
    "% TODO: frame rotation illustration as well as term plots? Cf. QM1 fig 2.3 - could reproduce here but some differences in notation? Don't have this in code at the moment.\n",
    "% UPDATE 17/07/23, added {numref}`Sect. %s <sec:frame-definitions>` for further details."
   ]
  },
  {
   "cell_type": "markdown",
   "id": "2d9b7343-638d-4d15-94c9-fec7aa0d513d",
   "metadata": {},
   "source": [
    "(sec:theory:AF-alignment-term)=\n",
    "## Alignment tensor $\\Delta_{L,M}(K,Q,S)$\n",
    "\n",
    "Finally, for the {{ LF }}/{{ AF }} case, the alignment tensor couples the molecular axis ensemble (defined as a set of {{ ADMs }}, see {numref}`Sect. %s <sect:theory:alignment>` for details) and the photoionization multipole terms into the final observable. \n",
    "\n",
    "$$\n",
    "\\Delta_{L,M}(K,Q,S)=(2K+1)^{1/2}(-1)^{K+Q}\\left(\\begin{array}{ccc}\n",
    "P & K & L\\\\\n",
    "R & -Q & -M\n",
    "\\end{array}\\right)\\left(\\begin{array}{ccc}\n",
    "P & K & L\\\\\n",
    "R' & -S & S-R'\n",
    "\\end{array}\\right)\n",
    "$$ (eq:basis-alignmentTensor-defn)\n",
    "\n",
    "In the full equations for the observable, this term appears in a summation with the {{ ADMs }}, as:\n",
    "\n",
    "$$\n",
    "\\tilde{\\Delta}_{L,M}(t) = \\sum_{K,Q,S}\\Delta_{L,M}(K,Q,S)A_{Q,S}^{K}(t)\n",
    "$$ (eq:basis-aligmentTerm-defn)\n",
    "\n",
    "% TODO: decide on notation here, may have decided on this previously? (But not in MF recon paper or QM2). Standard symbol for averaged property? Don't want to use bar to avoid LF/MF confusion? Or could...?\n",
    "% \\overbar, \\ddot ?\n",
    "\n",
    "This summed alignment term can be considered, essentially, as a (coherent) geometric averaging of the {{ MF }} observable weighted by the axis distribution in the {{ AF }} (for more on the axis averaging as a convolution, see Refs. {cite}`Underwood2000,hockett2018QMP1`); equivalently, the averaging can be considered as a purely angular-momentum coupling effect, which accounts for all contributing moments of the various aspects of the system, and defines the allowed projections onto the final observables in the {{ LF }}. \n",
    "\n",
    "Mappings of these terms are investigated numerically below, for some examplar cases."
   ]
  },
  {
   "cell_type": "markdown",
   "id": "c67997e4-8952-4ee3-ad79-86730e5667e4",
   "metadata": {},
   "source": [
    "(sec:theory:AF-alignment-term-basic)=\n",
    "### Basic cases\n",
    "\n",
    "{numref}`fig-deltaTerm000` illustrates the alignment tensor $\\Delta_{L,M}(K,Q,S)$ for some basic cases, and values are also tabulated in {numref}`Table %s <tab-deltaTerm000>`. Note that for illustration purposes the term is subselected with $K=0$, $Q=0$, $S=0$ and $R'=0$; $R\\neq0$ terms are included to illustrate the elliptically-polarized case, which can give rise to non-zero $M$ terms.\n",
    "\n",
    "For the simplest case of an unaligned ensemble, this term is restricted to $K=Q=S=0$, i.e. $\\Delta_{L,M}(0,0,0)$; for single-photon ionization with linearly-polarized light ($p=0$, hence $P=0,2$ and $R=R'=0$), this has non-zero values for $L=0,2$ and $M=0$ only. Typically, this simplest case is synonymous with standard {{ LF }} results, and maintains cylindrical and up-down symmetry in the observable.\n",
    "\n",
    "For circularly polarized light ($p=\\pm1$, hence $P=0,1,2$ and $R=R'=0$), odd-$L$ is allowed, signifying up/down symmetry breaking in the observable (where up/down pertains to the propagation direction of the light, conventionally the $z$-axis for non-linear polarizations, see {numref}`Sect. %s <sec:frame-definitions>`). For elliptically polarized light, mixing of terms with different $p$ allows for non-zero $R$ terms (see Eq. {eq}`eq:EPR-defn-1`), hence non-zero $M$ is allowed (see Eq. {eq}`eq:basis-alignmentTensor-defn`), signifying breaking of cylindrical symmetry in the observable is allowed. Note, however, that non-zero values here do not indicate that such effects *will* be observed in any given case, only that they may be (or, at least, are not restricted by the alignment tensor)."
   ]
  },
  {
   "cell_type": "code",
   "execution_count": null,
   "id": "3dab7ead-b07a-4bf7-b8de-2f8391a317d7",
   "metadata": {
    "tags": [
     "hide-output"
    ]
   },
   "outputs": [],
   "source": [
    "#*** Set range of ADMs for test as time-dependent values (linear ramps)\n",
    "\n",
    "# Set ADMs for increasing alignment...\n",
    "# Note that delta term is independent of the absolute values of the ADMs(t), \n",
    "# but does use this term to define limits on some quantum numbers.\n",
    "\n",
    "tPoints = 10  # 10 t-points\n",
    "inputADMs = [[0,0,0, *np.ones(tPoints)],\n",
    "             [2,0,0, *np.linspace(0,1,tPoints)], \n",
    "             [4,0,0, *np.linspace(0,0.5,tPoints)],\n",
    "             [6,0,0, *np.linspace(0,0.3,tPoints)],\n",
    "             [8,0,0, *np.linspace(0,0.2,tPoints)]]\n",
    "\n",
    "# Set to AKQS parameters in Xarray\n",
    "AKQS = ep.setADMs(ADMs = inputADMs)\n",
    "\n",
    "# Use default EPR term - note this computes for all pol states, p=[-1,0,1]\n",
    "EPR = ep.geomCalc.EPR(form='xarray')\n",
    "\n",
    "#*** Compute alignment terms\n",
    "AFterm, DeltaTerm = ep.geomCalc.deltaLMKQS(EPR, AKQS)\n",
    "\n",
    "#*** Plot Delta term with subselections and formatting\n",
    "xDim = {'LM':['L','M']}\n",
    "daPlot, daPlotpd, legendList, gFig = ep.lmPlot(\n",
    "                     DeltaTerm.sel(K=0,Q=0,S=0,Rp=0).sel({'S-Rp':0}), \n",
    "                     xDim = xDim, \n",
    "                     pType = 'r', squeeze = False, thres=None,\n",
    "                     titleString=\"$\\Delta(0,0,0)$ term ($R'=0$ only)\",\n",
    "                     # Set dim mapping to use P,R with \"l,m\" colourmap\n",
    "                     dimMaps={'lDims':['P'],'mDims':'R'},  \n",
    "                     labelCols=labelCols,\n",
    "                     catLegend=False)\n",
    "\n",
    "\n",
    "# Glue versions for JupyterBook output\n",
    "glue(\"deltaTerm000-lmPlot\", gFig.fig, display=False)\n",
    "# As above, but with PD object return and glue.\n",
    "glue(\"deltaTerm000-tab\",daPlotpd.fillna(''), display=False)  "
   ]
  },
  {
   "cell_type": "markdown",
   "id": "75fbe250-4c6f-466e-8878-bf74e7e49871",
   "metadata": {},
   "source": [
    "```{glue:figure} deltaTerm000-lmPlot\n",
    "---\n",
    "name: \"fig-deltaTerm000\"\n",
    "---\n",
    "Example $\\Delta_{L,M}(0,0,0)$ basis functions (see also {numref}`tab-deltaTerm000`). For illustration purposes, the plot only shows terms for $R'=0$. See main text for discussion.\n",
    "```"
   ]
  },
  {
   "cell_type": "markdown",
   "id": "6565295b-25ff-48c8-a1de-43a2eb701d1d",
   "metadata": {},
   "source": [
    "```{glue:figure} deltaTerm000-tab\n",
    "---\n",
    "name: \"tab-deltaTerm000\"\n",
    "---\n",
    "Example $\\Delta_{L,M}(0,0,0)$ basis functions (see also {numref}`fig-deltaTerm000`). For illustration purposes, the table only shows terms for $R'=0$. See main text for discussion.\n",
    "```"
   ]
  },
  {
   "cell_type": "code",
   "execution_count": null,
   "id": "493ca767-a20a-417d-b6cf-1ad1142cbae2",
   "metadata": {
    "tags": [
     "hide-output"
    ]
   },
   "outputs": [],
   "source": [
    "#*** Plot ADMs\n",
    "*_, ADMFig = ep.lmPlot(AKQS, xDim = 't', pType = 'r', \n",
    "                       labelCols=labelCols, catLegend=False,\n",
    "                       cmap='vlag',\n",
    "                       titleString='ADMs (linear ramp example)') \n",
    "\n",
    "#*** Plot AF term with subselection\n",
    "*_, AFFig = ep.lmPlot(AFterm.sel(R=0).sel(Rp=0).sel({'S-Rp':0}), \n",
    "                      xDim = 't', pType = 'r', \n",
    "                      labelCols=labelCols,\n",
    "                      cmap='vlag',\n",
    "                      titleString='$\\\\tilde{\\Delta}_{L,M}(t)$ (linear ramp example)') \n",
    "\n",
    "# Glue versions for JupyterBook output\n",
    "glue(\"ADMs-linearRamp-lmPlot\", ADMFig.fig, display=False)\n",
    "glue(\"AFterm-linearRamp-lmPlot\", AFFig.fig, display=False)"
   ]
  },
  {
   "cell_type": "markdown",
   "id": "7198d8bb-ab61-4ee4-9b81-feb5fdedf2bf",
   "metadata": {},
   "source": [
    "```{glue:figure} ADMs-linearRamp-lmPlot\n",
    "---\n",
    "name: \"fig-ADMs-linearRamp\"\n",
    "---\n",
    "Example ADMs used for {{ AF }} basis function example (see {numref}`fig-AFterm-linearRamp`). These ADMs essentially show an increasing degree of alignment with the $t$ parameter, with high-order terms increasing at later $t$.\n",
    "```"
   ]
  },
  {
   "cell_type": "markdown",
   "id": "947846a3-5d6c-4b7c-95f6-4571276da94d",
   "metadata": {},
   "source": [
    "```{glue:figure} AFterm-linearRamp-lmPlot\n",
    "---\n",
    "name: \"fig-AFterm-linearRamp\"\n",
    "---\n",
    "Example of $\\tilde{\\Delta}_{L,M}(t)$ basis values for various choices of alignment (as per {numref}`fig-ADMs-linearRamp`). The ADMs essentially show an increasing degree of alignment with the $t$ parameter, with high-order terms increasing at later $t$, and this is reflected in the $\\tilde{\\Delta}_{L,M}(t)$ terms with higher-order $L$ appearing at later $t$.\n",
    "```"
   ]
  },
  {
   "cell_type": "markdown",
   "id": "75670a4e-f7da-49b9-a018-6e35c5dd1a3c",
   "metadata": {},
   "source": [
    "% and Figs. XX and XX show $\\tilde{\\Delta}_{L,M}(t)$ for various choices of alignment.\n",
    "\n",
    "For cases with aligned molecular ensembles, additional terms can similarly appear depending on the alignment as well as the properties of the ionizing radiation. Again, the types of terms follow some typical patterns dependent on the symmetry of the ensemble, as well as the order of the terms allowed. For instance, $L_{max}=P_{max}+K_{max}=2+K_{max}$, and $K_{max}$ represents the overall degree of alignment of the ensemble; hence an aligned ensemble may be signified by higher-order terms in the observable (if allowed by other terms in the overall expansion) or, equivalently, aligning an ensemble prior to ionization can be used as a way to control which terms contribute to the alignment tensor.\n",
    "\n",
    "Since this is a coherent averaging, additional interferences can also appear in the {{ AF }} - or be restricted in the {{ AF }} - depending on these geometric parameters and the contributing matrix elements. Additionally, any effects modulating these terms, for instance a time-dependent alignment (rotational wavepacket), vibronic dynamics (vibrational and/or electronic wavepacket), time-dependent laser field (control field) may be anticipted to lead to both changes in these terms and, potentially, interesting effects in the observable. Such effects have been discussed in more detail in {{ QM2 }}, and in the current case the focus is purely on rotational wavepackets.\n",
    "\n",
    "{numref}`fig-AFterm-linearRamp` shows $\\tilde{\\Delta}_{L,M}(t)$ for various choices of alignment (as per the {{ ADMs }} shown in {numref}`fig-ADMs-linearRamp`), and illustrates some of the general features discussed. Note, for example:\n",
    "\n",
    "- $L_{max}$ varies with alignment; in the demonstration case $K_{max}=8$ at later times, resulting in $L_{max}=10$, whilst at $t=0$ $K_{max}=0$, thus restricting terms to $L_{max}=2$.\n",
    "- Odd-$L$ values are correlated with $P=1$ terms.\n",
    "- Only $M=0$ terms are allowed in this case ($Q=S=0$)."
   ]
  },
  {
   "cell_type": "markdown",
   "id": "25ceca61-6b19-44d2-b3ad-aa475a913783",
   "metadata": {},
   "source": [
    "(sec:theory:AF-alignment-term-3D)=\n",
    "### 3D alignments and symmetry breaking\n",
    "\n",
    "As discussed above, for the case where $Q\\neq0$ and/or $S\\neq0$ additional symmetry breaking can occur. It is simple to examine these effects numerically via changing the trial {{ ADMs }} used to determine $\\tilde{\\Delta}_{L,M}(t)$ (Eq. {eq}`eq:basis-aligmentTerm-defn`). (Realistic cases can be found in the case-studies presented in {{ PARTII }}.)\n",
    "\n",
    "% TODO: is calculation below correct...? Have M!=0 terms OK, not sure otherwise!\n",
    "% TODO: revise calcs, should R' be treated directly/propagated elsewhere, or will be set manually?\n",
    "% TODO: more representative alignment terms?"
   ]
  },
  {
   "cell_type": "code",
   "execution_count": null,
   "id": "22e85ed4-0fbb-4eef-b418-f0859b354c6a",
   "metadata": {
    "tags": [
     "hide-output"
    ]
   },
   "outputs": [],
   "source": [
    "#*** Neater version\n",
    "# Set ADMs for increasing alignment...\n",
    "# Here add some (arb) terms for Q,S non-zero (indexed as [K,Q,S, ADMs(t)])\n",
    "tPoints = 10\n",
    "inputADMs3D = [[0,0,0, *np.ones(tPoints)], \n",
    "             [2,0,0, *np.linspace(0,1,tPoints)], \n",
    "             [2,0,2, *np.linspace(0,0.5,tPoints)],\n",
    "             [2,2,0, *np.linspace(0,0.5,tPoints)],\n",
    "             [2,2,2, *np.linspace(0,0.8,tPoints)]]\n",
    "\n",
    "# Set to AKQS parameters in an Xarray\n",
    "AKQS = ep.setADMs(ADMs = inputADMs3D)\n",
    "\n",
    "# Compute alignment terms\n",
    "AFterm, DeltaTerm = ep.geomCalc.deltaLMKQS(EPR, AKQS)\n",
    "\n",
    "#*** Plot subsection, L<=2, and sum over Rp and S-Rp terms\n",
    "titleString = ('$\\\\tilde{\\Delta}_{L,M}(t)$ (3D alignment ramp example).'\n",
    "               '\\n Summed over $R\\'$ and $S-R\\'$ terms.')\n",
    "*_, gFig = ep.lmPlot(AFterm.where(AFterm.L<=2).sum('Rp').sum('S-Rp'),\n",
    "                    xDim = 't', pType = 'r',\n",
    "                    cmap='vlag',\n",
    "                    titleString=titleString) \n",
    "\n",
    "# Glue versions for JupyterBook output\n",
    "glue(\"ADMs-3DlinearRamp-lmPlot\", gFig.fig, display=False)"
   ]
  },
  {
   "cell_type": "markdown",
   "id": "3e87044e-3159-4dad-97c9-4faa34bafc67",
   "metadata": {},
   "source": [
    "```{glue:figure} ADMs-3DlinearRamp-lmPlot\n",
    "---\n",
    "name: \"fig-ADMs-3DlinearRamp\"\n",
    "---\n",
    "Example $\\tilde{\\Delta}_{L,M}(t)$ basis values for various choices of \"3D\" alignment, i.e. including some $K\\neq0$ and $S\\neq0$ terms. Note, in particular, the presence of $M\\neq0$ terms in general, and a complicated dependence of the allowed terms on the alignment ({{ ADMs }}), which may increase, decrease, or even change sign for a given $L,M$.\n",
    "```"
   ]
  },
  {
   "cell_type": "markdown",
   "id": "68c9565e-0afc-453a-8ffd-02ed1b2fc58f",
   "metadata": {},
   "source": [
    "For illustration purposes, {numref}`fig-ADMs-3DlinearRamp` shows a subselection of the $\\tilde{\\Delta}_{L,M}(t)$ basis values, indicating some of the key features in the full 3D case, subselected for $L\\leq2$ and summed over $R'$ and $S-R'$ terms. Note, in particular, the presence of $M\\neq0$ terms in general, and a complicated dependence of the allowed terms on the alignment, which may increase, decrease, or even change sign. As previously, these behaviours are generally useful for understanding specific cases or planning experiments for specific systems; this is explored further in {{ PARTII }} which focuses on the results for particular molecules (hence symmetries and sets of matrix elements).\n",
    "\n",
    "%; Fig. XX shows the subset with $L\\leq2$ and $M=1$; Fig. XX shows the subset with $L\\leq2$ and $M=2$. \n",
    "% TODO: give more explict examples here, may want to also reduce and consolidate illustrations further?"
   ]
  },
  {
   "cell_type": "markdown",
   "id": "2f382459-ec54-4167-a9e7-a4f5308aac36",
   "metadata": {},
   "source": [
    "(sec:theory:tensor-products)=\n",
    "## Tensor product terms\n",
    "\n",
    "% TODO: manual composition of tensor product terms OR recalc from full basis as per above with alignment terms.\n",
    "% See main afblmGeom routine for details.\n",
    "\n",
    "Following the above, further resultant terms can also be examined, up to and including the full channel functions $\\varUpsilon_{L,M}^{u,\\zeta\\zeta'}$ (see {eq}`eqn:channel-fns`) for a given case. Numerically these are all implemented in the main {{ ePSproc_full }}, and can be returned by these functions for inspection - the full basis set already defined includes some of these products. Custom tensor product terms are also readily computed with the codebase, with tensor multiplications handled natively by the {{ xarray }} data objects (for more details of the data structures used, see the {{ ePSproc_docs }}, specifically the [data structures page](https://epsproc.readthedocs.io/en/latest/dataStructures/ePSproc_dataStructures_demo_070622.html)).\n",
    "\n",
    "% These terms are defined as follows:\n",
    "\n",
    "% TODO: formal definitions to match code (already done somewhere...?) PolProd etc.\n",
    "% SEE MF RECON MANUSCRIPT NOTEBOOKS for this, and Sect 4.1.7 therein (Figs 14 & 15). Don't recall where source code is off-hand... TRY TRELLO, also D:\\temp\\docker_stimpy_builds\\notebooks\\pemtk_fitting_runs_April2022\\analysis_dev probably (`stimpy-docker-local` in shared dirs).  AH: http://jake/jupyter/user/paul/lab/workspaces/MFreconBasisSets AND https://pemtk.readthedocs.io/en/latest/fitting/PEMtk_fitting_basis-set_demo_050621-full.html\n",
    "\n",
    "Polarisation & ADM product term: the main product basis returned, labelled `polProd` in the output dictionary, contains the tensor product $\\Lambda_{R}\\otimes E_{PR}(\\hat{e})\\otimes \\Delta_{L,M}(K,Q,S)\\otimes A^{K}_{Q,S}(t)$, expanded over all quantum numbers (see [full definition here](https://epsproc.readthedocs.io/en/dev/methods/geometric_method_dev_pt3_AFBLM_090620_010920_dev_bk100920.html#\\beta_{L,M}^{AF}-rewrite)). This term, therefore, incorporates all of the dependence (or response) of the AF-$\\beta_{LM}$s on the polarisation state, and the axis distribution. Example results, making use of the linear-ramp {{ ADMs }} of {numref}`Sect. %s <sec:theory:AF-alignment-term-basic>` are illustrated in {numref}`fig-polProd-linearRamp`.\n",
    "\n",
    "The full channel (response) functions $\\varUpsilon_{L,M}^{u,\\zeta\\zeta'}$ as defined in {eq}`eq:channelFunc-MF-defn` and {eq}`eq:channelFunc-AF-defn` can be determined by the product of this term with the $B_{L,M}$ tensor. This is essentially the complete geometric basis set, hence equivalent to the {{ AF }}-$\\beta_{LM}$ if the ionization matrix elements were set to unity. This illustrates not only the coupling of the geometric terms into the observable $L,M$, but also how the partial wave $|l,m\\rangle$ terms map to the observables, and hence the sensitivity of the observables to given partial wave properties. Example results, making use of the linear-ramp {{ ADMs }} of {numref}`Sect. %s <sec:theory:AF-alignment-term-basic>` are illustrated in {numref}`fig-channelFunc-linearRamp`.\n",
    "\n",
    "% ([give or take a phase term or two](https://epsproc.readthedocs.io/en/dev/methods/geometric_method_dev_pt3_AFBLM_090620_010920_dev_bk100920.html#\\beta_{L,M}^{AF}-rewrite)),"
   ]
  },
  {
   "cell_type": "code",
   "execution_count": null,
   "id": "fe74b7ef-5fc6-4178-97f0-f4577b41db26",
   "metadata": {},
   "outputs": [],
   "source": [
    "# Set data - set example ADMs to data structure & subset for calculation\n",
    "data.setADMs(ADMs = inputADMs)\n",
    "data.setSubset(dataKey = 'ADM', dataType = 'ADM')\n",
    "\n",
    "# Using PEMtk - this only returns the product basis set as used for fitting\n",
    "BetaNormX, basisProduct = data.afblmMatEfit(selDims={}, sqThres=False)"
   ]
  },
  {
   "cell_type": "code",
   "execution_count": null,
   "id": "eab1c597-5fdf-48aa-9128-4ec8f4e538d2",
   "metadata": {
    "tags": [
     "hide-output"
    ]
   },
   "outputs": [],
   "source": [
    "basisKey = 'polProd'  # Key for BLM basis set\n",
    "\n",
    "# Plot with subselection on pol state (by label, 'A'=z-pol case)\n",
    "titleString=('\"Polprod\" basis term, $\\Lambda_{R}\\otimes E_{PR}(\\hat{e})\\otimes' \n",
    "             '\\Delta_{L,M}(K,Q,S)\\otimes A^{K}_{Q,S}(t)$.'\n",
    "             '\\nSubselected for $z$-pol.')\n",
    "*_, gFig = ep.lmPlot(basisProduct[basisKey].sel(Labels='A'), \n",
    "                   xDim='t', cmap = cmap, mDimLabel='mu',\n",
    "                   labelCols=labelCols,\n",
    "                   titleString=titleString);\n",
    "\n",
    "# Glue versions for JupyterBook output\n",
    "glue(\"polProd-linearRamp-lmPlot\", gFig.fig, display=False)"
   ]
  },
  {
   "cell_type": "code",
   "execution_count": null,
   "id": "715567d9-9987-48d9-99c7-c4dbf43cd44c",
   "metadata": {
    "tags": [
     "hide-output"
    ]
   },
   "outputs": [],
   "source": [
    "# Full channel functions\n",
    "# Plot with subselection on pol state (by label, 'A'=z-pol case)\n",
    "titleString='Channel functions example.\\nSubselected for $z$-pol, $S-R\\'=0$.'\n",
    "*_, gFig =  ep.lmPlot((basisProduct['BLMtableResort'] * \n",
    "                       basisProduct['polProd']).sel(Labels='A').sel({'S-Rp':0}).sel(L=2), \n",
    "                      xDim='t', cmap=cmap, mDimLabel='m',\n",
    "                      titleString=titleString); \n",
    "\n",
    "# Glue versions for JupyterBook output\n",
    "glue(\"channelFunc-linearRamp-lmPlot\", gFig.fig, display=False)"
   ]
  },
  {
   "cell_type": "markdown",
   "id": "39a8f22f-2e83-4087-801f-7b2132bf36f8",
   "metadata": {},
   "source": [
    "```{glue:figure} polProd-linearRamp-lmPlot\n",
    "---\n",
    "name: \"fig-polProd-linearRamp\"\n",
    "---\n",
    "Example product basis function for the polarisation and ADM terms, as given by $\\Lambda_{R}\\otimes E_{PR}(\\hat{e})\\otimes \\Delta_{L,M}(K,Q,S)\\otimes A^{K}_{Q,S}(t)$. Shown for $z$-pol case only ($p=0$).\n",
    "```"
   ]
  },
  {
   "cell_type": "markdown",
   "id": "ca0c1645-6a0e-45a0-b5ff-8050ee6e55ae",
   "metadata": {},
   "source": [
    "```{glue:figure} channelFunc-linearRamp-lmPlot\n",
    "---\n",
    "name: \"fig-channelFunc-linearRamp\"\n",
    "---\n",
    "Example of $\\bar{\\varUpsilon_{}}_{L,M}^{u,\\zeta\\zeta'}$ basis values for various choices of alignment (as per {numref}`fig-ADMs-linearRamp`), shown for $L=2$ and $z$-pol case only ($p=0$). The basis essentially shows the obsevable terms if the ionization matrix elements are neglected, hence the sensitivity of the configuration to each pair of partial wave terms. Note, in general, that the sensitivity to any given pair $\\langle l',m'|l,m\\rangle$, increases with alignment (hence with $t$ in this example) for the linear polarisation case ($\\mu=\\mu'=0$), but typically decreases with alignment for cross-polarised terms. \n",
    "\n",
    "```"
   ]
  }
 ],
 "metadata": {
  "jupytext": {
   "formats": "ipynb,md:myst"
  },
  "kernelspec": {
   "display_name": "Python 3 (ipykernel)",
   "language": "python",
   "name": "python3"
  },
  "language_info": {
   "codemirror_mode": {
    "name": "ipython",
    "version": 3
   },
   "file_extension": ".py",
   "mimetype": "text/x-python",
   "name": "python",
   "nbconvert_exporter": "python",
   "pygments_lexer": "ipython3",
   "version": "3.10.11"
  }
 },
 "nbformat": 4,
 "nbformat_minor": 5
}
