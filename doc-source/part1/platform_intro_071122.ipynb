{
 "cells": [
  {
   "cell_type": "markdown",
   "id": "164fe7ae-97b9-4b77-8f6f-c92ef5bbc039",
   "metadata": {},
   "source": [
    "(chpt:platformIntro)=\n",
    "# Quantum metrology software platform/ecosystem overview\n",
    "\n",
    "STUB\n"
   ]
  },
  {
   "cell_type": "code",
   "execution_count": null,
   "id": "d750d603-12ae-4d5e-b0b1-40f2f65db295",
   "metadata": {},
   "outputs": [],
   "source": []
  }
 ],
 "metadata": {
  "jupytext": {
   "formats": "ipynb,md:myst"
  },
  "kernelspec": {
   "display_name": "Python 3 (ipykernel)",
   "language": "python",
   "name": "python3"
  },
  "language_info": {
   "codemirror_mode": {
    "name": "ipython",
    "version": 3
   },
   "file_extension": ".py",
   "mimetype": "text/x-python",
   "name": "python",
   "nbconvert_exporter": "python",
   "pygments_lexer": "ipython3",
   "version": "3.9.7"
  }
 },
 "nbformat": 4,
 "nbformat_minor": 5
}
