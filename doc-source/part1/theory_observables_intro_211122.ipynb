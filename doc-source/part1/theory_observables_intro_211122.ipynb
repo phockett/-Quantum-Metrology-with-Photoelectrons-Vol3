{
 "cells": [
  {
   "cell_type": "markdown",
   "id": "fc40ff82-fb4f-46a0-b465-e9c25abfe65d",
   "metadata": {},
   "source": [
    "(sect:theory:observables)=\n",
    "# Observables: photoelectron flux in the LF and MF\n",
    "\n",
    "The observables of interest - the photoelectron flux as a function of energy, ejection angle, and time - can be written quite generally as an expansion in spherical harmonics:\n",
    "\n",
    "$$\n",
    "\\begin{align}\n",
    "\\bar{I}(\\epsilon,t,\\theta,\\phi)=\\sum_{L=0}^{2n}\\sum_{M=-L}^{L}\\bar{\\beta}_{L,M}(\\epsilon,t)Y_{L,M}(\\theta,\\phi)\n",
    "\\end{align}\n",
    "$$ (eq:AF-PAD-general)\n",
    "\n",
    "Here the flux in the laboratory frame (LF) or aligned frame (AF) is denoted $\\bar{I}(\\epsilon,t,\\theta,\\phi)$, with the bar signifying ensemble averaging, and the molecular frame flux by $I(\\epsilon,t,\\theta,\\phi)$. Similarly, the expansion parameters $\\bar{\\beta}_{L,M}(\\epsilon,t)$ include a bar for the LF/AF case. These observables are generally termed photoelectron angular distributions (PADs), often with a prefix denoting the reference frame, e.g. LFPADs, MFPADs, and the associated expansion parameters $\\bar{\\beta}_{L,M}(\\epsilon,t)$ are generically termed \"anisotropy\\\" parameters. The polar coordinate system $(\\theta,\\phi)$ is referenced to\n",
    "an experimentally-defined axis in the LF/AF case (usually defined by the laser polarization), and the molecular symmetry axis in the MF. Some arbitrary examples are given in {numref}`fig-pads-example`, which illustrates both a range of distributions of increasing complexity, and some basic code to set $\\beta_{L,M}$ parameters and visualise them; the values used as tabulated in  {numref}`blm-tab`."
   ]
  },
  {
   "cell_type": "code",
   "execution_count": null,
   "id": "e974e105-bc44-4903-8f8b-4ff25eb1d845",
   "metadata": {
    "tags": [
     "hide-cell"
    ]
   },
   "outputs": [],
   "source": [
    "# Run default config - may need to set full path here\n",
    "%run '../scripts/setup_notebook.py'\n",
    "\n",
    "# Override plotters backend?\n",
    "# plotBackend = 'pl'"
   ]
  },
  {
   "cell_type": "code",
   "execution_count": null,
   "id": "908c87a8-7e09-4a60-9c20-3fab52709567",
   "metadata": {
    "tags": [
     "hide-output"
    ]
   },
   "outputs": [],
   "source": [
    "# Plot some distributions from specified BLMs\n",
    "\n",
    "# Set specific LM coeffs by list with setBLMs, items are [l,m,value]\n",
    "from epsproc.sphCalc import setBLMs\n",
    "\n",
    "# BLM = setBLMs([[0,0,1],[1,1,1],[2,2,1]])\n",
    "# BLM = setBLMs([[0,0,1,1,1],[1,1,1,0.5,0.2],[2,2,1,1,0.2]])   # Note different index\n",
    "BLM = setBLMs([[0,0,1,1,1,1],[1,1,0,0.5,0.8,1],[2,0,1,0.5,0,0],\n",
    "               [4,2,0,0,0,0.5],[4,-2,0,0,0,0.5]])\n",
    "\n",
    "# Set the backend to 'pl' for an interactive surface plot with Plotly\n",
    "# NOTE PL FIG RETURN BROKEN FOR THIS CASE (ePSproc v1.3.1), so run sphSumPlotX too.\n",
    "dataPlot, figObj = ep.sphFromBLMPlot(BLM, facetDim='t', plotFlag = False, backend = plotBackend);\n",
    "figObj = ep.sphSumPlotX(dataPlot,facetDim='t', plotFlag = False, backend = plotBackend);\n",
    "\n",
    "# And GLUE for display later with caption\n",
    "# from myst_nb import glue\n",
    "# glue(\"padExamplePlot\", figObj[0], display=False);\n",
    "# Glue with Plotly wrapper.\n",
    "# gluePlotly(\"padExamplePlot\", figObj[0])   # Working in Render test notebook, but not here? Issue with subplots?\n",
    "\n",
    "# Test in separate cell...\n",
    "gluePlotly(\"padExamplePlot\", figObj[0])   # Working in Render test notebook, but not here? Issue with subplots?"
   ]
  },
  {
   "cell_type": "markdown",
   "id": "ca9cb53a-64c9-4511-9405-e21d9807d43f",
   "metadata": {},
   "source": [
    "```{glue:figure} padExamplePlot\n",
    "---\n",
    "name: \"fig-pads-example\"\n",
    "---\n",
    "Examples of angular distributions (expansions in spherical harmonics $Y_{L,M}$), for a range of cases. Note that up-down asymmetry is associated with odd-$l$ contributions, and breaking of cylindrical symmetry with $m\\neq0$ terms.\n",
    "```"
   ]
  },
  {
   "cell_type": "code",
   "execution_count": null,
   "id": "c8e765d0-b0c2-4c59-927d-0c6602bf4732",
   "metadata": {
    "tags": [
     "hide-cell"
    ]
   },
   "outputs": [],
   "source": [
    "# Example using data class (setup in init script)\n",
    "data = pemtkFit()\n",
    "# data.setData('BLMtest',setBLMs([[0,0,1,1],[1,1,0,1],[2,2,1,1]]))   # Note different index\n",
    "# data.setData(np.array([[0,0,1],[1,1,1],[2,2,1]]))   # Note different index\n",
    "\n",
    "BLM = setBLMs([[0,0,1,1,1,1],[1,0,0,0.5,0.8,1],[2,0,1,0.5,0,0],\n",
    "               [4,2,0,0,0,0.5],[4,-2,0,0,0,0.5]])\n",
    "\n",
    "data.setData('BLMtest', BLM)\n",
    "data.padPlot(keys = 'BLMtest', dataType='AFBLM', Etype='t', backend=plotBackend, plotFlag=False, returnFlag=True)  # Working\n",
    "figObj = data.data['BLMtest']['plots']['AFBLM']['polar'][0]\n",
    "\n",
    "# And GLUE for display later with caption\n",
    "# from myst_nb import glue\n",
    "# glue(\"padExamplePlot2\", figObj, display=False);\n",
    "gluePlotly(\"padExamplePlot2\", figObj)"
   ]
  },
  {
   "cell_type": "markdown",
   "id": "04940863-dfad-4097-8dc7-581c6d8fd219",
   "metadata": {
    "tags": [
     "hide-cell"
    ]
   },
   "source": [
    "% ```{glue:figure} padExamplePlot2\n",
    "% ---\n",
    "% name: \"fig-pads-example-class\"\n",
    "% ---\n",
    "% Examples of angular distributions (expansions in spherical harmonics $Y_{L,M}$), for a range of cases.\n",
    "% ```"
   ]
  },
  {
   "cell_type": "code",
   "execution_count": null,
   "id": "9e5c2a80-4c81-47a1-876c-5780a67b0c3e",
   "metadata": {
    "tags": [
     "hide-cell"
    ]
   },
   "outputs": [],
   "source": [
    "# 1D only!\n",
    "# from epsproc.sphFuncs.sphConv import tabulateLM\n",
    "# tabulateLM(BLM.unstack())\n",
    "\n",
    "from epsproc.util import multiDimXrToPD\n",
    "\n",
    "dataPD, _ = multiDimXrToPD(BLM, colDims='t')\n",
    "# dataPD\n",
    "glue(\"blm-tab\", dataPD, display=False);"
   ]
  },
  {
   "cell_type": "markdown",
   "id": "857cbf9f-f1f1-4ac0-ab9f-276113daf975",
   "metadata": {},
   "source": [
    "```{glue:figure} blm-tab\n",
    ":figwidth: 300px\n",
    ":name: \"blm-tab\"\n",
    "\n",
    "Values used for the plots in {numref}`fig-pads-example`\n",
    "```"
   ]
  },
  {
   "cell_type": "markdown",
   "id": "16f19dbe-44e7-40cf-bada-2cfaab3cc8b0",
   "metadata": {},
   "source": [
    "In general, the spherical harmonic rank and order $(L,M)$ of Eq. {eq}`eq:AF-PAD-general` are constrained by experimental factors in the LF/AF, and $n$ is effectively limited by the molecular alignment (which is correlated with the photon-order for gas phase experiments, or conservation of angular momentum in the LF more generally {cite}`Yang1948`), but in the MF is defined by the maximum continuum angular momentum $n=l_{max}$ imparted by the scattering event {cite}`Dill1976`.\n",
    "\n",
    "For basic cases these limits may be low: for instance, a simple 1-photon photoionization event ($n=1$) from an isotropic ensemble (zero net ensemble angular momentum) defines $L_{max}=2$; for cylindrically symmetric cases (i.e. $D_{\\infty h}$ symmetry) $M=0$ only. For MF cases, $l_{max}=4$ is often given as a reasonable rule-of-thumb for the continuum - hence $L_{max}=8$ - although in practice higher-$l$ may be populated. Some realistic example cases are discussed later (**PART II**), see also ref. {cite}`hockett2018QMP1` for more discussion and complex examples.\n",
    "\n",
    "In general, these observables may also be dependent on various other parameters; in Eq. {eq}`eq:AF-PAD-general` two such parameters, $(\\epsilon,t)$, are included, as the usual variables of interest. Usually $\\epsilon$ denotes the photoelectron energy, and $t$ is used in the case of time-dependent (usually pump-probe) measurements. As discussed below ({numref}`Sect. %s <sec:dynamics-intro>`), the origin of such dependencies may be complicated but, in general, the associated photoionization matrix elements are energy-dependent, and time-dependence may also appear for a number of intrinsic or extrinsic (experimental) reasons, e.g. electronic or nuclear dynamics, rotational (alignment) dynamics, electric field dynamics etc. In many cases only one particular aspect may be of interest, so $t$ can be used as a generic label to index changes as per {numref}`fig-pads-example`."
   ]
  },
  {
   "cell_type": "markdown",
   "id": "d66d0d95-776b-46b9-9318-4b0a99b2d160",
   "metadata": {},
   "source": [
    "(sec:theory:sym-harm-into)=\n",
    "## Symmetrized harmonics\n",
    "\n",
    "Symmetrized (or generalised) harmonics, which essentially provide correctly symmetrized expansions of spherical harmonics ($Y_{lm}$) functions for a given irreducible representation, $\\Gamma$, can be defined by linear combinations of spherical harmonics (Refs. {cite}`Altmann1963,Altmann1965,Chandra1987` as below):\n",
    "\n",
    "\\begin{equation}\n",
    "X_{hl}^{\\Gamma\\mu*}(\\theta,\\phi)=\\sum_{\\lambda}b_{hl\\lambda}^{\\Gamma\\mu}Y_{l,\\lambda}(\\theta,\\phi)\\label{eq:symm-harmonics}\n",
    "\\end{equation}\n",
    "\n",
    "\n",
    "where: \n",
    "    \n",
    "- $\\Gamma$ is an irreducible representation, \n",
    "- ($l$, $\\lambda$) define the usual spherical harmonic indicies (rank, order)\n",
    "- $b_{hl\\lambda}^{\\Gamma\\mu}$ are symmetrization coefficients, \n",
    "- index $\\mu$ allows for indexing of degenerate components,\n",
    "- $h$ indexs cases where multiple components are required with all other quantum numbers identical. \n",
    "    \n",
    "The exact form of these coefficients will depend on the point-group of the system, see, e.g. Refs. {cite}`Chandra1987,Reid1994`. Numerical routines for the generation of symmetrized harmonics are implemented in PEMtk: point-groups, character table generation and symmetrization (computing $b_{hl\\lambda}^{\\Gamma\\mu}$ parameters) is handled by {{ libmsym }}; additional handling also makes use of {{ shtools }}. A brief example is given below, see the {{ PEMtk_docs }} for more details."
   ]
  },
  {
   "cell_type": "code",
   "execution_count": null,
   "id": "9ef64984-7c02-43b7-aa7e-80338dec9193",
   "metadata": {
    "tags": [
     "hide-output"
    ]
   },
   "outputs": [],
   "source": [
    "# Import class\n",
    "from pemtk.sym.symHarm import symHarm\n",
    "\n",
    "# Compute hamronics for Td, lmax=4\n",
    "symObj = symHarm('Td',4)\n",
    "\n",
    "# Character tables can be displayed\n",
    "symObj.printCharacterTable()"
   ]
  },
  {
   "cell_type": "code",
   "execution_count": null,
   "id": "4b7f9659-d9a6-4620-9ab0-f7a6666c53f7",
   "metadata": {
    "tags": [
     "hide-output"
    ]
   },
   "outputs": [],
   "source": [
    "# The full set of expansion parameters can be tabulated\n",
    "# pd.set_option('display.max_rows', 1)\n",
    "symObj.displayXlm()  # Display values (note this defaults to REAL harmonics)\n",
    "# symObj.displayXlm(YlmType='comp')   # Display values for COMPLEX harmonic expansion."
   ]
  },
  {
   "cell_type": "code",
   "execution_count": null,
   "id": "02d8994a-e226-4620-b050-0033fc430bb5",
   "metadata": {},
   "outputs": [],
   "source": [
    "# To plot using ePSproc/PEMtk class, these values can be converted to ePSproc BLM data type...\n",
    "\n",
    "# Run conversion - the default is to set the coeffs to the 'BLM' data type\n",
    "symObj.toePSproc()\n",
    "\n",
    "# Set to new key in data class\n",
    "data.data['symHarm'] = {}\n",
    "\n",
    "for dataType in ['BLM']:  #['matE','BLM']:\n",
    "    data.data['symHarm'][dataType] = symObj.coeffs[dataType]['b (comp)']  # Select expansion in complex harmonics\n",
    "    data.data['symHarm'][dataType].attrs = symObj.coeffs[dataType].attrs\n",
    "    \n",
    "# Plot full harmonics expansions, plots by symmetry\n",
    "# Note 'squeeze=True' to force drop of singleton dims may be required.\n",
    "# data.padPlot(keys='symHarm',dataType='BLM', facetDims = ['Cont'], squeeze = True, backend=plotBackend)\n",
    "\n",
    "data.padPlot(keys='symHarm',dataType='BLM', facetDims = ['Cont'], squeeze = True, backend=plotBackend, plotFlag=False, returnFlag=True)  # Working\n",
    "figObj = data.data['symHarm']['plots']['BLM']['polar'][0]\n",
    "\n",
    "# And GLUE for display later with caption\n",
    "# from myst_nb import glue\n",
    "# glue(\"padExamplePlot2\", figObj, display=False);\n",
    "gluePlotly(\"symHarmPADs\", figObj)"
   ]
  },
  {
   "cell_type": "markdown",
   "id": "79f91daa-45e0-448d-9a57-ec5a377a6d2d",
   "metadata": {},
   "source": [
    "```{glue:figure} symHarmPADs\n",
    "---\n",
    "name: \"fig-symHarmPADs-example\"\n",
    "---\n",
    "Examples of angular distributions from expansions in symmetrized harmonics $X_{hl}^{\\Gamma\\mu*}(\\theta,\\phi)$, for all representations in $Td$ symmetry.\n",
    "```"
   ]
  },
  {
   "cell_type": "markdown",
   "id": "f51c5901-6fcf-4690-89ee-1dcc49958a0d",
   "metadata": {
    "tags": [
     "remove-cell"
    ]
   },
   "source": [
    "Quick maths test - see formatting test doc for more details.\n",
    "\n",
    "$\\boldsymbol{\\mathbf{E}}$\n",
    "\n",
    "$\\mathbf{E}$\n",
    "\n",
    "$\\boldsymbol{E}$ or $\\mathbf{E}$ or $\\bm{E}$ should be equivalent.\n",
    "\n",
    "$$\\hat{\\Gamma}(\\boldsymbol{\\mathbf{E}}) = \\hat{\\mathbf{\\mu}}.\\boldsymbol{\\mathbf{E}}$$\n",
    "\n",
    "$$\\Psi_\\mathbf{k}(\\bm{r})\\equiv\\left<\\bm{r}|\\mathbf{k}\\right> = \\sum_{lm}Y_{lm}(\\mathbf{\\hat{k}})\\psi_{lm}(\\bm{r},k)\n",
    "\\label{eq:elwf}$$"
   ]
  },
  {
   "cell_type": "code",
   "execution_count": null,
   "id": "2433cbe1-e424-4f30-8c79-03bfb26d9791",
   "metadata": {},
   "outputs": [],
   "source": []
  },
  {
   "cell_type": "code",
   "execution_count": 1,
   "id": "66179dfd-c28c-40fb-996a-dc1021f80d79",
   "metadata": {},
   "outputs": [],
   "source": [
    "# Test ointput"
   ]
  },
  {
   "cell_type": "code",
   "execution_count": null,
   "id": "1ac1239e-ff06-4bf4-9a21-ac94eb01479d",
   "metadata": {},
   "outputs": [],
   "source": []
  }
 ],
 "metadata": {
  "jupytext": {
   "formats": "ipynb,md:myst"
  },
  "kernelspec": {
   "display_name": "Python 3 (ipykernel)",
   "language": "python",
   "name": "python3"
  },
  "language_info": {
   "codemirror_mode": {
    "name": "ipython",
    "version": 3
   },
   "file_extension": ".py",
   "mimetype": "text/x-python",
   "name": "python",
   "nbconvert_exporter": "python",
   "pygments_lexer": "ipython3",
   "version": "3.9.7"
  }
 },
 "nbformat": 4,
 "nbformat_minor": 5
}
