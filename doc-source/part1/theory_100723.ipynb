{
 "cells": [
  {
   "cell_type": "markdown",
   "id": "c94e1af9-df9b-4995-a9d8-d1326681fde5",
   "metadata": {
    "tags": [
     "remove-cell"
    ]
   },
   "source": [
    "10/07/23\n",
    "\n",
    "Updating and tidy-up, original version (just a TOC) below.\n",
    "\n",
    "Not sure if keeping TOC, but leave in for now - good for HTML, less so for PDF.\n",
    "\n",
    "UPDATE: now removed TOC.\n",
    "\n",
    "\n",
    "TODO (from https://github.com/phockett/Quantum-Metrology-with-Photoelectrons-Vol3/issues/11):\n",
    "\n",
    "- Theory\n",
    "   - Swap section ordering? Or add note/figure in intro to this effect.\n",
    "   - Finish observables by type sections.\n",
    "   - Promote symmetry subsubsection to subsection (may also fix maths rendering issues in \"photoionziation dynamics\" parent subsection).\n",
    "   - [Clarify LF/AF coupling term](https://phockett.github.io/Quantum-Metrology-with-Photoelectrons-Vol3/part1/theory_tensor_formalism_201122.html#molecular-frame-projection-term-lambda) - this currently mixes LF and MF definitions for latter case (now fixed in code, see also MF recon manuscript)?\n",
    "   - Add some notes on alignment? Currently introduced numerically later. (E.g. [alignment tensor section](https://phockett.github.io/Quantum-Metrology-with-Photoelectrons-Vol3/part1/theory_tensor_formalism_201122.html#alignment-tensor-delta-l-m-k-q-s)). Should include some plots.\n",
    "\n",
    "--- OLD STUB below\n",
    "\n",
    "(chpt:theory)=\n",
    "# Theory\n",
    "\n",
    "% Add subsection ToC, see https://jupyterbook.org/en/stable/structure/configure.html#add-a-table-of-contents-to-a-pages-content\n",
    "```{tableofcontents}\n",
    "```\n",
    "\n",
    "\n",
    "% STUB\n",
    "\n",
    "% TODO: plotly HV wrappers, see https://github.com/executablebooks/jupyter-book/issues/1815 - NOW fixed.\n",
    "\n",
    "% UPDATE: now in place, working in Render-debug notebook, but not here - even after clean build? Weird.\n",
    "\n",
    "% TODO: Fix plots (HV & plotly) in PDF output, currently missing here and Render-debug notebook.\n",
    "\n",
    "% 17/11/22 Rendering now OK for Plotly, ongoing notes: https://github.com/phockett/Quantum-Metrology-with-Photoelectrons-Vol3/issues/2\n",
    "\n",
    "% 22/11/22 Rendering now OK for Plotly in HTML and PDF, although need to execute notebooks for both cases to set exporters correctly, see issue as above for more."
   ]
  },
  {
   "cell_type": "markdown",
   "id": "b5ee5513-2eff-4bcb-956c-76eaf246bd43",
   "metadata": {},
   "source": [
    "(chpt:theory)=\n",
    "# Theory\n",
    "\n",
    "In this chapter a number of fundamentals are outlined. Only a brief introduction to the necessary physics (which already has a rich literature) is presented, and the emphasis is instead on code and numerical examples. These are intended both to give readers an insight into the physics, and also illustrate aspects of the {{ PEMtk_repo }} and {{ ePSproc_full }} that can be used for these problems. These methods will form the basis for the numerical reconstruction work presented in Part II.\n",
    "\n",
    "Readers only interested in fitting problems from an experimental perspective may wish to skip most of this section; {numref}`Sect. %s: <sect:theory:observables>` and {numref}`Sect. %s: <sec:info-content>` should provide sufficient background for pure reconstruction problems.\n",
    "\n",
    "% Issues with {ref} cases here... not sure why.\n",
    "% Readers only interested in fitting problems from an experimental perspective may wish to skip most of this section - sections {numref}`Sect. %s: <sect:theory:observables>` {ref}`<sect:theory:observables>` and {numref}`Sect. %s: <sec:info-content>` {ref}`<sec:info-content>` should provide sufficient background for pure reconstruction problems."
   ]
  },
  {
   "cell_type": "code",
   "execution_count": null,
   "id": "76c18809-d1f5-4fc2-9945-8f4dcde6ef7d",
   "metadata": {},
   "outputs": [],
   "source": []
  }
 ],
 "metadata": {
  "jupytext": {
   "formats": "ipynb,md:myst"
  },
  "kernelspec": {
   "display_name": "Python 3 (ipykernel)",
   "language": "python",
   "name": "python3"
  },
  "language_info": {
   "codemirror_mode": {
    "name": "ipython",
    "version": 3
   },
   "file_extension": ".py",
   "mimetype": "text/x-python",
   "name": "python",
   "nbconvert_exporter": "python",
   "pygments_lexer": "ipython3",
   "version": "3.10.11"
  }
 },
 "nbformat": 4,
 "nbformat_minor": 5
}
