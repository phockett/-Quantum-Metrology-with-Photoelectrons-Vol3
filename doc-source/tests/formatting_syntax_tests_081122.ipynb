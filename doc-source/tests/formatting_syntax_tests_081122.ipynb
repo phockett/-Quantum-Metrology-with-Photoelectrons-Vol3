{
 "cells": [
  {
   "cell_type": "markdown",
   "id": "ec9f8426-c0ba-460f-90c5-c205331b1174",
   "metadata": {},
   "source": [
    "# Formatting tests\n",
    "\n",
    "For directives and how-tos see:\n",
    "\n",
    "- General Jupyter Book intro: https://jupyterbook.org/en/stable/content/myst.html\n",
    "- https://jupyterbook.org/en/stable/content/index.html\n",
    "- https://myst-parser.readthedocs.io/en/latest/faq/index.html (includes direct rst directive for native rst/Sphinx blocks).\n",
    "\n",
    "Only outstanding point is use of raw latex? Is this possible...?"
   ]
  },
  {
   "cell_type": "markdown",
   "id": "39d6cf6d-11c3-4636-a342-e047991db1d2",
   "metadata": {},
   "source": [
    "## Testing raw latex...\n",
    "\n",
    "Both options fail in PDF and HTML export tests."
   ]
  },
  {
   "cell_type": "markdown",
   "id": "a1fce734-0397-46a0-bb45-f0af2194f479",
   "metadata": {},
   "source": [
    "Code cell with `%%latex`"
   ]
  },
  {
   "cell_type": "code",
   "execution_count": 1,
   "id": "d1e87b4d-f10c-49bd-961a-609b651db959",
   "metadata": {},
   "outputs": [
    {
     "data": {
      "text/latex": [
       "\n",
       "\\bf{This is a test} \\\\\n",
       "It allows latex $\\alpha=\\beta$ and test:\n",
       "\n",
       "\\begin{equation}\n",
       "\\alpha = \\beta\n",
       "\\end{equation}\n",
       "% this is a latex comment\n"
      ],
      "text/plain": [
       "<IPython.core.display.Latex object>"
      ]
     },
     "metadata": {},
     "output_type": "display_data"
    }
   ],
   "source": [
    "%%latex\n",
    "\n",
    "\\bf{This is a test} \\\\\n",
    "It allows latex $\\alpha=\\beta$ and test:\n",
    "\n",
    "\\begin{equation}\n",
    "\\alpha = \\beta\n",
    "\\end{equation}\n",
    "% this is a latex comment"
   ]
  },
  {
   "cell_type": "markdown",
   "id": "182ac334-d2e6-467a-bc45-10eb0e1fc9a5",
   "metadata": {},
   "source": [
    "Cell below marked as raw > latex in metadata."
   ]
  },
  {
   "cell_type": "raw",
   "id": "b55e1054-4a7d-4c2d-a850-1ff85df0c5b4",
   "metadata": {
    "raw_mimetype": "text/latex",
    "tags": []
   },
   "source": [
    "\\bf{This is a test} \\\\\n",
    "It allows latex $\\alpha=\\beta$ and test:\n",
    "\n",
    "\\begin{equation}\n",
    "\\alpha = \\beta\n",
    "\\end{equation}\n",
    "% this is a latex comment"
   ]
  },
  {
   "cell_type": "markdown",
   "id": "284885ce-1a74-45b0-9458-09bc84d00beb",
   "metadata": {},
   "source": [
    "With `{latex}` directive\n",
    "\n",
    "```{latex} \n",
    "\\bf{This is a test}\n",
    "```"
   ]
  },
  {
   "cell_type": "markdown",
   "id": "f1ec8782-9d5d-4703-b7a2-2d6e38bbd286",
   "metadata": {},
   "source": [
    "With MyST-rst wrapper\n",
    "\n",
    "```{eval-rst}\n",
    ".. raw:: latex\n",
    "\n",
    "    \\bf{This is a test} \\\\\n",
    "    It allows latex $\\alpha=\\beta$ and test:\n",
    "\n",
    "    \\begin{equation}\n",
    "    \\alpha = \\beta\n",
    "    \\end{equation}\n",
    "    % this is a latex comment\n",
    "\n",
    "```"
   ]
  },
  {
   "cell_type": "markdown",
   "id": "56bdb4fc-53fe-4c02-8e7a-d9b71a8ed937",
   "metadata": {},
   "source": [
    "Testing maths only\n",
    "\n",
    "\\begin{equation}\n",
    "\\alpha = \\beta\n",
    "\\end{equation}"
   ]
  },
  {
   "cell_type": "markdown",
   "id": "73d344cd-6cb9-4a88-9fd7-a3b546f61897",
   "metadata": {},
   "source": [
    "## Include\n",
    "\n",
    "Working."
   ]
  },
  {
   "cell_type": "markdown",
   "id": "efddd1a6-4c82-4697-b27e-05041ef49c97",
   "metadata": {},
   "source": [
    "Include with `{include}` directive:\n",
    "\n",
    "```{include} testInclude.txt\n",
    "```"
   ]
  },
  {
   "cell_type": "code",
   "execution_count": null,
   "id": "b0054b97-39f1-4867-ab0d-6b226a97c91b",
   "metadata": {},
   "outputs": [],
   "source": []
  }
 ],
 "metadata": {
  "jupytext": {
   "formats": "ipynb,md:myst"
  },
  "kernelspec": {
   "display_name": "Python 3 (ipykernel)",
   "language": "python",
   "name": "python3"
  },
  "language_info": {
   "codemirror_mode": {
    "name": "ipython",
    "version": 3
   },
   "file_extension": ".py",
   "mimetype": "text/x-python",
   "name": "python",
   "nbconvert_exporter": "python",
   "pygments_lexer": "ipython3",
   "version": "3.9.7"
  }
 },
 "nbformat": 4,
 "nbformat_minor": 5
}
