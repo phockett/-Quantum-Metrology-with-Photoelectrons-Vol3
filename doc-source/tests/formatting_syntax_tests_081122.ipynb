{
 "cells": [
  {
   "cell_type": "markdown",
   "id": "ec9f8426-c0ba-460f-90c5-c205331b1174",
   "metadata": {},
   "source": [
    "# Formatting tests\n",
    "\n",
    "For directives and how-tos see:\n",
    "\n",
    "- General Jupyter Book intro: https://jupyterbook.org/en/stable/content/myst.html\n",
    "- https://jupyterbook.org/en/stable/content/index.html\n",
    "- https://myst-parser.readthedocs.io/en/latest/faq/index.html (includes direct rst directive for native rst/Sphinx blocks).\n",
    "\n",
    "Only outstanding point is use of raw latex? Is this possible...?"
   ]
  },
  {
   "cell_type": "markdown",
   "id": "00bc6118-b889-42ce-8f29-a89028fc7a28",
   "metadata": {
    "tags": []
   },
   "source": [
    "## Links and refs\n",
    "\n",
    "See https://jupyterbook.org/en/stable/content/references.html"
   ]
  },
  {
   "cell_type": "markdown",
   "id": "102f744e-30a6-419f-9130-f03232661bd3",
   "metadata": {},
   "source": [
    "- `{numref}` for numbered ref with custom text: {numref}`Chapter %s <chpt:platformIntro>` (always works in PDF, need to [set numbered sections for HTML](https://jupyterbook.org/en/stable/content/references.html#reference-numbered-sections))\n",
    "- `{ref}` for named ref: {ref}`chpt:platformIntro`\n",
    "- Combined for full number and name: {numref}`Chapter %s: <chpt:platformIntro>` {ref}`chpt:platformIntro`\n",
    "- Nested as a link? {numref}`Chapter %s: [](chpt:platformIntro)<chpt:platformIntro>`"
   ]
  },
  {
   "cell_type": "markdown",
   "id": "345aacc5-35b1-41b5-91c4-6f8773c2e269",
   "metadata": {},
   "source": [
    "### Substitution tests\n",
    "\n",
    "See https://jupyterbook.org/en/stable/content/content-blocks.html?highlight=substitutions#substitutions-and-variables-in-markdown\n",
    "\n",
    "For global subs define in `_config.yml`. Uses Jinja on backend.\n",
    "\n",
    "Basic: {{ test_sub }}\n",
    "\n",
    "Sub test with URL: {{ PEMtk_repo }}\n"
   ]
  },
  {
   "cell_type": "markdown",
   "id": "02fb20d4-db15-48bf-8b32-7a87f881fe55",
   "metadata": {},
   "source": [
    "## Fig testing (from file)"
   ]
  },
  {
   "cell_type": "markdown",
   "id": "a2c2f92e-e5d0-4458-9fb3-933b641afbf3",
   "metadata": {},
   "source": [
    "As a figure, see https://jupyterbook.org/en/stable/content/figures.html\n",
    "\n",
    "```{figure} ../images/QM_unified_schema_wrapped_280820_gv.png\n",
    "---\n",
    "name: qm-platform-diag-test\n",
    "---\n",
    "Here is my figure caption!\n",
    "```"
   ]
  },
  {
   "cell_type": "markdown",
   "id": "540ebeb3-3dba-475d-96e2-8f1b0b6fcadc",
   "metadata": {
    "tags": []
   },
   "source": [
    "## Fig testing (from URL)\n",
    "\n",
    "Seemed to work OK for both HTML and PDF output, although did get some build errors in latter case. For PDF, image copied locally to hashed-named file, so probably not ideal (and seems to break build...?).\n",
    "\n",
    "Markdown image link\n",
    "\n",
    "![Photoelectron metrology platform diagram](https://raw.githubusercontent.com/phockett/PEMtk/4eec9217203bfd1aee13bd8b64952dc1ac5fef89/docs/doc-source/figs/QM_unified_schema_wrapped_280820.gv.png)"
   ]
  },
  {
   "cell_type": "markdown",
   "id": "e5180273-c3c5-4f7f-87f2-50fca2ed4f2f",
   "metadata": {},
   "source": [
    "As a figure, see https://jupyterbook.org/en/stable/content/figures.html\n",
    "\n",
    "```{figure} https://raw.githubusercontent.com/phockett/PEMtk/4eec9217203bfd1aee13bd8b64952dc1ac5fef89/docs/doc-source/figs/QM_unified_schema_wrapped_280820.gv.png\n",
    "---\n",
    "height: 300px\n",
    "name: directive-fig\n",
    "---\n",
    "Here is my figure caption!\n",
    "```"
   ]
  },
  {
   "cell_type": "markdown",
   "id": "39d6cf6d-11c3-4636-a342-e047991db1d2",
   "metadata": {},
   "source": [
    "## Testing raw latex...\n",
    "\n",
    "Both options fail in PDF and HTML export tests.\n",
    "\n",
    "BETTER: JUST USE PANDOC FOR EXTENDED LATEX SECTIONS > Markdown. Will generally only need to fix minor issues (formatting and citations) in most cases anyway, if maths works.\n",
    "\n",
    "For MyST markdown...?\n",
    "\n",
    "- RST to MySt with Pandoc: https://github.com/executablebooks/rst2myst/issues/2 and https://github.com/executablebooks/rst-to-myst"
   ]
  },
  {
   "cell_type": "markdown",
   "id": "a1fce734-0397-46a0-bb45-f0af2194f479",
   "metadata": {},
   "source": [
    "Code cell with `%%latex`"
   ]
  },
  {
   "cell_type": "code",
   "execution_count": 1,
   "id": "d1e87b4d-f10c-49bd-961a-609b651db959",
   "metadata": {},
   "outputs": [
    {
     "data": {
      "text/latex": [
       "\n",
       "\\bf{This is a test} \\\\\n",
       "It allows latex $\\alpha=\\beta$ and test:\n",
       "\n",
       "\\begin{equation}\n",
       "\\alpha = \\beta\n",
       "\\end{equation}\n",
       "% this is a latex comment\n"
      ],
      "text/plain": [
       "<IPython.core.display.Latex object>"
      ]
     },
     "metadata": {},
     "output_type": "display_data"
    }
   ],
   "source": [
    "%%latex\n",
    "\n",
    "\\bf{This is a test} \\\\\n",
    "It allows latex $\\alpha=\\beta$ and test:\n",
    "\n",
    "\\begin{equation}\n",
    "\\alpha = \\beta\n",
    "\\end{equation}\n",
    "% this is a latex comment"
   ]
  },
  {
   "cell_type": "markdown",
   "id": "182ac334-d2e6-467a-bc45-10eb0e1fc9a5",
   "metadata": {},
   "source": [
    "Cell below marked as raw > latex in metadata."
   ]
  },
  {
   "cell_type": "raw",
   "id": "b55e1054-4a7d-4c2d-a850-1ff85df0c5b4",
   "metadata": {
    "raw_mimetype": "text/latex",
    "tags": []
   },
   "source": [
    "\\bf{This is a test} \\\\\n",
    "It allows latex $\\alpha=\\beta$ and test:\n",
    "\n",
    "\\begin{equation}\n",
    "\\alpha = \\beta\n",
    "\\end{equation}\n",
    "% this is a latex comment"
   ]
  },
  {
   "cell_type": "markdown",
   "id": "284885ce-1a74-45b0-9458-09bc84d00beb",
   "metadata": {},
   "source": [
    "With `{latex}` directive\n",
    "\n",
    "```{latex} \n",
    "\\bf{This is a test}\n",
    "```"
   ]
  },
  {
   "cell_type": "markdown",
   "id": "f1ec8782-9d5d-4703-b7a2-2d6e38bbd286",
   "metadata": {},
   "source": [
    "With MyST-rst wrapper - this appears in PDF output, but not HTML. Also bold sticks for rest of output!\n",
    "\n",
    "```{eval-rst}\n",
    ".. raw:: latex\n",
    "\n",
    "    \\bf{This is a test} \\\\\n",
    "    It allows latex $\\alpha=\\beta$ and test:\n",
    "\n",
    "    \\begin{equation}\n",
    "    \\alpha = \\beta\n",
    "    \\end{equation}\n",
    "    % this is a latex comment\n",
    "\n",
    "```"
   ]
  },
  {
   "cell_type": "markdown",
   "id": "56bdb4fc-53fe-4c02-8e7a-d9b71a8ed937",
   "metadata": {},
   "source": [
    "Testing maths only - OK in notebook, and all output forms too.\n",
    "\n",
    "\\begin{equation}\n",
    "\\alpha = \\beta\n",
    "\\end{equation}"
   ]
  },
  {
   "cell_type": "markdown",
   "id": "73d344cd-6cb9-4a88-9fd7-a3b546f61897",
   "metadata": {},
   "source": [
    "## Include\n",
    "\n",
    "Working."
   ]
  },
  {
   "cell_type": "markdown",
   "id": "efddd1a6-4c82-4697-b27e-05041ef49c97",
   "metadata": {},
   "source": [
    "Include with `{include}` directive:\n",
    "\n",
    "```{include} testInclude.txt\n",
    "```"
   ]
  },
  {
   "cell_type": "code",
   "execution_count": null,
   "id": "b0054b97-39f1-4867-ab0d-6b226a97c91b",
   "metadata": {},
   "outputs": [],
   "source": []
  }
 ],
 "metadata": {
  "jupytext": {
   "formats": "ipynb,md:myst"
  },
  "kernelspec": {
   "display_name": "Python 3 (ipykernel)",
   "language": "python",
   "name": "python3"
  },
  "language_info": {
   "codemirror_mode": {
    "name": "ipython",
    "version": 3
   },
   "file_extension": ".py",
   "mimetype": "text/x-python",
   "name": "python",
   "nbconvert_exporter": "python",
   "pygments_lexer": "ipython3",
   "version": "3.9.7"
  }
 },
 "nbformat": 4,
 "nbformat_minor": 5
}
