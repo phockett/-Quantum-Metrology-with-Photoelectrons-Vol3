{
 "cells": [
  {
   "cell_type": "markdown",
   "id": "ec9f8426-c0ba-460f-90c5-c205331b1174",
   "metadata": {},
   "source": [
    "# Formatting tests\n",
    "\n",
    "For directives and how-tos see:\n",
    "\n",
    "- General Jupyter Book intro: https://jupyterbook.org/en/stable/content/myst.html\n",
    "- https://jupyterbook.org/en/stable/content/index.html\n",
    "- https://myst-parser.readthedocs.io/en/latest/faq/index.html (includes direct rst directive for native rst/Sphinx blocks).\n",
    "\n",
    "Only outstanding point is use of raw latex? Is this possible...?"
   ]
  },
  {
   "cell_type": "markdown",
   "id": "00bc6118-b889-42ce-8f29-a89028fc7a28",
   "metadata": {
    "tags": []
   },
   "source": [
    "## Links and refs\n",
    "\n",
    "See https://jupyterbook.org/en/stable/content/references.html"
   ]
  },
  {
   "cell_type": "markdown",
   "id": "102f744e-30a6-419f-9130-f03232661bd3",
   "metadata": {},
   "source": [
    "- `{numref}` for numbered ref with custom text: {numref}`Chapter %s <chpt:platformIntro>` (always works in PDF, need to [set numbered sections for HTML](https://jupyterbook.org/en/stable/content/references.html#reference-numbered-sections))\n",
    "- `{ref}` for named ref: {ref}`chpt:platformIntro`\n",
    "- Combined for full number and name: {numref}`Chapter %s: <chpt:platformIntro>` {ref}`chpt:platformIntro`\n",
    "- Nested as a link? {numref}`Chapter %s: [](chpt:platformIntro)<chpt:platformIntro>`\n",
    "- Section number: {numref}`Sect. %s <sec:dynamics-intro>`\n",
    "\n",
    "Note style guide uses `:` separators, these are changed to `-` in HTML output links. Shouldn't generally be a problem?"
   ]
  },
  {
   "cell_type": "markdown",
   "id": "345aacc5-35b1-41b5-91c4-6f8773c2e269",
   "metadata": {},
   "source": [
    "### Substitution tests\n",
    "\n",
    "See https://jupyterbook.org/en/stable/content/content-blocks.html?highlight=substitutions#substitutions-and-variables-in-markdown\n",
    "\n",
    "For global subs define in `_config.yml`. Uses Jinja on backend.\n",
    "\n",
    "Basic: {{ test_sub }}\n",
    "\n",
    "Sub test with URL: {{ PEMtk_repo }}"
   ]
  },
  {
   "cell_type": "markdown",
   "id": "55fc97d6-0144-47d7-8434-5e22f552e69d",
   "metadata": {
    "tags": []
   },
   "source": [
    "## Maths\n",
    "\n",
    "See https://jupyterbook.org/en/stable/content/math.html and https://myst-parser.readthedocs.io/en/latest/syntax/optional.html#syntax-math\n",
    "\n",
    "Direct case should also work with `amsmath` option on, see https://myst-parser.readthedocs.io/en/latest/syntax/optional.html#syntax-amsmath\n",
    "\n",
    "`$$` style seems best? Otherwise doesn't render in notebook and/or labels not working (for direct latex case).\n",
    "\n",
    "E.g.\n",
    "\n",
    "$$\n",
    "\\begin{align}\n",
    "  w_{t+1} = (1 + r_{t+1}) s(w_t) + y_{t+1}\n",
    "\\end{align}\n",
    "$$ (my_other_label)\n",
    "\n",
    "Latex labels NOT used in this case however it seems (see MyST-Parser issue https://github.com/executablebooks/MyST-Parser/issues/202)"
   ]
  },
  {
   "cell_type": "markdown",
   "id": "d9ee113a-8c52-48f0-beb5-9e8c2d505cd0",
   "metadata": {},
   "source": [
    "\"Directive\" form doesn't render in JupyterLab\n",
    "\n",
    "```{math}\n",
    ":label: my_label\n",
    "w_{t+1} = (1 + r_{t+1}) s(w_t) + y_{t+1}\n",
    "```"
   ]
  },
  {
   "cell_type": "markdown",
   "id": "ea1a1dd8-2d8a-4ef2-a27c-e6eba05ae5ae",
   "metadata": {},
   "source": [
    "Test blocks - here all render OK in HTML output, but link defined in latex only fails (but OK in PDF?).\n",
    "\n",
    "NOTE: **defining both latex and md label seems OK in HTML output, but fails in PDF builds - JUST USE MD STYLE**\n",
    "\n",
    "\\begin{align}\n",
    "\\bar{I}(\\epsilon,t,\\theta,\\phi)=\\sum_{L=0}^{2n}\\sum_{M=-L}^{L}\\bar{\\beta}_{L,M}(\\epsilon,t)Y_{L,M}(\\theta,\\phi)\n",
    "\\label{eq:AF-PAD-general}\n",
    "\\end{align}\n",
    "\n",
    "```{math}\n",
    ":label: eq:AF-PAD-general2\n",
    "\\begin{align}\n",
    "\\bar{I}(\\epsilon,t,\\theta,\\phi)=\\sum_{L=0}^{2n}\\sum_{M=-L}^{L}\\bar{\\beta}_{L,M}(\\epsilon,t)Y_{L,M}(\\theta,\\phi)\n",
    "\\label{eq:AF-PAD-general2}\n",
    "\\end{align}\n",
    "```\n",
    "\n",
    "$$\n",
    "\\begin{align}\n",
    "\\bar{I}(\\epsilon,t,\\theta,\\phi)=\\sum_{L=0}^{2n}\\sum_{M=-L}^{L}\\bar{\\beta}_{L,M}(\\epsilon,t)Y_{L,M}(\\theta,\\phi)\n",
    "\\label{eq:AF-PAD-general3}\n",
    "\\end{align}\n",
    "$$ (eq:AF-PAD-general3)\n",
    "\n",
    "\n",
    "A link to no 1: {eq}`eq:AF-PAD-general`\n",
    "\n",
    "A link to no 2: {eq}`eq:AF-PAD-general2`\n",
    "\n",
    "A link to no 3: {eq}`eq:AF-PAD-general3`"
   ]
  },
  {
   "cell_type": "markdown",
   "id": "cd635401-96f9-430a-905d-62ec187f3458",
   "metadata": {},
   "source": [
    "**Testing \\boldsymbol** and similar\n",
    "\n",
    "Seem to be getting inconsistent behaviour in HTML outputs, see https://github.com/phockett/Quantum-Metrology-with-Photoelectrons-Vol3/issues/4 for ongoing debugging.\n",
    "\n",
    "- `\\boldsymbol` generally not working in HTML (but OK in JupyterLab).\n",
    "- `\\bm` generally not working anywhere.\n",
    "- Both seem OK in PDF outputs.\n",
    "\n",
    "With single `$`\n",
    "\n",
    "$\\boldsymbol{\\mathbf{E}}$\n",
    "\n",
    "$\\mathbf{E}$\n",
    "\n",
    "$\\boldsymbol{E}$ or $\\mathbf{E}$ or $\\bm{E}$ should be equivalent."
   ]
  },
  {
   "cell_type": "markdown",
   "id": "2bdc60a0-6b71-4018-aa35-efd5ea91d757",
   "metadata": {},
   "source": [
    "With `$$`\n",
    "\n",
    "$$\\hat{\\Gamma}(\\boldsymbol{\\mathbf{E}}) = \\hat{\\mathbf{\\mu}}.\\boldsymbol{\\mathbf{E}}$$"
   ]
  },
  {
   "cell_type": "markdown",
   "id": "20cb09f3-87bd-4e73-9f3e-2a67595568fd",
   "metadata": {},
   "source": [
    "$$\\Psi_\\mathbf{k}(\\bm{r})\\equiv\\left<\\bm{r}|\\mathbf{k}\\right> = \\sum_{lm}Y_{lm}(\\mathbf{\\hat{k}})\\psi_{lm}(\\bm{r},k)\n",
    "\\label{eq:elwf}$$"
   ]
  },
  {
   "cell_type": "markdown",
   "id": "fa21f187-7201-43ae-8074-e4b76502102a",
   "metadata": {},
   "source": [
    "## Figs"
   ]
  },
  {
   "cell_type": "markdown",
   "id": "1e0d26cb",
   "metadata": {},
   "source": [
    "### Fig testing (from code output)\n",
    "\n",
    "See https://jupyterbook.org/en/stable/content/code-outputs.html#images and  https://myst-nb.readthedocs.io/en/latest/render/format_code_cells.html#images-and-figures\n",
    "\n",
    "Easiest to add to cell metadata (?), or via in-line style in MD version.\n",
    "\n",
    "UPDATE: for Plotly use wrapper with glue, see https://github.com/phockett/Quantum-Metrology-with-Photoelectrons-Vol3/issues/2. In `setup_notebook.py`, then use `gluePlotly(name,figObj)` in code to set.\n",
    "\n",
    "E.g. in MD version"
   ]
  },
  {
   "cell_type": "code",
   "execution_count": null,
   "id": "e711f470",
   "metadata": {
    "render": {
     "figure": {
      "align": "center",
      "caption": "This is a figure caption from metadata.",
      "name": "pads-demo-test"
     }
    },
    "tags": []
   },
   "outputs": [],
   "source": [
    "# import epsproc as ep\n",
    "\n",
    "# Set specific LM coeffs by list with setBLMs, items are [l,m,value]\n",
    "from epsproc.sphCalc import setBLMs\n",
    "\n",
    "BLM = setBLMs([[0,0,1],[1,1,1],[2,2,1]])   # Note different index\n",
    "# BLM\n",
    "\n",
    "# Set the backend to 'pl' for an interactive surface plot with Plotly\n",
    "ep.sphFromBLMPlot(BLM, facetDim='t', plotFlag = True, backend = 'pl');"
   ]
  },
  {
   "cell_type": "markdown",
   "id": "34caf09e-4a3b-4dfb-a83c-db6639a40ef6",
   "metadata": {},
   "source": [
    "In notebook this appears as cell metadata (NOTE, use \"render\", not \"mystnb\" as base tag!):\n",
    "\n",
    "```\n",
    "{\n",
    "    \"render\": {\n",
    "        \"figure\": {\n",
    "            \"name\": \"pads-demo-test\",\n",
    "            \"align\": \"center\",\n",
    "            \"caption\": \"This is a figure caption from metadata.\"\n",
    "        }\n",
    "    }\n",
    "}\n",
    "\n",
    "```\n",
    "\n",
    "**NOTE this only seems to work for caption and named refs, and missed Fig. XX. (As per https://jupyterbook.org/en/stable/content/figures.html#figures)**\n",
    "\n",
    "- Testing various options for metadata settings didn't help, although seemed easy to break parsing?\n",
    "- Only seems to work for simple cases, e.g. cell outputting single Matplotlib figure?\n",
    "\n",
    "MAY NEED TO USE glue for this, see https://jupyterbook.org/en/stable/content/executable/output-insert.html#gluing-numbers-plots-and-tables\n",
    "\n",
    "Glue working OK for more complicated case, e.g. below with pads figure (similar method with metadata only didn't work for this case)."
   ]
  },
  {
   "cell_type": "code",
   "execution_count": null,
   "id": "d6dfd7f1-d985-4604-b5f7-c6fbfbabf1a2",
   "metadata": {},
   "outputs": [],
   "source": [
    "# Generate figure & glue\n",
    "import epsproc as ep\n",
    "\n",
    "# Set specific LM coeffs by list with setBLMs, items are [l,m,value]\n",
    "from epsproc.sphCalc import setBLMs\n",
    "\n",
    "BLM = setBLMs([[0,0,1],[1,1,1],[2,2,1]])\n",
    "# BLM = setBLMs([[0,0,1,1,1],[1,1,1,0.5,0.2],[2,2,1,1,0.2]])   # Note different index\n",
    "# BLM\n",
    "\n",
    "# Set the backend to 'pl' for an interactive surface plot with Plotly\n",
    "# This shows output, but fig caption not working?\n",
    "# ep.sphFromBLMPlot(BLM, facetDim='t', plotFlag = True, backend = 'pl');\n",
    "\n",
    "# Try glue...\n",
    "from myst_nb import glue\n",
    "\n",
    "# Set the backend to 'pl' for an interactive surface plot with Plotly\n",
    "# NOTE PL FIG RETURN BROKEN FOR THIS CASE\n",
    "dataPlot, figObj = ep.sphFromBLMPlot(BLM, facetDim='t', plotFlag = False, backend = 'pl');\n",
    "# >>> NEED to use this too\n",
    "figObj = ep.sphSumPlotX(dataPlot,facetDim='t', plotFlag = False, backend = 'pl')\n",
    "\n",
    "glue(\"testPlot\", figObj[0], display=False)"
   ]
  },
  {
   "cell_type": "markdown",
   "id": "e7b9fd36-b9a2-462b-b516-2aedd4f88edc",
   "metadata": {},
   "source": [
    "Glue figure with markdown:\n",
    "\n",
    "```{glue:figure} testPlot\n",
    ":figwidth: 300px\n",
    ":name: \"fig-boot\"\n",
    "\n",
    "This is a **caption**.\n",
    "```\n",
    "\n",
    "NOTES:\n",
    "\n",
    "- In testing in notebook with Plotly PADs outputs this renders output directly at glue() command (although shouldn't), although OK in HTML output. (Exception was a single plot case, which did work OK.)\n",
    "- Plotly outputs currently not working in PDF for Theory chpt. (15/11/22)? Although may be due to other build-chain errors in current case, TBC, since they were previously OK in test notebook output."
   ]
  },
  {
   "cell_type": "markdown",
   "id": "02fb20d4-db15-48bf-8b32-7a87f881fe55",
   "metadata": {},
   "source": [
    "### Fig testing (from file)"
   ]
  },
  {
   "cell_type": "markdown",
   "id": "a2c2f92e-e5d0-4458-9fb3-933b641afbf3",
   "metadata": {},
   "source": [
    "As a figure, see https://jupyterbook.org/en/stable/content/figures.html\n",
    "\n",
    "\n",
    "```{figure} ../images/QM_unified_schema_wrapped_280820_gv.png\n",
    "---\n",
    "name: qm-platform-diag-test\n",
    "---\n",
    "Here is my figure caption!\n",
    "\n",
    "```\n",
    "\n",
    "\n",
    "\n",
    "\n",
    "This seems to work"
   ]
  },
  {
   "cell_type": "markdown",
   "id": "540ebeb3-3dba-475d-96e2-8f1b0b6fcadc",
   "metadata": {
    "tags": []
   },
   "source": [
    "### Fig testing (from URL)\n",
    "\n",
    "Seemed to work OK for both HTML and PDF output, although did get some build errors in latter case. For PDF, image copied locally to hashed-named file, so probably not ideal (and seems to break build...?).\n",
    "\n",
    "Markdown image link\n",
    "\n",
    "![Photoelectron metrology platform diagram](https://raw.githubusercontent.com/phockett/PEMtk/4eec9217203bfd1aee13bd8b64952dc1ac5fef89/docs/doc-source/figs/QM_unified_schema_wrapped_280820.gv.png)"
   ]
  },
  {
   "cell_type": "markdown",
   "id": "e5180273-c3c5-4f7f-87f2-50fca2ed4f2f",
   "metadata": {},
   "source": [
    "As a figure, see https://jupyterbook.org/en/stable/content/figures.html\n",
    "\n",
    "```{figure} https://raw.githubusercontent.com/phockett/PEMtk/4eec9217203bfd1aee13bd8b64952dc1ac5fef89/docs/doc-source/figs/QM_unified_schema_wrapped_280820.gv.png\n",
    "---\n",
    "height: 300px\n",
    "name: directive-fig\n",
    "---\n",
    "Here is my figure caption!\n",
    "```"
   ]
  },
  {
   "cell_type": "markdown",
   "id": "39d6cf6d-11c3-4636-a342-e047991db1d2",
   "metadata": {},
   "source": [
    "## Testing raw latex...\n",
    "\n",
    "Both options fail in PDF and HTML export tests.\n",
    "\n",
    "BETTER: JUST USE PANDOC FOR EXTENDED LATEX SECTIONS > Markdown. Will generally only need to fix minor issues (formatting and citations) in most cases anyway, if maths works.\n",
    "\n",
    "For MyST markdown...?\n",
    "\n",
    "- RST to MySt with Pandoc: https://github.com/executablebooks/rst2myst/issues/2 and https://github.com/executablebooks/rst-to-myst"
   ]
  },
  {
   "cell_type": "markdown",
   "id": "a1fce734-0397-46a0-bb45-f0af2194f479",
   "metadata": {},
   "source": [
    "Code cell with `%%latex`"
   ]
  },
  {
   "cell_type": "code",
   "execution_count": 1,
   "id": "d1e87b4d-f10c-49bd-961a-609b651db959",
   "metadata": {},
   "outputs": [
    {
     "data": {
      "text/latex": [
       "\n",
       "\\bf{This is a test} \\\\\n",
       "It allows latex $\\alpha=\\beta$ and test:\n",
       "\n",
       "\\begin{equation}\n",
       "\\alpha = \\beta\n",
       "\\end{equation}\n",
       "% this is a latex comment\n"
      ],
      "text/plain": [
       "<IPython.core.display.Latex object>"
      ]
     },
     "metadata": {},
     "output_type": "display_data"
    }
   ],
   "source": [
    "%%latex\n",
    "\n",
    "\\bf{This is a test} \\\\\n",
    "It allows latex $\\alpha=\\beta$ and test:\n",
    "\n",
    "\\begin{equation}\n",
    "\\alpha = \\beta\n",
    "\\end{equation}\n",
    "% this is a latex comment"
   ]
  },
  {
   "cell_type": "markdown",
   "id": "182ac334-d2e6-467a-bc45-10eb0e1fc9a5",
   "metadata": {},
   "source": [
    "Cell below marked as raw > latex in metadata."
   ]
  },
  {
   "cell_type": "raw",
   "id": "b55e1054-4a7d-4c2d-a850-1ff85df0c5b4",
   "metadata": {
    "raw_mimetype": "text/latex",
    "tags": []
   },
   "source": [
    "\\bf{This is a test} \\\\\n",
    "It allows latex $\\alpha=\\beta$ and test:\n",
    "\n",
    "\\begin{equation}\n",
    "\\alpha = \\beta\n",
    "\\end{equation}\n",
    "% this is a latex comment"
   ]
  },
  {
   "cell_type": "markdown",
   "id": "284885ce-1a74-45b0-9458-09bc84d00beb",
   "metadata": {},
   "source": [
    "With `{latex}` directive\n",
    "\n",
    "```{latex} \n",
    "\\bf{This is a test}\n",
    "```"
   ]
  },
  {
   "cell_type": "markdown",
   "id": "f1ec8782-9d5d-4703-b7a2-2d6e38bbd286",
   "metadata": {},
   "source": [
    "With MyST-rst wrapper - this appears in PDF output, but not HTML. Also bold sticks for rest of output!\n",
    "\n",
    "```{eval-rst}\n",
    ".. raw:: latex\n",
    "\n",
    "    \\bf{This is a test} \\\\\n",
    "    It allows latex $\\alpha=\\beta$ and test:\n",
    "\n",
    "    \\begin{equation}\n",
    "    \\alpha = \\beta\n",
    "    \\end{equation}\n",
    "    % this is a latex comment\n",
    "\n",
    "```"
   ]
  },
  {
   "cell_type": "markdown",
   "id": "56bdb4fc-53fe-4c02-8e7a-d9b71a8ed937",
   "metadata": {},
   "source": [
    "Testing maths only - OK in notebook, and all output forms too.\n",
    "\n",
    "\\begin{equation}\n",
    "\\alpha = \\beta\n",
    "\\end{equation}"
   ]
  },
  {
   "cell_type": "markdown",
   "id": "73d344cd-6cb9-4a88-9fd7-a3b546f61897",
   "metadata": {},
   "source": [
    "## Include\n",
    "\n",
    "Working."
   ]
  },
  {
   "cell_type": "markdown",
   "id": "efddd1a6-4c82-4697-b27e-05041ef49c97",
   "metadata": {},
   "source": [
    "Include with `{include}` directive:\n",
    "\n",
    "```{include} testInclude.txt\n",
    "```"
   ]
  },
  {
   "cell_type": "code",
   "execution_count": null,
   "id": "605fddb2-b351-4089-a904-94c356370e4e",
   "metadata": {},
   "outputs": [],
   "source": []
  }
 ],
 "metadata": {
  "jupytext": {
   "formats": "ipynb,md:myst"
  },
  "kernelspec": {
   "display_name": "Python 3 (ipykernel)",
   "language": "python",
   "name": "python3"
  },
  "language_info": {
   "codemirror_mode": {
    "name": "ipython",
    "version": 3
   },
   "file_extension": ".py",
   "mimetype": "text/x-python",
   "name": "python",
   "nbconvert_exporter": "python",
   "pygments_lexer": "ipython3",
   "version": "3.9.7"
  }
 },
 "nbformat": 4,
 "nbformat_minor": 5
}
