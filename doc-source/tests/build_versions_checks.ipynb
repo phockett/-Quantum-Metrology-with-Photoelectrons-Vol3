{
 "cells": [
  {
   "cell_type": "markdown",
   "id": "830db42a-869f-4442-9982-ef99e86fb950",
   "metadata": {},
   "source": [
    "# Build versions and config tests\n",
    "\n",
    "<!-- Manually inject MathJax to ensure side-bar formatting OK. Code copied from working pages (which include maths) -->\n",
    "<script>window.MathJax = {\"tex\": {\"macros\": {\"bm\": [\"\\\\boldsymbol{#1}\", 1]}}, \"options\": {\"processHtmlClass\": \"tex2jax_process|mathjax_process|math|output_area\"}}</script>\n",
    "<script defer=\"defer\" src=\"https://cdn.jsdelivr.net/npm/mathjax@3/es5/tex-mml-chtml.js\"></script>"
   ]
  },
  {
   "cell_type": "markdown",
   "id": "d0af8d50-1d3f-453b-8c58-c9911289e9dc",
   "metadata": {},
   "source": [
    "## Versions"
   ]
  },
  {
   "cell_type": "code",
   "execution_count": null,
   "id": "eaf8e4b9-d24e-4756-a171-57656803f849",
   "metadata": {
    "tags": []
   },
   "outputs": [],
   "source": [
    "import scooby\n",
    "scooby.Report(additional=['pemtk','epsproc','xarray', 'pandas', 'scipy', 'matplotlib','jupyterlab','plotly','holoviews'])"
   ]
  },
  {
   "cell_type": "code",
   "execution_count": null,
   "id": "3007a8de-435c-438e-88ea-06b75d3357d7",
   "metadata": {},
   "outputs": [],
   "source": [
    "!jupyter-book --version"
   ]
  },
  {
   "cell_type": "code",
   "execution_count": null,
   "id": "b1ecf5ec-1ef1-443d-ada6-ee28a54291d8",
   "metadata": {},
   "outputs": [],
   "source": [
    "!jupyter --version"
   ]
  },
  {
   "cell_type": "markdown",
   "id": "973f0a3d-753a-47f4-a11c-7515cb652af1",
   "metadata": {},
   "source": [
    "## Docker build env\n",
    "\n",
    "% TODO: update with more info via API, e.g. https://www.baeldung.com/ops/docker-engine-api-container-info - needs some setup."
   ]
  },
  {
   "cell_type": "code",
   "execution_count": null,
   "id": "87735346-9961-43c3-9def-654c29a68626",
   "metadata": {},
   "outputs": [],
   "source": [
    "# Container name from within running container (from https://stackoverflow.com/a/64790547)\n",
    "!dig -x `ifconfig eth0 | grep 'inet' | awk '{print $2}'` +short | cut -d'.' -f1"
   ]
  },
  {
   "cell_type": "markdown",
   "id": "1fa75929-39b7-4063-9de4-405e1218f9ed",
   "metadata": {},
   "source": [
    "## Book versions"
   ]
  },
  {
   "cell_type": "code",
   "execution_count": null,
   "id": "a8666f63-5043-4a79-8cac-a14629267c4c",
   "metadata": {},
   "outputs": [],
   "source": [
    "QMpath = '/home/jovyan/QM3'\n",
    "!git -C {QMpath} branch\n",
    "!git -C {QMpath} log --format=\"%H\" -n 1"
   ]
  },
  {
   "cell_type": "code",
   "execution_count": null,
   "id": "019c6589-c524-4e07-9797-853b7795ef72",
   "metadata": {},
   "outputs": [],
   "source": [
    "# Check current remote commits\n",
    "!git ls-remote --heads https://github.com/phockett/Quantum-Metrology-with-Photoelectrons-Vol3"
   ]
  },
  {
   "cell_type": "markdown",
   "id": "95014177-eeb2-4872-8807-d39c95e04e39",
   "metadata": {
    "tags": []
   },
   "source": [
    "## Github pkg versions\n",
    "\n",
    "% Note - can't get versions for local pip installs from repo(?).\n",
    "% May need to run git config in container first, e.g. `git config --global --add safe.directory /home/jovyan/github/ePSproc` etc."
   ]
  },
  {
   "cell_type": "code",
   "execution_count": null,
   "id": "2b7ebfac-161f-4450-b93d-35a9a238cb0b",
   "metadata": {},
   "outputs": [],
   "source": [
    "from pathlib import Path\n",
    "import epsproc as ep\n",
    "ep.__file__"
   ]
  },
  {
   "cell_type": "code",
   "execution_count": null,
   "id": "b19d183a-2434-453b-922d-b9ee81d2a3de",
   "metadata": {},
   "outputs": [],
   "source": [
    "import pemtk as pm\n",
    "pm.__file__"
   ]
  },
  {
   "cell_type": "code",
   "execution_count": null,
   "id": "35093d0d-d199-49fd-b6e2-474d8aeec1a2",
   "metadata": {},
   "outputs": [],
   "source": [
    "# Check current Git commit for local ePSproc version - NOTE THIS ONLY WORKS FOR INSTALLED FROM GIT CLONES\n",
    "# from pathlib import Path\n",
    "# import epsproc as ep\n",
    "!git -C {Path(ep.__file__).parent} branch\n",
    "!git -C {Path(ep.__file__).parent} log --format=\"%H\" -n 1"
   ]
  },
  {
   "cell_type": "code",
   "execution_count": null,
   "id": "ca0c6762-76ca-49a5-9d99-3d8dab87ae92",
   "metadata": {},
   "outputs": [],
   "source": [
    "# Check current remote commits\n",
    "!git ls-remote --heads https://github.com/phockett/ePSproc"
   ]
  },
  {
   "cell_type": "code",
   "execution_count": null,
   "id": "d6703b21-7281-4f8b-b893-6fb355b2b980",
   "metadata": {},
   "outputs": [],
   "source": [
    "# Check current Git commit for local ePSproc version - NOTE THIS ONLY WORKS FOR INSTALLED FROM GIT CLONES\n",
    "# from pathlib import Path\n",
    "# import epsproc as ep\n",
    "!git -C {Path(pm.__file__).parent} branch\n",
    "!git -C {Path(pm.__file__).parent} log --format=\"%H\" -n 1"
   ]
  },
  {
   "cell_type": "code",
   "execution_count": null,
   "id": "c91dc1de-5261-4c10-a2dd-f0b9bccb2516",
   "metadata": {},
   "outputs": [],
   "source": [
    "# Check current remote commits\n",
    "!git ls-remote --heads https://github.com/phockett/PEMtk"
   ]
  },
  {
   "cell_type": "markdown",
   "id": "4048cef1-217a-454b-b0f3-4886df7a3121",
   "metadata": {},
   "source": [
    "## Full conda env"
   ]
  },
  {
   "cell_type": "code",
   "execution_count": null,
   "id": "3b0a9696-f1d2-4992-8e28-7f1f48470262",
   "metadata": {},
   "outputs": [],
   "source": [
    "!conda list"
   ]
  },
  {
   "cell_type": "code",
   "execution_count": null,
   "id": "cf9917e8-8b88-4365-98e2-7dcda2c69adc",
   "metadata": {},
   "outputs": [],
   "source": []
  }
 ],
 "metadata": {
  "jupytext": {
   "formats": "ipynb,md:myst"
  },
  "kernelspec": {
   "display_name": "Python 3 (ipykernel)",
   "language": "python",
   "name": "python3"
  },
  "language_info": {
   "codemirror_mode": {
    "name": "ipython",
    "version": 3
   },
   "file_extension": ".py",
   "mimetype": "text/x-python",
   "name": "python",
   "nbconvert_exporter": "python",
   "pygments_lexer": "ipython3",
   "version": "3.9.7"
  }
 },
 "nbformat": 4,
 "nbformat_minor": 5
}
