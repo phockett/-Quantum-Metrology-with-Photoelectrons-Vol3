{
 "cells": [
  {
   "cell_type": "markdown",
   "id": "0d66f2e5",
   "metadata": {},
   "source": [
    "# Plotly surface render test\n",
    "\n",
    "Quick tests for plotly compatibility.\n",
    "\n",
    "For JupyterLab, need additional extensions - see https://plotly.com/python/getting-started/#jupyterlab-support:\n",
    "- `conda install -c conda-forge -c plotly jupyter-dash`\n",
    "- `jupyter labextension install jupyterlab-plotly`\n",
    "\n",
    "In some cases may get partially working installation with, e.g., blank surface plots, or plots via HV only. This usually means JupyterLab needs a restart (and maybe a rebuild).\n",
    "For more see https://plotly.com/python/troubleshooting/\n",
    "\n",
    "Exports to HTML:\n",
    "\n",
    "- Manual from JupyterLab OK."
   ]
  },
  {
   "cell_type": "markdown",
   "id": "436e9746",
   "metadata": {},
   "source": [
    "## Plotly example\n",
    "\n",
    "From https://plotly.com/python/3d-surface-plots/#passing-x-and-y-data-to-3d-surface-plot\n",
    "\n",
    "On blank plots or `Javascript error \"t is null\".` try a browser refresh and/or Jupyterlab restart. Seeing this frequently in testing March 2022, Firefox 98.0.2, JupyterLab 3.3.2, see end of page for other versions - running via Holoviews wrapper seems to be more robust here?"
   ]
  },
  {
   "cell_type": "code",
   "execution_count": null,
   "id": "584a07c4",
   "metadata": {},
   "outputs": [],
   "source": [
    "import plotly.graph_objects as go\n",
    "import pandas as pd\n",
    "import numpy as np\n",
    "# Read data from a csv\n",
    "z_data = pd.read_csv('https://raw.githubusercontent.com/plotly/datasets/master/api_docs/mt_bruno_elevation.csv')\n",
    "z = z_data.values\n",
    "sh_0, sh_1 = z.shape\n",
    "x, y = np.linspace(0, 1, sh_0), np.linspace(0, 1, sh_1)\n",
    "fig = go.Figure(data=[go.Surface(z=z, x=x, y=y)])\n",
    "fig.update_layout(title='Mt Bruno Elevation', autosize=False,\n",
    "                  width=500, height=500,\n",
    "                  margin=dict(l=65, r=50, b=65, t=90))\n",
    "fig.show()"
   ]
  },
  {
   "cell_type": "code",
   "execution_count": null,
   "id": "e001302d",
   "metadata": {},
   "outputs": [],
   "source": [
    "# From https://www.tutorialspoint.com/plotly/plotly_3d_scatter_and_surface_plot.htm\n",
    "# Also empty\n",
    "import numpy as np\n",
    "x = np.outer(np.linspace(-2, 2, 30), np.ones(30))\n",
    "y = x.copy().T # transpose\n",
    "z = np.cos(x ** 2 + y ** 2)\n",
    "trace = go.Surface(x = x, y = y, z =z )\n",
    "data = [trace]\n",
    "layout = go.Layout(title = '3D Surface plot')\n",
    "fig = go.Figure(data = data)\n",
    "# iplot(fig)\n",
    "fig.show()"
   ]
  },
  {
   "cell_type": "markdown",
   "id": "25bdfb12",
   "metadata": {},
   "source": [
    "## Holoviews 3D surface test\n",
    "\n",
    "From: https://holoviews.org/gallery/demos/plotly/surface_3d.html\n",
    "\n",
    "See also \n",
    "\n",
    "- http://holoviews.org/reference/elements/matplotlib/Surface.html\n",
    "- http://holoviews.org/reference/elements/plotly/Surface.html\n",
    "\n",
    "This wrapper seems robust, and works even when Plotly native rendering is giving issues?"
   ]
  },
  {
   "cell_type": "code",
   "execution_count": null,
   "id": "94c4c782",
   "metadata": {},
   "outputs": [],
   "source": [
    "import numpy as np\n",
    "import holoviews as hv\n",
    "hv.extension('plotly')"
   ]
  },
  {
   "cell_type": "markdown",
   "id": "40afd073",
   "metadata": {},
   "source": [
    "### Define data"
   ]
  },
  {
   "cell_type": "code",
   "execution_count": null,
   "id": "c0aef467",
   "metadata": {},
   "outputs": [],
   "source": [
    "# Make data.\n",
    "X = np.arange(-5, 5, 0.25)\n",
    "Y = np.arange(-5, 5, 0.25)\n",
    "X, Y = np.meshgrid(X, Y)\n",
    "R = np.sqrt(X**2 + Y**2)\n",
    "Z = np.sin(R)\n",
    "\n",
    "surface = hv.Surface(Z, bounds=(-5, -5, 5, 5))"
   ]
  },
  {
   "cell_type": "markdown",
   "id": "92f30fe9",
   "metadata": {},
   "source": [
    "### Plot"
   ]
  },
  {
   "cell_type": "code",
   "execution_count": null,
   "id": "8bb67b5a",
   "metadata": {},
   "outputs": [],
   "source": [
    "surface.opts(colorbar=True, width=500, height=500)"
   ]
  },
  {
   "cell_type": "markdown",
   "id": "b849d548",
   "metadata": {},
   "source": [
    "### Plotting with coords\n",
    "\n",
    "BUT only supports regularly gridded coord systems (not x,y as grids). Trying to pass `(X,Y,Z)` in latter case gives `ValueError: Surface coordinates must be 1D arrays, x and y dimension(s) were found to have multiple dimensions. Either supply 1D arrays or use the QuadMesh element for curvilinear coordinates.`."
   ]
  },
  {
   "cell_type": "code",
   "execution_count": null,
   "id": "89657f9d",
   "metadata": {},
   "outputs": [],
   "source": [
    "xs = np.arange(-4, 4, 0.25)\n",
    "ys = np.arange(-4, 4, 0.25)\n",
    "X, Y = np.meshgrid(xs, ys)\n",
    "R = np.sqrt(X**2 + Y**2)\n",
    "Z = np.sin(R)\n",
    "\n",
    "surface = hv.Surface((xs, ys, Z))\n",
    "\n",
    "surface.opts(cmap='fire', height=500, width=500)"
   ]
  },
  {
   "cell_type": "markdown",
   "id": "f2f21211",
   "metadata": {},
   "source": [
    "## Versions"
   ]
  },
  {
   "cell_type": "code",
   "execution_count": null,
   "id": "12cba032",
   "metadata": {},
   "outputs": [],
   "source": [
    "import scooby\n",
    "scooby.Report(additional=['xarray', 'jupyterlab','plotly','holoviews'])"
   ]
  },
  {
   "cell_type": "markdown",
   "id": "97051f6b",
   "metadata": {},
   "source": [
    "March 2022 testing: Docker with jupyter/scipy-notebook base + Firefox 98.0.2."
   ]
  },
  {
   "cell_type": "code",
   "execution_count": null,
   "id": "f5716e9e",
   "metadata": {},
   "outputs": [],
   "source": []
  }
 ],
 "metadata": {
  "kernelspec": {
   "display_name": "Python 3 (ipykernel)",
   "language": "python",
   "name": "python3"
  },
  "language_info": {
   "codemirror_mode": {
    "name": "ipython",
    "version": 3
   },
   "file_extension": ".py",
   "mimetype": "text/x-python",
   "name": "python",
   "nbconvert_exporter": "python",
   "pygments_lexer": "ipython3",
   "version": "3.9.7"
  }
 },
 "nbformat": 4,
 "nbformat_minor": 5
}
