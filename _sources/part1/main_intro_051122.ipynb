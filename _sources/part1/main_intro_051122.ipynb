{
 "cells": [
  {
   "cell_type": "markdown",
   "id": "62437426",
   "metadata": {},
   "source": [
    "# Introduction\n",
    "\n",
    "The overall aim of Vol. 3 is to expand, explore, and illustrate, quantum metrology with photoelectrons: specifically, the application of new python-based tools to tackle problems in matrix element retrieval. The book itself is written as a set of Jupyter Notebooks, hence all the material herein is available directly to readers, and can be run locally to further explore the topic, or adapt the methodology to new problems\n",
    "\n",
    "Whilst this volume aims to provide a self-contained text, and computational examples which may be used without extensive background knowledge, a brief introduction to the core physics and some recent extensions is presented herein. The unfamiliar reader is referred to Volume 1 of the series for a more detailed presentation, and gateway to the literature {cite}`hockett2018QMP1`. Following the topical introduction, the remainder of Part I introduces the main computational and software tools, recent theory developments, and concludes with a general overview for approaching matrix element retrieval numerically.\n",
    "\n",
    "Part II details the application of these tools to a few specific cases, starting with a (relatively) simple homonuclear diatomic example, then escalating to a polyatomic asymetric top case."
   ]
  },
  {
   "cell_type": "markdown",
   "id": "3cd7c965",
   "metadata": {},
   "source": [
    "## Topical introduction"
   ]
  },
  {
   "cell_type": "markdown",
   "id": "5a8f6bef",
   "metadata": {},
   "source": [
    "## Context & aims for Vol. 3\n",
    "\n",
    "As noted previously, Vol. 3 is somewhat distinct from the previous volumes in the series; although involving computational elements, Vols. 1 & 2 {cite}`hockett2018QMP1,hockett2018QMP2` are more traditional publications. The material presented in this volume aims to continue the exploration of quantum metrology with photoelectrons, with a focus on numerical analysis techniques, forging a closer link between experimental and theoretical results, and making the methodologies discussed directly accessible via a new software platform/ecosystem. In order to fulfil this aim, Vol. 3 is a computational/computable document, with code directly available to readers. Each chapter or section is composed of a Jupyter Notebook (`.ipynb`), each of which can be modified and used independently.\n",
    "\n",
    "To facilitate code transparency and reuse, the book is available via a Github repository, {{ book_repo }}. An HTML version is also available, which includes interactive figures. A full introduction to the relevant tool-chain, including installation instructions, can be found in {numref}`Chapter %s: <chpt:platformIntro>` {ref}`chpt:platformIntro`."
   ]
  },
  {
   "cell_type": "code",
   "execution_count": null,
   "id": "c27490de",
   "metadata": {},
   "outputs": [],
   "source": []
  },
  {
   "cell_type": "code",
   "execution_count": null,
   "id": "b7cf7396",
   "metadata": {},
   "outputs": [],
   "source": []
  }
 ],
 "metadata": {
  "jupytext": {
   "formats": "ipynb,md:myst",
   "text_representation": {
    "extension": ".md",
    "format_name": "myst",
    "format_version": 0.13,
    "jupytext_version": "1.14.0"
   }
  },
  "kernelspec": {
   "display_name": "Python 3 (ipykernel)",
   "language": "python",
   "name": "python3"
  },
  "language_info": {
   "codemirror_mode": {
    "name": "ipython",
    "version": 3
   },
   "file_extension": ".py",
   "mimetype": "text/x-python",
   "name": "python",
   "nbconvert_exporter": "python",
   "pygments_lexer": "ipython3",
   "version": "3.8.14"
  },
  "source_map": [
   13,
   23,
   27,
   37,
   41
  ]
 },
 "nbformat": 4,
 "nbformat_minor": 5
}