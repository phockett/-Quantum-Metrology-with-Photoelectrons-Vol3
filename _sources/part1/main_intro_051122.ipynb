{
 "cells": [
  {
   "cell_type": "markdown",
   "id": "bd40854d",
   "metadata": {},
   "source": [
    "(chpt:intro)= \n",
    "# Introduction\n",
    "\n",
    "% See also https://phockett.github.io/Quantum-Metrology-with-Photoelectrons-Vol3/intro.html - may want to use more of this and/or streamline this intro with the TLDR version? Not sure on best balance of in-book vs. in-repo/online only.\n",
    "\n",
    "The overall aim of _Quantum Metrology with Photoelectrons Vol. 3_ is to expand, explore, and illustrate, new computational developments in quantum metrology with photoelectrons: specifically, the application of new python-based tools to tackle problems in matrix element retrieval. The book itself is written as a set of Jupyter Notebooks, hence all the material herein is available directly to readers, and can be run locally to further explore the topic interactively, and provide a foundation which can be adapted to apply the methodology to new problems.\n",
    "\n",
    "Whilst this volume aims to provide a self-contained text, and computational examples which may be used without extensive background knowledge, a brief introduction to the core physics and some recent extensions is also presented herein (Sect. XX BELOW). The unfamiliar reader is referred to {{ QM1 }} for a more detailed introduction to the physics, and as a more general gateway to the literature. Following the topical introduction, the remainder of Part I introduces the main computational and software tools ({numref}`Chapter %s <chpt:platformIntro>`), recent theory developments ({numref}`Chapter %s <chpt:theory>`), and concludes with a general overview for approaching matrix element retrieval numerically.\n",
    "\n",
    "Part II details the application of these tools to a few specific cases, starting with a (relatively) simple homonuclear diatomic example, then escalating in complexity to a the most general polyatomic asymmetric top case."
   ]
  },
  {
   "cell_type": "markdown",
   "id": "92cc16e1",
   "metadata": {},
   "source": [
    "(sec:topical-intro)= \n",
    "## Topical introduction: from quantum metrology to a generalised bootstrapping protocol\n",
    "\n",
    "% General intro notes.\n",
    "% 13/01/23: mostly complete via quotes. May want to trim and/or expand a bit depending on scope. Probably needs a general tidy too, and possibly refs and figs.\n",
    "% TODO: proper reference for video?\n",
    "\n",
    "There are two core topics at the heart of this work, specifically photoelectron spectroscopy (and associated experimental, theoretical and analysis methodologies) and quantum metrology in general. To briefly (re)introduce these topics, and contextually frame the work discussed herein, some brief comments from {{ QM1 }} are reproduced below; the reader is referred to the introductory chapters of {{ QM1 }} for a lengthier treatment, and [an introductory video to *Phase-sensitive Photoelectron Metrology* can be found online](https://vimeo.com/223603377).\n",
    "\n",
    "To set the general context, consider quantum metrology in general...\n",
    "\n",
    "```{epigraph}\n",
    "Quantum metrology can be loosely defined as any class of experiment which provides detailed information on quantum mechanical properties (phases, coherences, entanglement etc) of a system. To stay with the spirit of modern metrology, this definition can further be refined to measurements which provide high-resolution quantum information; a clear contemporary example is therefore experimental methodologies which provide full quantum state reconstruction (e.g. quantum tomography), and/or make use of quantum mechanical properties as a tool for measurement (e.g. atom interferometry). Traditional high-resolution spectroscopies may also fit within this definition in some cases, although in the majority of cases high-resolution spectroscopic measurements provide transition line-strengths and energies, but lack sufficient information for a full determination or reconstruction of the underlying quantum state.\n",
    "\n",
    "-- {{ QM1 }}, Chpt. 1\n",
    "```\n",
    "\n",
    "```{epigraph}\n",
    "...at what point does a measurement of a quantum mechanical system become quantum metrology? A pragmatic view on this is that the complete quantum state of the system must be capable of *unique definition from the experimental measurement(s)*. This is pragmatic in the sense that it leaves the door open for both *inferred* and *direct* reconstruction techniques. In the former case, the experimental data informs the theory and analysis, but is not directly ‘analysed’ or ‘inverted’ to provide or reconstruct the full quantum information; in the latter case one obtains the desired quantum mechanical information from the measurement in a more ‘direct’ fashion (which may, admittedly, still remain as a rather convoluted process, depending on the level of theoretical input required). Traditional spectroscopies again provide a touchstone here - high-resolution spectroscopy measurements can be compared with models or ab initio computations to provide quantum mechanical details of a system, but typically do not directly provide this information from a set of measurements alone. In this sense they fit a pragmatic definition of quantum metrology, but not a more specific definition of quantum metrology as a (somewhat) direct empirical technique.\n",
    "\n",
    "-- {{ QM1 }}, Chpt. 1\n",
    "```\n",
    "\n",
    "```{epigraph}\n",
    "In summary, while quantum metrology can come in many flavours, at heart it might be considered as any set of measurements (and associated analysis methodologies) which provide detailed (quantitative) quantum mechanical information on a given system of interest - ideally with little or no restriction on the complexity of the system - and it is discussed in this spirit herein.\n",
    "\n",
    "-- {{ QM1 }}, Chpt. 1\n",
    "```\n",
    "\n",
    "And, for the specific case of photoionization...\n",
    "\n",
    "```{epigraph}\n",
    "... both *ab initio* methods and *high-dimensionality measurements* (combined with detailed *analysis methodologies*) can nonetheless provide detailed information on the photoionization dynamics. Although the simple analogy with Young’s double-slit [i.e. basic two-path interferometry] fails, the resulting photoelectron flux, measured spatially, remains, in essence, a self-referencing angular interferogram of the continuum wavefunction. In a more abstract sense, the basic interferometer paradigm can be extended to the general ‘photoionization interferometer’, one just has to keep in mind that there are now potentially many, many channels. In the most basic sense, the energy and angle resolved interferograms - the photoelectron flux as a function of energy and angle $I(E,\\theta,\\phi)$ - which may be measured, are nothing more than an interferometric measurement sensitive to the relative phases of the different angular momentum components.\n",
    "\n",
    "[...]\n",
    "\n",
    "In the photoionization community, the angular interferograms (which will usually be considered at a single energy $E$) are photoelectron angular distributions ({term}`PADs`), and have long been used as a means to learn about the process of photoionization. In this context, {term}`PADs` measured for a range of experimental parameters can provide a dataset with sufficient information content to determine the magnitudes and phases of the photoelectron wavefunction, hence the photoionization dynamics may be reconstructed from the measurements in favourable cases. This class of measurement is traditionally termed a *complete photoionization experiment*, although the exact nature of the completeness may vary. The phase-sensitivity of photoelectron interferograms have also been used in complementary fashions in other contexts, including as a means to probe the phase-shift induced by a specific prepared pathway, and control in multipath schemes, and in many other regimes.\n",
    "\n",
    "-- {{ QM1 }}, Chpt. 1\n",
    "```\n",
    "\n",
    "```{epigraph}\n",
    "... the combination of a phase-sensitive quantum mechanical observable - photoelectron interferograms - with modern experimental and computational techniques provides the tools required for a full quantum metrology based on this class of measurement. Following the above discussion and definitions, a full metrology technique is one which allows both the *intrinsic* and *extrinsic/dynamic* quantum mechanical properties of the system under study to be obtained/reconstructed from a measurement, or set of measurements. In the simplest case, one might seek to understand just the intrinsic photoionization dynamics of a scattering system (e.g. the magnitudes and phases of the various pathways [...]), while in more complex cases the intrinsic properties are part of a probe process for additional properties or dynamics of the system [...]. In all cases, the key is measurement (and possibly control) with a high information-content technique, and a detailed understanding of the processes involved.\n",
    "\n",
    "-- {{ QM1 }}, Chpt. 1\n",
    "```\n",
    "\n",
    "In the current volume, the focus is on one specific *high information-content* technique: the *generalised bootstrapping* protocol, which makes use of experiments using rotational wavepackets as a (geometric) control dimension, and time-resolved photoelectron measurements as a high-dimensionality, phase-sensitive observable; the combination of these measurements with a quantitative analysis methodology provides a (relatively) general route to a full quantum metrology with photoelectrons (a.k.a. complete photoionization experiments). A general introduction to the technique can be found in {{ QM2 }} (specifically Chpt. 11, also Sects. 8.2.2, 12.3 & 13.1 for further background discussion and extensions), see also Ref. {cite}`marceau2017MolecularFrameReconstruction` for an experimental demonstration, and Ref. {cite}`hockett2022TopicalReviewExtracting` for a recent review in the context of molecular frame reconstruction.\n",
    "\n",
    "% Notes from Vol 1/2, or MF recon manuscript go here... or just mention them as refs for more info.\n",
    "% QM1 S3.1.2 for rot wavepacket theory, S6.1 for an example (butadiene)\n",
    "% QM2 Sects. as listed above - may want to reproduce fig 8.2 too? Or similar from MF recon manuscript? Or just refer to Numerical implementation chpt?\n",
    "% Ref some rotational wavepacket papers here? E.g. mine, Tamar's stuff etc.?\n",
    "\n",
    "As defined in {{ QM2 }}:\n",
    "\n",
    "```{epigraph}\n",
    "For the analysis of the data [time-resolved photoelectron images from a rotationally-excited system], a ‘bootstrapping’ fitting approach was developed. This methodology [...is illustrated in figure 8.3, and...] is comprised of two stages (potentially split into multiple steps) which allow for the separation of the two sets of unknowns (rotational and ionization dynamics), and provides a way to gradually bootstrap to the complete {term}`MF` results via stages of analysis of increasing complexity. The nature of the fitting at each stage also provides a flexible methodology which can be used to carefully sample the solution hyperspace in order to ensure unique results, and fit with variable information content (experimental measurements) based on computational time and desired precision, based on a similar Monte-Carlo sampling manner to the methodologies already discussed [...]. In all cases, the underlying physics provides stringent limits on the form of the fitting functions, hence the fitting procedure at each stage is expected to be somewhat reliable by construction. Further analysis of the results, including comparison with experimental parameters, additional data not used in the analysis, and *ab initio* calculations all provide additional means of cross-checking and verifying the extracted physical parameters.\n",
    "\n",
    "In terms of information content, the bootstrapping procedure gradually increases both the experimental information content - the number of geometric configurations of the photoionization interferometer - and the level of physical information included (hence fitted/extracted) in the analysis. In the first step, {term}`ADMs` are determined without the need for accurate treatment of the ionization probe [7]; in the second step this information is used as part of the calculation to determine the ionization dynamics. In the sub-steps to determine the ionization dynamics, the experimental information content included in the analysis is gradually increased: the initial coarse steps in this procedure provide a base-line high information content, without the necessity for many temporal points, via the selection of highly distinct molecular axis distributions, while latter sub-steps allow for fine-tuning of the data by gradually coupling additional time-steps into the analysis.\n",
    "\n",
    "-- {{ QM2 }}, Chpt. 11\n",
    "```\n",
    "\n",
    "% *** Moved to context and aims section\n",
    "% The work in the current volume primarily addresses some of the extensions towards a generalised bootstrapping protocol as outlined in {{ QM2 }} Sect. 12.3; in particular the new {{ PEMtk_repo }} has been built with the aim of making the protocol easy to use and apply to any given problem (as distinct from a bespoke/per-experiment analysis methodology and/or non-open-source codebase). Part I herein includes a full precis of the theory implemented towards this end, and Part II provides multiple demonstrations of the new codebase, and includes use of the toolkit to investigate more complex systems beyond the simplest homonuclear diatomic case.\n",
    "\n",
    "% May be sufficient, or need a little more detail here - depends a bit on latter chpts. and also the top of this intro.\n",
    "% Also mention tomography stuff? \\cite{morrigan2022UltrafastMolecularFrame}"
   ]
  },
  {
   "cell_type": "markdown",
   "id": "2646611c",
   "metadata": {},
   "source": [
    "(sec:intro-context)= \n",
    "## Context & aims for Vol. 3\n",
    "\n",
    "### Scientific aims\n",
    "\n",
    "The work in the current volume primarily addresses recent developments towards a generalised bootstrapping protocol (i.e. the analysis of the data time-resolved photoelectron images from a rotationally-excited system), as previously outlined in {{ QM2 }} Sect. 12.3; in particular the new {{ PEMtk_repo }} has been built with the aim of making the protocol easy to use and apply to any given problem (as distinct from a bespoke/per-experiment analysis methodology and/or non-open-source codebase). \n",
    "\n",
    "Part I herein includes a full precis of the new codebase, along with the theory and numerics implemented towards this end; Part II provides multiple demonstrations of the new codebase, including the use of the toolkit to investigate more complex systems beyond the simple homonuclear diatomic case demonstrated to date.\n",
    "\n",
    "Although the analysis herein focuses on the rotational wavepacket case, the techniques and codebase developed are equally applicable to *any methodology or protocol making use of geometric properties as a variable*, and are built with all such problems in mind - although minor modifications or extensions may be required for specific cases. Examples include other cases discussed in {{ QM12 }}, e.g. use of shaped laser pulses, use of narrow-band, state-selected rotational excitation; in all cases the fitting/retrieval of matrix elements is carried out in the same manner, and the only changes required to the methodology are the choice of control variable and the corresponding input experimental or theoretical parameters - this is discussed further in Chpt. XX. % Ref to Part II, Chpt. 4 on future directions.\n",
    "\n",
    "\n",
    "### Technical context and notes \n",
    "% v2 with clarifications and list formatting\n",
    "\n",
    "As noted previously, Vol. 3 is somewhat distinct from the previous volumes in the series; although involving computational elements, {{ QM12 }} % Vols. 1 & 2 {cite}`hockett2018QMP1,hockett2018QMP2` \n",
    "are more traditional publications. The material presented in this volume aims to continue the exploration of quantum metrology with photoelectrons, with a focus on numerical analysis techniques, forging a closer link between experimental and theoretical results, and making the methodologies discussed directly accessible via a new software platform/ecosystem, {{ PEMtk_repo }}. %, introduced in more detail in {numref}`Chapter %s <chpt:platformIntro>`. \n",
    "In order to fulfill this aim, Vol. 3 is a computational/computable document, with code directly available to readers to facilitate code transparency and reuse. This can be broken down as follows:\n",
    "\n",
    "1. The book itself is written as a set of Jupyter Notebooks.[^jupyterFootnote]  \n",
    "    * These are `.ipynb` files, usually running a python kernel, each of which is designed such that it can be modified and used independently.\n",
    "    * The full book is compiled from these sections using the Jupyter Book project platform,[^jupyterBookFootnote] which includes build tools and specifications for the specific flavour of Markdown (MyST) used for the written text.\n",
    "    * The book source code is available via a Github repository, {{ book_repo }}, which includes all the notebooks (in the `doc-source` directory), as well as installation and build notes for building the book itself. \n",
    "    * An HTML version is also available at {{ book_HTML }}, which includes interactive figures.\n",
    "2. The code examples _within_ the book make use the new {{ PEMtk_repo }}.\n",
    "    * In order to run code examples, a specific python environment (with various additional python packages) is required.\n",
    "    * A full introduction to the relevant software tool-chain, including installation instructions for the codes used _within_ the book, can be found in {numref}`Chapter %s: <chpt:platformIntro>` {ref}`chpt:platformIntro`.\n",
    "    * For a quick and easy installation, including all requirements, a Docker build  of the platform can also be used, see {numref}`Sect. %s: <sect:platform:docker>` {ref}`sect:platform:docker`.  % {{ open_photo_stacks_repo }}).\n",
    "    * Once configured, any code examples from the book can be executed locally by the user/reader, and modified as desired.\n",
    "3. The book can be regarded as, essentially, a manual and introduction to the {{ PEMtk_repo }}, as well as a foundation for those wishing to use (and potentially extend) the platform.\n",
    "    * Part I covers all required background material, including details of the theory and numerical methods implemented.\n",
    "    * Part II contains various examples of usage for a range of problems, and possible extensions.\n",
    "    * Since no specific knowledge of the underlying physics should be required to use the software tools, they will hopefully also provide a suitable platform for new researchers wishing to learn about photoionization in general. \n",
    "    * It is, of course, also hoped that established researchers in the field will find the tools useful, and readily adaptable, to related problems of interest.\n",
    "\n",
    "Finally, it is of note that whilst readers unfamiliar with the Jupyter and Python ecosystem may find that there is somewhat of a barrier to entry for making use of the platform, it is one that may be worth surmounting given the ubiquity of these tools, and general usefulness in modern scientific/data-science workflows; readers already making use of these tools in their work should have no difficultly, and the platform adheres to standard practice wherever possible.\n",
    "\n",
    "\n",
    "### Open science, open source software and reproducibility\n",
    "\n",
    "% Here or in code intro chpt?  See ePSdata for text? Or recent publications with some open science TOP blurb.\n",
    "\n",
    "\n",
    "\n",
    "% Footnotes hopefully\n",
    "\n",
    "[^jupyterFootnote]: For more information on the [Jupyter Project and ecosystem](https://jupyter.org), see [jupyter.org](https://jupyter.org) and Refs. {cite}`ProjectJupyter,kluyver2016JupyterNotebooksPublishing,granger2021JupyterThinkingStorytelling`.)\n",
    "\n",
    "[^jupyterBookFootnote]: For more information see [jupyterbook.org](https://jupyterbook.org) and Refs. {cite}`JupyterBookProject,community2020JupyterBook`.\n",
    "\n",
    "% Notes on open source and TOP here?"
   ]
  },
  {
   "cell_type": "markdown",
   "id": "3bd2b595",
   "metadata": {
    "tags": [
     "hide-cell",
     "remove-cell"
    ]
   },
   "source": [
    "## SCRATCH"
   ]
  },
  {
   "cell_type": "markdown",
   "id": "0272881b",
   "metadata": {
    "tags": [
     "hide-cell",
     "remove-cell"
    ]
   },
   "source": [
    "### Technical context and notes - v2 clarifications\n",
    "\n",
    "As noted previously, Vol. 3 is somewhat distinct from the previous volumes in the series; although involving computational elements, {{ QM12 }} % Vols. 1 & 2 {cite}`hockett2018QMP1,hockett2018QMP2` \n",
    "are more traditional publications. The material presented in this volume aims to continue the exploration of quantum metrology with photoelectrons, with a focus on numerical analysis techniques, forging a closer link between experimental and theoretical results, and making the methodologies discussed directly accessible via a new software platform/ecosystem, {{ PEMtk_repo }}. %, introduced in more detail in {numref}`Chapter %s <chpt:platformIntro>`. \n",
    "In order to fulfill this aim, Vol. 3 is a computational/computable document, with code directly available to readers to facilitate code transparency and reuse. This can be broken down as follows:\n",
    "\n",
    "1. The book itself is written as a set of Jupyter Notebooks.[^jupyterFootnote]  \n",
    "    * These are `.ipynb` files, usually running a python kernel, each of which is designed such that it can be modified and used independently.\n",
    "    * The full book is compiled from these sections using the Jupyter Book project platform,[^jupyterBookFootnote] which includes build tools and specifications for the specific flavour of Markdown (MyST) used for the written text.\n",
    "    * The book source code is available via a Github repository, {{ book_repo }}, which includes all the notebooks (in the `doc-source` directory), as well as installation and build notes for building the book itself. \n",
    "    * An HTML version is also available at {{ book_HTML }}, which includes interactive figures.\n",
    "2. The code examples _within_ the book make use the new {{ PEMtk_repo }}.\n",
    "    * In order to run code examples, a specific python environment (with various additional python packages) is required.\n",
    "    * A full introduction to the relevant software tool-chain, including installation instructions for the codes used _within_ the book, can be found in {numref}`Chapter %s: <chpt:platformIntro>` {ref}`chpt:platformIntro`.\n",
    "    * For a quick and easy installation, including all requirements, a Docker build  of the platform can also be used, see {numref}`Sect. %s: <sect:platform:docker>` {ref}`sect:platform:docker`.  % {{ open_photo_stacks_repo }}).\n",
    "    * Once configured, any code examples from the book can be executed locally by the user/reader, and modified as desired.\n",
    "3. The book can be regarded as, essentially, a manual and introduction to the {{ PEMtk_repo }}, as well as a foundation for those wishing to use (and potentially extend) the platform.\n",
    "    * Part I covers all required background material, including details of the theory and numerical methods implemented.\n",
    "    * Part II contains various examples of usage for a range of problems, and possible extensions.\n",
    "    * Since no specific knowledge of the underlying physics should be required to use the software tools, they will hopefully also provide a suitable platform for new researchers wishing to learn about photoionization in general. \n",
    "    * It is, of course, also hoped that established researchers in the field will find the tools useful, and readily adaptable, to related problems of interest.\n",
    "\n",
    "Finally, it is of note that whilst readers unfamiliar with the Jupyter and Python ecosystem may find that there is somewhat of a barrier to entry for making use of the platform, it is one that may be worth surmounting given the ubiquity of these tools, and general usefulness in modern scientific/data-science workflows; readers already making use of these tools in their work should have no difficultly, and the platform adheres to standard practice wherever possible."
   ]
  },
  {
   "cell_type": "markdown",
   "id": "3376c607",
   "metadata": {
    "tags": [
     "hide-cell",
     "remove-cell"
    ]
   },
   "source": [
    "### Technical context and notes - v1 draft\n",
    "\n",
    "As noted previously, Vol. 3 is somewhat distinct from the previous volumes in the series; although involving computational elements, {{ QM12 }} % Vols. 1 & 2 {cite}`hockett2018QMP1,hockett2018QMP2` \n",
    "are more traditional publications. The material presented in this volume aims to continue the exploration of quantum metrology with photoelectrons, with a focus on numerical analysis techniques, forging a closer link between experimental and theoretical results, and making the methodologies discussed directly accessible via a new software platform/ecosystem, {{ PEMtk_repo }}. %, introduced in more detail in  {numref}`Chapter %s <chpt:platformIntro>`. \n",
    "In order to fulfill this aim, Vol. 3 is a computational/computable document, with code directly available to readers. Each chapter or section is composed of a Jupyter Notebook (`.ipynb` files, usually running a python kernel), each of which can be modified and used independently.[^jupyterFootnote] The full book is compiled from these sections using the Jupyter Book project platform,[^jupyterBookFootnote] which includes build tools and specifications for the specific flavour of Markdown (MyST) used for the written text.\n",
    "\n",
    "To facilitate code transparency and reuse, the book source code is available via a Github repository, {{ book_repo }}, which includes installation and build notes for building the book itself, as well as links to the required codes. An HTML version is also available at {{ book_HTML }}, which includes interactive figures. A full introduction to the relevant software tool-chain, including installation instructions for the codes used _within_ the book, can be found in {numref}`Chapter %s: <chpt:platformIntro>` {ref}`chpt:platformIntro`.\n",
    "\n",
    "Finally, it is of note that whilst readers unfamiliar with the Jupyter and Python ecosystem may find that there is somewhat of a barrier to entry for making use of the platform, it is one that may be worth surmounting given the ubiquity of these tools; readers already making use of these tools should have no difficultly, and the platform adheres to standard practice wherever possible. Since no specific knowledge of the underlying physics should be required to use the software tools, they will hopefully also provide a suitable platform for new researchers wishing to learn about photoionization in general. It is, of course, also hoped that established researchers in the field will find the tools useful, and readily adaptable, to related problems of interest."
   ]
  },
  {
   "cell_type": "code",
   "execution_count": null,
   "id": "fb360675",
   "metadata": {},
   "outputs": [],
   "source": []
  },
  {
   "cell_type": "code",
   "execution_count": null,
   "id": "1e4b75a7",
   "metadata": {},
   "outputs": [],
   "source": []
  }
 ],
 "metadata": {
  "jupytext": {
   "formats": "ipynb,md:myst",
   "text_representation": {
    "extension": ".md",
    "format_name": "myst",
    "format_version": 0.13,
    "jupytext_version": "1.14.0"
   }
  },
  "kernelspec": {
   "display_name": "Python 3 (ipykernel)",
   "language": "python",
   "name": "python3"
  },
  "language_info": {
   "codemirror_mode": {
    "name": "ipython",
    "version": 3
   },
   "file_extension": ".py",
   "mimetype": "text/x-python",
   "name": "python",
   "nbconvert_exporter": "python",
   "pygments_lexer": "ipython3",
   "version": "3.9.7"
  },
  "source_map": [
   13,
   26,
   98,
   152,
   156,
   182,
   194,
   198
  ]
 },
 "nbformat": 4,
 "nbformat_minor": 5
}