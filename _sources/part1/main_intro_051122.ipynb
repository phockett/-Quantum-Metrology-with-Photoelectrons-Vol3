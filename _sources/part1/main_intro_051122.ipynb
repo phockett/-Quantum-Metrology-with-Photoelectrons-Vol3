{
 "cells": [
  {
   "cell_type": "markdown",
   "id": "0f5feb68",
   "metadata": {},
   "source": [
    "# Introduction\n",
    "\n",
    "The overall aim of Vol. 3 is to expand, explore, and illustrate, quantum metrology with photoelectrons: specifically, the application of new python-based tools to tackle problems in matrix element retrieval. All the material is available as Jupyter Notebooks, which can be run locally to further explore the topic, or adapt the methodology to new problems\n",
    "\n",
    "A brief introduction to the core physics is presented herein, although the unfamiliar reader is referred to Volume 1 of the series for a more detailed presentation, and gateway to the literature {cite}`hockett2018QMP1`."
   ]
  },
  {
   "cell_type": "markdown",
   "id": "ff8ecbb0",
   "metadata": {},
   "source": [
    "```{bibliography}\n",
    "```"
   ]
  },
  {
   "cell_type": "code",
   "execution_count": null,
   "id": "bde06d77",
   "metadata": {},
   "outputs": [],
   "source": []
  }
 ],
 "metadata": {
  "jupytext": {
   "formats": "ipynb,md:myst",
   "text_representation": {
    "extension": ".md",
    "format_name": "myst",
    "format_version": 0.13,
    "jupytext_version": "1.14.0"
   }
  },
  "kernelspec": {
   "display_name": "Python 3 (ipykernel)",
   "language": "python",
   "name": "python3"
  },
  "source_map": [
   13,
   23,
   28
  ]
 },
 "nbformat": 4,
 "nbformat_minor": 5
}