{
 "cells": [
  {
   "cell_type": "markdown",
   "id": "8a80912b",
   "metadata": {},
   "source": [
    "(chpt:platformIntro)=\n",
    "# Quantum metrology software platform/ecosystem overview\n",
    "\n",
    "STUB"
   ]
  },
  {
   "cell_type": "code",
   "execution_count": null,
   "id": "e4dff079",
   "metadata": {},
   "outputs": [],
   "source": []
  }
 ],
 "metadata": {
  "jupytext": {
   "formats": "ipynb,md:myst",
   "text_representation": {
    "extension": ".md",
    "format_name": "myst",
    "format_version": 0.13,
    "jupytext_version": "1.14.0"
   }
  },
  "kernelspec": {
   "display_name": "Python 3 (ipykernel)",
   "language": "python",
   "name": "python3"
  },
  "source_map": [
   13,
   20
  ]
 },
 "nbformat": 4,
 "nbformat_minor": 5
}