{
 "cells": [
  {
   "cell_type": "markdown",
   "id": "f29d10cc",
   "metadata": {
    "tags": [
     "remove-cell"
    ]
   },
   "source": [
    "Subsections for photoionization theory\n",
    "\n",
    "- 22/11/22 Basics in place, needs some work and numerical examples to add.\n",
    "\n",
    "---\n",
    "\n",
    "% TODO: render tests. This is working in JupyterLab on Bemo (inc. \\boldsymbol). NOW fixed as per below, issues with PDF builds too.\n",
    "\n",
    "% TODO: decide on notation, and make a comment on it vs. Vol 1.\n",
    "\n",
    "% TODO: revise text. Mostly from MF recon with some mods. May want to add some numerical examples directly here?\n",
    "\n",
    "TODO: fix/generalise intro theory and also update notation for LF vs. MF case above, or discuss. May be better to remove some of this and just refer to Vol. 1?"
   ]
  },
  {
   "cell_type": "markdown",
   "id": "235c9902",
   "metadata": {
    "tags": [
     "remove-cell"
    ]
   },
   "source": [
    "---\n",
    "\n",
    "Rendering issues notes (hidden cell)\n",
    "\n",
    "Build fixed for no `\\bm` case, subs as:\n",
    "\n",
    "- \\hat{\\mathbf{\\mu}} >> \\hat{\\boldsymbol{\\mu}}\n",
    "\n",
    "- \\boldsymbol{\\mathbf{E}} >> \\boldsymbol{\\mathrm{E}}. May only be an issue if bm loaded? Ah, yes - this is OK without bm, but get errors at `\\bm` of course.\n",
    "\n",
    "- \\bm >> \\boldsymbol, have this only for \\bm{r} it seems, may want \\mathrm here too? NEED TO LOOK CAREFULLY - can use former in general (scalar) case (or just plain r), latter in vector case.\n",
    "\n",
    "- \\mathbf{\\rho} >>> \\boldsymbol{\\rho} (OK in HTML, not in PDF)\n",
    "\n",
    "$$1: \\hat{\\Gamma}(\\boldsymbol{\\mathbf{E}}) = \\hat{\\mathbf{\\mu}}.\\boldsymbol{\\mathbf{E}}$$\n",
    "\n",
    "$$2: \\hat{\\Gamma}(\\boldsymbol{\\mathbf{E}}) = \\mathbf{\\mu}.\\boldsymbol{\\mathbf{E}}$$\n",
    "\n",
    "$$3: \\hat{\\Gamma}(\\boldsymbol{\\mathbf{E}}) = \\mu.\\boldsymbol{\\mathbf{E}}$$\n",
    "\n",
    "$$4: \\hat{\\Gamma}(\\boldsymbol{\\mathbf{E}}) = \\bm{\\mu}.\\boldsymbol{\\mathbf{E}}$$\n",
    "\n",
    "$$5: \\hat{\\Gamma}(\\boldsymbol{\\mathbf{E}}) = \\boldsymbol{\\mu}.\\boldsymbol{\\mathbf{E}}$$\n",
    "\n",
    "$$6: \\hat{\\Gamma}(\\boldsymbol{\\mathbf{E}}) = \\hat{\\boldsymbol{\\mu}}.\\boldsymbol{\\mathbf{E}}$$\n",
    "\n",
    "Without bm package, 3 - 6 are all OK. 'mathbf' seems to be an issue?  Missing fonts - renders as a '?' in a square and gives error like `! Extended mathchar used as mathchar (14799967).`?\n",
    "\n",
    "With bm package, only 3 works (and 4 renders as $\\mu0$)\n",
    "\n",
    "$$7: \\hat{\\Gamma}(\\boldsymbol{\\mathbf{E}}) = \\mathbf{\\hat{\\mu}}.\\boldsymbol{\\mathbf{E}}$$\n",
    "\n",
    "With bm package also issues with $\\boldsymbol{\\mathbf{E}}$, gives `! Improper alphabetic constant`. Is $\\boldsymbol{\\mathrm{E}}$ OK? In previous vol have $\\mathbf{r}$ for vector case, and plain $r$ otherwise.\n",
    "\n",
    "---"
   ]
  },
  {
   "cell_type": "markdown",
   "id": "0d233078",
   "metadata": {
    "tags": []
   },
   "source": [
    "(sec:dynamics-intro)=\n",
    "# Photoionization dynamics\n",
    "\n",
    "The core physics of photoionization has been covered extensively in the literature, and only a very brief overview is provided here with sufficient detail to introduce the metrology/reconstruction/retrieval problem; the reader is referred to Vol. 1 {cite}`hockett2018QMP1` (and refs. therein) for further details and general discussion.\n",
    "\n",
    "% the literature listed in Appendix [\\[sec:theory-lit\\]](#sec:theory-lit){reference-type=\"ref\" reference=\"sec:theory-lit\"} for further details and general discussion.\n",
    "% Technical details of the formalism applied for the reconstruction techniques discussed herein can be found in Sect. [\\[sec:tensor-formulation\\]](#sec:tensor-formulation){reference-type=\"ref\" reference=\"sec:tensor-formulation\"}.\n",
    "\n",
    "Photoionization can be described by the coupling of an initial state of the system to a particular final state (photoion(s) plus free photoelectron(s)), coupled by an electric field/photon. Very generically, this can be written as a matrix element $\\langle\\Psi_i|\\hat{\\Gamma}(\\boldsymbol{\\mathbf{E}})|\\Psi_f\\rangle$, where $\\hat{\\Gamma}(\\boldsymbol{\\mathbf{E}})$ defines the light-matter coupling operator (depending on the electric field $\\boldsymbol{\\mathbf{E}}$), and $\\Psi_i$, $\\Psi_f$ the total wavefunctions of the initial and final states respectively."
   ]
  },
  {
   "cell_type": "markdown",
   "id": "6aa555f7",
   "metadata": {},
   "source": [
    "There are many flavours of this fundamental light-matter interaction, depending on system and coupling. For metrology, the focus is currently on the simplest case of single-photon absorption, in the weak field (or purturbative), dipolar regime, resulting in a single photoelectron. (For more discussion of various approximations in photoionzation, see Refs. {cite}`Seideman2002, Seideman2001`.) In this case the core physics is well defined, and tractable (albeit non-trivial), via the separation of matrix elements into radial (energy) and angular-momentum (geometric) terms pertaining to couplings between various elements of the problem; the retrieval of such matrix elements is a well-defined problem, making use of analytic terms in combination with fitting methodologies as explored herein. Again, more extensive background and discussion can be found in {{ QM1 }}, and references therein. % [TODO: Add some more refs here?]\n",
    "\n",
    "The basic case also provides a strong foundation for extension into more complex light-matter interactions, in particular cases with shaped laser-fields (i.e. a time-dependent coupling $\\hat{\\Gamma}(\\boldsymbol{\\mathbf{E,t}})$) and multi-photon processes (which require multiple matrix elements, and/or different approximations). Note, however, that non-perturbative (strong field) light-matter interactions are, typically, not amenable to description in a separable picture in this manner. In such cases the laser field, molecular and continuum properties are strongly coupled, and are typically treated numerically in a fully time-dependent manner (although some separation of terms may work in some cases, depending on the system and interaction(s) at hand).\n",
    "\n",
    "Underlying the photoelecton observables is the photoelectron continuum state $\\left|\\mathbf{k}\\right>$, prepared via photoionization. The photoelectron momentum vector is denoted generally by\n",
    "$\\boldsymbol{\\mathbf{k}}=k\\mathbf{\\hat{k}}$, in the molecular frame ({{ MF }}). The ionization matrix elements associated with this transition provide the set of quantum amplitudes completely defining the final continuum scattering state,\n",
    "\n",
    "$$\\left|\\Psi_f\\right> = \\sum{\\int{\\left|\\Psi_{+};\\bf{k}\\right>\\left<\\Psi_{+};\\mathbf{k}|\\Psi_f\\right> d\\bf{k}}},\n",
    "$$ (eq:continuum-state-vec)\n",
    "\n",
    "where the sum is over states of the molecular ion $\\left|\\Psi_{+}\\right>$. The number of ionic states accessed depends on the nature of the ionizing pulse and interaction. For the dipolar case,\n",
    "\n",
    "$$\\hat{\\Gamma}(\\boldsymbol{\\mathbf{E}}) = \\hat{\\boldsymbol{\\mu}}.\\boldsymbol{\\mathbf{E}}$$ (eq:def-dipole-operator)"
   ]
  },
  {
   "cell_type": "markdown",
   "id": "02271da5",
   "metadata": {},
   "source": [
    "Hence,\n",
    "\n",
    "$$\\left<\\Psi_{+};\\mathbf{k}|\\Psi_f\\right> =\\langle\\Psi_{+};\\,\\mathbf{k}|\\hat{\\boldsymbol{\\mu}}.\\boldsymbol{\\mathbf{E}}|\\Psi_{i}\\rangle\n",
    "$$ (eq:matE-dipole)\n",
    "\n",
    "Where the notation implies a perturbative photoionization event from an initial state $i$ to a particular ion plus electron state following absorption of a photon $h\\nu$, $|\\Psi_{i}\\rangle+h\\nu{\\rightarrow}|\\Psi_{+};\\boldsymbol{\\mathbf{k}}\\rangle$, and $\\hat{\\mu}.\\boldsymbol{\\mathbf{E}}$ is the usual dipole interaction term {cite}`qOptics`, which includes a sum over all electrons $s$ defined in position space as $\\mathbf{r_{s}}$:\n",
    "\n",
    "$$\\hat{\\mu}=-e\\sum_{s}\\mathbf{r_{s}}\n",
    "$$ (eq:dipole-operator)"
   ]
  },
  {
   "cell_type": "markdown",
   "id": "12fefe1a",
   "metadata": {},
   "source": [
    "The position space photoelectron wavefunction is typically expressed in\n",
    "the \"partial wave\" basis, expanded as (asymptotic) continuum\n",
    "eignstates of orbital angular momentum, with angular momentum components\n",
    "$(l,m)$ (note lower case notation for the partial wave components, distinct from upper-case for the similar terms $(L,M)$ in the observables),\n",
    "\n",
    "$$\\Psi_\\mathbf{k}(\\boldsymbol{r})\\equiv\\left<\\boldsymbol{r}|\\mathbf{k}\\right> = \\sum_{lm}Y_{lm}(\\mathbf{\\hat{k}})\\psi_{lm}(\\boldsymbol{r},k)\n",
    "$$ (eq:elwf)\n",
    "\n",
    "where $\\boldsymbol{r}$ are MF electronic coordinates and\n",
    "$Y_{lm}(\\mathbf{\\hat{k}})$ are the spherical harmonics.\n",
    "\n",
    "Similarly, the ionization dipole matrix elements can be separated\n",
    "generally into radial (energy-dependent or 'dynamical' terms) and\n",
    "geometric (angular momentum) parts (this separation is essentially the\n",
    "Wigner-Eckart Theorem, see Ref. {cite}`zareAngMom` for general discussion),\n",
    "and written generally as (using notation similar to {cite}`Reid1991`):\n",
    "\n",
    "$$\\langle\\Psi_{+};\\,\\mathbf{k}|\\hat{\\boldsymbol{\\mu}}.\\boldsymbol{\\mathbf{E}}|\\Psi_{i}\\rangle = \\sum_{lm}\\gamma_{l,m}\\mathbf{r}_{k,l,m}\n",
    "$$ (eq:r-kllam)"
   ]
  },
  {
   "cell_type": "markdown",
   "id": "e04ae39e",
   "metadata": {},
   "source": [
    "Provided that the geometric part of the matrix elements $\\gamma_{l,m}$ -\n",
    "which includes the geometric rotations into the LF arising from the dot\n",
    "product in Eq. {eq}`eq:r-kllam` and other angular-momentum coupling terms - are\n",
    "know, knowledge of the so-called radial (or reduced) dipole matrix\n",
    "elements, at a given $k$ thus equates to a full description of the\n",
    "system dynamics (and, hence, the observables).\n",
    "\n",
    "For the simplest treatment, the radial matrix element can be\n",
    "approximated as a 1-electron integral involving the initial electronic\n",
    "state (orbital), and final continuum photoelectron wavefunction:\n",
    "\n",
    "$$\\mathbf{r}_{k,l,m}=\\int\\psi_{lm}(\\boldsymbol{r},k)\\boldsymbol{r}\\Psi_{i}(\\boldsymbol{r})d\\boldsymbol{r}\n",
    "$$ (eq:r-kllam-integral)"
   ]
  },
  {
   "cell_type": "markdown",
   "id": "c39398f9",
   "metadata": {},
   "source": [
    "% TODO: fix refs below\n",
    "\n",
    "As noted above, the geometric terms $\\gamma_{l,m}$ are analytical\n",
    "functions which can be computed for a given case - minimally requiring\n",
    "knowledge of the molecular symmetry and polarization geometry, although\n",
    "other factors may also play a role (see {numref}`Sect. %s <sec:full-tensor-expansion>` for details).\n",
    "\n",
    "% TODO: add some numerical examples here?\n",
    "% TODO: general form to link to BLM expansion.\n",
    "\n",
    "The photoelectron angular distribution (PAD) at a given $(\\epsilon,t)$\n",
    "can then be determined by the squared projection of\n",
    "$\\left|\\Psi_f\\right>$ onto a specific state\n",
    "$\\left|\\Psi_{+};\\bf{k}\\right>$; very generally this can be written in terms of the energy and angle-resolved observable, which arises as the coherent square:\n",
    "\n",
    "$$\n",
    "I(\\epsilon,\\theta,\\phi)=\\langle\\Psi_{f}|\\Psi_{f}\\rangle\n",
    "$$ (eq:matE-sq-general)\n",
    "\n",
    "Expansion in terms of the components of the matrix elements as detailed above then yields a separation into radial and angular components (see {{ QM1 }}, Sect. 2.1 for a full derivation), which can be written (at a single energy) as (following Eq. 2.45 of {{ QM1 }}):\n",
    "\n",
    "$$\n",
    "I(\\theta,\\phi;\\,k)=\\sum_{ll'}\\sum_{\\lambda\\lambda'}\\sum_{mm'}\\gamma_{\\alpha\\alpha_{+}l\\lambda ml'\\lambda'm'}\\boldsymbol{r}_{kl\\lambda}\\boldsymbol{r}_{kl'\\lambda'}e^{i(\\eta_{l\\lambda}(k)-\\eta_{l'\\lambda'}(k))}Y_{lm}(\\hat{k})Y_{l'm'}^{*}(\\hat{k})\n",
    "$$ (eq:I-reduced-LF-2_45-vol1)\n",
    "\n",
    "% TODO: fix/generalise this, also update notation for LF vs. MF case above, or discuss. May be better to remove some of this and just refer to Vol. 1?\n",
    "\n",
    "In this form $\\alpha$ denotes all other quantum numbers required to define the initial state, and $\\alpha_{+}$ the final state of the molecular ion. The radial matrix elements $\\boldsymbol{r}_{kl\\lambda}$, denote an integral over the radial part of the wavefunctions, in this case labelled by the {{ MF }} quantum numbers, and the associated scattering phase is given by $\\eta_{l\\lambda}(k)$ (i.e. the matrix elements are written in magnitude-phase form, rather than complex form).The $\\gamma$ terms denotes a general set of geometric paramters arising from the coherent square.  A tensor form is also given herein, see {numref}`Sect. %s <sec:full-tensor-expansion>`, including a full breakdown of these terms and numerical implementation. Comparison with Eq. {eq}`eq:AF-PAD-general` then indicates that the amplitudes\n",
    "in Eq. {eq}`eq:r-kllam` also determine the observable anisotropy\n",
    "parameters $\\beta_{L,M}(\\epsilon,t)$ (Eqn.\n",
    "{eq}`eq:AF-PAD-general`), which basically collect all the terms in Eq. {eq}`eq:I-reduced-LF-2_45-vol1` and the product over spherical harmonics, into a result set of $(L,M)$. (Note that the photoelectron energy\n",
    "$\\epsilon$ and momentum $k$ are used somewhat interchangeably herein,\n",
    "with the former usually preferred in reference to observables.) \n",
    "\n",
    "Note, also, that in the treatment above there is no time-dependence\n",
    "incorporated in the notation; however, a time-dependent treatment\n",
    "readily follows, and may be incorporated either as explicit\n",
    "time-dependent modulations in the expansion of the wavefunctions for a\n",
    "given case, or implicitly in the radial matrix elements. Examples of the\n",
    "former include, e.g. a rotational or vibrational wavepacket, or a\n",
    "time-dependent laser field. The rotational wavepacket case is discussed\n",
    "herein (see {numref}`Sect. %s <sec:full-tensor-expansion>`). The radial matrix elements are\n",
    "a sensitive function of molecular geometry and electronic configuration\n",
    "in general, hence may be considered to be responsive to molecular\n",
    "dynamics, although they are formally time-independent in a\n",
    "Born-Oppenheimer basis - for further general discussion and examples see\n",
    "Ref. {cite}`wu2011TimeresolvedPhotoelectronSpectroscopy` and {{ QM1 }}; discussions of more\n",
    "complex cases with electronic and nuclear dynamics can be found in Refs.\n",
    "{cite}`arasaki2000ProbingWavepacketDynamics,Seideman2001,Suzuki2001,Stolow2008`.\n",
    "\n",
    "\n",
    "\n",
    "Typically, for reconstruction experiments, a given measurement will be\n",
    "selected to simplify this as much as possible by, e.g., populating only\n",
    "a single ionic state (or states for which the corresponding observables\n",
    "are experimentally energetically-resolvable), and with a bandwidth\n",
    "$d\\bf{k}$ which is small enough such that the matrix elements can be\n",
    "assumed constant over the observation window. Importantly, the angle-resolved observables are\n",
    "sensitive to the magnitudes and (relative) phases of these matrix\n",
    "elements - as emphasised in the magnitude-phase form of Eq. {eq}`eq:I-reduced-LF-2_45-vol1` - and can be considered as angular interferograms."
   ]
  },
  {
   "cell_type": "markdown",
   "id": "686da175",
   "metadata": {},
   "source": [
    "% TODO: explicitly write out general form and discuss a bit further, inc. link to observables and tensor form later.\n",
    "% 30/11/22 Added general form as per eq. 2.45 in QM1, but may want to modify a bit, esp. LF vs. AF notation to match channel funcs later."
   ]
  },
  {
   "cell_type": "code",
   "execution_count": null,
   "id": "7be1c389",
   "metadata": {},
   "outputs": [],
   "source": []
  }
 ],
 "metadata": {
  "jupytext": {
   "formats": "ipynb,md:myst",
   "text_representation": {
    "extension": ".md",
    "format_name": "myst",
    "format_version": 0.13,
    "jupytext_version": "1.14.0"
   }
  },
  "kernelspec": {
   "display_name": "Python 3 (ipykernel)",
   "language": "python",
   "name": "python3"
  },
  "language_info": {
   "codemirror_mode": {
    "name": "ipython",
    "version": 3
   },
   "file_extension": ".py",
   "mimetype": "text/x-python",
   "name": "python",
   "nbconvert_exporter": "python",
   "pygments_lexer": "ipython3",
   "version": "3.9.7"
  },
  "source_map": [
   15,
   31,
   69,
   81,
   97,
   109,
   131,
   147,
   210,
   215
  ]
 },
 "nbformat": 4,
 "nbformat_minor": 5
}