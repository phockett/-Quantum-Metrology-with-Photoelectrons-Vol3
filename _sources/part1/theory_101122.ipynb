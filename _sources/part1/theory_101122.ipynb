{
 "cells": [
  {
   "cell_type": "markdown",
   "id": "39d13018",
   "metadata": {
    "tags": []
   },
   "source": [
    "(chpt:theory)=\n",
    "# Theory\n",
    "\n",
    "STUB\n",
    "\n",
    "TODO: plotly HV wrappers, see https://github.com/executablebooks/jupyter-book/issues/1815\n",
    "\n",
    "UPDATE: now in place, working in Render-debug notebook, but not here - even after clean build? Weird.\n",
    "\n",
    "TODO: Fix plots (HV & plotly) in PDF output, currently missing here and Render-debug notebook.\n",
    "\n",
    "17/11/22 Rendering now OK for Plotly, ongoing notes: https://github.com/phockett/Quantum-Metrology-with-Photoelectrons-Vol3/issues/2"
   ]
  },
  {
   "cell_type": "markdown",
   "id": "2082d27d",
   "metadata": {},
   "source": [
    "(sect:theory:observables)=\n",
    "## Observables: photoelectron flux in the LF and MF\n",
    "\n",
    "The observables of interest - the photoelectron flux as a function of energy, ejection angle, and time - can be written quite generally as an expansion in spherical harmonics:\n",
    "\n",
    "$$\n",
    "\\begin{align}\n",
    "\\bar{I}(\\epsilon,t,\\theta,\\phi)=\\sum_{L=0}^{2n}\\sum_{M=-L}^{L}\\bar{\\beta}_{L,M}(\\epsilon,t)Y_{L,M}(\\theta,\\phi)\n",
    "\\end{align}\n",
    "$$ (eq:AF-PAD-general)\n",
    "\n",
    "Here the flux in the laboratory frame (LF) or aligned frame (AF) is denoted $\\bar{I}(\\epsilon,t,\\theta,\\phi)$, with the bar signifying ensemble averaging, and the molecular frame flux by $I(\\epsilon,t,\\theta,\\phi)$. Similarly, the expansion parameters $\\bar{\\beta}_{L,M}(\\epsilon,t)$ include a bar for the LF/AF case. These observables are generally termed photoelectron angular distributions (PADs), often with a prefix denoting the reference frame, e.g. LFPADs, MFPADs, and the associated expansion parameters $\\bar{\\beta}_{L,M}(\\epsilon,t)$ are generically termed \"anisotropy\\\" parameters. The polar coordinate system $(\\theta,\\phi)$ is referenced to\n",
    "an experimentally-defined axis in the LF/AF case (usually defined by the laser polarization), and the molecular symmetry axis in the MF. Some arbitrary examples are given in {numref}`fig-pads-example`, which illustrates both a range of distributions of increasing complexity, and some basic code to set $\\beta_{L,M}$ parameters and visualise them; the values used as tabulated in  {numref}`blm-tab`."
   ]
  },
  {
   "cell_type": "code",
   "execution_count": 1,
   "id": "4cf26906",
   "metadata": {
    "tags": [
     "hide-cell"
    ]
   },
   "outputs": [
    {
     "name": "stdout",
     "output_type": "stream",
     "text": [
      "*** Setting up notebook with standard Quantum Metrology Vol. 3 imports...\n",
      "For more details see https://pemtk.readthedocs.io/en/latest/fitting/PEMtk_fitting_basic_demo_030621-full.html\n",
      "To use local source code, pass the parent path to this script at run time, e.g. \"setup_fit_demo ~/github\"\n",
      "Running: 2022-11-21 17:53:41\n",
      "Working dir: /home/runner/work/Quantum-Metrology-with-Photoelectrons-Vol3/Quantum-Metrology-with-Photoelectrons-Vol3/doc-source/part1\n",
      "Build env: None\n",
      "\n",
      "* Loading packages...\n"
     ]
    },
    {
     "ename": "ModuleNotFoundError",
     "evalue": "No module named 'panel'",
     "output_type": "error",
     "traceback": [
      "\u001b[0;31m---------------------------------------------------------------------------\u001b[0m",
      "\u001b[0;31mModuleNotFoundError\u001b[0m                       Traceback (most recent call last)",
      "File \u001b[0;32m~/work/Quantum-Metrology-with-Photoelectrons-Vol3/Quantum-Metrology-with-Photoelectrons-Vol3/doc-source/scripts/setup_notebook.py:42\u001b[0m\n\u001b[1;32m     36\u001b[0m \u001b[38;5;66;03m# Some definitions for local use\u001b[39;00m\n\u001b[1;32m     37\u001b[0m \n\u001b[1;32m     38\u001b[0m \u001b[38;5;66;03m#*** Plotly glue wrapper - NOTE THIS FAILS IF RUN LATER IN IMPORT CHAIN, likely to do with Panel config?\u001b[39;00m\n\u001b[1;32m     39\u001b[0m \u001b[38;5;66;03m# See https://github.com/executablebooks/jupyter-book/issues/1815\u001b[39;00m\n\u001b[1;32m     40\u001b[0m \u001b[38;5;66;03m# From https://github.com/holoviz/panel/blob/master/panel/pane/plotly.py\u001b[39;00m\n\u001b[1;32m     41\u001b[0m \u001b[38;5;28;01mfrom\u001b[39;00m \u001b[38;5;21;01mmyst_nb\u001b[39;00m \u001b[38;5;28;01mimport\u001b[39;00m glue\n\u001b[0;32m---> 42\u001b[0m \u001b[38;5;28;01mimport\u001b[39;00m \u001b[38;5;21;01mpanel\u001b[39;00m \u001b[38;5;28;01mas\u001b[39;00m \u001b[38;5;21;01mpn\u001b[39;00m\n\u001b[1;32m     43\u001b[0m pn\u001b[38;5;241m.\u001b[39mextension(\u001b[38;5;124m'\u001b[39m\u001b[38;5;124mplotly\u001b[39m\u001b[38;5;124m'\u001b[39m)\n\u001b[1;32m     45\u001b[0m \u001b[38;5;66;03m# def gluePlotly(name,fig, **kwargs):\u001b[39;00m\n\u001b[1;32m     46\u001b[0m \u001b[38;5;66;03m#     \"\"\"Wrap Plotly object with Panel and glue()\"\"\"\u001b[39;00m\n\u001b[1;32m     47\u001b[0m \u001b[38;5;66;03m#     return glue(name, pn.pane.Plotly(fig, **kwargs), display=False)\u001b[39;00m\n\u001b[1;32m     48\u001b[0m \n\u001b[1;32m     49\u001b[0m \u001b[38;5;66;03m# Updated version including static fig export for PDF builds\u001b[39;00m\n",
      "\u001b[0;31mModuleNotFoundError\u001b[0m: No module named 'panel'"
     ]
    }
   ],
   "source": [
    "# Run default config - may need to set full path here\n",
    "%run '../scripts/setup_notebook.py'\n",
    "\n",
    "# Override plotters backend?\n",
    "# plotBackend = 'pl'"
   ]
  },
  {
   "cell_type": "code",
   "execution_count": 2,
   "id": "74ebf963",
   "metadata": {
    "tags": [
     "hide-output"
    ]
   },
   "outputs": [
    {
     "ename": "ModuleNotFoundError",
     "evalue": "No module named 'epsproc'",
     "output_type": "error",
     "traceback": [
      "\u001b[0;31m---------------------------------------------------------------------------\u001b[0m",
      "\u001b[0;31mModuleNotFoundError\u001b[0m                       Traceback (most recent call last)",
      "Cell \u001b[0;32mIn [2], line 4\u001b[0m\n\u001b[1;32m      1\u001b[0m \u001b[38;5;66;03m# Plot some distributions from specified BLMs\u001b[39;00m\n\u001b[1;32m      2\u001b[0m \n\u001b[1;32m      3\u001b[0m \u001b[38;5;66;03m# Set specific LM coeffs by list with setBLMs, items are [l,m,value]\u001b[39;00m\n\u001b[0;32m----> 4\u001b[0m \u001b[38;5;28;01mfrom\u001b[39;00m \u001b[38;5;21;01mepsproc\u001b[39;00m\u001b[38;5;21;01m.\u001b[39;00m\u001b[38;5;21;01msphCalc\u001b[39;00m \u001b[38;5;28;01mimport\u001b[39;00m setBLMs\n\u001b[1;32m      6\u001b[0m \u001b[38;5;66;03m# BLM = setBLMs([[0,0,1],[1,1,1],[2,2,1]])\u001b[39;00m\n\u001b[1;32m      7\u001b[0m \u001b[38;5;66;03m# BLM = setBLMs([[0,0,1,1,1],[1,1,1,0.5,0.2],[2,2,1,1,0.2]])   # Note different index\u001b[39;00m\n\u001b[1;32m      8\u001b[0m BLM \u001b[38;5;241m=\u001b[39m setBLMs([[\u001b[38;5;241m0\u001b[39m,\u001b[38;5;241m0\u001b[39m,\u001b[38;5;241m1\u001b[39m,\u001b[38;5;241m1\u001b[39m,\u001b[38;5;241m1\u001b[39m,\u001b[38;5;241m1\u001b[39m],[\u001b[38;5;241m1\u001b[39m,\u001b[38;5;241m1\u001b[39m,\u001b[38;5;241m0\u001b[39m,\u001b[38;5;241m0.5\u001b[39m,\u001b[38;5;241m0.8\u001b[39m,\u001b[38;5;241m1\u001b[39m],[\u001b[38;5;241m2\u001b[39m,\u001b[38;5;241m0\u001b[39m,\u001b[38;5;241m1\u001b[39m,\u001b[38;5;241m0.5\u001b[39m,\u001b[38;5;241m0\u001b[39m,\u001b[38;5;241m0\u001b[39m],\n\u001b[1;32m      9\u001b[0m                [\u001b[38;5;241m4\u001b[39m,\u001b[38;5;241m2\u001b[39m,\u001b[38;5;241m0\u001b[39m,\u001b[38;5;241m0\u001b[39m,\u001b[38;5;241m0\u001b[39m,\u001b[38;5;241m0.5\u001b[39m],[\u001b[38;5;241m4\u001b[39m,\u001b[38;5;241m-\u001b[39m\u001b[38;5;241m2\u001b[39m,\u001b[38;5;241m0\u001b[39m,\u001b[38;5;241m0\u001b[39m,\u001b[38;5;241m0\u001b[39m,\u001b[38;5;241m0.5\u001b[39m]])\n",
      "\u001b[0;31mModuleNotFoundError\u001b[0m: No module named 'epsproc'"
     ]
    }
   ],
   "source": [
    "# Plot some distributions from specified BLMs\n",
    "\n",
    "# Set specific LM coeffs by list with setBLMs, items are [l,m,value]\n",
    "from epsproc.sphCalc import setBLMs\n",
    "\n",
    "# BLM = setBLMs([[0,0,1],[1,1,1],[2,2,1]])\n",
    "# BLM = setBLMs([[0,0,1,1,1],[1,1,1,0.5,0.2],[2,2,1,1,0.2]])   # Note different index\n",
    "BLM = setBLMs([[0,0,1,1,1,1],[1,1,0,0.5,0.8,1],[2,0,1,0.5,0,0],\n",
    "               [4,2,0,0,0,0.5],[4,-2,0,0,0,0.5]])\n",
    "\n",
    "# Set the backend to 'pl' for an interactive surface plot with Plotly\n",
    "# NOTE PL FIG RETURN BROKEN FOR THIS CASE (ePSproc v1.3.1), so run sphSumPlotX too.\n",
    "dataPlot, figObj = ep.sphFromBLMPlot(BLM, facetDim='t', plotFlag = False, backend = plotBackend);\n",
    "figObj = ep.sphSumPlotX(dataPlot,facetDim='t', plotFlag = False, backend = plotBackend);\n",
    "\n",
    "# And GLUE for display later with caption\n",
    "# from myst_nb import glue\n",
    "# glue(\"padExamplePlot\", figObj[0], display=False);\n",
    "# Glue with Plotly wrapper.\n",
    "# gluePlotly(\"padExamplePlot\", figObj[0])   # Working in Render test notebook, but not here? Issue with subplots?\n",
    "\n",
    "# Test in separate cell...\n",
    "gluePlotly(\"padExamplePlot\", figObj[0])   # Working in Render test notebook, but not here? Issue with subplots?"
   ]
  },
  {
   "cell_type": "markdown",
   "id": "c3ad1239",
   "metadata": {},
   "source": [
    "```{glue:figure} padExamplePlot\n",
    "---\n",
    "name: \"fig-pads-example\"\n",
    "---\n",
    "Examples of angular distributions (expansions in spherical harmonics $Y_{L,M}$), for a range of cases. Note that up-down asymmetry is associated with odd-$l$ contributions, and breaking of cylindrical symmetry with $m\\neq0$ terms.\n",
    "```"
   ]
  },
  {
   "cell_type": "code",
   "execution_count": null,
   "id": "c8552b51",
   "metadata": {
    "tags": [
     "hide-cell"
    ]
   },
   "outputs": [],
   "source": [
    "# Example using data class (setup in init script)\n",
    "data = pemtkFit()\n",
    "# data.setData('BLMtest',setBLMs([[0,0,1,1],[1,1,0,1],[2,2,1,1]]))   # Note different index\n",
    "# data.setData(np.array([[0,0,1],[1,1,1],[2,2,1]]))   # Note different index\n",
    "\n",
    "BLM = setBLMs([[0,0,1,1,1,1],[1,0,0,0.5,0.8,1],[2,0,1,0.5,0,0],\n",
    "               [4,2,0,0,0,0.5],[4,-2,0,0,0,0.5]])\n",
    "\n",
    "data.setData('BLMtest', BLM)\n",
    "data.padPlot(keys = 'BLMtest', dataType='AFBLM', Etype='t', backend=plotBackend, plotFlag=False, returnFlag=True)  # Working\n",
    "figObj = data.data['BLMtest']['plots']['AFBLM']['polar'][0]\n",
    "\n",
    "# And GLUE for display later with caption\n",
    "# from myst_nb import glue\n",
    "# glue(\"padExamplePlot2\", figObj, display=False);\n",
    "gluePlotly(\"padExamplePlot2\", figObj)"
   ]
  },
  {
   "cell_type": "markdown",
   "id": "93b2a503",
   "metadata": {
    "tags": [
     "hide-cell"
    ]
   },
   "source": [
    "% ```{glue:figure} padExamplePlot2\n",
    "% ---\n",
    "% name: \"fig-pads-example-class\"\n",
    "% ---\n",
    "% Examples of angular distributions (expansions in spherical harmonics $Y_{L,M}$), for a range of cases.\n",
    "% ```"
   ]
  },
  {
   "cell_type": "code",
   "execution_count": null,
   "id": "8de7fa47",
   "metadata": {
    "tags": [
     "hide-cell"
    ]
   },
   "outputs": [],
   "source": [
    "# 1D only!\n",
    "# from epsproc.sphFuncs.sphConv import tabulateLM\n",
    "# tabulateLM(BLM.unstack())\n",
    "\n",
    "from epsproc.util import multiDimXrToPD\n",
    "\n",
    "dataPD, _ = multiDimXrToPD(BLM, colDims='t')\n",
    "# dataPD\n",
    "glue(\"blm-tab\", dataPD, display=False);"
   ]
  },
  {
   "cell_type": "markdown",
   "id": "30ed6c4c",
   "metadata": {},
   "source": [
    "```{glue:figure} blm-tab\n",
    ":figwidth: 300px\n",
    ":name: \"blm-tab\"\n",
    "\n",
    "Values used for the plots in {numref}`fig-pads-example`\n",
    "```"
   ]
  },
  {
   "cell_type": "markdown",
   "id": "b6c6671e",
   "metadata": {},
   "source": [
    "In general, the spherical harmonic rank and order $(L,M)$ of Eq. {eq}`eq:AF-PAD-general` are constrained by experimental factors in the LF/AF, and $n$ is effectively limited by the molecular alignment (which is correlated with the photon-order for gas phase experiments, or conservation of angular momentum in the LF more generally {cite}`Yang1948`), but in the MF is defined by the maximum continuum angular momentum $n=l_{max}$ imparted by the scattering event {cite}`Dill1976`.\n",
    "\n",
    "For basic cases these limits may be low: for instance, a simple 1-photon photoionization event ($n=1$) from an isotropic ensemble (zero net ensemble angular momentum) defines $L_{max}=2$; for cylindrically symmetric cases (i.e. $D_{\\infty h}$ symmetry) $M=0$ only. For MF cases, $l_{max}=4$ is often given as a reasonable rule-of-thumb for the continuum - hence $L_{max}=8$ - although in practice higher-$l$ may be populated. Some realistic example cases are discussed later (**PART II**), see also ref. {cite}`hockett2018QMP1` for more discussion and complex examples.\n",
    "\n",
    "In general, these observables may also be dependent on various other parameters; in Eq. {eq}`eq:AF-PAD-general` two such parameters, $(\\epsilon,t)$, are included, as the usual variables of interest. Usually $\\epsilon$ denotes the photoelectron energy, and $t$ is used in the case of time-dependent (usually pump-probe) measurements. As discussed below ({numref}`Sect. %s <sec:dynamics-intro>`), the origin of such dependencies may be complicated but, in general, the associated photoionization matrix elements are energy-dependent, and time-dependence may also appear for a number of intrinsic or extrinsic (experimental) reasons, e.g. electronic or nuclear dynamics, rotational (alignment) dynamics, electric field dynamics etc. In many cases only one particular aspect may be of interest, so $t$ can be used as a generic label to index changes as per {numref}`fig-pads-example`."
   ]
  },
  {
   "cell_type": "markdown",
   "id": "06ed4017",
   "metadata": {},
   "source": [
    "(sec:theory:sym-harm-into)=\n",
    "### Symmetrized harmonics\n",
    "\n",
    "Symmetrized (or generalised) harmonics, which essentially provide correctly symmetrized expansions of spherical harmonics ($Y_{lm}$) functions for a given irreducible representation, $\\Gamma$, can be defined by linear combinations of spherical harmonics (Refs. {cite}`Altmann1963,Altmann1965,Chandra1987` as below):\n",
    "\n",
    "\\begin{equation}\n",
    "X_{hl}^{\\Gamma\\mu*}(\\theta,\\phi)=\\sum_{\\lambda}b_{hl\\lambda}^{\\Gamma\\mu}Y_{l,\\lambda}(\\theta,\\phi)\\label{eq:symm-harmonics}\n",
    "\\end{equation}\n",
    "\n",
    "\n",
    "where: \n",
    "    \n",
    "- $\\Gamma$ is an irreducible representation, \n",
    "- ($l$, $\\lambda$) define the usual spherical harmonic indicies (rank, order)\n",
    "- $b_{hl\\lambda}^{\\Gamma\\mu}$ are symmetrization coefficients, \n",
    "- index $\\mu$ allows for indexing of degenerate components,\n",
    "- $h$ indexs cases where multiple components are required with all other quantum numbers identical. \n",
    "    \n",
    "The exact form of these coefficients will depend on the point-group of the system, see, e.g. Refs. {cite}`Chandra1987,Reid1994`. Numerical routines for the generation of symmetrized harmonics are implemented in PEMtk: point-groups, character table generation and symmetrization (computing $b_{hl\\lambda}^{\\Gamma\\mu}$ parameters) is handled by {{ libmsym }}; additional handling also makes use of {{ shtools }}. A brief example is given below, see the {{ PEMtk_docs }} for more details."
   ]
  },
  {
   "cell_type": "code",
   "execution_count": null,
   "id": "428de68e",
   "metadata": {
    "tags": [
     "hide-output"
    ]
   },
   "outputs": [],
   "source": [
    "# Import class\n",
    "from pemtk.sym.symHarm import symHarm\n",
    "\n",
    "# Compute hamronics for Td, lmax=4\n",
    "symObj = symHarm('Td',4)\n",
    "\n",
    "# Character tables can be displayed\n",
    "symObj.printCharacterTable()"
   ]
  },
  {
   "cell_type": "code",
   "execution_count": null,
   "id": "9862cf1f",
   "metadata": {
    "tags": [
     "hide-output"
    ]
   },
   "outputs": [],
   "source": [
    "# The full set of expansion parameters can be tabulated\n",
    "# pd.set_option('display.max_rows', 1)\n",
    "symObj.displayXlm()  # Display values (note this defaults to REAL harmonics)\n",
    "# symObj.displayXlm(YlmType='comp')   # Display values for COMPLEX harmonic expansion."
   ]
  },
  {
   "cell_type": "code",
   "execution_count": null,
   "id": "be4918e3",
   "metadata": {},
   "outputs": [],
   "source": [
    "# To plot using ePSproc/PEMtk class, these values can be converted to ePSproc BLM data type...\n",
    "\n",
    "# Run conversion - the default is to set the coeffs to the 'BLM' data type\n",
    "symObj.toePSproc()\n",
    "\n",
    "# Set to new key in data class\n",
    "data.data['symHarm'] = {}\n",
    "\n",
    "for dataType in ['BLM']:  #['matE','BLM']:\n",
    "    data.data['symHarm'][dataType] = symObj.coeffs[dataType]['b (comp)']  # Select expansion in complex harmonics\n",
    "    data.data['symHarm'][dataType].attrs = symObj.coeffs[dataType].attrs\n",
    "    \n",
    "# Plot full harmonics expansions, plots by symmetry\n",
    "# Note 'squeeze=True' to force drop of singleton dims may be required.\n",
    "data.padPlot(keys='symHarm',dataType='BLM', facetDims = ['Cont'], squeeze = True, backend=plotBackend)"
   ]
  },
  {
   "cell_type": "markdown",
   "id": "18923a35",
   "metadata": {},
   "source": [
    "(sec:dynamics-intro)=\n",
    "## Photoionization dynamics\n",
    "\n",
    "The core physics of photoionization has been covered extensively in the literature, and only a very brief overview is provided here with sufficient detail to introduce the metrology/reconstruction/retrieval problem; the reader is referred to Vol. 1 {cite}`hockett2018QMP1` (and refs. therein) for further details and general discussion.\n",
    "% the literature listed in Appendix [\\[sec:theory-lit\\]](#sec:theory-lit){reference-type=\"ref\" reference=\"sec:theory-lit\"} for further details and general discussion.\n",
    "% Technical details of the formalism applied for the reconstruction techniques discussed herein can be found in Sect. [\\[sec:tensor-formulation\\]](#sec:tensor-formulation){reference-type=\"ref\" reference=\"sec:tensor-formulation\"}.\n",
    "\n",
    "Photoionization can be described by the coupling of an initial state of the system to a particular final state (photoion(s) plus free photoelectron(s)), coupled by an electric field/photon. Very generically, this can be written as a matrix element $\\langle\\Psi_i|\\hat{\\Gamma}(\\boldsymbol{\\mathbf{E}})|\\Psi_f\\rangle$, where $\\hat{\\Gamma}(\\boldsymbol{\\mathbf{E}})$ defines the light-matter coupling operator (depending on the electric field $\\boldsymbol{\\mathbf{E}}$), and $\\Psi_i$, $\\Psi_f$ the total wavefunctions of the initial and final states respectively."
   ]
  },
  {
   "cell_type": "markdown",
   "id": "2f067749",
   "metadata": {
    "tags": [
     "remove-cell"
    ]
   },
   "source": [
    "Quick maths test - see formatting test doc for more details.\n",
    "\n",
    "$\\boldsymbol{\\mathbf{E}}$\n",
    "\n",
    "$\\mathbf{E}$\n",
    "\n",
    "$\\boldsymbol{E}$ or $\\mathbf{E}$ or $\\bm{E}$ should be equivalent.\n",
    "\n",
    "$$\\hat{\\Gamma}(\\boldsymbol{\\mathbf{E}}) = \\hat{\\mathbf{\\mu}}.\\boldsymbol{\\mathbf{E}}$$\n",
    "\n",
    "$$\\Psi_\\mathbf{k}(\\bm{r})\\equiv\\left<\\bm{r}|\\mathbf{k}\\right> = \\sum_{lm}Y_{lm}(\\mathbf{\\hat{k}})\\psi_{lm}(\\bm{r},k)\n",
    "\\label{eq:elwf}$$"
   ]
  },
  {
   "cell_type": "code",
   "execution_count": null,
   "id": "b16d7ca0",
   "metadata": {},
   "outputs": [],
   "source": []
  }
 ],
 "metadata": {
  "jupytext": {
   "formats": "ipynb,md:myst",
   "text_representation": {
    "extension": ".md",
    "format_name": "myst",
    "format_version": 0.13,
    "jupytext_version": "1.14.0"
   }
  },
  "kernelspec": {
   "display_name": "Python 3 (ipykernel)",
   "language": "python",
   "name": "python3"
  },
  "language_info": {
   "codemirror_mode": {
    "name": "ipython",
    "version": 3
   },
   "file_extension": ".py",
   "mimetype": "text/x-python",
   "name": "python",
   "nbconvert_exporter": "python",
   "pygments_lexer": "ipython3",
   "version": "3.8.14"
  },
  "source_map": [
   15,
   30,
   47,
   57,
   83,
   92,
   113,
   122,
   134,
   143,
   151,
   173,
   186,
   195,
   211,
   222,
   245
  ]
 },
 "nbformat": 4,
 "nbformat_minor": 5
}