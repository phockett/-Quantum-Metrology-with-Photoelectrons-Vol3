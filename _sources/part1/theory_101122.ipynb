{
 "cells": [
  {
   "cell_type": "markdown",
   "id": "f66d111d",
   "metadata": {
    "tags": []
   },
   "source": [
    "(chpt:theory)=\n",
    "# Theory\n",
    "\n",
    "STUB\n",
    "\n",
    "TODO: plotly HV wrappers, see https://github.com/executablebooks/jupyter-book/issues/1815\n",
    "\n",
    "UPDATE: now in place, working in Render-debug notebook, but not here - even after clean build? Weird.\n",
    "\n",
    "TODO: Fix plots (HV & plotly) in PDF output, currently missing here and Render-debug notebook.\n",
    "\n",
    "17/11/22 Rendering now OK for Plotly, ongoing notes: https://github.com/phockett/Quantum-Metrology-with-Photoelectrons-Vol3/issues/2"
   ]
  }
 ],
 "metadata": {
  "jupytext": {
   "formats": "ipynb,md:myst",
   "text_representation": {
    "extension": ".md",
    "format_name": "myst",
    "format_version": 0.13,
    "jupytext_version": "1.14.0"
   }
  },
  "kernelspec": {
   "display_name": "Python 3 (ipykernel)",
   "language": "python",
   "name": "python3"
  },
  "language_info": {
   "codemirror_mode": {
    "name": "ipython",
    "version": 3
   },
   "file_extension": ".py",
   "mimetype": "text/x-python",
   "name": "python",
   "nbconvert_exporter": "python",
   "pygments_lexer": "ipython3",
   "version": "3.9.7"
  },
  "source_map": [
   15
  ]
 },
 "nbformat": 4,
 "nbformat_minor": 5
}