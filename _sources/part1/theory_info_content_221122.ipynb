{
 "cells": [
  {
   "cell_type": "markdown",
   "id": "2b31a4ab",
   "metadata": {
    "tags": [
     "remove-cell"
    ]
   },
   "source": [
    "Info content theory subsection.\n",
    "\n",
    "May ditch this unless it can be extended usefully?\n",
    "\n",
    "- 22/11/22 Basics in place. Needs work."
   ]
  },
  {
   "cell_type": "markdown",
   "id": "90588437",
   "metadata": {},
   "source": [
    "(sec:info-content)= \n",
    "# Information content\n",
    "\n",
    "\n",
    "As discussed in {{ QM2 }}, the information content of a single observable might be regarded as simply the number of contributing $\\beta_{L,M}$ parameters. In set notation:\n",
    "\n",
    "$$M=\\mathrm{n}\\{\\beta_{L,M}\\}$$ (eq:BLM-set)\n",
    "\n",
    "where $M$ is the information content of the measurement, defined as\n",
    "$\\mathrm{n}\\{...\\}$ the cardinality (number of elements) of the set of\n",
    "contributing parameters. A set of measurements, made for some\n",
    "experimental variable $u$, will then have a total information content:\n",
    "\n",
    "$$M_{u}=\\sum_{u}\\mathrm{n}\\{\\beta_{L,M}^{u}\\}$$\n",
    "\n",
    "In the case where a single measurement contains multiple $\\beta_{L,M}$,\n",
    "e.g. as a function of energy $\\epsilon$ or time $t$, the information\n",
    "content will naturally be larger:\n",
    "\n",
    "$$\\begin{aligned}\n",
    "M_{u} & = & \\sum_{u,k,t}\\mathrm{n}\\{\\beta_{L,M}^{u}(\\epsilon,t)\\}\\\\\n",
    " & = & M_{u}\\times M\\end{aligned}$$\n",
    "\n",
    "where the second line pertains if each measurement has the same native\n",
    "information content, independent of $u$. It may be that the variable $k$\n",
    "is continuous (e.g. photoelectron energy), but in practice it will\n",
    "usually be discretized in some fashion by the measurement.\n",
    "\n",
    "In terms of purely experimental methodologies, a larger $M_{u}$ clearly\n",
    "defines a richer experimental measurement which explores more of the\n",
    "total measurement space spanned by the full set of\n",
    "$\\{\\beta_{L,M}^{u}(k,t)\\}$. However, in this basic definition a larger\n",
    "$M_{u}$ does not necessarily indicate a higher information content for\n",
    "quantum retrieval applications. The reason for this is simply down to\n",
    "the complexity of the problem (cf. Eq. {eq}`eqn:channel-fns`), in which many couplings define the sensitivity of the observable to the underlying system properties of\n",
    "interest. In this sense, more measurements, and larger $M$, may only add\n",
    "redundancy, rather than new information.\n",
    "\n",
    "A more complete accounting of information content would, therefore, also\n",
    "include the channel couplings, i.e. sensitivity/dependence of the\n",
    "observable to a given system property, in some manner. For the case of a\n",
    "time-dependent measurement, arising from a rotational wavepacket, this\n",
    "can be written as:\n",
    "\n",
    "$$M_{u}=\\mathrm{n}\\{\\varUpsilon_{L,M}^{u}(\\epsilon,t)\\}$$\n",
    "\n",
    "In this case, each $(\\epsilon,t)$ is treated as an independent\n",
    "measurement with unique information content, although there may be\n",
    "redundancy as a function of $t$ depending on the nature of the\n",
    "rotational wavepacket and channel functions.\n",
    "% - this is explored further in Sect. [\\[sec:bootstrapping-info-sensitivity\\]](#sec:bootstrapping-info-sensitivity){reference-type=\"ref\" reference=\"sec:bootstrapping-info-sensitivity\"}. \n",
    "(Note this is in\n",
    "distinction to previously demonstrated cases where the time-dependence\n",
    "was created from a shaped laser-field, and was integrated over in the\n",
    "measurements, which provided a coherently-multiplexed case, see refs.\n",
    "{cite}`hockett2014CompletePhotoionizationExperiments,hockett2015CompletePhotoionizationExperiments,hockett2015CoherentControlPhotoelectron` for details.)"
   ]
  }
 ],
 "metadata": {
  "jupytext": {
   "formats": "ipynb,md:myst",
   "text_representation": {
    "extension": ".md",
    "format_name": "myst",
    "format_version": 0.13,
    "jupytext_version": "1.14.0"
   }
  },
  "kernelspec": {
   "display_name": "Python 3 (ipykernel)",
   "language": "python",
   "name": "python3"
  },
  "language_info": {
   "codemirror_mode": {
    "name": "ipython",
    "version": 3
   },
   "file_extension": ".py",
   "mimetype": "text/x-python",
   "name": "python",
   "nbconvert_exporter": "python",
   "pygments_lexer": "ipython3",
   "version": "3.9.7"
  },
  "source_map": [
   15,
   23
  ]
 },
 "nbformat": 4,
 "nbformat_minor": 5
}