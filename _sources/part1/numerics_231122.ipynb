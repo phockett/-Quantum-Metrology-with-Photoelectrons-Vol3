{
 "cells": [
  {
   "cell_type": "markdown",
   "id": "abcf63fd",
   "metadata": {
    "tags": [
     "remove-cell"
    ]
   },
   "source": [
    "Numerical details to go here?\n",
    "\n",
    "OR NEST in software overview?\n",
    "\n",
    "- 23/11/22 basic stub. See Observables section for some mentions already, also Appendix 9.5 in MF recon manuscript."
   ]
  },
  {
   "cell_type": "markdown",
   "id": "44031da1",
   "metadata": {},
   "source": [
    "(sec:numerical-details)=\n",
    "# Numerical implementation\n",
    "\n",
    "Further details of the numerical implementations - base packages, conventions and refs - to go here or in appendix?"
   ]
  },
  {
   "cell_type": "code",
   "execution_count": null,
   "id": "98fbfd8e",
   "metadata": {},
   "outputs": [],
   "source": []
  }
 ],
 "metadata": {
  "jupytext": {
   "formats": "ipynb,md:myst",
   "text_representation": {
    "extension": ".md",
    "format_name": "myst",
    "format_version": 0.13,
    "jupytext_version": "1.14.0"
   }
  },
  "kernelspec": {
   "display_name": "Python 3 (ipykernel)",
   "language": "python",
   "name": "python3"
  },
  "language_info": {
   "codemirror_mode": {
    "name": "ipython",
    "version": 3
   },
   "file_extension": ".py",
   "mimetype": "text/x-python",
   "name": "python",
   "nbconvert_exporter": "python",
   "pygments_lexer": "ipython3",
   "version": "3.9.7"
  },
  "source_map": [
   15,
   23,
   30
  ]
 },
 "nbformat": 4,
 "nbformat_minor": 5
}