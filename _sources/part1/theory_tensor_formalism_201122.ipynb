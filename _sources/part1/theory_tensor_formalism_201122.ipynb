{
 "cells": [
  {
   "cell_type": "markdown",
   "id": "2dcb8d6f",
   "metadata": {
    "tags": []
   },
   "source": [
    "(sec:tensor-formulation)=\n",
    "# Tensor formulation of photoionization"
   ]
  },
  {
   "cell_type": "markdown",
   "id": "087a6ef7",
   "metadata": {},
   "source": [
    "(sec:channel-funcs)=\n",
    "# Channel functions"
   ]
  },
  {
   "cell_type": "markdown",
   "id": "bd2e4e94",
   "metadata": {},
   "source": [
    "(sec:density-mat-basic)=\n",
    "# Density matrix representation"
   ]
  },
  {
   "cell_type": "markdown",
   "id": "eeb74e7f",
   "metadata": {},
   "source": [
    "(sec:full-tensor-expansion)= \n",
    "# Full tensor expansion"
   ]
  },
  {
   "cell_type": "markdown",
   "id": "8a235407",
   "metadata": {},
   "source": [
    "(sec:info-content)= \n",
    "# Information content"
   ]
  },
  {
   "cell_type": "code",
   "execution_count": null,
   "id": "44924f49",
   "metadata": {},
   "outputs": [],
   "source": []
  }
 ],
 "metadata": {
  "jupytext": {
   "formats": "ipynb,md:myst",
   "text_representation": {
    "extension": ".md",
    "format_name": "myst",
    "format_version": 0.13,
    "jupytext_version": "1.14.0"
   }
  },
  "kernelspec": {
   "display_name": "Python 3 (ipykernel)",
   "language": "python",
   "name": "python3"
  },
  "language_info": {
   "codemirror_mode": {
    "name": "ipython",
    "version": 3
   },
   "file_extension": ".py",
   "mimetype": "text/x-python",
   "name": "python",
   "nbconvert_exporter": "python",
   "pygments_lexer": "ipython3",
   "version": "3.9.7"
  },
  "source_map": [
   15,
   21,
   26,
   31,
   36,
   41
  ]
 },
 "nbformat": 4,
 "nbformat_minor": 5
}