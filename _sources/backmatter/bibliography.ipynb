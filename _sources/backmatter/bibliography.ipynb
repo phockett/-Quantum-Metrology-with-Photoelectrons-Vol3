{
 "cells": [
  {
   "cell_type": "markdown",
   "id": "b43e7a0b",
   "metadata": {
    "tags": []
   },
   "source": [
    "# Bibliography\n",
    "\n",
    "% Testing full bib generation.\n",
    "\n",
    "% Note on per-doc bibs with `unsrt`: IF USING PER-DOCUMENT THIS MESSES UP PDF REFS, get repeated ref numbering as per each doc - way to specify this for HTML builds only? Maybe append notebook cell at processing (cf. ePSdata methods), or fix in latex post-processing, natch. Nothing obvious in quite google search.\n",
    "\n",
    "% However, manually generating full bib here does produce correctly-numbered list (but might not match individual docs!).\n",
    "\n",
    "% 10/11/22 Full page actually works quite nicely in HTML too, although missing back-links. Best plan to leave off individual docs for now, for consistency over HTML and PDF, but can add in via preprocessing later as footer if desired."
   ]
  },
  {
   "cell_type": "markdown",
   "id": "f0ef6e0c",
   "metadata": {},
   "source": [
    "% Per document case.\n",
    "```{bibliography}\n",
    ":filter: docname in docnames\n",
    ":style: unsrt\n",
    "```"
   ]
  },
  {
   "cell_type": "markdown",
   "id": "aa66baf5",
   "metadata": {},
   "source": [
    "% Full book bib (NOTE this is added automatically to PDF build, so heading may appear twice if including this page)\n",
    "```{bibliography}\n",
    ":style: unsrt\n",
    "```"
   ]
  },
  {
   "cell_type": "code",
   "execution_count": null,
   "id": "3d12c596",
   "metadata": {},
   "outputs": [],
   "source": []
  }
 ],
 "metadata": {
  "jupytext": {
   "formats": "ipynb,md:myst",
   "text_representation": {
    "extension": ".md",
    "format_name": "myst",
    "format_version": 0.13,
    "jupytext_version": "1.14.0"
   }
  },
  "kernelspec": {
   "display_name": "Python 3 (ipykernel)",
   "language": "python",
   "name": "python3"
  },
  "language_info": {
   "codemirror_mode": {
    "name": "ipython",
    "version": 3
   },
   "file_extension": ".py",
   "mimetype": "text/x-python",
   "name": "python",
   "nbconvert_exporter": "python",
   "pygments_lexer": "ipython3",
   "version": "3.9.7"
  },
  "source_map": [
   15,
   27,
   35,
   42
  ]
 },
 "nbformat": 4,
 "nbformat_minor": 5
}