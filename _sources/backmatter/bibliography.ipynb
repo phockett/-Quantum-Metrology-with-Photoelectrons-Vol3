{
 "cells": [
  {
   "cell_type": "markdown",
   "id": "250c795a",
   "metadata": {
    "tags": []
   },
   "source": [
    "# Bibliography\n",
    "\n",
    "% Testing full bib generation.\n",
    "\n",
    "% Note on per-doc bibs with `unsrt`: IF USING PER-DOCUMENT THIS MESSES UP PDF REFS, get repeated ref numbering as per each doc - way to specify this for HTML builds only? Maybe append notebook cell at processing (cf. ePSdata methods), or fix in latex post-processing, natch. Nothing obvious in quite google search.\n",
    "\n",
    "% However, manually generating full bib here does produce correctly-numbered list (but might not match individual docs!).\n",
    "\n",
    "% 10/11/22 Full page actually works quite nicely in HTML too, although missing back-links. Best plan to leave off individual docs for now, for consistency over HTML and PDF, but can add in via preprocessing later as footer if desired."
   ]
  },
  {
   "cell_type": "markdown",
   "id": "2ce3bf25",
   "metadata": {},
   "source": [
    "% Per document case.\n",
    "```{bibliography}\n",
    ":filter: docname in docnames\n",
    ":style: unsrt\n",
    "```"
   ]
  },
  {
   "cell_type": "markdown",
   "id": "8d4b1eab",
   "metadata": {},
   "source": [
    "% Full book bib (NOTE this is added automatically to PDF build, so heading may appear twice if including this page)\n",
    "```{bibliography}\n",
    ":style: unsrt\n",
    "```"
   ]
  },
  {
   "cell_type": "code",
   "execution_count": null,
   "id": "e9a6f248",
   "metadata": {},
   "outputs": [],
   "source": []
  }
 ],
 "metadata": {
  "jupytext": {
   "formats": "ipynb,md:myst",
   "text_representation": {
    "extension": ".md",
    "format_name": "myst",
    "format_version": 0.13,
    "jupytext_version": "1.14.0"
   }
  },
  "kernelspec": {
   "display_name": "Python 3 (ipykernel)",
   "language": "python",
   "name": "python3"
  },
  "source_map": [
   15,
   27,
   35,
   42
  ]
 },
 "nbformat": 4,
 "nbformat_minor": 5
}