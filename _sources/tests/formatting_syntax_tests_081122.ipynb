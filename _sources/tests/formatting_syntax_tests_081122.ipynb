{
 "cells": [
  {
   "cell_type": "markdown",
   "id": "4541186e",
   "metadata": {},
   "source": [
    "# Formatting tests\n",
    "\n",
    "For directives and how-tos see:\n",
    "\n",
    "- https://jupyterbook.org/en/stable/content/index.html\n",
    "- https://myst-parser.readthedocs.io/en/latest/faq/index.html (includes direct rst directive for native rst/Sphinx blocks).\n",
    "\n",
    "Only outstanding point is use of raw latex? Is this possible...?"
   ]
  },
  {
   "cell_type": "markdown",
   "id": "3292ac43",
   "metadata": {},
   "source": [
    "## Testing raw latex..."
   ]
  },
  {
   "cell_type": "markdown",
   "id": "29ae903f",
   "metadata": {},
   "source": [
    "Code cell with `%%latex`"
   ]
  },
  {
   "cell_type": "code",
   "execution_count": null,
   "id": "4dcf67df",
   "metadata": {},
   "outputs": [],
   "source": [
    "%%latex\n",
    "\n",
    "\\bf{This is a test} \\\\\n",
    "It allows latex $\\alpha=\\beta$ and test:\n",
    "\n",
    "\\begin{equation}\n",
    "\\alpha = \\beta\n",
    "\\end{equation}\n",
    "% this is a latex comment"
   ]
  },
  {
   "cell_type": "markdown",
   "id": "7d0fea29",
   "metadata": {},
   "source": [
    "Cell below marked as raw > latex in metadata."
   ]
  },
  {
   "cell_type": "raw",
   "id": "2435c513",
   "metadata": {
    "raw_mimetype": "text/latex",
    "tags": []
   },
   "source": [
    "\\bf{This is a test} \\\\\n",
    "It allows latex $\\alpha=\\beta$ and test:\n",
    "\n",
    "\\begin{equation}\n",
    "\\alpha = \\beta\n",
    "\\end{equation}\n",
    "% this is a latex comment"
   ]
  },
  {
   "cell_type": "markdown",
   "id": "0b754bd8",
   "metadata": {},
   "source": [
    "With `{latex}` directive\n",
    "\n",
    "```{latex} \n",
    "\\bf{This is a test}\n",
    "```"
   ]
  },
  {
   "cell_type": "markdown",
   "id": "3dee9a88",
   "metadata": {},
   "source": [
    "## Include"
   ]
  },
  {
   "cell_type": "markdown",
   "id": "08d2f023",
   "metadata": {},
   "source": [
    "Include with `{include}` directive:\n",
    "\n",
    "```{include} testInclude.txt\n",
    "```"
   ]
  },
  {
   "cell_type": "code",
   "execution_count": null,
   "id": "740762c8",
   "metadata": {},
   "outputs": [],
   "source": []
  }
 ],
 "metadata": {
  "jupytext": {
   "formats": "ipynb,md:myst",
   "text_representation": {
    "extension": ".md",
    "format_name": "myst",
    "format_version": 0.13,
    "jupytext_version": "1.14.0"
   }
  },
  "kernelspec": {
   "display_name": "Python 3 (ipykernel)",
   "language": "python",
   "name": "python3"
  },
  "source_map": [
   13,
   24,
   28,
   32,
   42,
   46,
   57,
   65,
   69,
   76
  ]
 },
 "nbformat": 4,
 "nbformat_minor": 5
}