{
 "cells": [
  {
   "cell_type": "markdown",
   "id": "4bff4cce",
   "metadata": {},
   "source": [
    "# Formatting tests\n",
    "\n",
    "For directives and how-tos see:\n",
    "\n",
    "- General Jupyter Book intro: https://jupyterbook.org/en/stable/content/myst.html\n",
    "- https://jupyterbook.org/en/stable/content/index.html\n",
    "- https://myst-parser.readthedocs.io/en/latest/faq/index.html (includes direct rst directive for native rst/Sphinx blocks).\n",
    "\n",
    "Only outstanding point is use of raw latex? Is this possible...?"
   ]
  },
  {
   "cell_type": "markdown",
   "id": "48bef00e",
   "metadata": {
    "tags": []
   },
   "source": [
    "## Links and refs\n",
    "\n",
    "See https://jupyterbook.org/en/stable/content/references.html"
   ]
  },
  {
   "cell_type": "markdown",
   "id": "441d3dfe",
   "metadata": {},
   "source": [
    "- `{numref}` for numbered ref with custom text: {numref}`Chapter %s <chpt:platformIntro>` (always works in PDF, need to [set numbered sections for HTML](https://jupyterbook.org/en/stable/content/references.html#reference-numbered-sections))\n",
    "- `{ref}` for named ref: {ref}`chpt:platformIntro`\n",
    "- Combined for full number and name: {numref}`Chapter %s: <chpt:platformIntro>` {ref}`chpt:platformIntro`\n",
    "- Nested as a link? {numref}`Chapter %s: [](chpt:platformIntro)<chpt:platformIntro>`"
   ]
  },
  {
   "cell_type": "markdown",
   "id": "bb573fb2",
   "metadata": {},
   "source": [
    "### Substitution tests\n",
    "\n",
    "See https://jupyterbook.org/en/stable/content/content-blocks.html?highlight=substitutions#substitutions-and-variables-in-markdown\n",
    "\n",
    "For global subs define in `_config.yml`. Uses Jinja on backend.\n",
    "\n",
    "Basic: {{ test_sub }}\n",
    "\n",
    "Sub test with URL: {{ PEMtk_repo }}\n",
    "\n",
    "sdada"
   ]
  },
  {
   "cell_type": "markdown",
   "id": "1c97cd4f",
   "metadata": {},
   "source": [
    "## Fig testing (from file)"
   ]
  },
  {
   "cell_type": "markdown",
   "id": "d4173fa4",
   "metadata": {},
   "source": [
    "As a figure, see https://jupyterbook.org/en/stable/content/figures.html\n",
    "\n",
    "```{figure} ../images/QM_unified_schema_wrapped_280820_gv.png\n",
    "---\n",
    "name: qm-platform-diag-test\n",
    "---\n",
    "Here is my figure caption!\n",
    "```"
   ]
  },
  {
   "cell_type": "markdown",
   "id": "a0df6933",
   "metadata": {
    "tags": []
   },
   "source": [
    "## Fig testing (from URL)\n",
    "\n",
    "Seemed to work OK for both HTML and PDF output, although did get some build errors in latter case. For PDF, image copied locally to hashed-named file, so probably not ideal (and seems to break build...?).\n",
    "\n",
    "Markdown image link\n",
    "\n",
    "![Photoelectron metrology platform diagram](https://raw.githubusercontent.com/phockett/PEMtk/4eec9217203bfd1aee13bd8b64952dc1ac5fef89/docs/doc-source/figs/QM_unified_schema_wrapped_280820.gv.png)"
   ]
  },
  {
   "cell_type": "markdown",
   "id": "e389706c",
   "metadata": {},
   "source": [
    "As a figure, see https://jupyterbook.org/en/stable/content/figures.html\n",
    "\n",
    "```{figure} https://raw.githubusercontent.com/phockett/PEMtk/4eec9217203bfd1aee13bd8b64952dc1ac5fef89/docs/doc-source/figs/QM_unified_schema_wrapped_280820.gv.png\n",
    "---\n",
    "height: 300px\n",
    "name: directive-fig\n",
    "---\n",
    "Here is my figure caption!\n",
    "```"
   ]
  },
  {
   "cell_type": "markdown",
   "id": "1648588e",
   "metadata": {},
   "source": [
    "## Testing raw latex...\n",
    "\n",
    "Both options fail in PDF and HTML export tests.\n",
    "\n",
    "BETTER: JUST USE PANDOC FOR EXTENDED LATEX SECTIONS > Markdown. Will generally only need to fix minor issues (formatting and citations) in most cases anyway, if maths works.\n",
    "\n",
    "For MyST markdown...?\n",
    "\n",
    "- RST to MySt with Pandoc: https://github.com/executablebooks/rst2myst/issues/2 and https://github.com/executablebooks/rst-to-myst"
   ]
  },
  {
   "cell_type": "markdown",
   "id": "f21ab094",
   "metadata": {},
   "source": [
    "Code cell with `%%latex`"
   ]
  },
  {
   "cell_type": "code",
   "execution_count": null,
   "id": "08ca30a5",
   "metadata": {},
   "outputs": [],
   "source": [
    "%%latex\n",
    "\n",
    "\\bf{This is a test} \\\\\n",
    "It allows latex $\\alpha=\\beta$ and test:\n",
    "\n",
    "\\begin{equation}\n",
    "\\alpha = \\beta\n",
    "\\end{equation}\n",
    "% this is a latex comment"
   ]
  },
  {
   "cell_type": "markdown",
   "id": "872e3bf8",
   "metadata": {},
   "source": [
    "Cell below marked as raw > latex in metadata."
   ]
  },
  {
   "cell_type": "raw",
   "id": "188d13f0",
   "metadata": {
    "raw_mimetype": "text/latex",
    "tags": []
   },
   "source": [
    "\\bf{This is a test} \\\\\n",
    "It allows latex $\\alpha=\\beta$ and test:\n",
    "\n",
    "\\begin{equation}\n",
    "\\alpha = \\beta\n",
    "\\end{equation}\n",
    "% this is a latex comment"
   ]
  },
  {
   "cell_type": "markdown",
   "id": "f3054538",
   "metadata": {},
   "source": [
    "With `{latex}` directive\n",
    "\n",
    "```{latex} \n",
    "\\bf{This is a test}\n",
    "```"
   ]
  },
  {
   "cell_type": "markdown",
   "id": "69743364",
   "metadata": {},
   "source": [
    "With MyST-rst wrapper - this appears in PDF output, but not HTML. Also bold sticks for rest of output!\n",
    "\n",
    "```{eval-rst}\n",
    ".. raw:: latex\n",
    "\n",
    "    \\bf{This is a test} \\\\\n",
    "    It allows latex $\\alpha=\\beta$ and test:\n",
    "\n",
    "    \\begin{equation}\n",
    "    \\alpha = \\beta\n",
    "    \\end{equation}\n",
    "    % this is a latex comment\n",
    "\n",
    "```"
   ]
  },
  {
   "cell_type": "markdown",
   "id": "cad835e1",
   "metadata": {},
   "source": [
    "Testing maths only - OK in notebook, and all output forms too.\n",
    "\n",
    "\\begin{equation}\n",
    "\\alpha = \\beta\n",
    "\\end{equation}"
   ]
  },
  {
   "cell_type": "markdown",
   "id": "e62119e4",
   "metadata": {},
   "source": [
    "## Include\n",
    "\n",
    "Working."
   ]
  },
  {
   "cell_type": "markdown",
   "id": "64d0a665",
   "metadata": {},
   "source": [
    "Include with `{include}` directive:\n",
    "\n",
    "```{include} testInclude.txt\n",
    "```"
   ]
  },
  {
   "cell_type": "code",
   "execution_count": null,
   "id": "0fb14d8d",
   "metadata": {},
   "outputs": [],
   "source": []
  }
 ],
 "metadata": {
  "jupytext": {
   "formats": "ipynb,md:myst",
   "text_representation": {
    "extension": ".md",
    "format_name": "myst",
    "format_version": 0.13,
    "jupytext_version": "1.14.0"
   }
  },
  "kernelspec": {
   "display_name": "Python 3 (ipykernel)",
   "language": "python",
   "name": "python3"
  },
  "source_map": [
   13,
   25,
   31,
   38,
   52,
   56,
   67,
   77,
   89,
   101,
   105,
   115,
   119,
   130,
   138,
   155,
   163,
   169,
   176
  ]
 },
 "nbformat": 4,
 "nbformat_minor": 5
}