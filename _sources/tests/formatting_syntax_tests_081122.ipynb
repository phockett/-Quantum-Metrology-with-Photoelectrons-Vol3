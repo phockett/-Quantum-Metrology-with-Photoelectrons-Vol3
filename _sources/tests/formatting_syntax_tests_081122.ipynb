{
 "cells": [
  {
   "cell_type": "markdown",
   "id": "ad3f6338",
   "metadata": {},
   "source": [
    "# Formatting tests\n",
    "\n",
    "For directives and how-tos see:\n",
    "\n",
    "- General Jupyter Book intro: https://jupyterbook.org/en/stable/content/myst.html\n",
    "- https://jupyterbook.org/en/stable/content/index.html\n",
    "- https://myst-parser.readthedocs.io/en/latest/faq/index.html (includes direct rst directive for native rst/Sphinx blocks).\n",
    "\n",
    "Only outstanding point is use of raw latex? Is this possible...?"
   ]
  },
  {
   "cell_type": "markdown",
   "id": "d2631566",
   "metadata": {
    "tags": []
   },
   "source": [
    "## Links and refs\n",
    "\n",
    "See https://jupyterbook.org/en/stable/content/references.html"
   ]
  },
  {
   "cell_type": "markdown",
   "id": "0dca8b47",
   "metadata": {},
   "source": [
    "- `{numref}` for numbered ref with custom text: {numref}`Chapter %s <chpt:platformIntro>` (always works in PDF, need to [set numbered sections for HTML](https://jupyterbook.org/en/stable/content/references.html#reference-numbered-sections))\n",
    "- `{ref}` for named ref: {ref}`chpt:platformIntro`\n",
    "- Combined for full number and name: {numref}`Chapter %s: <chpt:platformIntro>` {ref}`chpt:platformIntro`\n",
    "- Nested as a link? {numref}`Chapter %s: [](chpt:platformIntro)<chpt:platformIntro>`"
   ]
  },
  {
   "cell_type": "markdown",
   "id": "8440aa2f",
   "metadata": {},
   "source": [
    "### Substitution tests\n",
    "\n",
    "See https://jupyterbook.org/en/stable/content/content-blocks.html?highlight=substitutions#substitutions-and-variables-in-markdown\n",
    "\n",
    "For global subs define in `_config.yml`. Uses Jinja on backend.\n",
    "\n",
    "Basic: {{ test_sub }}\n",
    "\n",
    "Sub test with URL: {{ PEMtk_repo }}"
   ]
  },
  {
   "cell_type": "markdown",
   "id": "59c7c4b8",
   "metadata": {},
   "source": [
    "## Fig testing (from file)"
   ]
  },
  {
   "cell_type": "markdown",
   "id": "d00de0ed",
   "metadata": {},
   "source": [
    "As a figure, see https://jupyterbook.org/en/stable/content/figures.html\n",
    "\n",
    "```{figure} ../images/QM_unified_schema_wrapped_280820_gv.png\n",
    "---\n",
    "name: qm-platform-diag-test\n",
    "---\n",
    "Here is my figure caption!\n",
    "```"
   ]
  },
  {
   "cell_type": "markdown",
   "id": "a477580d",
   "metadata": {
    "tags": []
   },
   "source": [
    "## Fig testing (from URL)\n",
    "\n",
    "Seemed to work OK for both HTML and PDF output, although did get some build errors in latter case. For PDF, image copied locally to hashed-named file, so probably not ideal (and seems to break build...?).\n",
    "\n",
    "Markdown image link\n",
    "\n",
    "![Photoelectron metrology platform diagram](https://raw.githubusercontent.com/phockett/PEMtk/4eec9217203bfd1aee13bd8b64952dc1ac5fef89/docs/doc-source/figs/QM_unified_schema_wrapped_280820.gv.png)"
   ]
  },
  {
   "cell_type": "markdown",
   "id": "c4ab43cd",
   "metadata": {},
   "source": [
    "As a figure, see https://jupyterbook.org/en/stable/content/figures.html\n",
    "\n",
    "```{figure} https://raw.githubusercontent.com/phockett/PEMtk/4eec9217203bfd1aee13bd8b64952dc1ac5fef89/docs/doc-source/figs/QM_unified_schema_wrapped_280820.gv.png\n",
    "---\n",
    "height: 300px\n",
    "name: directive-fig\n",
    "---\n",
    "Here is my figure caption!\n",
    "```"
   ]
  },
  {
   "cell_type": "markdown",
   "id": "15e5c779",
   "metadata": {},
   "source": [
    "## Testing raw latex...\n",
    "\n",
    "Both options fail in PDF and HTML export tests.\n",
    "\n",
    "BETTER: JUST USE PANDOC FOR EXTENDED LATEX SECTIONS > Markdown. Will generally only need to fix minor issues (formatting and citations) in most cases anyway, if maths works.\n",
    "\n",
    "For MyST markdown...?\n",
    "\n",
    "- RST to MySt with Pandoc: https://github.com/executablebooks/rst2myst/issues/2 and https://github.com/executablebooks/rst-to-myst"
   ]
  },
  {
   "cell_type": "markdown",
   "id": "816cc79b",
   "metadata": {},
   "source": [
    "Code cell with `%%latex`"
   ]
  },
  {
   "cell_type": "code",
   "execution_count": null,
   "id": "572a7283",
   "metadata": {},
   "outputs": [],
   "source": [
    "%%latex\n",
    "\n",
    "\\bf{This is a test} \\\\\n",
    "It allows latex $\\alpha=\\beta$ and test:\n",
    "\n",
    "\\begin{equation}\n",
    "\\alpha = \\beta\n",
    "\\end{equation}\n",
    "% this is a latex comment"
   ]
  },
  {
   "cell_type": "markdown",
   "id": "521092ec",
   "metadata": {},
   "source": [
    "Cell below marked as raw > latex in metadata."
   ]
  },
  {
   "cell_type": "raw",
   "id": "483ee4d1",
   "metadata": {
    "raw_mimetype": "text/latex",
    "tags": []
   },
   "source": [
    "\\bf{This is a test} \\\\\n",
    "It allows latex $\\alpha=\\beta$ and test:\n",
    "\n",
    "\\begin{equation}\n",
    "\\alpha = \\beta\n",
    "\\end{equation}\n",
    "% this is a latex comment"
   ]
  },
  {
   "cell_type": "markdown",
   "id": "8e385953",
   "metadata": {},
   "source": [
    "With `{latex}` directive\n",
    "\n",
    "```{latex} \n",
    "\\bf{This is a test}\n",
    "```"
   ]
  },
  {
   "cell_type": "markdown",
   "id": "93ec44e0",
   "metadata": {},
   "source": [
    "With MyST-rst wrapper - this appears in PDF output, but not HTML. Also bold sticks for rest of output!\n",
    "\n",
    "```{eval-rst}\n",
    ".. raw:: latex\n",
    "\n",
    "    \\bf{This is a test} \\\\\n",
    "    It allows latex $\\alpha=\\beta$ and test:\n",
    "\n",
    "    \\begin{equation}\n",
    "    \\alpha = \\beta\n",
    "    \\end{equation}\n",
    "    % this is a latex comment\n",
    "\n",
    "```"
   ]
  },
  {
   "cell_type": "markdown",
   "id": "1cc128fa",
   "metadata": {},
   "source": [
    "Testing maths only - OK in notebook, and all output forms too.\n",
    "\n",
    "\\begin{equation}\n",
    "\\alpha = \\beta\n",
    "\\end{equation}"
   ]
  },
  {
   "cell_type": "markdown",
   "id": "0b769485",
   "metadata": {},
   "source": [
    "## Include\n",
    "\n",
    "Working."
   ]
  },
  {
   "cell_type": "markdown",
   "id": "756a082d",
   "metadata": {},
   "source": [
    "Include with `{include}` directive:\n",
    "\n",
    "```{include} testInclude.txt\n",
    "```"
   ]
  },
  {
   "cell_type": "code",
   "execution_count": null,
   "id": "a7ff3c62",
   "metadata": {},
   "outputs": [],
   "source": []
  }
 ],
 "metadata": {
  "jupytext": {
   "formats": "ipynb,md:myst",
   "text_representation": {
    "extension": ".md",
    "format_name": "myst",
    "format_version": 0.13,
    "jupytext_version": "1.14.0"
   }
  },
  "kernelspec": {
   "display_name": "Python 3 (ipykernel)",
   "language": "python",
   "name": "python3"
  },
  "source_map": [
   13,
   25,
   31,
   38,
   50,
   54,
   65,
   75,
   87,
   99,
   103,
   113,
   117,
   128,
   136,
   153,
   161,
   167,
   174
  ]
 },
 "nbformat": 4,
 "nbformat_minor": 5
}