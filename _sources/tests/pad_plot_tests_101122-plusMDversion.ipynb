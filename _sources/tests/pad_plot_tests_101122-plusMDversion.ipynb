{
 "cells": [
  {
   "cell_type": "markdown",
   "id": "b5b4937f",
   "metadata": {},
   "source": [
    "# PAD plotting tests from MD\n",
    "\n",
    "With MD sidecar to test.\n",
    "\n",
    "Note output NOT rendered unless `execute_notebooks` set.\n",
    "\n",
    "OR use `build-ipynb.sh` script, which copies doc-source then strips .md files prior to build. (Crude, but basically working.)"
   ]
  },
  {
   "cell_type": "code",
   "execution_count": null,
   "id": "32de480f",
   "metadata": {},
   "outputs": [],
   "source": []
  },
  {
   "cell_type": "code",
   "execution_count": null,
   "id": "d3351493",
   "metadata": {},
   "outputs": [],
   "source": [
    "import epsproc as ep\n",
    "\n",
    "# Set specific LM coeffs by list with setBLMs, items are [l,m,value]\n",
    "from epsproc.sphCalc import setBLMs\n",
    "\n",
    "BLM = setBLMs([[0,0,1],[1,1,1],[2,2,1]])   # Note different index\n",
    "# BLM\n",
    "\n",
    "# Set the backend to 'pl' for an interactive surface plot with Plotly\n",
    "ep.sphFromBLMPlot(BLM, facetDim='t', plotFlag = True, backend = 'pl');"
   ]
  },
  {
   "cell_type": "code",
   "execution_count": null,
   "id": "e939d44e",
   "metadata": {},
   "outputs": [],
   "source": []
  }
 ],
 "metadata": {
  "jupytext": {
   "formats": "ipynb,md:myst",
   "text_representation": {
    "extension": ".md",
    "format_name": "myst",
    "format_version": 0.13,
    "jupytext_version": "1.14.0"
   }
  },
  "kernelspec": {
   "display_name": "Python 3 (ipykernel)",
   "language": "python",
   "name": "python3"
  },
  "source_map": [
   13,
   23,
   27,
   40
  ]
 },
 "nbformat": 4,
 "nbformat_minor": 5
}